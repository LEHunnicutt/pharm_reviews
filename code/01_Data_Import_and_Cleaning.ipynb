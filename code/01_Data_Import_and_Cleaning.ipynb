{
 "cells": [
  {
   "cell_type": "markdown",
   "id": "293c7d31",
   "metadata": {},
   "source": [
    "# Pharmaceutical Reviews - 01 - Data Import and Cleaning"
   ]
  },
  {
   "cell_type": "markdown",
   "id": "43e628bd",
   "metadata": {},
   "source": [
    "Review Source:\n",
    "\n",
    "\n",
    "UCI Machine Learning Repository. [Drug Review Dataset (Drugs.com) Data Set.](https://archive.ics.uci.edu/ml/datasets/Drug+Review+Dataset+%28Drugs.com%29) (2018)\n",
    "\n",
    "*Original Sources:*\n",
    "\n",
    "Surya Kallumadi<br>\n",
    "Kansas State University<br>\n",
    "Manhattan, Kansas, USA<br>\n",
    "surya '@' ksu.edu<br>\n",
    "\n",
    "Felix Gräßer<br>\n",
    "Institut für Biomedizinische Technik<br>\n",
    "Technische Universität Dresden<br>\n",
    "Dresden, Germany<br>\n",
    "felix.graesser '@' tu-dresden.de<br>\n",
    "    "
   ]
  },
  {
   "cell_type": "markdown",
   "id": "bcfa510a",
   "metadata": {},
   "source": [
    "## Introduction\n"
   ]
  },
  {
   "cell_type": "markdown",
   "id": "79af5a12",
   "metadata": {},
   "source": [
    "In this study, I will observe trends and clusters related to pharmaceutical reviews within a dataset. First, I begin by importing the data and cleaning it below."
   ]
  },
  {
   "cell_type": "markdown",
   "id": "f0dc18b4",
   "metadata": {},
   "source": [
    "## Data Import & Cleaning"
   ]
  },
  {
   "cell_type": "markdown",
   "id": "6b0be611",
   "metadata": {},
   "source": [
    "#### Data Import"
   ]
  },
  {
   "cell_type": "code",
   "execution_count": 1,
   "id": "c082a9a2",
   "metadata": {},
   "outputs": [],
   "source": [
    "#imports necessary libraries\n",
    "\n",
    "import pandas as pd\n",
    "import numpy as np\n",
    "import matplotlib.pyplot as plt\n",
    "import seaborn as sns"
   ]
  },
  {
   "cell_type": "code",
   "execution_count": 2,
   "id": "d72f06f1",
   "metadata": {},
   "outputs": [],
   "source": [
    " #imports data as a dataframe\n",
    "\n",
    "file_path = '../data/drugsCom_raw.tsv'\n",
    "\n",
    "reviews = pd.read_csv(file_path, delimiter= '\\t')"
   ]
  },
  {
   "cell_type": "markdown",
   "id": "f4cbca0f",
   "metadata": {},
   "source": [
    "#### Preliminary Analysis"
   ]
  },
  {
   "cell_type": "code",
   "execution_count": 3,
   "id": "0e15d88e",
   "metadata": {},
   "outputs": [
    {
     "data": {
      "text/html": [
       "<div>\n",
       "<style scoped>\n",
       "    .dataframe tbody tr th:only-of-type {\n",
       "        vertical-align: middle;\n",
       "    }\n",
       "\n",
       "    .dataframe tbody tr th {\n",
       "        vertical-align: top;\n",
       "    }\n",
       "\n",
       "    .dataframe thead th {\n",
       "        text-align: right;\n",
       "    }\n",
       "</style>\n",
       "<table border=\"1\" class=\"dataframe\">\n",
       "  <thead>\n",
       "    <tr style=\"text-align: right;\">\n",
       "      <th></th>\n",
       "      <th>Unnamed: 0</th>\n",
       "      <th>drugName</th>\n",
       "      <th>condition</th>\n",
       "      <th>review</th>\n",
       "      <th>rating</th>\n",
       "      <th>date</th>\n",
       "      <th>usefulCount</th>\n",
       "    </tr>\n",
       "  </thead>\n",
       "  <tbody>\n",
       "    <tr>\n",
       "      <th>0</th>\n",
       "      <td>206461</td>\n",
       "      <td>Valsartan</td>\n",
       "      <td>Left Ventricular Dysfunction</td>\n",
       "      <td>\"It has no side effect, I take it in combinati...</td>\n",
       "      <td>9.0</td>\n",
       "      <td>May 20, 2012</td>\n",
       "      <td>27</td>\n",
       "    </tr>\n",
       "    <tr>\n",
       "      <th>1</th>\n",
       "      <td>95260</td>\n",
       "      <td>Guanfacine</td>\n",
       "      <td>ADHD</td>\n",
       "      <td>\"My son is halfway through his fourth week of ...</td>\n",
       "      <td>8.0</td>\n",
       "      <td>April 27, 2010</td>\n",
       "      <td>192</td>\n",
       "    </tr>\n",
       "    <tr>\n",
       "      <th>2</th>\n",
       "      <td>92703</td>\n",
       "      <td>Lybrel</td>\n",
       "      <td>Birth Control</td>\n",
       "      <td>\"I used to take another oral contraceptive, wh...</td>\n",
       "      <td>5.0</td>\n",
       "      <td>December 14, 2009</td>\n",
       "      <td>17</td>\n",
       "    </tr>\n",
       "    <tr>\n",
       "      <th>3</th>\n",
       "      <td>138000</td>\n",
       "      <td>Ortho Evra</td>\n",
       "      <td>Birth Control</td>\n",
       "      <td>\"This is my first time using any form of birth...</td>\n",
       "      <td>8.0</td>\n",
       "      <td>November 3, 2015</td>\n",
       "      <td>10</td>\n",
       "    </tr>\n",
       "    <tr>\n",
       "      <th>4</th>\n",
       "      <td>35696</td>\n",
       "      <td>Buprenorphine / naloxone</td>\n",
       "      <td>Opiate Dependence</td>\n",
       "      <td>\"Suboxone has completely turned my life around...</td>\n",
       "      <td>9.0</td>\n",
       "      <td>November 27, 2016</td>\n",
       "      <td>37</td>\n",
       "    </tr>\n",
       "  </tbody>\n",
       "</table>\n",
       "</div>"
      ],
      "text/plain": [
       "   Unnamed: 0                  drugName                     condition  \\\n",
       "0      206461                 Valsartan  Left Ventricular Dysfunction   \n",
       "1       95260                Guanfacine                          ADHD   \n",
       "2       92703                    Lybrel                 Birth Control   \n",
       "3      138000                Ortho Evra                 Birth Control   \n",
       "4       35696  Buprenorphine / naloxone             Opiate Dependence   \n",
       "\n",
       "                                              review  rating  \\\n",
       "0  \"It has no side effect, I take it in combinati...     9.0   \n",
       "1  \"My son is halfway through his fourth week of ...     8.0   \n",
       "2  \"I used to take another oral contraceptive, wh...     5.0   \n",
       "3  \"This is my first time using any form of birth...     8.0   \n",
       "4  \"Suboxone has completely turned my life around...     9.0   \n",
       "\n",
       "                date  usefulCount  \n",
       "0       May 20, 2012           27  \n",
       "1     April 27, 2010          192  \n",
       "2  December 14, 2009           17  \n",
       "3   November 3, 2015           10  \n",
       "4  November 27, 2016           37  "
      ]
     },
     "execution_count": 3,
     "metadata": {},
     "output_type": "execute_result"
    }
   ],
   "source": [
    "reviews.head() #displays top 5 rows of dataframe"
   ]
  },
  {
   "cell_type": "code",
   "execution_count": 4,
   "id": "02b04f7c",
   "metadata": {},
   "outputs": [
    {
     "data": {
      "text/plain": [
       "(161297, 7)"
      ]
     },
     "execution_count": 4,
     "metadata": {},
     "output_type": "execute_result"
    }
   ],
   "source": [
    "reviews.shape"
   ]
  },
  {
   "cell_type": "markdown",
   "id": "881758f8",
   "metadata": {},
   "source": [
    "There are more than 161,000 rows, or reviews in this dataset.\n",
    "\n",
    "I will explore each column."
   ]
  },
  {
   "cell_type": "markdown",
   "id": "a9e0c7ad",
   "metadata": {},
   "source": [
    "##### Unnamed: 0"
   ]
  },
  {
   "cell_type": "markdown",
   "id": "f10bdbf5",
   "metadata": {},
   "source": [
    "I was not expecting to see this column, as the dataset description only reports 6 columns. I will likely delete it, but I will first learn more. "
   ]
  },
  {
   "cell_type": "code",
   "execution_count": 5,
   "id": "f7bf7e74",
   "metadata": {},
   "outputs": [
    {
     "data": {
      "text/plain": [
       "161297"
      ]
     },
     "execution_count": 5,
     "metadata": {},
     "output_type": "execute_result"
    }
   ],
   "source": [
    "reviews['Unnamed: 0'].nunique() #displays number of unique values in this column"
   ]
  },
  {
   "cell_type": "markdown",
   "id": "41131304",
   "metadata": {},
   "source": [
    "It apperas that each row has a unique number, which is recorded in this column. This could be useful for later. "
   ]
  },
  {
   "cell_type": "code",
   "execution_count": 6,
   "id": "8e096654",
   "metadata": {},
   "outputs": [
    {
     "data": {
      "text/plain": [
       "count    161297.000000\n",
       "mean     115923.585305\n",
       "std       67004.445170\n",
       "min           2.000000\n",
       "25%       58063.000000\n",
       "50%      115744.000000\n",
       "75%      173776.000000\n",
       "max      232291.000000\n",
       "Name: Unnamed: 0, dtype: float64"
      ]
     },
     "execution_count": 6,
     "metadata": {},
     "output_type": "execute_result"
    }
   ],
   "source": [
    "reviews['Unnamed: 0'].describe() #shows a statistical summary for the column"
   ]
  },
  {
   "cell_type": "markdown",
   "id": "24e04041",
   "metadata": {},
   "source": [
    "There do not appear to be any negatives or otherwise problematic numbers within this column.\n",
    "\n",
    "I will test to see what sorting the rows by this attribute does to the appearance of the dataset. "
   ]
  },
  {
   "cell_type": "code",
   "execution_count": 7,
   "id": "3b069a16",
   "metadata": {},
   "outputs": [
    {
     "data": {
      "text/html": [
       "<div>\n",
       "<style scoped>\n",
       "    .dataframe tbody tr th:only-of-type {\n",
       "        vertical-align: middle;\n",
       "    }\n",
       "\n",
       "    .dataframe tbody tr th {\n",
       "        vertical-align: top;\n",
       "    }\n",
       "\n",
       "    .dataframe thead th {\n",
       "        text-align: right;\n",
       "    }\n",
       "</style>\n",
       "<table border=\"1\" class=\"dataframe\">\n",
       "  <thead>\n",
       "    <tr style=\"text-align: right;\">\n",
       "      <th></th>\n",
       "      <th>Unnamed: 0</th>\n",
       "      <th>drugName</th>\n",
       "      <th>condition</th>\n",
       "      <th>review</th>\n",
       "      <th>rating</th>\n",
       "      <th>date</th>\n",
       "      <th>usefulCount</th>\n",
       "    </tr>\n",
       "  </thead>\n",
       "  <tbody>\n",
       "    <tr>\n",
       "      <th>93135</th>\n",
       "      <td>2</td>\n",
       "      <td>Medroxyprogesterone</td>\n",
       "      <td>Amenorrhea</td>\n",
       "      <td>\"I&amp;#039;m 21 years old and recently found out ...</td>\n",
       "      <td>10.0</td>\n",
       "      <td>October 27, 2015</td>\n",
       "      <td>11</td>\n",
       "    </tr>\n",
       "    <tr>\n",
       "      <th>143331</th>\n",
       "      <td>3</td>\n",
       "      <td>Medroxyprogesterone</td>\n",
       "      <td>Abnormal Uterine Bleeding</td>\n",
       "      <td>\"I have been on the shot 11 years and until a ...</td>\n",
       "      <td>8.0</td>\n",
       "      <td>October 27, 2015</td>\n",
       "      <td>7</td>\n",
       "    </tr>\n",
       "    <tr>\n",
       "      <th>57030</th>\n",
       "      <td>4</td>\n",
       "      <td>Medroxyprogesterone</td>\n",
       "      <td>Birth Control</td>\n",
       "      <td>\"Ive had four shots at this point. I was on bi...</td>\n",
       "      <td>9.0</td>\n",
       "      <td>October 26, 2015</td>\n",
       "      <td>12</td>\n",
       "    </tr>\n",
       "    <tr>\n",
       "      <th>106347</th>\n",
       "      <td>5</td>\n",
       "      <td>Medroxyprogesterone</td>\n",
       "      <td>Abnormal Uterine Bleeding</td>\n",
       "      <td>\"I had a total of 3 shots. I got my first one ...</td>\n",
       "      <td>1.0</td>\n",
       "      <td>October 25, 2015</td>\n",
       "      <td>4</td>\n",
       "    </tr>\n",
       "    <tr>\n",
       "      <th>37769</th>\n",
       "      <td>7</td>\n",
       "      <td>Medroxyprogesterone</td>\n",
       "      <td>Abnormal Uterine Bleeding</td>\n",
       "      <td>\"I&amp;#039;m 18 and got this for heavy bleeding. ...</td>\n",
       "      <td>5.0</td>\n",
       "      <td>October 22, 2015</td>\n",
       "      <td>6</td>\n",
       "    </tr>\n",
       "    <tr>\n",
       "      <th>65902</th>\n",
       "      <td>8</td>\n",
       "      <td>Medroxyprogesterone</td>\n",
       "      <td>Abnormal Uterine Bleeding</td>\n",
       "      <td>\"Im 19 and have been having heavy and painful ...</td>\n",
       "      <td>5.0</td>\n",
       "      <td>October 21, 2015</td>\n",
       "      <td>2</td>\n",
       "    </tr>\n",
       "    <tr>\n",
       "      <th>69323</th>\n",
       "      <td>9</td>\n",
       "      <td>Medroxyprogesterone</td>\n",
       "      <td>Abnormal Uterine Bleeding</td>\n",
       "      <td>\"I&amp;#039;m a 30 year old woman. I got the shot ...</td>\n",
       "      <td>2.0</td>\n",
       "      <td>October 21, 2015</td>\n",
       "      <td>5</td>\n",
       "    </tr>\n",
       "    <tr>\n",
       "      <th>74419</th>\n",
       "      <td>10</td>\n",
       "      <td>Medroxyprogesterone</td>\n",
       "      <td>Abnormal Uterine Bleeding</td>\n",
       "      <td>\"I&amp;#039;m 17 years old and I got shot in Augus...</td>\n",
       "      <td>7.0</td>\n",
       "      <td>October 20, 2015</td>\n",
       "      <td>2</td>\n",
       "    </tr>\n",
       "    <tr>\n",
       "      <th>157476</th>\n",
       "      <td>12</td>\n",
       "      <td>Medroxyprogesterone</td>\n",
       "      <td>Abnormal Uterine Bleeding</td>\n",
       "      <td>\"First month was awesome. Absolutely wonderful...</td>\n",
       "      <td>3.0</td>\n",
       "      <td>October 18, 2015</td>\n",
       "      <td>7</td>\n",
       "    </tr>\n",
       "    <tr>\n",
       "      <th>90745</th>\n",
       "      <td>14</td>\n",
       "      <td>Medroxyprogesterone</td>\n",
       "      <td>Birth Control</td>\n",
       "      <td>\"I started the Depo shot a year ago. Originall...</td>\n",
       "      <td>2.0</td>\n",
       "      <td>October 17, 2015</td>\n",
       "      <td>7</td>\n",
       "    </tr>\n",
       "  </tbody>\n",
       "</table>\n",
       "</div>"
      ],
      "text/plain": [
       "        Unnamed: 0             drugName                  condition  \\\n",
       "93135            2  Medroxyprogesterone                 Amenorrhea   \n",
       "143331           3  Medroxyprogesterone  Abnormal Uterine Bleeding   \n",
       "57030            4  Medroxyprogesterone              Birth Control   \n",
       "106347           5  Medroxyprogesterone  Abnormal Uterine Bleeding   \n",
       "37769            7  Medroxyprogesterone  Abnormal Uterine Bleeding   \n",
       "65902            8  Medroxyprogesterone  Abnormal Uterine Bleeding   \n",
       "69323            9  Medroxyprogesterone  Abnormal Uterine Bleeding   \n",
       "74419           10  Medroxyprogesterone  Abnormal Uterine Bleeding   \n",
       "157476          12  Medroxyprogesterone  Abnormal Uterine Bleeding   \n",
       "90745           14  Medroxyprogesterone              Birth Control   \n",
       "\n",
       "                                                   review  rating  \\\n",
       "93135   \"I&#039;m 21 years old and recently found out ...    10.0   \n",
       "143331  \"I have been on the shot 11 years and until a ...     8.0   \n",
       "57030   \"Ive had four shots at this point. I was on bi...     9.0   \n",
       "106347  \"I had a total of 3 shots. I got my first one ...     1.0   \n",
       "37769   \"I&#039;m 18 and got this for heavy bleeding. ...     5.0   \n",
       "65902   \"Im 19 and have been having heavy and painful ...     5.0   \n",
       "69323   \"I&#039;m a 30 year old woman. I got the shot ...     2.0   \n",
       "74419   \"I&#039;m 17 years old and I got shot in Augus...     7.0   \n",
       "157476  \"First month was awesome. Absolutely wonderful...     3.0   \n",
       "90745   \"I started the Depo shot a year ago. Originall...     2.0   \n",
       "\n",
       "                    date  usefulCount  \n",
       "93135   October 27, 2015           11  \n",
       "143331  October 27, 2015            7  \n",
       "57030   October 26, 2015           12  \n",
       "106347  October 25, 2015            4  \n",
       "37769   October 22, 2015            6  \n",
       "65902   October 21, 2015            2  \n",
       "69323   October 21, 2015            5  \n",
       "74419   October 20, 2015            2  \n",
       "157476  October 18, 2015            7  \n",
       "90745   October 17, 2015            7  "
      ]
     },
     "execution_count": 7,
     "metadata": {},
     "output_type": "execute_result"
    }
   ],
   "source": [
    "reviews.sort_values('Unnamed: 0', inplace = True) #sorts the dataframe by the Unnamed 0 column\n",
    "\n",
    "reviews.head(10) #displays top 10 rows of dataframe"
   ]
  },
  {
   "cell_type": "markdown",
   "id": "33c72d63",
   "metadata": {},
   "source": [
    "The rows now appear to be by in order by drug name and date. I will leave the order as-is, reset the index, and delete the Unnamed: 0 Column."
   ]
  },
  {
   "cell_type": "code",
   "execution_count": 8,
   "id": "7a40cb7e",
   "metadata": {},
   "outputs": [
    {
     "data": {
      "text/html": [
       "<div>\n",
       "<style scoped>\n",
       "    .dataframe tbody tr th:only-of-type {\n",
       "        vertical-align: middle;\n",
       "    }\n",
       "\n",
       "    .dataframe tbody tr th {\n",
       "        vertical-align: top;\n",
       "    }\n",
       "\n",
       "    .dataframe thead th {\n",
       "        text-align: right;\n",
       "    }\n",
       "</style>\n",
       "<table border=\"1\" class=\"dataframe\">\n",
       "  <thead>\n",
       "    <tr style=\"text-align: right;\">\n",
       "      <th></th>\n",
       "      <th>index</th>\n",
       "      <th>Unnamed: 0</th>\n",
       "      <th>drugName</th>\n",
       "      <th>condition</th>\n",
       "      <th>review</th>\n",
       "      <th>rating</th>\n",
       "      <th>date</th>\n",
       "      <th>usefulCount</th>\n",
       "    </tr>\n",
       "  </thead>\n",
       "  <tbody>\n",
       "    <tr>\n",
       "      <th>0</th>\n",
       "      <td>93135</td>\n",
       "      <td>2</td>\n",
       "      <td>Medroxyprogesterone</td>\n",
       "      <td>Amenorrhea</td>\n",
       "      <td>\"I&amp;#039;m 21 years old and recently found out ...</td>\n",
       "      <td>10.0</td>\n",
       "      <td>October 27, 2015</td>\n",
       "      <td>11</td>\n",
       "    </tr>\n",
       "    <tr>\n",
       "      <th>1</th>\n",
       "      <td>143331</td>\n",
       "      <td>3</td>\n",
       "      <td>Medroxyprogesterone</td>\n",
       "      <td>Abnormal Uterine Bleeding</td>\n",
       "      <td>\"I have been on the shot 11 years and until a ...</td>\n",
       "      <td>8.0</td>\n",
       "      <td>October 27, 2015</td>\n",
       "      <td>7</td>\n",
       "    </tr>\n",
       "    <tr>\n",
       "      <th>2</th>\n",
       "      <td>57030</td>\n",
       "      <td>4</td>\n",
       "      <td>Medroxyprogesterone</td>\n",
       "      <td>Birth Control</td>\n",
       "      <td>\"Ive had four shots at this point. I was on bi...</td>\n",
       "      <td>9.0</td>\n",
       "      <td>October 26, 2015</td>\n",
       "      <td>12</td>\n",
       "    </tr>\n",
       "    <tr>\n",
       "      <th>3</th>\n",
       "      <td>106347</td>\n",
       "      <td>5</td>\n",
       "      <td>Medroxyprogesterone</td>\n",
       "      <td>Abnormal Uterine Bleeding</td>\n",
       "      <td>\"I had a total of 3 shots. I got my first one ...</td>\n",
       "      <td>1.0</td>\n",
       "      <td>October 25, 2015</td>\n",
       "      <td>4</td>\n",
       "    </tr>\n",
       "    <tr>\n",
       "      <th>4</th>\n",
       "      <td>37769</td>\n",
       "      <td>7</td>\n",
       "      <td>Medroxyprogesterone</td>\n",
       "      <td>Abnormal Uterine Bleeding</td>\n",
       "      <td>\"I&amp;#039;m 18 and got this for heavy bleeding. ...</td>\n",
       "      <td>5.0</td>\n",
       "      <td>October 22, 2015</td>\n",
       "      <td>6</td>\n",
       "    </tr>\n",
       "    <tr>\n",
       "      <th>5</th>\n",
       "      <td>65902</td>\n",
       "      <td>8</td>\n",
       "      <td>Medroxyprogesterone</td>\n",
       "      <td>Abnormal Uterine Bleeding</td>\n",
       "      <td>\"Im 19 and have been having heavy and painful ...</td>\n",
       "      <td>5.0</td>\n",
       "      <td>October 21, 2015</td>\n",
       "      <td>2</td>\n",
       "    </tr>\n",
       "    <tr>\n",
       "      <th>6</th>\n",
       "      <td>69323</td>\n",
       "      <td>9</td>\n",
       "      <td>Medroxyprogesterone</td>\n",
       "      <td>Abnormal Uterine Bleeding</td>\n",
       "      <td>\"I&amp;#039;m a 30 year old woman. I got the shot ...</td>\n",
       "      <td>2.0</td>\n",
       "      <td>October 21, 2015</td>\n",
       "      <td>5</td>\n",
       "    </tr>\n",
       "    <tr>\n",
       "      <th>7</th>\n",
       "      <td>74419</td>\n",
       "      <td>10</td>\n",
       "      <td>Medroxyprogesterone</td>\n",
       "      <td>Abnormal Uterine Bleeding</td>\n",
       "      <td>\"I&amp;#039;m 17 years old and I got shot in Augus...</td>\n",
       "      <td>7.0</td>\n",
       "      <td>October 20, 2015</td>\n",
       "      <td>2</td>\n",
       "    </tr>\n",
       "    <tr>\n",
       "      <th>8</th>\n",
       "      <td>157476</td>\n",
       "      <td>12</td>\n",
       "      <td>Medroxyprogesterone</td>\n",
       "      <td>Abnormal Uterine Bleeding</td>\n",
       "      <td>\"First month was awesome. Absolutely wonderful...</td>\n",
       "      <td>3.0</td>\n",
       "      <td>October 18, 2015</td>\n",
       "      <td>7</td>\n",
       "    </tr>\n",
       "    <tr>\n",
       "      <th>9</th>\n",
       "      <td>90745</td>\n",
       "      <td>14</td>\n",
       "      <td>Medroxyprogesterone</td>\n",
       "      <td>Birth Control</td>\n",
       "      <td>\"I started the Depo shot a year ago. Originall...</td>\n",
       "      <td>2.0</td>\n",
       "      <td>October 17, 2015</td>\n",
       "      <td>7</td>\n",
       "    </tr>\n",
       "  </tbody>\n",
       "</table>\n",
       "</div>"
      ],
      "text/plain": [
       "    index  Unnamed: 0             drugName                  condition  \\\n",
       "0   93135           2  Medroxyprogesterone                 Amenorrhea   \n",
       "1  143331           3  Medroxyprogesterone  Abnormal Uterine Bleeding   \n",
       "2   57030           4  Medroxyprogesterone              Birth Control   \n",
       "3  106347           5  Medroxyprogesterone  Abnormal Uterine Bleeding   \n",
       "4   37769           7  Medroxyprogesterone  Abnormal Uterine Bleeding   \n",
       "5   65902           8  Medroxyprogesterone  Abnormal Uterine Bleeding   \n",
       "6   69323           9  Medroxyprogesterone  Abnormal Uterine Bleeding   \n",
       "7   74419          10  Medroxyprogesterone  Abnormal Uterine Bleeding   \n",
       "8  157476          12  Medroxyprogesterone  Abnormal Uterine Bleeding   \n",
       "9   90745          14  Medroxyprogesterone              Birth Control   \n",
       "\n",
       "                                              review  rating  \\\n",
       "0  \"I&#039;m 21 years old and recently found out ...    10.0   \n",
       "1  \"I have been on the shot 11 years and until a ...     8.0   \n",
       "2  \"Ive had four shots at this point. I was on bi...     9.0   \n",
       "3  \"I had a total of 3 shots. I got my first one ...     1.0   \n",
       "4  \"I&#039;m 18 and got this for heavy bleeding. ...     5.0   \n",
       "5  \"Im 19 and have been having heavy and painful ...     5.0   \n",
       "6  \"I&#039;m a 30 year old woman. I got the shot ...     2.0   \n",
       "7  \"I&#039;m 17 years old and I got shot in Augus...     7.0   \n",
       "8  \"First month was awesome. Absolutely wonderful...     3.0   \n",
       "9  \"I started the Depo shot a year ago. Originall...     2.0   \n",
       "\n",
       "               date  usefulCount  \n",
       "0  October 27, 2015           11  \n",
       "1  October 27, 2015            7  \n",
       "2  October 26, 2015           12  \n",
       "3  October 25, 2015            4  \n",
       "4  October 22, 2015            6  \n",
       "5  October 21, 2015            2  \n",
       "6  October 21, 2015            5  \n",
       "7  October 20, 2015            2  \n",
       "8  October 18, 2015            7  \n",
       "9  October 17, 2015            7  "
      ]
     },
     "execution_count": 8,
     "metadata": {},
     "output_type": "execute_result"
    }
   ],
   "source": [
    "reviews = reviews.reset_index()\n",
    "\n",
    "reviews.head(10)"
   ]
  },
  {
   "cell_type": "code",
   "execution_count": 9,
   "id": "9f9f9639",
   "metadata": {},
   "outputs": [
    {
     "data": {
      "text/html": [
       "<div>\n",
       "<style scoped>\n",
       "    .dataframe tbody tr th:only-of-type {\n",
       "        vertical-align: middle;\n",
       "    }\n",
       "\n",
       "    .dataframe tbody tr th {\n",
       "        vertical-align: top;\n",
       "    }\n",
       "\n",
       "    .dataframe thead th {\n",
       "        text-align: right;\n",
       "    }\n",
       "</style>\n",
       "<table border=\"1\" class=\"dataframe\">\n",
       "  <thead>\n",
       "    <tr style=\"text-align: right;\">\n",
       "      <th></th>\n",
       "      <th>drugName</th>\n",
       "      <th>condition</th>\n",
       "      <th>review</th>\n",
       "      <th>rating</th>\n",
       "      <th>date</th>\n",
       "      <th>usefulCount</th>\n",
       "    </tr>\n",
       "  </thead>\n",
       "  <tbody>\n",
       "    <tr>\n",
       "      <th>0</th>\n",
       "      <td>Medroxyprogesterone</td>\n",
       "      <td>Amenorrhea</td>\n",
       "      <td>\"I&amp;#039;m 21 years old and recently found out ...</td>\n",
       "      <td>10.0</td>\n",
       "      <td>October 27, 2015</td>\n",
       "      <td>11</td>\n",
       "    </tr>\n",
       "    <tr>\n",
       "      <th>1</th>\n",
       "      <td>Medroxyprogesterone</td>\n",
       "      <td>Abnormal Uterine Bleeding</td>\n",
       "      <td>\"I have been on the shot 11 years and until a ...</td>\n",
       "      <td>8.0</td>\n",
       "      <td>October 27, 2015</td>\n",
       "      <td>7</td>\n",
       "    </tr>\n",
       "    <tr>\n",
       "      <th>2</th>\n",
       "      <td>Medroxyprogesterone</td>\n",
       "      <td>Birth Control</td>\n",
       "      <td>\"Ive had four shots at this point. I was on bi...</td>\n",
       "      <td>9.0</td>\n",
       "      <td>October 26, 2015</td>\n",
       "      <td>12</td>\n",
       "    </tr>\n",
       "    <tr>\n",
       "      <th>3</th>\n",
       "      <td>Medroxyprogesterone</td>\n",
       "      <td>Abnormal Uterine Bleeding</td>\n",
       "      <td>\"I had a total of 3 shots. I got my first one ...</td>\n",
       "      <td>1.0</td>\n",
       "      <td>October 25, 2015</td>\n",
       "      <td>4</td>\n",
       "    </tr>\n",
       "    <tr>\n",
       "      <th>4</th>\n",
       "      <td>Medroxyprogesterone</td>\n",
       "      <td>Abnormal Uterine Bleeding</td>\n",
       "      <td>\"I&amp;#039;m 18 and got this for heavy bleeding. ...</td>\n",
       "      <td>5.0</td>\n",
       "      <td>October 22, 2015</td>\n",
       "      <td>6</td>\n",
       "    </tr>\n",
       "  </tbody>\n",
       "</table>\n",
       "</div>"
      ],
      "text/plain": [
       "              drugName                  condition  \\\n",
       "0  Medroxyprogesterone                 Amenorrhea   \n",
       "1  Medroxyprogesterone  Abnormal Uterine Bleeding   \n",
       "2  Medroxyprogesterone              Birth Control   \n",
       "3  Medroxyprogesterone  Abnormal Uterine Bleeding   \n",
       "4  Medroxyprogesterone  Abnormal Uterine Bleeding   \n",
       "\n",
       "                                              review  rating  \\\n",
       "0  \"I&#039;m 21 years old and recently found out ...    10.0   \n",
       "1  \"I have been on the shot 11 years and until a ...     8.0   \n",
       "2  \"Ive had four shots at this point. I was on bi...     9.0   \n",
       "3  \"I had a total of 3 shots. I got my first one ...     1.0   \n",
       "4  \"I&#039;m 18 and got this for heavy bleeding. ...     5.0   \n",
       "\n",
       "               date  usefulCount  \n",
       "0  October 27, 2015           11  \n",
       "1  October 27, 2015            7  \n",
       "2  October 26, 2015           12  \n",
       "3  October 25, 2015            4  \n",
       "4  October 22, 2015            6  "
      ]
     },
     "execution_count": 9,
     "metadata": {},
     "output_type": "execute_result"
    }
   ],
   "source": [
    "#drops index column\n",
    "\n",
    "reviews = reviews.drop(columns = ['index', 'Unnamed: 0'])\n",
    "\n",
    "reviews.head()"
   ]
  },
  {
   "cell_type": "markdown",
   "id": "eec48f71",
   "metadata": {},
   "source": [
    "Now the rows are in a more ordered format, and the extra column is gone. The remaining 6 are those reported in the dataset description.  I will move on to observe these."
   ]
  },
  {
   "cell_type": "markdown",
   "id": "2d44782b",
   "metadata": {},
   "source": [
    "##### Drug name"
   ]
  },
  {
   "cell_type": "markdown",
   "id": "3da0cfa5",
   "metadata": {},
   "source": [
    "This column name contains an uppercase letter. I will revise the column name for ease of use."
   ]
  },
  {
   "cell_type": "code",
   "execution_count": 10,
   "id": "4117a852",
   "metadata": {},
   "outputs": [
    {
     "data": {
      "text/plain": [
       "Index(['drug', 'condition', 'review', 'rating', 'date', 'usefulCount'], dtype='object')"
      ]
     },
     "execution_count": 10,
     "metadata": {},
     "output_type": "execute_result"
    }
   ],
   "source": [
    "reviews.rename({'drugName': 'drug'}, axis = 1, inplace = True) #changes this column name to \"drug\"\n",
    "\n",
    "reviews.columns #displays revised list of columns"
   ]
  },
  {
   "cell_type": "markdown",
   "id": "d46e145c",
   "metadata": {},
   "source": [
    "Now I will investigate further, beginning with the number of unique drug names within the dataset."
   ]
  },
  {
   "cell_type": "code",
   "execution_count": 11,
   "id": "054581f3",
   "metadata": {},
   "outputs": [
    {
     "data": {
      "text/plain": [
       "0"
      ]
     },
     "execution_count": 11,
     "metadata": {},
     "output_type": "execute_result"
    }
   ],
   "source": [
    "reviews.drug.isnull().sum() #shows number of missing values in this column"
   ]
  },
  {
   "cell_type": "markdown",
   "id": "86eb7fe8",
   "metadata": {},
   "source": [
    "There are no missing values, however there may be values entered as \"missing,\" \"removed,\" \"redacted,\" and so forth. I will assess for this by observing the value counts below."
   ]
  },
  {
   "cell_type": "code",
   "execution_count": 12,
   "id": "0c46a8d6",
   "metadata": {},
   "outputs": [
    {
     "data": {
      "text/plain": [
       "Levonorgestrel                       3657\n",
       "Etonogestrel                         3336\n",
       "Ethinyl estradiol / norethindrone    2850\n",
       "Nexplanon                            2156\n",
       "Ethinyl estradiol / norgestimate     2117\n",
       "                                     ... \n",
       "D3                                      1\n",
       "Sucroferric oxyhydroxide                1\n",
       "Nutraplus                               1\n",
       "Purinethol                              1\n",
       "Privigen                                1\n",
       "Name: drug, Length: 3436, dtype: int64"
      ]
     },
     "execution_count": 12,
     "metadata": {},
     "output_type": "execute_result"
    }
   ],
   "source": [
    "reviews.drug.value_counts()"
   ]
  },
  {
   "cell_type": "markdown",
   "id": "995190ec",
   "metadata": {},
   "source": [
    "Typically, \"removed,\" \"missing,\" \"redacted\" and so forth are among the most common when utilized. So far, I see no evidence of this here. \n",
    "\n",
    "I will check to see how many drugs there are in the dataset."
   ]
  },
  {
   "cell_type": "code",
   "execution_count": 13,
   "id": "47d898a8",
   "metadata": {},
   "outputs": [
    {
     "data": {
      "text/plain": [
       "3436"
      ]
     },
     "execution_count": 13,
     "metadata": {},
     "output_type": "execute_result"
    }
   ],
   "source": [
    "reviews.drug.nunique() #shows the number of drug names"
   ]
  },
  {
   "cell_type": "markdown",
   "id": "d50ce123",
   "metadata": {},
   "source": [
    "There are 3,436 unique drug names.\n",
    "\n"
   ]
  },
  {
   "cell_type": "code",
   "execution_count": 14,
   "id": "24aba0b2",
   "metadata": {},
   "outputs": [
    {
     "data": {
      "text/plain": [
       "dtype('O')"
      ]
     },
     "execution_count": 14,
     "metadata": {},
     "output_type": "execute_result"
    }
   ],
   "source": [
    "reviews.drug.dtypes #shows the datatype of this column"
   ]
  },
  {
   "cell_type": "markdown",
   "id": "42386d53",
   "metadata": {},
   "source": [
    "Object is the appropriate datatype.\n",
    "\n",
    "I see no additional issues in this column, and will move on to the next."
   ]
  },
  {
   "cell_type": "markdown",
   "id": "dc258461",
   "metadata": {},
   "source": [
    "##### Condition"
   ]
  },
  {
   "cell_type": "markdown",
   "id": "39a19f6d",
   "metadata": {},
   "source": [
    "There are no issues with the column name itself. I will observe for null values."
   ]
  },
  {
   "cell_type": "code",
   "execution_count": 15,
   "id": "1bac334c",
   "metadata": {},
   "outputs": [
    {
     "data": {
      "text/plain": [
       "899"
      ]
     },
     "execution_count": 15,
     "metadata": {},
     "output_type": "execute_result"
    }
   ],
   "source": [
    "reviews.condition.isnull().sum()"
   ]
  },
  {
   "cell_type": "code",
   "execution_count": 16,
   "id": "7121074c",
   "metadata": {},
   "outputs": [
    {
     "data": {
      "text/plain": [
       "0.5573569254232875"
      ]
     },
     "execution_count": 16,
     "metadata": {},
     "output_type": "execute_result"
    }
   ],
   "source": [
    "899 / 161297 * 100 #shows the percent of total values that are missing"
   ]
  },
  {
   "cell_type": "markdown",
   "id": "24dbab36",
   "metadata": {},
   "source": [
    "Less than 1% of values are missing from this column. I could impute these with \"Unspecified.\"\n",
    "\n",
    "First, however, I will move on to observe the number of unique conditions in the dataset."
   ]
  },
  {
   "cell_type": "code",
   "execution_count": 17,
   "id": "f88de856",
   "metadata": {},
   "outputs": [
    {
     "data": {
      "text/plain": [
       "Birth Control                                   28788\n",
       "Depression                                       9069\n",
       "Pain                                             6145\n",
       "Anxiety                                          5904\n",
       "Acne                                             5588\n",
       "                                                ...  \n",
       "Tuberculosis, Active                                1\n",
       "110</span> users found this comment helpful.        1\n",
       "121</span> users found this comment helpful.        1\n",
       "62</span> users found this comment helpful.         1\n",
       "Aspergillosis, Aspergilloma                         1\n",
       "Name: condition, Length: 884, dtype: int64"
      ]
     },
     "execution_count": 17,
     "metadata": {},
     "output_type": "execute_result"
    }
   ],
   "source": [
    "reviews.condition.value_counts() "
   ]
  },
  {
   "cell_type": "markdown",
   "id": "ee241cca",
   "metadata": {},
   "source": [
    "Some of the least common entries, at the bottom with 1 count each, do not in fact appear to be conditions at all. \n",
    "\n",
    "I may later change these to \"Unspecified\" if needed..but before I change anything, I will observe the number of conditions represented in the dataset."
   ]
  },
  {
   "cell_type": "code",
   "execution_count": 18,
   "id": "cf313903",
   "metadata": {},
   "outputs": [
    {
     "data": {
      "text/plain": [
       "884"
      ]
     },
     "execution_count": 18,
     "metadata": {},
     "output_type": "execute_result"
    }
   ],
   "source": [
    "reviews.condition.nunique()"
   ]
  },
  {
   "cell_type": "markdown",
   "id": "de675a0a",
   "metadata": {},
   "source": [
    "There are 884 unique conditions within the dataset. \n",
    "\n",
    "Due to the large number I am unlikely to one-hot encode these. If I utilize this column, it will likely only be the most frequently represented conditions.\n",
    "\n",
    "I will fill in the null values with \"Unspecified,\" then move on."
   ]
  },
  {
   "cell_type": "code",
   "execution_count": 19,
   "id": "310fe4c3",
   "metadata": {},
   "outputs": [
    {
     "data": {
      "text/plain": [
       "Birth Control                  28788\n",
       "Depression                      9069\n",
       "Pain                            6145\n",
       "Anxiety                         5904\n",
       "Acne                            5588\n",
       "                               ...  \n",
       "Hypercalcemia                      1\n",
       "Joint Infection                    1\n",
       "Ehrlichiosis                       1\n",
       "Q Feve                             1\n",
       "Aspergillosis, Aspergilloma        1\n",
       "Name: condition, Length: 885, dtype: int64"
      ]
     },
     "execution_count": 19,
     "metadata": {},
     "output_type": "execute_result"
    }
   ],
   "source": [
    "#fills in missing values in this column with \"Unspecified\"\n",
    "\n",
    "reviews.condition.replace(np.nan, 'Unspecified', inplace = True) \n",
    "\n",
    "reviews.condition.value_counts() #shows revised value counts"
   ]
  },
  {
   "cell_type": "code",
   "execution_count": 20,
   "id": "77c376ec",
   "metadata": {},
   "outputs": [
    {
     "data": {
      "text/html": [
       "<div>\n",
       "<style scoped>\n",
       "    .dataframe tbody tr th:only-of-type {\n",
       "        vertical-align: middle;\n",
       "    }\n",
       "\n",
       "    .dataframe tbody tr th {\n",
       "        vertical-align: top;\n",
       "    }\n",
       "\n",
       "    .dataframe thead th {\n",
       "        text-align: right;\n",
       "    }\n",
       "</style>\n",
       "<table border=\"1\" class=\"dataframe\">\n",
       "  <thead>\n",
       "    <tr style=\"text-align: right;\">\n",
       "      <th></th>\n",
       "      <th>drug</th>\n",
       "      <th>condition</th>\n",
       "      <th>review</th>\n",
       "      <th>rating</th>\n",
       "      <th>date</th>\n",
       "      <th>usefulCount</th>\n",
       "    </tr>\n",
       "  </thead>\n",
       "  <tbody>\n",
       "    <tr>\n",
       "      <th>267</th>\n",
       "      <td>Medroxyprogesterone</td>\n",
       "      <td>Unspecified</td>\n",
       "      <td>\"I started receiving the deposit injection 6 w...</td>\n",
       "      <td>8.0</td>\n",
       "      <td>July 13, 2015</td>\n",
       "      <td>4</td>\n",
       "    </tr>\n",
       "    <tr>\n",
       "      <th>329</th>\n",
       "      <td>Medroxyprogesterone</td>\n",
       "      <td>Unspecified</td>\n",
       "      <td>\"I literally received this shot a few days ago...</td>\n",
       "      <td>2.0</td>\n",
       "      <td>February 21, 2014</td>\n",
       "      <td>15</td>\n",
       "    </tr>\n",
       "    <tr>\n",
       "      <th>392</th>\n",
       "      <td>Medroxyprogesterone</td>\n",
       "      <td>Unspecified</td>\n",
       "      <td>\"I only got the shot once, I gained 15 pounds ...</td>\n",
       "      <td>2.0</td>\n",
       "      <td>December 17, 2012</td>\n",
       "      <td>5</td>\n",
       "    </tr>\n",
       "    <tr>\n",
       "      <th>416</th>\n",
       "      <td>Medroxyprogesterone</td>\n",
       "      <td>Unspecified</td>\n",
       "      <td>\"I loved how convenient the shot was and how c...</td>\n",
       "      <td>6.0</td>\n",
       "      <td>May 18, 2012</td>\n",
       "      <td>2</td>\n",
       "    </tr>\n",
       "    <tr>\n",
       "      <th>421</th>\n",
       "      <td>Medroxyprogesterone</td>\n",
       "      <td>Unspecified</td>\n",
       "      <td>\"I went on this birth control because I wanted...</td>\n",
       "      <td>3.0</td>\n",
       "      <td>April 21, 2012</td>\n",
       "      <td>7</td>\n",
       "    </tr>\n",
       "    <tr>\n",
       "      <th>...</th>\n",
       "      <td>...</td>\n",
       "      <td>...</td>\n",
       "      <td>...</td>\n",
       "      <td>...</td>\n",
       "      <td>...</td>\n",
       "      <td>...</td>\n",
       "    </tr>\n",
       "    <tr>\n",
       "      <th>159592</th>\n",
       "      <td>Lurasidone</td>\n",
       "      <td>Unspecified</td>\n",
       "      <td>\"I ended up in the ER three days after startin...</td>\n",
       "      <td>1.0</td>\n",
       "      <td>July 25, 2011</td>\n",
       "      <td>21</td>\n",
       "    </tr>\n",
       "    <tr>\n",
       "      <th>159685</th>\n",
       "      <td>Lurasidone</td>\n",
       "      <td>Unspecified</td>\n",
       "      <td>\"Latuda {120mg.} made me VERY RESTLESS couldn&amp;...</td>\n",
       "      <td>1.0</td>\n",
       "      <td>April 4, 2017</td>\n",
       "      <td>4</td>\n",
       "    </tr>\n",
       "    <tr>\n",
       "      <th>160180</th>\n",
       "      <td>Bepotastine</td>\n",
       "      <td>Unspecified</td>\n",
       "      <td>\"I just started using these eyedrops. My aller...</td>\n",
       "      <td>3.0</td>\n",
       "      <td>January 4, 2012</td>\n",
       "      <td>0</td>\n",
       "    </tr>\n",
       "    <tr>\n",
       "      <th>160377</th>\n",
       "      <td>Milnacipran</td>\n",
       "      <td>Unspecified</td>\n",
       "      <td>\"I have been taking Savella for about a week n...</td>\n",
       "      <td>8.0</td>\n",
       "      <td>April 29, 2011</td>\n",
       "      <td>3</td>\n",
       "    </tr>\n",
       "    <tr>\n",
       "      <th>160447</th>\n",
       "      <td>Milnacipran</td>\n",
       "      <td>Unspecified</td>\n",
       "      <td>\"In the past 10 yrs. I&amp;#039;ve had L-4/5 back ...</td>\n",
       "      <td>3.0</td>\n",
       "      <td>November 28, 2009</td>\n",
       "      <td>7</td>\n",
       "    </tr>\n",
       "  </tbody>\n",
       "</table>\n",
       "<p>899 rows × 6 columns</p>\n",
       "</div>"
      ],
      "text/plain": [
       "                       drug    condition  \\\n",
       "267     Medroxyprogesterone  Unspecified   \n",
       "329     Medroxyprogesterone  Unspecified   \n",
       "392     Medroxyprogesterone  Unspecified   \n",
       "416     Medroxyprogesterone  Unspecified   \n",
       "421     Medroxyprogesterone  Unspecified   \n",
       "...                     ...          ...   \n",
       "159592           Lurasidone  Unspecified   \n",
       "159685           Lurasidone  Unspecified   \n",
       "160180          Bepotastine  Unspecified   \n",
       "160377          Milnacipran  Unspecified   \n",
       "160447          Milnacipran  Unspecified   \n",
       "\n",
       "                                                   review  rating  \\\n",
       "267     \"I started receiving the deposit injection 6 w...     8.0   \n",
       "329     \"I literally received this shot a few days ago...     2.0   \n",
       "392     \"I only got the shot once, I gained 15 pounds ...     2.0   \n",
       "416     \"I loved how convenient the shot was and how c...     6.0   \n",
       "421     \"I went on this birth control because I wanted...     3.0   \n",
       "...                                                   ...     ...   \n",
       "159592  \"I ended up in the ER three days after startin...     1.0   \n",
       "159685  \"Latuda {120mg.} made me VERY RESTLESS couldn&...     1.0   \n",
       "160180  \"I just started using these eyedrops. My aller...     3.0   \n",
       "160377  \"I have been taking Savella for about a week n...     8.0   \n",
       "160447  \"In the past 10 yrs. I&#039;ve had L-4/5 back ...     3.0   \n",
       "\n",
       "                     date  usefulCount  \n",
       "267         July 13, 2015            4  \n",
       "329     February 21, 2014           15  \n",
       "392     December 17, 2012            5  \n",
       "416          May 18, 2012            2  \n",
       "421        April 21, 2012            7  \n",
       "...                   ...          ...  \n",
       "159592      July 25, 2011           21  \n",
       "159685      April 4, 2017            4  \n",
       "160180    January 4, 2012            0  \n",
       "160377     April 29, 2011            3  \n",
       "160447  November 28, 2009            7  \n",
       "\n",
       "[899 rows x 6 columns]"
      ]
     },
     "execution_count": 20,
     "metadata": {},
     "output_type": "execute_result"
    }
   ],
   "source": [
    "reviews.loc[reviews['condition'] == 'Unspecified'] #displays truncated list of rows with \"Unspecified\" condition"
   ]
  },
  {
   "cell_type": "markdown",
   "id": "9e158e2a",
   "metadata": {},
   "source": [
    "It appears that the change was made.\n",
    "\n",
    "I see no further issues. I will move on to observe the next column."
   ]
  },
  {
   "cell_type": "markdown",
   "id": "552e04d1",
   "metadata": {},
   "source": [
    "##### Review"
   ]
  },
  {
   "cell_type": "markdown",
   "id": "7320eb5a",
   "metadata": {},
   "source": [
    "I will remove stop words, make words lower case and so on by making this column into its own dataframe during EDA. For now, I will simply check for null values."
   ]
  },
  {
   "cell_type": "code",
   "execution_count": 21,
   "id": "76369bf0",
   "metadata": {},
   "outputs": [
    {
     "data": {
      "text/plain": [
       "0"
      ]
     },
     "execution_count": 21,
     "metadata": {},
     "output_type": "execute_result"
    }
   ],
   "source": [
    "reviews.review.isnull().sum()"
   ]
  },
  {
   "cell_type": "markdown",
   "id": "91b93cef",
   "metadata": {},
   "source": [
    "All rows contain seem to contain a review. I will check the value counts to see if any are \"missing,\" \"removed,\" or so on."
   ]
  },
  {
   "cell_type": "code",
   "execution_count": 22,
   "id": "b048a544",
   "metadata": {},
   "outputs": [
    {
     "data": {
      "text/plain": [
       "\"Good\"                                                                                                                                                                                                                                 33\n",
       "\"Great\"                                                                                                                                                                                                                                20\n",
       "\"Good.\"                                                                                                                                                                                                                                18\n",
       "\"Very good\"                                                                                                                                                                                                                            16\n",
       "\"Great.\"                                                                                                                                                                                                                               14\n",
       "                                                                                                                                                                                                                                       ..\n",
       "\"I took this and a couple of weeks later had to have an endoscopy due to severe abdominal pain.  It contains sucralose, so if you are allergic to that, look out. I would not recommend it to anyone who has a sensitive stomach. \"     1\n",
       "\"While it did the job the taste was TERRIBLE!  I tried breaking it down into even portions and using the chaser but even that didn&#039;t help. Hope I don&#039;t have to go through this again any time soon!\"                         1\n",
       "\"Taste not bad.  Better than the old product, a little stomach discomfort but overall it&#039;s good.\"                                                                                                                                  1\n",
       "\"I tasted the suprep this morning an in-service - doesn&#039;t taste the best in the world, but I can drink a small amount of almost anything. Much better than the 1/2 gallon or the FULL GALLON as I took for my prep. \"              1\n",
       "\"Every time I have had a sinus infection and been prescribed Augmentin 875  I feel so much better within a day or two\"                                                                                                                  1\n",
       "Name: review, Length: 112329, dtype: int64"
      ]
     },
     "execution_count": 22,
     "metadata": {},
     "output_type": "execute_result"
    }
   ],
   "source": [
    "reviews.review.value_counts()"
   ]
  },
  {
   "cell_type": "markdown",
   "id": "e6413902",
   "metadata": {},
   "source": [
    "Typically, when removed/missing/redacted, e.t.c. values are present within a column, they are among the most common. This has not occurred here, so at the moment, it appears there are no rows with missing reviews.\n",
    "\n",
    "I will move on to the next column."
   ]
  },
  {
   "cell_type": "markdown",
   "id": "6149f4a2",
   "metadata": {},
   "source": [
    "##### Rating"
   ]
  },
  {
   "cell_type": "code",
   "execution_count": 25,
   "id": "069c4a8c",
   "metadata": {},
   "outputs": [
    {
     "data": {
      "text/plain": [
       "0"
      ]
     },
     "execution_count": 25,
     "metadata": {},
     "output_type": "execute_result"
    }
   ],
   "source": [
    "reviews.rating.isnull().sum()"
   ]
  },
  {
   "cell_type": "markdown",
   "id": "c7de6660",
   "metadata": {},
   "source": [
    "There are no missing values in this column.  The values appear to be ordinal, perhaps ranging from 1-10. I will observe."
   ]
  },
  {
   "cell_type": "code",
   "execution_count": 26,
   "id": "082bcd87",
   "metadata": {},
   "outputs": [
    {
     "data": {
      "text/plain": [
       "array([10.,  8.,  9.,  1.,  5.,  2.,  7.,  3.,  4.,  6.])"
      ]
     },
     "execution_count": 26,
     "metadata": {},
     "output_type": "execute_result"
    }
   ],
   "source": [
    "reviews.rating.unique() #shows unique values in this column"
   ]
  },
  {
   "cell_type": "markdown",
   "id": "572969e8",
   "metadata": {},
   "source": [
    "It does in fact to be an ordinal system ranging from 1- 10.\n",
    "\n",
    "I will observe the value counts."
   ]
  },
  {
   "cell_type": "code",
   "execution_count": 27,
   "id": "ed47283d",
   "metadata": {},
   "outputs": [
    {
     "data": {
      "text/plain": [
       "10.0    50989\n",
       "9.0     27531\n",
       "1.0     21619\n",
       "8.0     18890\n",
       "7.0      9456\n",
       "5.0      8013\n",
       "2.0      6931\n",
       "3.0      6513\n",
       "6.0      6343\n",
       "4.0      5012\n",
       "Name: rating, dtype: int64"
      ]
     },
     "execution_count": 27,
     "metadata": {},
     "output_type": "execute_result"
    }
   ],
   "source": [
    "reviews.rating.value_counts()"
   ]
  },
  {
   "cell_type": "markdown",
   "id": "f46ea89b",
   "metadata": {},
   "source": [
    "It appears that a rating of 10.0 is the most common. I will observe mean, median, and more in a statistical summary of this column below."
   ]
  },
  {
   "cell_type": "code",
   "execution_count": 28,
   "id": "89c3d7a8",
   "metadata": {},
   "outputs": [
    {
     "data": {
      "text/plain": [
       "count    161297.000000\n",
       "mean          6.994377\n",
       "std           3.272329\n",
       "min           1.000000\n",
       "25%           5.000000\n",
       "50%           8.000000\n",
       "75%          10.000000\n",
       "max          10.000000\n",
       "Name: rating, dtype: float64"
      ]
     },
     "execution_count": 28,
     "metadata": {},
     "output_type": "execute_result"
    }
   ],
   "source": [
    "reviews.rating.describe()"
   ]
  },
  {
   "cell_type": "markdown",
   "id": "2588ff95",
   "metadata": {},
   "source": [
    "The mean rating is 6.99, and the median is 8.0. As mentioned, values range from 1-10.\n",
    "\n",
    "I see no issues with this column, and will move on to the next."
   ]
  },
  {
   "cell_type": "markdown",
   "id": "6aefda59",
   "metadata": {},
   "source": [
    "##### Date"
   ]
  },
  {
   "cell_type": "markdown",
   "id": "74dd9195",
   "metadata": {},
   "source": [
    "It is unlikely that I will use this column. However, it might be worthwhile to note a date range.\n",
    "\n",
    "Below, I will re-display the top rows of the dataframe."
   ]
  },
  {
   "cell_type": "code",
   "execution_count": 29,
   "id": "80e4b9fd",
   "metadata": {},
   "outputs": [
    {
     "data": {
      "text/html": [
       "<div>\n",
       "<style scoped>\n",
       "    .dataframe tbody tr th:only-of-type {\n",
       "        vertical-align: middle;\n",
       "    }\n",
       "\n",
       "    .dataframe tbody tr th {\n",
       "        vertical-align: top;\n",
       "    }\n",
       "\n",
       "    .dataframe thead th {\n",
       "        text-align: right;\n",
       "    }\n",
       "</style>\n",
       "<table border=\"1\" class=\"dataframe\">\n",
       "  <thead>\n",
       "    <tr style=\"text-align: right;\">\n",
       "      <th></th>\n",
       "      <th>drug</th>\n",
       "      <th>condition</th>\n",
       "      <th>review</th>\n",
       "      <th>rating</th>\n",
       "      <th>date</th>\n",
       "      <th>usefulCount</th>\n",
       "    </tr>\n",
       "  </thead>\n",
       "  <tbody>\n",
       "    <tr>\n",
       "      <th>0</th>\n",
       "      <td>Medroxyprogesterone</td>\n",
       "      <td>Amenorrhea</td>\n",
       "      <td>\"I&amp;#039;m 21 years old and recently found out ...</td>\n",
       "      <td>10.0</td>\n",
       "      <td>October 27, 2015</td>\n",
       "      <td>11</td>\n",
       "    </tr>\n",
       "    <tr>\n",
       "      <th>1</th>\n",
       "      <td>Medroxyprogesterone</td>\n",
       "      <td>Abnormal Uterine Bleeding</td>\n",
       "      <td>\"I have been on the shot 11 years and until a ...</td>\n",
       "      <td>8.0</td>\n",
       "      <td>October 27, 2015</td>\n",
       "      <td>7</td>\n",
       "    </tr>\n",
       "    <tr>\n",
       "      <th>2</th>\n",
       "      <td>Medroxyprogesterone</td>\n",
       "      <td>Birth Control</td>\n",
       "      <td>\"Ive had four shots at this point. I was on bi...</td>\n",
       "      <td>9.0</td>\n",
       "      <td>October 26, 2015</td>\n",
       "      <td>12</td>\n",
       "    </tr>\n",
       "    <tr>\n",
       "      <th>3</th>\n",
       "      <td>Medroxyprogesterone</td>\n",
       "      <td>Abnormal Uterine Bleeding</td>\n",
       "      <td>\"I had a total of 3 shots. I got my first one ...</td>\n",
       "      <td>1.0</td>\n",
       "      <td>October 25, 2015</td>\n",
       "      <td>4</td>\n",
       "    </tr>\n",
       "    <tr>\n",
       "      <th>4</th>\n",
       "      <td>Medroxyprogesterone</td>\n",
       "      <td>Abnormal Uterine Bleeding</td>\n",
       "      <td>\"I&amp;#039;m 18 and got this for heavy bleeding. ...</td>\n",
       "      <td>5.0</td>\n",
       "      <td>October 22, 2015</td>\n",
       "      <td>6</td>\n",
       "    </tr>\n",
       "  </tbody>\n",
       "</table>\n",
       "</div>"
      ],
      "text/plain": [
       "                  drug                  condition  \\\n",
       "0  Medroxyprogesterone                 Amenorrhea   \n",
       "1  Medroxyprogesterone  Abnormal Uterine Bleeding   \n",
       "2  Medroxyprogesterone              Birth Control   \n",
       "3  Medroxyprogesterone  Abnormal Uterine Bleeding   \n",
       "4  Medroxyprogesterone  Abnormal Uterine Bleeding   \n",
       "\n",
       "                                              review  rating  \\\n",
       "0  \"I&#039;m 21 years old and recently found out ...    10.0   \n",
       "1  \"I have been on the shot 11 years and until a ...     8.0   \n",
       "2  \"Ive had four shots at this point. I was on bi...     9.0   \n",
       "3  \"I had a total of 3 shots. I got my first one ...     1.0   \n",
       "4  \"I&#039;m 18 and got this for heavy bleeding. ...     5.0   \n",
       "\n",
       "               date  usefulCount  \n",
       "0  October 27, 2015           11  \n",
       "1  October 27, 2015            7  \n",
       "2  October 26, 2015           12  \n",
       "3  October 25, 2015            4  \n",
       "4  October 22, 2015            6  "
      ]
     },
     "execution_count": 29,
     "metadata": {},
     "output_type": "execute_result"
    }
   ],
   "source": [
    "reviews.head()"
   ]
  },
  {
   "cell_type": "markdown",
   "id": "e8b56426",
   "metadata": {},
   "source": [
    "As shown above and here again, it appears that the dates are listed in descending order. I will observe the last rows of the dataframe."
   ]
  },
  {
   "cell_type": "code",
   "execution_count": 30,
   "id": "cf3d17b0",
   "metadata": {},
   "outputs": [
    {
     "data": {
      "text/html": [
       "<div>\n",
       "<style scoped>\n",
       "    .dataframe tbody tr th:only-of-type {\n",
       "        vertical-align: middle;\n",
       "    }\n",
       "\n",
       "    .dataframe tbody tr th {\n",
       "        vertical-align: top;\n",
       "    }\n",
       "\n",
       "    .dataframe thead th {\n",
       "        text-align: right;\n",
       "    }\n",
       "</style>\n",
       "<table border=\"1\" class=\"dataframe\">\n",
       "  <thead>\n",
       "    <tr style=\"text-align: right;\">\n",
       "      <th></th>\n",
       "      <th>drug</th>\n",
       "      <th>condition</th>\n",
       "      <th>review</th>\n",
       "      <th>rating</th>\n",
       "      <th>date</th>\n",
       "      <th>usefulCount</th>\n",
       "    </tr>\n",
       "  </thead>\n",
       "  <tbody>\n",
       "    <tr>\n",
       "      <th>161292</th>\n",
       "      <td>Amoxicillin / clavulanate</td>\n",
       "      <td>Sinusitis</td>\n",
       "      <td>\"Don&amp;#039;t ever use this, \\r\\nWhen I was 4 ye...</td>\n",
       "      <td>1.0</td>\n",
       "      <td>June 29, 2017</td>\n",
       "      <td>8</td>\n",
       "    </tr>\n",
       "    <tr>\n",
       "      <th>161293</th>\n",
       "      <td>Amoxicillin / clavulanate</td>\n",
       "      <td>Sinusitis</td>\n",
       "      <td>\"For acute maxillary sinusitis. Day two, just ...</td>\n",
       "      <td>9.0</td>\n",
       "      <td>June 21, 2017</td>\n",
       "      <td>14</td>\n",
       "    </tr>\n",
       "    <tr>\n",
       "      <th>161294</th>\n",
       "      <td>Amoxicillin / clavulanate</td>\n",
       "      <td>Urinary Tract Infection</td>\n",
       "      <td>\"I took Amox Clav 2x day for 7 days for my uri...</td>\n",
       "      <td>4.0</td>\n",
       "      <td>June 17, 2017</td>\n",
       "      <td>2</td>\n",
       "    </tr>\n",
       "    <tr>\n",
       "      <th>161295</th>\n",
       "      <td>Amoxicillin / clavulanate</td>\n",
       "      <td>Otitis Media</td>\n",
       "      <td>\"Day 1 - serious pain and diminished hearing i...</td>\n",
       "      <td>1.0</td>\n",
       "      <td>June 16, 2017</td>\n",
       "      <td>0</td>\n",
       "    </tr>\n",
       "    <tr>\n",
       "      <th>161296</th>\n",
       "      <td>Amoxicillin / clavulanate</td>\n",
       "      <td>Sinusitis</td>\n",
       "      <td>\"Every time I have had a sinus infection and b...</td>\n",
       "      <td>10.0</td>\n",
       "      <td>June 16, 2017</td>\n",
       "      <td>28</td>\n",
       "    </tr>\n",
       "  </tbody>\n",
       "</table>\n",
       "</div>"
      ],
      "text/plain": [
       "                             drug                condition  \\\n",
       "161292  Amoxicillin / clavulanate                Sinusitis   \n",
       "161293  Amoxicillin / clavulanate                Sinusitis   \n",
       "161294  Amoxicillin / clavulanate  Urinary Tract Infection   \n",
       "161295  Amoxicillin / clavulanate             Otitis Media   \n",
       "161296  Amoxicillin / clavulanate                Sinusitis   \n",
       "\n",
       "                                                   review  rating  \\\n",
       "161292  \"Don&#039;t ever use this, \\r\\nWhen I was 4 ye...     1.0   \n",
       "161293  \"For acute maxillary sinusitis. Day two, just ...     9.0   \n",
       "161294  \"I took Amox Clav 2x day for 7 days for my uri...     4.0   \n",
       "161295  \"Day 1 - serious pain and diminished hearing i...     1.0   \n",
       "161296  \"Every time I have had a sinus infection and b...    10.0   \n",
       "\n",
       "                 date  usefulCount  \n",
       "161292  June 29, 2017            8  \n",
       "161293  June 21, 2017           14  \n",
       "161294  June 17, 2017            2  \n",
       "161295  June 16, 2017            0  \n",
       "161296  June 16, 2017           28  "
      ]
     },
     "execution_count": 30,
     "metadata": {},
     "output_type": "execute_result"
    }
   ],
   "source": [
    "reviews.tail()"
   ]
  },
  {
   "cell_type": "markdown",
   "id": "5a9733cb",
   "metadata": {},
   "source": [
    "I might have expected to see dates prior to 2015 at the bottom, as the values first appeared to be in descending order.\n",
    "\n",
    "I will check the values by ascending and descending order by date to observe further."
   ]
  },
  {
   "cell_type": "code",
   "execution_count": 31,
   "id": "b0371b01",
   "metadata": {},
   "outputs": [
    {
     "data": {
      "text/html": [
       "<div>\n",
       "<style scoped>\n",
       "    .dataframe tbody tr th:only-of-type {\n",
       "        vertical-align: middle;\n",
       "    }\n",
       "\n",
       "    .dataframe tbody tr th {\n",
       "        vertical-align: top;\n",
       "    }\n",
       "\n",
       "    .dataframe thead th {\n",
       "        text-align: right;\n",
       "    }\n",
       "</style>\n",
       "<table border=\"1\" class=\"dataframe\">\n",
       "  <thead>\n",
       "    <tr style=\"text-align: right;\">\n",
       "      <th></th>\n",
       "      <th>drug</th>\n",
       "      <th>condition</th>\n",
       "      <th>review</th>\n",
       "      <th>rating</th>\n",
       "      <th>date</th>\n",
       "      <th>usefulCount</th>\n",
       "    </tr>\n",
       "  </thead>\n",
       "  <tbody>\n",
       "    <tr>\n",
       "      <th>31047</th>\n",
       "      <td>Ramipril</td>\n",
       "      <td>High Blood Pressure</td>\n",
       "      <td>\"I have used altace for 5 yrs now and have fou...</td>\n",
       "      <td>9.0</td>\n",
       "      <td>April 1, 2008</td>\n",
       "      <td>130</td>\n",
       "    </tr>\n",
       "    <tr>\n",
       "      <th>83403</th>\n",
       "      <td>Testosterone</td>\n",
       "      <td>Hypogonadism, Male</td>\n",
       "      <td>\"I&amp;#039;m a 35 year old male and I had no idea...</td>\n",
       "      <td>9.0</td>\n",
       "      <td>April 1, 2008</td>\n",
       "      <td>357</td>\n",
       "    </tr>\n",
       "    <tr>\n",
       "      <th>155374</th>\n",
       "      <td>Depakote ER</td>\n",
       "      <td>Epilepsy</td>\n",
       "      <td>\"After trying 4 different meds this one was th...</td>\n",
       "      <td>8.0</td>\n",
       "      <td>April 1, 2008</td>\n",
       "      <td>15</td>\n",
       "    </tr>\n",
       "    <tr>\n",
       "      <th>146651</th>\n",
       "      <td>Carisoprodol</td>\n",
       "      <td>Muscle Spasm</td>\n",
       "      <td>\"I take Carisoprodol.  It helps a good deal wi...</td>\n",
       "      <td>9.0</td>\n",
       "      <td>April 1, 2008</td>\n",
       "      <td>11</td>\n",
       "    </tr>\n",
       "    <tr>\n",
       "      <th>40473</th>\n",
       "      <td>Acetaminophen / hydrocodone</td>\n",
       "      <td>Pain</td>\n",
       "      <td>\"Worked better than Tylenol w/codeine #3 and C...</td>\n",
       "      <td>10.0</td>\n",
       "      <td>April 1, 2008</td>\n",
       "      <td>19</td>\n",
       "    </tr>\n",
       "  </tbody>\n",
       "</table>\n",
       "</div>"
      ],
      "text/plain": [
       "                               drug            condition  \\\n",
       "31047                      Ramipril  High Blood Pressure   \n",
       "83403                  Testosterone   Hypogonadism, Male   \n",
       "155374                  Depakote ER             Epilepsy   \n",
       "146651                 Carisoprodol         Muscle Spasm   \n",
       "40473   Acetaminophen / hydrocodone                 Pain   \n",
       "\n",
       "                                                   review  rating  \\\n",
       "31047   \"I have used altace for 5 yrs now and have fou...     9.0   \n",
       "83403   \"I&#039;m a 35 year old male and I had no idea...     9.0   \n",
       "155374  \"After trying 4 different meds this one was th...     8.0   \n",
       "146651  \"I take Carisoprodol.  It helps a good deal wi...     9.0   \n",
       "40473   \"Worked better than Tylenol w/codeine #3 and C...    10.0   \n",
       "\n",
       "                 date  usefulCount  \n",
       "31047   April 1, 2008          130  \n",
       "83403   April 1, 2008          357  \n",
       "155374  April 1, 2008           15  \n",
       "146651  April 1, 2008           11  \n",
       "40473   April 1, 2008           19  "
      ]
     },
     "execution_count": 31,
     "metadata": {},
     "output_type": "execute_result"
    }
   ],
   "source": [
    "reviews.sort_values('date', ascending = True).head()"
   ]
  },
  {
   "cell_type": "markdown",
   "id": "bcedbee0",
   "metadata": {},
   "source": [
    "It appears that the earliest dates are in 2008. I will check the values in descending order to ascertain how late the values go."
   ]
  },
  {
   "cell_type": "code",
   "execution_count": 32,
   "id": "25be1830",
   "metadata": {},
   "outputs": [
    {
     "data": {
      "text/html": [
       "<div>\n",
       "<style scoped>\n",
       "    .dataframe tbody tr th:only-of-type {\n",
       "        vertical-align: middle;\n",
       "    }\n",
       "\n",
       "    .dataframe tbody tr th {\n",
       "        vertical-align: top;\n",
       "    }\n",
       "\n",
       "    .dataframe thead th {\n",
       "        text-align: right;\n",
       "    }\n",
       "</style>\n",
       "<table border=\"1\" class=\"dataframe\">\n",
       "  <thead>\n",
       "    <tr style=\"text-align: right;\">\n",
       "      <th></th>\n",
       "      <th>drug</th>\n",
       "      <th>condition</th>\n",
       "      <th>review</th>\n",
       "      <th>rating</th>\n",
       "      <th>date</th>\n",
       "      <th>usefulCount</th>\n",
       "    </tr>\n",
       "  </thead>\n",
       "  <tbody>\n",
       "    <tr>\n",
       "      <th>86275</th>\n",
       "      <td>Skyla</td>\n",
       "      <td>Birth Control</td>\n",
       "      <td>\"This will be graphic so you can know what cou...</td>\n",
       "      <td>5.0</td>\n",
       "      <td>September 9, 2017</td>\n",
       "      <td>5</td>\n",
       "    </tr>\n",
       "    <tr>\n",
       "      <th>99431</th>\n",
       "      <td>Etonogestrel</td>\n",
       "      <td>Birth Control</td>\n",
       "      <td>\"I&amp;#039;ve had nexplanon for 10 months at firs...</td>\n",
       "      <td>3.0</td>\n",
       "      <td>September 9, 2017</td>\n",
       "      <td>4</td>\n",
       "    </tr>\n",
       "    <tr>\n",
       "      <th>138005</th>\n",
       "      <td>Depo-Provera</td>\n",
       "      <td>Abnormal Uterine Bleeding</td>\n",
       "      <td>\"I started on the shot in  May of 2017. The wh...</td>\n",
       "      <td>1.0</td>\n",
       "      <td>September 9, 2017</td>\n",
       "      <td>11</td>\n",
       "    </tr>\n",
       "    <tr>\n",
       "      <th>49666</th>\n",
       "      <td>Levora</td>\n",
       "      <td>Birth Control</td>\n",
       "      <td>\"When I moved in March the new pharmacy carrie...</td>\n",
       "      <td>6.0</td>\n",
       "      <td>September 9, 2017</td>\n",
       "      <td>1</td>\n",
       "    </tr>\n",
       "    <tr>\n",
       "      <th>2591</th>\n",
       "      <td>Fioricet</td>\n",
       "      <td>Headache</td>\n",
       "      <td>\"I have had a pounding throbbing migraine for ...</td>\n",
       "      <td>10.0</td>\n",
       "      <td>September 9, 2017</td>\n",
       "      <td>9</td>\n",
       "    </tr>\n",
       "  </tbody>\n",
       "</table>\n",
       "</div>"
      ],
      "text/plain": [
       "                drug                  condition  \\\n",
       "86275          Skyla              Birth Control   \n",
       "99431   Etonogestrel              Birth Control   \n",
       "138005  Depo-Provera  Abnormal Uterine Bleeding   \n",
       "49666         Levora              Birth Control   \n",
       "2591        Fioricet                   Headache   \n",
       "\n",
       "                                                   review  rating  \\\n",
       "86275   \"This will be graphic so you can know what cou...     5.0   \n",
       "99431   \"I&#039;ve had nexplanon for 10 months at firs...     3.0   \n",
       "138005  \"I started on the shot in  May of 2017. The wh...     1.0   \n",
       "49666   \"When I moved in March the new pharmacy carrie...     6.0   \n",
       "2591    \"I have had a pounding throbbing migraine for ...    10.0   \n",
       "\n",
       "                     date  usefulCount  \n",
       "86275   September 9, 2017            5  \n",
       "99431   September 9, 2017            4  \n",
       "138005  September 9, 2017           11  \n",
       "49666   September 9, 2017            1  \n",
       "2591    September 9, 2017            9  "
      ]
     },
     "execution_count": 32,
     "metadata": {},
     "output_type": "execute_result"
    }
   ],
   "source": [
    "reviews.sort_values('date', ascending = False).head()"
   ]
  },
  {
   "cell_type": "markdown",
   "id": "62ce9b92",
   "metadata": {},
   "source": [
    "It appears that the latest dates are in 2017.\n",
    "\n",
    "Again, I am unlikely to use this column for modeling. Furthermore, any differences in reporting due to the date (month or year) of reporting are beyond the scope of this project. \n",
    "\n",
    "This dataset appears to consist of reviews written between the years of 2008 and 2017. No additional information is needed from this column, as observation for any differences that may exist pertaining date of report (month or year) are beyond the scope of this project.\n",
    "\n",
    "I will remove this column below."
   ]
  },
  {
   "cell_type": "code",
   "execution_count": 33,
   "id": "20cb0637",
   "metadata": {},
   "outputs": [
    {
     "data": {
      "text/html": [
       "<div>\n",
       "<style scoped>\n",
       "    .dataframe tbody tr th:only-of-type {\n",
       "        vertical-align: middle;\n",
       "    }\n",
       "\n",
       "    .dataframe tbody tr th {\n",
       "        vertical-align: top;\n",
       "    }\n",
       "\n",
       "    .dataframe thead th {\n",
       "        text-align: right;\n",
       "    }\n",
       "</style>\n",
       "<table border=\"1\" class=\"dataframe\">\n",
       "  <thead>\n",
       "    <tr style=\"text-align: right;\">\n",
       "      <th></th>\n",
       "      <th>drug</th>\n",
       "      <th>condition</th>\n",
       "      <th>review</th>\n",
       "      <th>rating</th>\n",
       "      <th>usefulCount</th>\n",
       "    </tr>\n",
       "  </thead>\n",
       "  <tbody>\n",
       "    <tr>\n",
       "      <th>0</th>\n",
       "      <td>Medroxyprogesterone</td>\n",
       "      <td>Amenorrhea</td>\n",
       "      <td>\"I&amp;#039;m 21 years old and recently found out ...</td>\n",
       "      <td>10.0</td>\n",
       "      <td>11</td>\n",
       "    </tr>\n",
       "    <tr>\n",
       "      <th>1</th>\n",
       "      <td>Medroxyprogesterone</td>\n",
       "      <td>Abnormal Uterine Bleeding</td>\n",
       "      <td>\"I have been on the shot 11 years and until a ...</td>\n",
       "      <td>8.0</td>\n",
       "      <td>7</td>\n",
       "    </tr>\n",
       "    <tr>\n",
       "      <th>2</th>\n",
       "      <td>Medroxyprogesterone</td>\n",
       "      <td>Birth Control</td>\n",
       "      <td>\"Ive had four shots at this point. I was on bi...</td>\n",
       "      <td>9.0</td>\n",
       "      <td>12</td>\n",
       "    </tr>\n",
       "    <tr>\n",
       "      <th>3</th>\n",
       "      <td>Medroxyprogesterone</td>\n",
       "      <td>Abnormal Uterine Bleeding</td>\n",
       "      <td>\"I had a total of 3 shots. I got my first one ...</td>\n",
       "      <td>1.0</td>\n",
       "      <td>4</td>\n",
       "    </tr>\n",
       "    <tr>\n",
       "      <th>4</th>\n",
       "      <td>Medroxyprogesterone</td>\n",
       "      <td>Abnormal Uterine Bleeding</td>\n",
       "      <td>\"I&amp;#039;m 18 and got this for heavy bleeding. ...</td>\n",
       "      <td>5.0</td>\n",
       "      <td>6</td>\n",
       "    </tr>\n",
       "  </tbody>\n",
       "</table>\n",
       "</div>"
      ],
      "text/plain": [
       "                  drug                  condition  \\\n",
       "0  Medroxyprogesterone                 Amenorrhea   \n",
       "1  Medroxyprogesterone  Abnormal Uterine Bleeding   \n",
       "2  Medroxyprogesterone              Birth Control   \n",
       "3  Medroxyprogesterone  Abnormal Uterine Bleeding   \n",
       "4  Medroxyprogesterone  Abnormal Uterine Bleeding   \n",
       "\n",
       "                                              review  rating  usefulCount  \n",
       "0  \"I&#039;m 21 years old and recently found out ...    10.0           11  \n",
       "1  \"I have been on the shot 11 years and until a ...     8.0            7  \n",
       "2  \"Ive had four shots at this point. I was on bi...     9.0           12  \n",
       "3  \"I had a total of 3 shots. I got my first one ...     1.0            4  \n",
       "4  \"I&#039;m 18 and got this for heavy bleeding. ...     5.0            6  "
      ]
     },
     "execution_count": 33,
     "metadata": {},
     "output_type": "execute_result"
    }
   ],
   "source": [
    "reviews = reviews.drop(columns = ['date']) #removes the date column\n",
    "\n",
    "reviews.head() #displays revised top 5 rows of dataframe"
   ]
  },
  {
   "cell_type": "markdown",
   "id": "d35afda7",
   "metadata": {},
   "source": [
    "The date column has been dropped. I will now move on to observe the final column."
   ]
  },
  {
   "cell_type": "markdown",
   "id": "8091b581",
   "metadata": {},
   "source": [
    "##### Useful Count"
   ]
  },
  {
   "cell_type": "markdown",
   "id": "1dbf40d1",
   "metadata": {},
   "source": [
    "It may be of interest to observe the correlation between ratings and useful count during EDA, and/or connection between the useful count and sentiment score. I will keep this column in the dataset.\n",
    "\n",
    "However, I will make the \"C\" lowercase in order to facilitate use of this column."
   ]
  },
  {
   "cell_type": "code",
   "execution_count": 34,
   "id": "dfa54267",
   "metadata": {},
   "outputs": [
    {
     "data": {
      "text/plain": [
       "Index(['drug', 'condition', 'review', 'rating', 'usefulcount'], dtype='object')"
      ]
     },
     "execution_count": 34,
     "metadata": {},
     "output_type": "execute_result"
    }
   ],
   "source": [
    "reviews.rename({'usefulCount': 'usefulcount'}, axis = 1, inplace = True) #makes column name lowercase\n",
    "\n",
    "reviews.columns #shows revised list of columns"
   ]
  },
  {
   "cell_type": "markdown",
   "id": "0856d4de",
   "metadata": {},
   "source": [
    "The change has been made. I will now observe for null values."
   ]
  },
  {
   "cell_type": "code",
   "execution_count": 35,
   "id": "18f04abe",
   "metadata": {},
   "outputs": [
    {
     "data": {
      "text/plain": [
       "0"
      ]
     },
     "execution_count": 35,
     "metadata": {},
     "output_type": "execute_result"
    }
   ],
   "source": [
    "reviews.usefulcount.isnull().sum()"
   ]
  },
  {
   "cell_type": "markdown",
   "id": "dd065b1b",
   "metadata": {},
   "source": [
    "There are no missing values. I will check for the number of unique values in this column. "
   ]
  },
  {
   "cell_type": "code",
   "execution_count": 36,
   "id": "2a86a842",
   "metadata": {},
   "outputs": [
    {
     "data": {
      "text/plain": [
       "389"
      ]
     },
     "execution_count": 36,
     "metadata": {},
     "output_type": "execute_result"
    }
   ],
   "source": [
    "reviews.usefulcount.nunique()"
   ]
  },
  {
   "cell_type": "markdown",
   "id": "47e69beb",
   "metadata": {},
   "source": [
    "There are 389 unique numbers within the observe a statistical summary for more information concerning the numbers within."
   ]
  },
  {
   "cell_type": "code",
   "execution_count": 37,
   "id": "5032698d",
   "metadata": {},
   "outputs": [
    {
     "data": {
      "text/plain": [
       "count    161297.000000\n",
       "mean         28.004755\n",
       "std          36.403742\n",
       "min           0.000000\n",
       "25%           6.000000\n",
       "50%          16.000000\n",
       "75%          36.000000\n",
       "max        1291.000000\n",
       "Name: usefulcount, dtype: float64"
      ]
     },
     "execution_count": 37,
     "metadata": {},
     "output_type": "execute_result"
    }
   ],
   "source": [
    "reviews.usefulcount.describe()"
   ]
  },
  {
   "cell_type": "markdown",
   "id": "d5619eb2",
   "metadata": {},
   "source": [
    "There are no negative numbers or other issues. The minimum value is 0, while the maximum value is 1291. It may be of interest to observe which reviews have the highest scores during EDA.\n",
    "\n",
    "For now, I will check to see that this column has an appropriate datatype."
   ]
  },
  {
   "cell_type": "code",
   "execution_count": 38,
   "id": "40206c68",
   "metadata": {},
   "outputs": [
    {
     "data": {
      "text/plain": [
       "dtype('int64')"
      ]
     },
     "execution_count": 38,
     "metadata": {},
     "output_type": "execute_result"
    }
   ],
   "source": [
    "reviews.usefulcount.dtypes"
   ]
  },
  {
   "cell_type": "markdown",
   "id": "c469dc26",
   "metadata": {},
   "source": [
    "As suspected, the datatype is integer.\n",
    "\n",
    "There are no issues with this column. As I have reached the end of the dataset, I will save the clean dataframe as a CSV to prepare for EDA in the next notebook."
   ]
  },
  {
   "cell_type": "code",
   "execution_count": 39,
   "id": "a9d4fb1b",
   "metadata": {},
   "outputs": [],
   "source": [
    "reviews.to_csv('../data/drugsCom_CLEAN.csv', index = False)"
   ]
  }
 ],
 "metadata": {
  "kernelspec": {
   "display_name": "Python 3 (ipykernel)",
   "language": "python",
   "name": "python3"
  },
  "language_info": {
   "codemirror_mode": {
    "name": "ipython",
    "version": 3
   },
   "file_extension": ".py",
   "mimetype": "text/x-python",
   "name": "python",
   "nbconvert_exporter": "python",
   "pygments_lexer": "ipython3",
   "version": "3.9.13"
  }
 },
 "nbformat": 4,
 "nbformat_minor": 5
}
