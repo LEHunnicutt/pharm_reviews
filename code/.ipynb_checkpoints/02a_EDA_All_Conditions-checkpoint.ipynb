{
 "cells": [
  {
   "cell_type": "markdown",
   "id": "32cec8ff",
   "metadata": {},
   "source": [
    "# Pharmaceutical Reviews - 02a - EDA - All Conditions"
   ]
  },
  {
   "cell_type": "markdown",
   "id": "81c41289",
   "metadata": {},
   "source": [
    "Below, I will observe information regarding each of the drugs and conditions. Once this information is held, I will choose 1 condition of focus, and will continue on to use NLP with Sentiment Analysis, and to create models."
   ]
  },
  {
   "cell_type": "markdown",
   "id": "5467b0c2",
   "metadata": {},
   "source": [
    "## Data Import"
   ]
  },
  {
   "cell_type": "code",
   "execution_count": 13,
   "id": "cd937f98",
   "metadata": {},
   "outputs": [],
   "source": [
    "#imports necessary libraries\n",
    "\n",
    "import pandas as pd\n",
    "import numpy as np\n",
    "import matplotlib.pyplot as plt\n",
    "import seaborn as sns"
   ]
  },
  {
   "cell_type": "code",
   "execution_count": 14,
   "id": "9a66ae7a",
   "metadata": {},
   "outputs": [],
   "source": [
    " #imports data as a dataframe\n",
    "\n",
    "file_path = '../data/drugsCom_CLEAN.csv'\n",
    "\n",
    "reviews = pd.read_csv(file_path)"
   ]
  },
  {
   "cell_type": "code",
   "execution_count": 15,
   "id": "d26d3d68",
   "metadata": {},
   "outputs": [
    {
     "data": {
      "text/html": [
       "<div>\n",
       "<style scoped>\n",
       "    .dataframe tbody tr th:only-of-type {\n",
       "        vertical-align: middle;\n",
       "    }\n",
       "\n",
       "    .dataframe tbody tr th {\n",
       "        vertical-align: top;\n",
       "    }\n",
       "\n",
       "    .dataframe thead th {\n",
       "        text-align: right;\n",
       "    }\n",
       "</style>\n",
       "<table border=\"1\" class=\"dataframe\">\n",
       "  <thead>\n",
       "    <tr style=\"text-align: right;\">\n",
       "      <th></th>\n",
       "      <th>drug</th>\n",
       "      <th>condition</th>\n",
       "      <th>review</th>\n",
       "      <th>rating</th>\n",
       "      <th>usefulcount</th>\n",
       "    </tr>\n",
       "  </thead>\n",
       "  <tbody>\n",
       "    <tr>\n",
       "      <th>0</th>\n",
       "      <td>Medroxyprogesterone</td>\n",
       "      <td>Amenorrhea</td>\n",
       "      <td>\"I&amp;#039;m 21 years old and recently found out ...</td>\n",
       "      <td>10.0</td>\n",
       "      <td>11</td>\n",
       "    </tr>\n",
       "    <tr>\n",
       "      <th>1</th>\n",
       "      <td>Medroxyprogesterone</td>\n",
       "      <td>Abnormal Uterine Bleeding</td>\n",
       "      <td>\"I have been on the shot 11 years and until a ...</td>\n",
       "      <td>8.0</td>\n",
       "      <td>7</td>\n",
       "    </tr>\n",
       "    <tr>\n",
       "      <th>2</th>\n",
       "      <td>Medroxyprogesterone</td>\n",
       "      <td>Birth Control</td>\n",
       "      <td>\"Ive had four shots at this point. I was on bi...</td>\n",
       "      <td>9.0</td>\n",
       "      <td>12</td>\n",
       "    </tr>\n",
       "    <tr>\n",
       "      <th>3</th>\n",
       "      <td>Medroxyprogesterone</td>\n",
       "      <td>Abnormal Uterine Bleeding</td>\n",
       "      <td>\"I had a total of 3 shots. I got my first one ...</td>\n",
       "      <td>1.0</td>\n",
       "      <td>4</td>\n",
       "    </tr>\n",
       "    <tr>\n",
       "      <th>4</th>\n",
       "      <td>Medroxyprogesterone</td>\n",
       "      <td>Abnormal Uterine Bleeding</td>\n",
       "      <td>\"I&amp;#039;m 18 and got this for heavy bleeding. ...</td>\n",
       "      <td>5.0</td>\n",
       "      <td>6</td>\n",
       "    </tr>\n",
       "  </tbody>\n",
       "</table>\n",
       "</div>"
      ],
      "text/plain": [
       "                  drug                  condition  \\\n",
       "0  Medroxyprogesterone                 Amenorrhea   \n",
       "1  Medroxyprogesterone  Abnormal Uterine Bleeding   \n",
       "2  Medroxyprogesterone              Birth Control   \n",
       "3  Medroxyprogesterone  Abnormal Uterine Bleeding   \n",
       "4  Medroxyprogesterone  Abnormal Uterine Bleeding   \n",
       "\n",
       "                                              review  rating  usefulcount  \n",
       "0  \"I&#039;m 21 years old and recently found out ...    10.0           11  \n",
       "1  \"I have been on the shot 11 years and until a ...     8.0            7  \n",
       "2  \"Ive had four shots at this point. I was on bi...     9.0           12  \n",
       "3  \"I had a total of 3 shots. I got my first one ...     1.0            4  \n",
       "4  \"I&#039;m 18 and got this for heavy bleeding. ...     5.0            6  "
      ]
     },
     "execution_count": 15,
     "metadata": {},
     "output_type": "execute_result"
    }
   ],
   "source": [
    "reviews.head()"
   ]
  },
  {
   "cell_type": "markdown",
   "id": "ef687b67",
   "metadata": {},
   "source": [
    "## EDA by Column"
   ]
  },
  {
   "cell_type": "markdown",
   "id": "05087d5e",
   "metadata": {},
   "source": [
    "### 1. Drug"
   ]
  },
  {
   "cell_type": "code",
   "execution_count": 16,
   "id": "d3a3fb17",
   "metadata": {},
   "outputs": [
    {
     "data": {
      "text/html": [
       "<div>\n",
       "<style scoped>\n",
       "    .dataframe tbody tr th:only-of-type {\n",
       "        vertical-align: middle;\n",
       "    }\n",
       "\n",
       "    .dataframe tbody tr th {\n",
       "        vertical-align: top;\n",
       "    }\n",
       "\n",
       "    .dataframe thead th {\n",
       "        text-align: right;\n",
       "    }\n",
       "</style>\n",
       "<table border=\"1\" class=\"dataframe\">\n",
       "  <thead>\n",
       "    <tr style=\"text-align: right;\">\n",
       "      <th></th>\n",
       "      <th>drug</th>\n",
       "      <th>condition</th>\n",
       "      <th>review</th>\n",
       "      <th>rating</th>\n",
       "      <th>usefulcount</th>\n",
       "    </tr>\n",
       "  </thead>\n",
       "  <tbody>\n",
       "    <tr>\n",
       "      <th>0</th>\n",
       "      <td>Medroxyprogesterone</td>\n",
       "      <td>Amenorrhea</td>\n",
       "      <td>\"I&amp;#039;m 21 years old and recently found out ...</td>\n",
       "      <td>10.0</td>\n",
       "      <td>11</td>\n",
       "    </tr>\n",
       "    <tr>\n",
       "      <th>1</th>\n",
       "      <td>Medroxyprogesterone</td>\n",
       "      <td>Abnormal Uterine Bleeding</td>\n",
       "      <td>\"I have been on the shot 11 years and until a ...</td>\n",
       "      <td>8.0</td>\n",
       "      <td>7</td>\n",
       "    </tr>\n",
       "    <tr>\n",
       "      <th>2</th>\n",
       "      <td>Medroxyprogesterone</td>\n",
       "      <td>Birth Control</td>\n",
       "      <td>\"Ive had four shots at this point. I was on bi...</td>\n",
       "      <td>9.0</td>\n",
       "      <td>12</td>\n",
       "    </tr>\n",
       "    <tr>\n",
       "      <th>3</th>\n",
       "      <td>Medroxyprogesterone</td>\n",
       "      <td>Abnormal Uterine Bleeding</td>\n",
       "      <td>\"I had a total of 3 shots. I got my first one ...</td>\n",
       "      <td>1.0</td>\n",
       "      <td>4</td>\n",
       "    </tr>\n",
       "    <tr>\n",
       "      <th>4</th>\n",
       "      <td>Medroxyprogesterone</td>\n",
       "      <td>Abnormal Uterine Bleeding</td>\n",
       "      <td>\"I&amp;#039;m 18 and got this for heavy bleeding. ...</td>\n",
       "      <td>5.0</td>\n",
       "      <td>6</td>\n",
       "    </tr>\n",
       "  </tbody>\n",
       "</table>\n",
       "</div>"
      ],
      "text/plain": [
       "                  drug                  condition  \\\n",
       "0  Medroxyprogesterone                 Amenorrhea   \n",
       "1  Medroxyprogesterone  Abnormal Uterine Bleeding   \n",
       "2  Medroxyprogesterone              Birth Control   \n",
       "3  Medroxyprogesterone  Abnormal Uterine Bleeding   \n",
       "4  Medroxyprogesterone  Abnormal Uterine Bleeding   \n",
       "\n",
       "                                              review  rating  usefulcount  \n",
       "0  \"I&#039;m 21 years old and recently found out ...    10.0           11  \n",
       "1  \"I have been on the shot 11 years and until a ...     8.0            7  \n",
       "2  \"Ive had four shots at this point. I was on bi...     9.0           12  \n",
       "3  \"I had a total of 3 shots. I got my first one ...     1.0            4  \n",
       "4  \"I&#039;m 18 and got this for heavy bleeding. ...     5.0            6  "
      ]
     },
     "execution_count": 16,
     "metadata": {},
     "output_type": "execute_result"
    }
   ],
   "source": [
    "reviews.head()"
   ]
  },
  {
   "cell_type": "markdown",
   "id": "87a73027",
   "metadata": {},
   "source": [
    "#### Most Commonly Reviewed Drugs"
   ]
  },
  {
   "cell_type": "code",
   "execution_count": 17,
   "id": "7df8db62",
   "metadata": {},
   "outputs": [
    {
     "data": {
      "text/plain": [
       "Levonorgestrel                       3657\n",
       "Etonogestrel                         3336\n",
       "Ethinyl estradiol / norethindrone    2850\n",
       "Nexplanon                            2156\n",
       "Ethinyl estradiol / norgestimate     2117\n",
       "                                     ... \n",
       "D3                                      1\n",
       "Sucroferric oxyhydroxide                1\n",
       "Nutraplus                               1\n",
       "Purinethol                              1\n",
       "Privigen                                1\n",
       "Name: drug, Length: 3436, dtype: int64"
      ]
     },
     "execution_count": 17,
     "metadata": {},
     "output_type": "execute_result"
    }
   ],
   "source": [
    "reviews.drug.value_counts()"
   ]
  },
  {
   "cell_type": "markdown",
   "id": "9cbc2d81",
   "metadata": {},
   "source": [
    "It appears that the most commonly reviewed drugs are Levonorgestrel, Etonogestrel, Ethinyl estradiol, norethindrone, Nexplanon, and Ethinyl estradiol / norgestimate.\n",
    "\n",
    "It may be of use to look more closely at the reviews for these drugs.\n",
    "\n",
    "I will create a subset."
   ]
  },
  {
   "cell_type": "code",
   "execution_count": 18,
   "id": "ea623e11",
   "metadata": {},
   "outputs": [
    {
     "data": {
      "image/png": "[encoded data removed]",
      "text/plain": [
       "<Figure size 640x480 with 1 Axes>"
      ]
     },
     "metadata": {},
     "output_type": "display_data"
    }
   ],
   "source": [
    "sns.histplot(data = reviews, x='rating').set(title = 'Number of Reviews for Each Rating');"
   ]
  },
  {
   "cell_type": "code",
   "execution_count": 19,
   "id": "114dc1e8",
   "metadata": {},
   "outputs": [
    {
     "data": {
      "text/html": [
       "<div>\n",
       "<style scoped>\n",
       "    .dataframe tbody tr th:only-of-type {\n",
       "        vertical-align: middle;\n",
       "    }\n",
       "\n",
       "    .dataframe tbody tr th {\n",
       "        vertical-align: top;\n",
       "    }\n",
       "\n",
       "    .dataframe thead th {\n",
       "        text-align: right;\n",
       "    }\n",
       "</style>\n",
       "<table border=\"1\" class=\"dataframe\">\n",
       "  <thead>\n",
       "    <tr style=\"text-align: right;\">\n",
       "      <th></th>\n",
       "      <th>drug</th>\n",
       "      <th>condition</th>\n",
       "      <th>review</th>\n",
       "      <th>rating</th>\n",
       "      <th>usefulcount</th>\n",
       "    </tr>\n",
       "  </thead>\n",
       "  <tbody>\n",
       "    <tr>\n",
       "      <th>30474</th>\n",
       "      <td>Ethinyl estradiol / norgestimate</td>\n",
       "      <td>Birth Control</td>\n",
       "      <td>\"I&amp;#039;ve been on Sprintec for three years no...</td>\n",
       "      <td>3.0</td>\n",
       "      <td>10</td>\n",
       "    </tr>\n",
       "    <tr>\n",
       "      <th>30475</th>\n",
       "      <td>Ethinyl estradiol / norgestimate</td>\n",
       "      <td>Unspecified</td>\n",
       "      <td>\"I was on Sprintec for about a year. It caused...</td>\n",
       "      <td>4.0</td>\n",
       "      <td>0</td>\n",
       "    </tr>\n",
       "    <tr>\n",
       "      <th>30476</th>\n",
       "      <td>Ethinyl estradiol / norgestimate</td>\n",
       "      <td>Birth Control</td>\n",
       "      <td>\"For me I had regular periods but quite heavy ...</td>\n",
       "      <td>4.0</td>\n",
       "      <td>11</td>\n",
       "    </tr>\n",
       "    <tr>\n",
       "      <th>30477</th>\n",
       "      <td>Ethinyl estradiol / norgestimate</td>\n",
       "      <td>Birth Control</td>\n",
       "      <td>\"I&amp;#039;ve been on TriNessa for the past 5 mon...</td>\n",
       "      <td>2.0</td>\n",
       "      <td>8</td>\n",
       "    </tr>\n",
       "    <tr>\n",
       "      <th>30478</th>\n",
       "      <td>Ethinyl estradiol / norgestimate</td>\n",
       "      <td>Unspecified</td>\n",
       "      <td>\"I have been on Trinessa for 3 months. Everyth...</td>\n",
       "      <td>2.0</td>\n",
       "      <td>6</td>\n",
       "    </tr>\n",
       "  </tbody>\n",
       "</table>\n",
       "</div>"
      ],
      "text/plain": [
       "                                   drug      condition  \\\n",
       "30474  Ethinyl estradiol / norgestimate  Birth Control   \n",
       "30475  Ethinyl estradiol / norgestimate    Unspecified   \n",
       "30476  Ethinyl estradiol / norgestimate  Birth Control   \n",
       "30477  Ethinyl estradiol / norgestimate  Birth Control   \n",
       "30478  Ethinyl estradiol / norgestimate    Unspecified   \n",
       "\n",
       "                                                  review  rating  usefulcount  \n",
       "30474  \"I&#039;ve been on Sprintec for three years no...     3.0           10  \n",
       "30475  \"I was on Sprintec for about a year. It caused...     4.0            0  \n",
       "30476  \"For me I had regular periods but quite heavy ...     4.0           11  \n",
       "30477  \"I&#039;ve been on TriNessa for the past 5 mon...     2.0            8  \n",
       "30478  \"I have been on Trinessa for 3 months. Everyth...     2.0            6  "
      ]
     },
     "execution_count": 19,
     "metadata": {},
     "output_type": "execute_result"
    }
   ],
   "source": [
    "#creates the subset as described\n",
    "\n",
    "common = reviews.loc[(reviews['drug'] == 'Levonorgestrel') | (reviews['drug'] == 'Etonogestrel')\n",
    "                  | (reviews['drug'] == 'Ethinyl estradiol') |  (reviews['drug'] == 'norethindrone') | \n",
    "                  (reviews['drug'] == 'Nexplanon') |(reviews['drug'] == 'Ethinyl estradiol / norgestimate') ]\n",
    "\n",
    "common.head() #displays top 5 rows of subset"
   ]
  },
  {
   "cell_type": "code",
   "execution_count": 20,
   "id": "6f4dc17f",
   "metadata": {},
   "outputs": [],
   "source": [
    "common = pd.DataFrame(common) #converts the subset into a dataframe"
   ]
  },
  {
   "cell_type": "markdown",
   "id": "2a14988d",
   "metadata": {},
   "source": [
    "Now, I will make observations about these commonly reviewed drugs."
   ]
  },
  {
   "cell_type": "markdown",
   "id": "c3e047bd",
   "metadata": {},
   "source": [
    "##### Commonly Reviewed - Drugs"
   ]
  },
  {
   "cell_type": "markdown",
   "id": "4cd5ef04",
   "metadata": {},
   "source": [
    "Below, I will show a histogram displaying the number of reviews for each drug."
   ]
  },
  {
   "cell_type": "code",
   "execution_count": 21,
   "id": "371395bd",
   "metadata": {},
   "outputs": [
    {
     "data": {
      "image/png": "[encoded data removed]",
      "text/plain": [
       "<Figure size 640x480 with 1 Axes>"
      ]
     },
     "metadata": {},
     "output_type": "display_data"
    }
   ],
   "source": [
    "sns.histplot(data = common, y='drug').set(title = 'Number of Reviews per Drug');"
   ]
  },
  {
   "cell_type": "markdown",
   "id": "383b1f9b",
   "metadata": {},
   "source": [
    "As shown in the value counts above, Levonorgestrel is the most commonly reviewed, followed by Etonogestrel, Nexplanon, and Ethinyl estradiol / norgestimate.\n",
    "\n",
    "I will take a closer look at which conditions are represented within this subset."
   ]
  },
  {
   "cell_type": "markdown",
   "id": "c6d231c4",
   "metadata": {},
   "source": [
    "##### Commonly reviewed - Conditions"
   ]
  },
  {
   "cell_type": "code",
   "execution_count": 22,
   "id": "0ebdd080",
   "metadata": {},
   "outputs": [
    {
     "data": {
      "text/plain": [
       "14"
      ]
     },
     "execution_count": 22,
     "metadata": {},
     "output_type": "execute_result"
    }
   ],
   "source": [
    "common.condition.nunique() #shows the number of unique conditions for which the drugs were prescribed"
   ]
  },
  {
   "cell_type": "markdown",
   "id": "4a464c09",
   "metadata": {},
   "source": [
    "There are only 13 unique conditions. I will show a normalized value count to see representation of each condition for these commonly reviewed drugs."
   ]
  },
  {
   "cell_type": "code",
   "execution_count": 23,
   "id": "ecd6819a",
   "metadata": {},
   "outputs": [
    {
     "data": {
      "text/plain": [
       "Birth Control                                 0.814131\n",
       "Emergency Contraception                       0.108379\n",
       "Abnormal Uterine Bleeding                     0.037635\n",
       "Acne                                          0.019084\n",
       "Unspecified                                   0.011095\n",
       "Ovarian Cysts                                 0.004793\n",
       "Endometriosis                                 0.003639\n",
       "Not Listed / Othe                             0.000621\n",
       "8</span> users found this comment helpful.    0.000178\n",
       "4</span> users found this comment helpful.    0.000089\n",
       "2</span> users found this comment helpful.    0.000089\n",
       "1</span> users found this comment helpful.    0.000089\n",
       "9</span> users found this comment helpful.    0.000089\n",
       "3</span> users found this comment helpful.    0.000089\n",
       "Name: condition, dtype: float64"
      ]
     },
     "execution_count": 23,
     "metadata": {},
     "output_type": "execute_result"
    }
   ],
   "source": [
    "common.condition.value_counts(normalize= True)"
   ]
  },
  {
   "cell_type": "markdown",
   "id": "b582ebb9",
   "metadata": {},
   "source": [
    "It appears that Birth Control represents 82% of the conditions for which the drugs were prescribed.\n",
    "\n",
    "(I also see the \"users found this comment helpful\" values...these will be addressed when I address the conditions column as a whole.)"
   ]
  },
  {
   "cell_type": "markdown",
   "id": "a9a488e7",
   "metadata": {},
   "source": [
    "##### Commonly reviewed - Rating"
   ]
  },
  {
   "cell_type": "markdown",
   "id": "26e74e55",
   "metadata": {},
   "source": [
    "Below, I will show a bar graph showing the mean rating for each drug."
   ]
  },
  {
   "cell_type": "code",
   "execution_count": 24,
   "id": "c35959fe",
   "metadata": {},
   "outputs": [
    {
     "data": {
      "image/png": "[encoded data removed]",
      "text/plain": [
       "<Figure size 640x480 with 1 Axes>"
      ]
     },
     "metadata": {},
     "output_type": "display_data"
    }
   ],
   "source": [
    "sns.barplot(data = common, x = 'rating', y = 'drug', orient = 'h', color = 'teal').set(\n",
    "    title = 'Average Rating - Commonly Reviewed Drugs');"
   ]
  },
  {
   "cell_type": "markdown",
   "id": "ad0e5a0c",
   "metadata": {},
   "source": [
    "It appears that of these commonly reviewed drugs, Levonorgestrel has the highest average rating at just more than 7, while Nexplanon has the lowest. \n",
    "\n",
    "I will show the specific values in a group-by below."
   ]
  },
  {
   "cell_type": "code",
   "execution_count": 25,
   "id": "904a1527",
   "metadata": {},
   "outputs": [
    {
     "data": {
      "text/plain": [
       "drug\n",
       "Ethinyl estradiol / norgestimate    5.856873\n",
       "Etonogestrel                        5.802458\n",
       "Levonorgestrel                      7.391031\n",
       "Nexplanon                           5.673006\n",
       "Name: rating, dtype: float64"
      ]
     },
     "execution_count": 25,
     "metadata": {},
     "output_type": "execute_result"
    }
   ],
   "source": [
    "common.groupby('drug')['rating'].mean()"
   ]
  },
  {
   "cell_type": "markdown",
   "id": "2041983c",
   "metadata": {},
   "source": [
    "It can now be seen in a different format that Levonorgestrel has the highest rating, with the other drugs falling between 5 and 6 in their mean ratings.\n",
    "\n",
    "It was determined during preliminary analysis that the dataset average rating is 6.99. In this case, then, Levonogestrel's rating is above average, while the other drugs fall below.\n",
    "\n",
    "Having learned this, I will next learn more about the most highly rated drugs in the dataset."
   ]
  },
  {
   "cell_type": "markdown",
   "id": "87fec9ec",
   "metadata": {},
   "source": [
    "##### Commonly Reviewed - Useful Count"
   ]
  },
  {
   "cell_type": "markdown",
   "id": "028f9512",
   "metadata": {},
   "source": [
    "Below, I will observe to see the average useful count for each commonly reviewed drug."
   ]
  },
  {
   "cell_type": "code",
   "execution_count": 26,
   "id": "45f73fc1",
   "metadata": {},
   "outputs": [
    {
     "data": {
      "image/png": "[encoded data removed]",
      "text/plain": [
       "<Figure size 640x480 with 1 Axes>"
      ]
     },
     "metadata": {},
     "output_type": "display_data"
    }
   ],
   "source": [
    "sns.barplot(data = common, x= 'usefulcount', y = 'drug', orient = 'h', color = 'teal');"
   ]
  },
  {
   "cell_type": "markdown",
   "id": "7d7bfb9b",
   "metadata": {},
   "source": [
    "It appears that the highest number of readers found the Levonorgestrel reviews to be useful, and the least number of readers found Nexplanaon reviews to be useful.\n",
    "\n",
    "Meanwhile, it might be worthwhile to observe reviews representing a smaller number of conditions. I will explore this next below."
   ]
  },
  {
   "cell_type": "markdown",
   "id": "787b82a9",
   "metadata": {},
   "source": [
    "### 2. Condition"
   ]
  },
  {
   "cell_type": "code",
   "execution_count": 27,
   "id": "3a7f8ea0",
   "metadata": {},
   "outputs": [
    {
     "data": {
      "text/html": [
       "<div>\n",
       "<style scoped>\n",
       "    .dataframe tbody tr th:only-of-type {\n",
       "        vertical-align: middle;\n",
       "    }\n",
       "\n",
       "    .dataframe tbody tr th {\n",
       "        vertical-align: top;\n",
       "    }\n",
       "\n",
       "    .dataframe thead th {\n",
       "        text-align: right;\n",
       "    }\n",
       "</style>\n",
       "<table border=\"1\" class=\"dataframe\">\n",
       "  <thead>\n",
       "    <tr style=\"text-align: right;\">\n",
       "      <th></th>\n",
       "      <th>drug</th>\n",
       "      <th>condition</th>\n",
       "      <th>review</th>\n",
       "      <th>rating</th>\n",
       "      <th>usefulcount</th>\n",
       "    </tr>\n",
       "  </thead>\n",
       "  <tbody>\n",
       "    <tr>\n",
       "      <th>0</th>\n",
       "      <td>Medroxyprogesterone</td>\n",
       "      <td>Amenorrhea</td>\n",
       "      <td>\"I&amp;#039;m 21 years old and recently found out ...</td>\n",
       "      <td>10.0</td>\n",
       "      <td>11</td>\n",
       "    </tr>\n",
       "    <tr>\n",
       "      <th>1</th>\n",
       "      <td>Medroxyprogesterone</td>\n",
       "      <td>Abnormal Uterine Bleeding</td>\n",
       "      <td>\"I have been on the shot 11 years and until a ...</td>\n",
       "      <td>8.0</td>\n",
       "      <td>7</td>\n",
       "    </tr>\n",
       "    <tr>\n",
       "      <th>2</th>\n",
       "      <td>Medroxyprogesterone</td>\n",
       "      <td>Birth Control</td>\n",
       "      <td>\"Ive had four shots at this point. I was on bi...</td>\n",
       "      <td>9.0</td>\n",
       "      <td>12</td>\n",
       "    </tr>\n",
       "    <tr>\n",
       "      <th>3</th>\n",
       "      <td>Medroxyprogesterone</td>\n",
       "      <td>Abnormal Uterine Bleeding</td>\n",
       "      <td>\"I had a total of 3 shots. I got my first one ...</td>\n",
       "      <td>1.0</td>\n",
       "      <td>4</td>\n",
       "    </tr>\n",
       "    <tr>\n",
       "      <th>4</th>\n",
       "      <td>Medroxyprogesterone</td>\n",
       "      <td>Abnormal Uterine Bleeding</td>\n",
       "      <td>\"I&amp;#039;m 18 and got this for heavy bleeding. ...</td>\n",
       "      <td>5.0</td>\n",
       "      <td>6</td>\n",
       "    </tr>\n",
       "  </tbody>\n",
       "</table>\n",
       "</div>"
      ],
      "text/plain": [
       "                  drug                  condition  \\\n",
       "0  Medroxyprogesterone                 Amenorrhea   \n",
       "1  Medroxyprogesterone  Abnormal Uterine Bleeding   \n",
       "2  Medroxyprogesterone              Birth Control   \n",
       "3  Medroxyprogesterone  Abnormal Uterine Bleeding   \n",
       "4  Medroxyprogesterone  Abnormal Uterine Bleeding   \n",
       "\n",
       "                                              review  rating  usefulcount  \n",
       "0  \"I&#039;m 21 years old and recently found out ...    10.0           11  \n",
       "1  \"I have been on the shot 11 years and until a ...     8.0            7  \n",
       "2  \"Ive had four shots at this point. I was on bi...     9.0           12  \n",
       "3  \"I had a total of 3 shots. I got my first one ...     1.0            4  \n",
       "4  \"I&#039;m 18 and got this for heavy bleeding. ...     5.0            6  "
      ]
     },
     "execution_count": 27,
     "metadata": {},
     "output_type": "execute_result"
    }
   ],
   "source": [
    "reviews.head()"
   ]
  },
  {
   "cell_type": "markdown",
   "id": "16b7e732",
   "metadata": {},
   "source": [
    "I will begin by re-displaying the value counts for this condition so that we can explore those conditions that are most commonly represented in this dataset."
   ]
  },
  {
   "cell_type": "code",
   "execution_count": 28,
   "id": "6f8f604d",
   "metadata": {},
   "outputs": [
    {
     "data": {
      "text/plain": [
       "Birth Control                  28788\n",
       "Depression                      9069\n",
       "Pain                            6145\n",
       "Anxiety                         5904\n",
       "Acne                            5588\n",
       "                               ...  \n",
       "Hypercalcemia                      1\n",
       "Joint Infection                    1\n",
       "Ehrlichiosis                       1\n",
       "Q Feve                             1\n",
       "Aspergillosis, Aspergilloma        1\n",
       "Name: condition, Length: 885, dtype: int64"
      ]
     },
     "execution_count": 28,
     "metadata": {},
     "output_type": "execute_result"
    }
   ],
   "source": [
    "reviews.condition.value_counts()"
   ]
  },
  {
   "cell_type": "markdown",
   "id": "afeb1137",
   "metadata": {},
   "source": [
    "Birth Control is most common, followed by Depression, Pain, Anxiety, and Acne.\n",
    "\n",
    "I will create a subset of each of these to observe patterns for each of the common conditions listed above."
   ]
  },
  {
   "cell_type": "markdown",
   "id": "9d1f8875",
   "metadata": {},
   "source": [
    "#### Most Common Conditions - Total"
   ]
  },
  {
   "cell_type": "code",
   "execution_count": 29,
   "id": "48411091",
   "metadata": {},
   "outputs": [
    {
     "data": {
      "text/html": [
       "<div>\n",
       "<style scoped>\n",
       "    .dataframe tbody tr th:only-of-type {\n",
       "        vertical-align: middle;\n",
       "    }\n",
       "\n",
       "    .dataframe tbody tr th {\n",
       "        vertical-align: top;\n",
       "    }\n",
       "\n",
       "    .dataframe thead th {\n",
       "        text-align: right;\n",
       "    }\n",
       "</style>\n",
       "<table border=\"1\" class=\"dataframe\">\n",
       "  <thead>\n",
       "    <tr style=\"text-align: right;\">\n",
       "      <th></th>\n",
       "      <th>drug</th>\n",
       "      <th>condition</th>\n",
       "      <th>review</th>\n",
       "      <th>rating</th>\n",
       "      <th>usefulcount</th>\n",
       "    </tr>\n",
       "  </thead>\n",
       "  <tbody>\n",
       "    <tr>\n",
       "      <th>2</th>\n",
       "      <td>Medroxyprogesterone</td>\n",
       "      <td>Birth Control</td>\n",
       "      <td>\"Ive had four shots at this point. I was on bi...</td>\n",
       "      <td>9.0</td>\n",
       "      <td>12</td>\n",
       "    </tr>\n",
       "    <tr>\n",
       "      <th>9</th>\n",
       "      <td>Medroxyprogesterone</td>\n",
       "      <td>Birth Control</td>\n",
       "      <td>\"I started the Depo shot a year ago. Originall...</td>\n",
       "      <td>2.0</td>\n",
       "      <td>7</td>\n",
       "    </tr>\n",
       "    <tr>\n",
       "      <th>13</th>\n",
       "      <td>Medroxyprogesterone</td>\n",
       "      <td>Birth Control</td>\n",
       "      <td>\"I had one injection in June 2012 after seeing...</td>\n",
       "      <td>5.0</td>\n",
       "      <td>2</td>\n",
       "    </tr>\n",
       "    <tr>\n",
       "      <th>14</th>\n",
       "      <td>Medroxyprogesterone</td>\n",
       "      <td>Birth Control</td>\n",
       "      <td>\"I was on depo provera from the ages of 15-18....</td>\n",
       "      <td>3.0</td>\n",
       "      <td>2</td>\n",
       "    </tr>\n",
       "    <tr>\n",
       "      <th>18</th>\n",
       "      <td>Medroxyprogesterone</td>\n",
       "      <td>Birth Control</td>\n",
       "      <td>\"I&amp;#039;m currently on the depo shot. I had my...</td>\n",
       "      <td>1.0</td>\n",
       "      <td>0</td>\n",
       "    </tr>\n",
       "  </tbody>\n",
       "</table>\n",
       "</div>"
      ],
      "text/plain": [
       "                   drug      condition  \\\n",
       "2   Medroxyprogesterone  Birth Control   \n",
       "9   Medroxyprogesterone  Birth Control   \n",
       "13  Medroxyprogesterone  Birth Control   \n",
       "14  Medroxyprogesterone  Birth Control   \n",
       "18  Medroxyprogesterone  Birth Control   \n",
       "\n",
       "                                               review  rating  usefulcount  \n",
       "2   \"Ive had four shots at this point. I was on bi...     9.0           12  \n",
       "9   \"I started the Depo shot a year ago. Originall...     2.0            7  \n",
       "13  \"I had one injection in June 2012 after seeing...     5.0            2  \n",
       "14  \"I was on depo provera from the ages of 15-18....     3.0            2  \n",
       "18  \"I&#039;m currently on the depo shot. I had my...     1.0            0  "
      ]
     },
     "execution_count": 29,
     "metadata": {},
     "output_type": "execute_result"
    }
   ],
   "source": [
    "#creates subset as described\n",
    "\n",
    "commonc = reviews.loc[(reviews['condition']== 'Birth Control') | (reviews['condition']== 'Depression') |\n",
    "                    (reviews['condition']== 'Pain') | (reviews['condition']== 'Anxiety') | \n",
    "                     (reviews['condition']== 'Acne')]\n",
    "\n",
    "commonc.head() #displays top 5 rows of subset"
   ]
  },
  {
   "cell_type": "markdown",
   "id": "5f4eb956",
   "metadata": {},
   "source": [
    "The specific drugs presecribed for each condition will be described when I explore each of these specific conditions below. For now, I will look at other attributes of this subset."
   ]
  },
  {
   "cell_type": "markdown",
   "id": "a923971d",
   "metadata": {},
   "source": [
    "##### Most Common Conditions - Distribution of Conditions"
   ]
  },
  {
   "cell_type": "code",
   "execution_count": 30,
   "id": "f25b53b9",
   "metadata": {},
   "outputs": [
    {
     "data": {
      "image/png": "[encoded data removed]",
      "text/plain": [
       "<Figure size 640x480 with 1 Axes>"
      ]
     },
     "metadata": {},
     "output_type": "display_data"
    }
   ],
   "source": [
    "sns.histplot(data = commonc, x='condition').set(title = 'Number of Reviews per Condition (Most Common)');"
   ]
  },
  {
   "cell_type": "markdown",
   "id": "978e9cac",
   "metadata": {},
   "source": [
    "This visualization makes it easy to see the relative number of reviews for Birth Control drugs, which is far higher than the number of reviews for any other conditions in this dataset."
   ]
  },
  {
   "cell_type": "markdown",
   "id": "6a314130",
   "metadata": {},
   "source": [
    "##### Most Common Conditions - Average Rating"
   ]
  },
  {
   "cell_type": "code",
   "execution_count": 31,
   "id": "f6b64399",
   "metadata": {},
   "outputs": [
    {
     "data": {
      "image/png": "[encoded data removed]",
      "text/plain": [
       "<Figure size 640x480 with 1 Axes>"
      ]
     },
     "metadata": {},
     "output_type": "display_data"
    }
   ],
   "source": [
    "sns.barplot(data = commonc, x='condition', y='rating', color = 'teal').set(title = 'Average Rating per Condition');"
   ]
  },
  {
   "cell_type": "code",
   "execution_count": 32,
   "id": "10eead73",
   "metadata": {},
   "outputs": [
    {
     "data": {
      "text/plain": [
       "condition\n",
       "Acne             7.374195\n",
       "Anxiety          7.691057\n",
       "Birth Control    6.089933\n",
       "Depression       7.099460\n",
       "Pain             7.632221\n",
       "Name: rating, dtype: float64"
      ]
     },
     "execution_count": 32,
     "metadata": {},
     "output_type": "execute_result"
    }
   ],
   "source": [
    "commonc.groupby('condition')['rating'].mean()"
   ]
  },
  {
   "cell_type": "markdown",
   "id": "3cf7dc4e",
   "metadata": {},
   "source": [
    "The visualization table above show that the mean rating for Birth Control is lowest, at just more than 6 (below average), while the other common conditions have mean ratings that fall in the 7-range (above average.)\n",
    "\n",
    "As each of these conditions is distinct, further analysis of each should be seperate. Below, I will observe subsets of the dataset for each condition."
   ]
  },
  {
   "cell_type": "markdown",
   "id": "e06602d2",
   "metadata": {},
   "source": [
    "#### Most Common Conditions - Average Useful Count"
   ]
  },
  {
   "cell_type": "code",
   "execution_count": 33,
   "id": "a6fbfd2a",
   "metadata": {},
   "outputs": [
    {
     "data": {
      "image/png": "[encoded data removed]",
      "text/plain": [
       "<Figure size 640x480 with 1 Axes>"
      ]
     },
     "metadata": {},
     "output_type": "display_data"
    }
   ],
   "source": [
    "sns.barplot(data = commonc, x='condition', y = 'usefulcount', color = 'teal').set(\n",
    "    title = 'Mean Useful Count per Review');"
   ]
  },
  {
   "cell_type": "markdown",
   "id": "a7d1e523",
   "metadata": {},
   "source": [
    "It appears that people more commonly found reviews of Depression and Anxiety medications to be useful than, for example, Birth Control, which has the smallest mean useful count."
   ]
  },
  {
   "cell_type": "markdown",
   "id": "13b09fb9",
   "metadata": {},
   "source": [
    "#### Birth Control"
   ]
  },
  {
   "cell_type": "markdown",
   "id": "2843ad67",
   "metadata": {},
   "source": [
    "This is the condition most frequently seen in this dataset. Below, I will create a dataframe for further exploration."
   ]
  },
  {
   "cell_type": "code",
   "execution_count": 34,
   "id": "a5b1b8f5",
   "metadata": {},
   "outputs": [
    {
     "data": {
      "text/html": [
       "<div>\n",
       "<style scoped>\n",
       "    .dataframe tbody tr th:only-of-type {\n",
       "        vertical-align: middle;\n",
       "    }\n",
       "\n",
       "    .dataframe tbody tr th {\n",
       "        vertical-align: top;\n",
       "    }\n",
       "\n",
       "    .dataframe thead th {\n",
       "        text-align: right;\n",
       "    }\n",
       "</style>\n",
       "<table border=\"1\" class=\"dataframe\">\n",
       "  <thead>\n",
       "    <tr style=\"text-align: right;\">\n",
       "      <th></th>\n",
       "      <th>drug</th>\n",
       "      <th>condition</th>\n",
       "      <th>review</th>\n",
       "      <th>rating</th>\n",
       "      <th>usefulcount</th>\n",
       "    </tr>\n",
       "  </thead>\n",
       "  <tbody>\n",
       "    <tr>\n",
       "      <th>2</th>\n",
       "      <td>Medroxyprogesterone</td>\n",
       "      <td>Birth Control</td>\n",
       "      <td>\"Ive had four shots at this point. I was on bi...</td>\n",
       "      <td>9.0</td>\n",
       "      <td>12</td>\n",
       "    </tr>\n",
       "    <tr>\n",
       "      <th>9</th>\n",
       "      <td>Medroxyprogesterone</td>\n",
       "      <td>Birth Control</td>\n",
       "      <td>\"I started the Depo shot a year ago. Originall...</td>\n",
       "      <td>2.0</td>\n",
       "      <td>7</td>\n",
       "    </tr>\n",
       "    <tr>\n",
       "      <th>13</th>\n",
       "      <td>Medroxyprogesterone</td>\n",
       "      <td>Birth Control</td>\n",
       "      <td>\"I had one injection in June 2012 after seeing...</td>\n",
       "      <td>5.0</td>\n",
       "      <td>2</td>\n",
       "    </tr>\n",
       "    <tr>\n",
       "      <th>14</th>\n",
       "      <td>Medroxyprogesterone</td>\n",
       "      <td>Birth Control</td>\n",
       "      <td>\"I was on depo provera from the ages of 15-18....</td>\n",
       "      <td>3.0</td>\n",
       "      <td>2</td>\n",
       "    </tr>\n",
       "    <tr>\n",
       "      <th>18</th>\n",
       "      <td>Medroxyprogesterone</td>\n",
       "      <td>Birth Control</td>\n",
       "      <td>\"I&amp;#039;m currently on the depo shot. I had my...</td>\n",
       "      <td>1.0</td>\n",
       "      <td>0</td>\n",
       "    </tr>\n",
       "  </tbody>\n",
       "</table>\n",
       "</div>"
      ],
      "text/plain": [
       "                   drug      condition  \\\n",
       "2   Medroxyprogesterone  Birth Control   \n",
       "9   Medroxyprogesterone  Birth Control   \n",
       "13  Medroxyprogesterone  Birth Control   \n",
       "14  Medroxyprogesterone  Birth Control   \n",
       "18  Medroxyprogesterone  Birth Control   \n",
       "\n",
       "                                               review  rating  usefulcount  \n",
       "2   \"Ive had four shots at this point. I was on bi...     9.0           12  \n",
       "9   \"I started the Depo shot a year ago. Originall...     2.0            7  \n",
       "13  \"I had one injection in June 2012 after seeing...     5.0            2  \n",
       "14  \"I was on depo provera from the ages of 15-18....     3.0            2  \n",
       "18  \"I&#039;m currently on the depo shot. I had my...     1.0            0  "
      ]
     },
     "execution_count": 34,
     "metadata": {},
     "output_type": "execute_result"
    }
   ],
   "source": [
    "birthcontrol = reviews.loc[reviews['condition']== 'Birth Control']\n",
    "                          \n",
    "birthcontrol.head()"
   ]
  },
  {
   "cell_type": "code",
   "execution_count": 35,
   "id": "d32bb124",
   "metadata": {},
   "outputs": [
    {
     "data": {
      "text/plain": [
       "(28788, 5)"
      ]
     },
     "execution_count": 35,
     "metadata": {},
     "output_type": "execute_result"
    }
   ],
   "source": [
    "birthcontrol.shape"
   ]
  },
  {
   "cell_type": "markdown",
   "id": "8dbfabbb",
   "metadata": {},
   "source": [
    "##### Birth Control - Most Frequently Reviewed Drugs"
   ]
  },
  {
   "cell_type": "markdown",
   "id": "06d628eb",
   "metadata": {},
   "source": [
    "I would like to discover which drugs are most commonly reviewed for this condition.\n",
    "\n",
    "I will first observe normalized value counts below."
   ]
  },
  {
   "cell_type": "code",
   "execution_count": 36,
   "id": "e67e2d5d",
   "metadata": {},
   "outputs": [
    {
     "data": {
      "text/plain": [
       "Etonogestrel                          3314\n",
       "Ethinyl estradiol / norethindrone     2337\n",
       "Nexplanon                             2149\n",
       "Levonorgestrel                        2129\n",
       "Ethinyl estradiol / levonorgestrel    1600\n",
       "                                      ... \n",
       "Pirmella 1 / 35                          1\n",
       "Rajani                                   1\n",
       "Larissia                                 1\n",
       "Norlyda                                  1\n",
       "Amethia Lo                               1\n",
       "Name: drug, Length: 172, dtype: int64"
      ]
     },
     "execution_count": 36,
     "metadata": {},
     "output_type": "execute_result"
    }
   ],
   "source": [
    "birthcontrol.drug.value_counts()"
   ]
  },
  {
   "cell_type": "markdown",
   "id": "c71893b5",
   "metadata": {},
   "source": [
    "The top 5 drugs are the same as those viewed as most common in the overall dataset. This makes sense, as it appears Birth Control is the condition most frequently reviewed in this dataset.\n",
    "\n",
    "Average ratings for these drugs were determined above. I will move on to observe reviews for this subset."
   ]
  },
  {
   "cell_type": "markdown",
   "id": "7361191f",
   "metadata": {},
   "source": [
    "##### Birth Control - Ratings"
   ]
  },
  {
   "cell_type": "markdown",
   "id": "783af825",
   "metadata": {},
   "source": [
    "Now I will observe a histogram of ratings for this condition."
   ]
  },
  {
   "cell_type": "code",
   "execution_count": 37,
   "id": "ed6999e1",
   "metadata": {},
   "outputs": [
    {
     "data": {
      "image/png": "[encoded data removed]",
      "text/plain": [
       "<Figure size 640x480 with 1 Axes>"
      ]
     },
     "metadata": {},
     "output_type": "display_data"
    }
   ],
   "source": [
    "sns.histplot(data = birthcontrol, x='rating').set(title ='Histogram of Ratings for Birth Control Drugs');"
   ]
  },
  {
   "cell_type": "markdown",
   "id": "69cb41f0",
   "metadata": {},
   "source": [
    "The birth control drugs had 10 and 9 as their most common ratings, followed by a rating of 1.\n",
    "\n",
    "As noted earlier, much was determined regarding the common birth control drugs above, as they were the most frequently reviewed in this dataset. As such, I will move on to observe information for the next most frequent condition, which is Depression"
   ]
  },
  {
   "cell_type": "markdown",
   "id": "b7343dbf",
   "metadata": {},
   "source": [
    "#### Highest Rated Birth Control Medications"
   ]
  },
  {
   "cell_type": "code",
   "execution_count": 38,
   "id": "f354d191",
   "metadata": {},
   "outputs": [
    {
     "data": {
      "text/plain": [
       "drug\n",
       "Provera                  10.000000\n",
       "Plan B                   10.000000\n",
       "Elinest                  10.000000\n",
       "Heather                   9.750000\n",
       "Ortho-Novum 7 / 7 / 7     9.666667\n",
       "Ortho-Novum 1 / 35        8.500000\n",
       "Femcon Fe                 8.166667\n",
       "Introvale                 8.000000\n",
       "Zenchent                  8.000000\n",
       "Rajani                    8.000000\n",
       "Microgestin 1.5 / 30      8.000000\n",
       "Loestrin Fe 1.5 / 30      8.000000\n",
       "Lybrel                    7.888889\n",
       "Junel Fe 24               7.666667\n",
       "Ortho Evra                7.470320\n",
       "Name: rating, dtype: float64"
      ]
     },
     "execution_count": 38,
     "metadata": {},
     "output_type": "execute_result"
    }
   ],
   "source": [
    "birthcontrol.groupby('drug')['rating'].mean().sort_values(ascending = False).head(15)"
   ]
  },
  {
   "cell_type": "markdown",
   "id": "8712db51",
   "metadata": {},
   "source": [
    "The 15 highest rated medications range from 7.47 to 10.00."
   ]
  },
  {
   "cell_type": "markdown",
   "id": "2d4ef0ca",
   "metadata": {},
   "source": [
    "#### Lowest Rated Birth Control Medications"
   ]
  },
  {
   "cell_type": "code",
   "execution_count": 39,
   "id": "b9fc81fa",
   "metadata": {},
   "outputs": [
    {
     "data": {
      "text/plain": [
       "drug\n",
       "depo-subQ provera 104    1.000000\n",
       "Tri-Lo-Estarylla         1.000000\n",
       "Pirmella 1 / 35          1.000000\n",
       "Amethyst                 1.000000\n",
       "Philith                  1.000000\n",
       "Necon 7 / 7 / 7          1.000000\n",
       "Mibelas 24 Fe            1.000000\n",
       "Larin 24 Fe              1.000000\n",
       "Jencycla                 1.000000\n",
       "Enskyce                  1.000000\n",
       "Amethia Lo               2.000000\n",
       "Necon 1 / 50             2.666667\n",
       "Tri-Lo-Marzia            3.000000\n",
       "Dasetta 1 / 35           3.000000\n",
       "Loestrin 21 1.5 / 30     3.000000\n",
       "Name: rating, dtype: float64"
      ]
     },
     "execution_count": 39,
     "metadata": {},
     "output_type": "execute_result"
    }
   ],
   "source": [
    "birthcontrol.groupby('drug')['rating'].mean().sort_values(ascending = True).head(15)"
   ]
  },
  {
   "cell_type": "markdown",
   "id": "ce17ba2f",
   "metadata": {},
   "source": [
    "The 15 lowest-rated medications range from 1.00 to 3.00."
   ]
  },
  {
   "cell_type": "markdown",
   "id": "1ba2c5fd",
   "metadata": {},
   "source": [
    "#### Drugs with Most Useful Reviews"
   ]
  },
  {
   "cell_type": "markdown",
   "id": "3ee4fdee",
   "metadata": {},
   "source": [
    "I am interested to see which drugs had reviews that the highest number of people found useful. I will determine this below."
   ]
  },
  {
   "cell_type": "code",
   "execution_count": 40,
   "id": "a5a02ef5",
   "metadata": {},
   "outputs": [
    {
     "data": {
      "text/plain": [
       "drug\n",
       "Lybrel                   28.111111\n",
       "Heather                  18.250000\n",
       "Ortho Micronor           17.540000\n",
       "Mirena                   14.568912\n",
       "Nora-Be                  14.442308\n",
       "                           ...    \n",
       "Loestrin Fe 1.5 / 30      0.000000\n",
       "Necon 7 / 7 / 7           0.000000\n",
       "Lomedia 24 Fe             0.000000\n",
       "Caziant                   0.000000\n",
       "depo-subQ provera 104     0.000000\n",
       "Name: usefulcount, Length: 172, dtype: float64"
      ]
     },
     "execution_count": 40,
     "metadata": {},
     "output_type": "execute_result"
    }
   ],
   "source": [
    "birthcontrol.groupby('drug')['usefulcount'].mean().sort_values(ascending = False)"
   ]
  },
  {
   "cell_type": "markdown",
   "id": "e2a645f1",
   "metadata": {},
   "source": [
    "I see that Lybrel, Heather, Ortho Micronor, Mirena, and Nora-Be have the highest average useful count.\n",
    "\n",
    "These might be drugs to observe more closely if the condition of focus is birth control.\n",
    "\n",
    "I will now observe review information for the next most frequent condition, which is Depression."
   ]
  },
  {
   "cell_type": "markdown",
   "id": "167da17b",
   "metadata": {},
   "source": [
    "### Depression"
   ]
  },
  {
   "cell_type": "code",
   "execution_count": 41,
   "id": "af09dd5c",
   "metadata": {},
   "outputs": [
    {
     "data": {
      "text/html": [
       "<div>\n",
       "<style scoped>\n",
       "    .dataframe tbody tr th:only-of-type {\n",
       "        vertical-align: middle;\n",
       "    }\n",
       "\n",
       "    .dataframe tbody tr th {\n",
       "        vertical-align: top;\n",
       "    }\n",
       "\n",
       "    .dataframe thead th {\n",
       "        text-align: right;\n",
       "    }\n",
       "</style>\n",
       "<table border=\"1\" class=\"dataframe\">\n",
       "  <thead>\n",
       "    <tr style=\"text-align: right;\">\n",
       "      <th></th>\n",
       "      <th>drug</th>\n",
       "      <th>condition</th>\n",
       "      <th>review</th>\n",
       "      <th>rating</th>\n",
       "      <th>usefulcount</th>\n",
       "    </tr>\n",
       "  </thead>\n",
       "  <tbody>\n",
       "    <tr>\n",
       "      <th>601</th>\n",
       "      <td>Methylin ER</td>\n",
       "      <td>Depression</td>\n",
       "      <td>\"I&amp;#039;ve been diagnosed with ADD at the age ...</td>\n",
       "      <td>9.0</td>\n",
       "      <td>113</td>\n",
       "    </tr>\n",
       "    <tr>\n",
       "      <th>610</th>\n",
       "      <td>Methylin ER</td>\n",
       "      <td>Depression</td>\n",
       "      <td>\"I&amp;#039;ve been on antidepressants from the ol...</td>\n",
       "      <td>10.0</td>\n",
       "      <td>249</td>\n",
       "    </tr>\n",
       "    <tr>\n",
       "      <th>2551</th>\n",
       "      <td>Marplan</td>\n",
       "      <td>Depression</td>\n",
       "      <td>\"Marplan did an amazing job of keeping my depr...</td>\n",
       "      <td>9.0</td>\n",
       "      <td>2</td>\n",
       "    </tr>\n",
       "    <tr>\n",
       "      <th>2552</th>\n",
       "      <td>Marplan</td>\n",
       "      <td>Depression</td>\n",
       "      <td>\"Been taking for 27 years. Only drug that had ...</td>\n",
       "      <td>10.0</td>\n",
       "      <td>38</td>\n",
       "    </tr>\n",
       "    <tr>\n",
       "      <th>2553</th>\n",
       "      <td>Marplan</td>\n",
       "      <td>Depression</td>\n",
       "      <td>\"Marplan has been very effective on my bipolar...</td>\n",
       "      <td>8.0</td>\n",
       "      <td>28</td>\n",
       "    </tr>\n",
       "  </tbody>\n",
       "</table>\n",
       "</div>"
      ],
      "text/plain": [
       "             drug   condition  \\\n",
       "601   Methylin ER  Depression   \n",
       "610   Methylin ER  Depression   \n",
       "2551      Marplan  Depression   \n",
       "2552      Marplan  Depression   \n",
       "2553      Marplan  Depression   \n",
       "\n",
       "                                                 review  rating  usefulcount  \n",
       "601   \"I&#039;ve been diagnosed with ADD at the age ...     9.0          113  \n",
       "610   \"I&#039;ve been on antidepressants from the ol...    10.0          249  \n",
       "2551  \"Marplan did an amazing job of keeping my depr...     9.0            2  \n",
       "2552  \"Been taking for 27 years. Only drug that had ...    10.0           38  \n",
       "2553  \"Marplan has been very effective on my bipolar...     8.0           28  "
      ]
     },
     "execution_count": 41,
     "metadata": {},
     "output_type": "execute_result"
    }
   ],
   "source": [
    "depression = reviews.loc[reviews['condition']== 'Depression']\n",
    "                          \n",
    "depression.head()"
   ]
  },
  {
   "cell_type": "code",
   "execution_count": 42,
   "id": "c2f7fe86",
   "metadata": {},
   "outputs": [
    {
     "data": {
      "text/plain": [
       "(9069, 5)"
      ]
     },
     "execution_count": 42,
     "metadata": {},
     "output_type": "execute_result"
    }
   ],
   "source": [
    "depression.shape"
   ]
  },
  {
   "cell_type": "markdown",
   "id": "d89f4dcf",
   "metadata": {},
   "source": [
    "##### Depression - Value Count of Drugs"
   ]
  },
  {
   "cell_type": "markdown",
   "id": "96097a98",
   "metadata": {},
   "source": [
    "First, I will see how many drugs were prescribed/reviewed for this condition."
   ]
  },
  {
   "cell_type": "code",
   "execution_count": 43,
   "id": "645b73c4",
   "metadata": {},
   "outputs": [
    {
     "data": {
      "text/plain": [
       "Bupropion         0.060536\n",
       "Sertraline        0.050612\n",
       "Venlafaxine       0.048186\n",
       "Pristiq           0.046091\n",
       "Desvenlafaxine    0.045650\n",
       "                    ...   \n",
       "Vyvanse           0.000110\n",
       "Luvox CR          0.000110\n",
       "Xanax XR          0.000110\n",
       "Protriptyline     0.000110\n",
       "Asendin           0.000110\n",
       "Name: drug, Length: 105, dtype: float64"
      ]
     },
     "execution_count": 43,
     "metadata": {},
     "output_type": "execute_result"
    }
   ],
   "source": [
    "depression.drug.value_counts(normalize= True)"
   ]
  },
  {
   "cell_type": "markdown",
   "id": "4734a4be",
   "metadata": {},
   "source": [
    "It appears that 105 drugs were reviewed, with Bupropion, Sertraline, Venlaxafine, Pristiq, and Desvenlafaxine being at the top. \n",
    "\n",
    "Below, I will explore reviews for each of these drugs."
   ]
  },
  {
   "cell_type": "markdown",
   "id": "6d6ca540",
   "metadata": {},
   "source": [
    "##### Depression - Most Common Drugs"
   ]
  },
  {
   "cell_type": "markdown",
   "id": "536a2356",
   "metadata": {},
   "source": [
    "As noted above, the most commonly reviewed drugs for Depression were Bupropion, Sertraline, Venlaxafine, Pristiq, and Desvenlafaxine.\n",
    "\n",
    "I will explore average ratings for each drug below."
   ]
  },
  {
   "cell_type": "code",
   "execution_count": 44,
   "id": "5a88f366",
   "metadata": {},
   "outputs": [
    {
     "data": {
      "text/plain": [
       "array(['Sertraline', 'Venlafaxine', 'Desvenlafaxine', 'Pristiq',\n",
       "       'Bupropion'], dtype=object)"
      ]
     },
     "execution_count": 44,
     "metadata": {},
     "output_type": "execute_result"
    }
   ],
   "source": [
    "depression_drugs = depression.loc[(depression['drug'] == 'Bupropion') | (depression['drug'] == 'Sertraline') |\n",
    "                                 (depression['drug'] == 'Venlafaxine') | (depression['drug'] == 'Pristiq') |\n",
    "                                  (depression['drug'] == 'Desvenlafaxine')]\n",
    "\n",
    "depression_drugs.drug.unique()"
   ]
  },
  {
   "cell_type": "markdown",
   "id": "c11639ba",
   "metadata": {},
   "source": [
    "*Distribution of Drugs*"
   ]
  },
  {
   "cell_type": "code",
   "execution_count": 46,
   "id": "24b3b79d",
   "metadata": {},
   "outputs": [
    {
     "data": {
      "image/png": "[encoded data removed]",
      "text/plain": [
       "<Figure size 640x480 with 1 Axes>"
      ]
     },
     "metadata": {},
     "output_type": "display_data"
    }
   ],
   "source": [
    "sns.histplot(data=depression_drugs, y='drug').set(\n",
    "    title= 'Number of Reviews for Most Commonly Reviewed Drugs - Depression');"
   ]
  },
  {
   "cell_type": "markdown",
   "id": "7dd8368d",
   "metadata": {},
   "source": [
    "It can be seen here that Buproprion was the most commonly reviewed drug for depression."
   ]
  },
  {
   "cell_type": "code",
   "execution_count": 47,
   "id": "60f8bde6",
   "metadata": {},
   "outputs": [
    {
     "data": {
      "image/png": "[encoded data removed]",
      "text/plain": [
       "<Figure size 640x480 with 1 Axes>"
      ]
     },
     "metadata": {},
     "output_type": "display_data"
    }
   ],
   "source": [
    "sns.histplot(data=depression_drugs, x='rating').set(\n",
    "    title= 'Histogram of Ratings - Depression');"
   ]
  },
  {
   "cell_type": "markdown",
   "id": "968cb1e7",
   "metadata": {},
   "source": [
    "*Average Rating of Most Commonly Reviewed Drugs*"
   ]
  },
  {
   "cell_type": "code",
   "execution_count": 48,
   "id": "de75f9f1",
   "metadata": {},
   "outputs": [
    {
     "data": {
      "image/png": "[encoded data removed]",
      "text/plain": [
       "<Figure size 640x480 with 1 Axes>"
      ]
     },
     "metadata": {},
     "output_type": "display_data"
    }
   ],
   "source": [
    "sns.barplot(data=depression_drugs, x='rating', y='drug', orient = 'h', color = 'teal').set(\n",
    "    title= 'Mean Rating of Most Commonly Reviewed Drugs - Depression');"
   ]
  },
  {
   "cell_type": "code",
   "execution_count": 49,
   "id": "12124799",
   "metadata": {},
   "outputs": [
    {
     "data": {
      "text/plain": [
       "drug\n",
       "Bupropion         7.358834\n",
       "Desvenlafaxine    7.239130\n",
       "Pristiq           7.188995\n",
       "Sertraline        7.167756\n",
       "Venlafaxine       6.478261\n",
       "Name: rating, dtype: float64"
      ]
     },
     "execution_count": 49,
     "metadata": {},
     "output_type": "execute_result"
    }
   ],
   "source": [
    "depression_drugs.groupby('drug')['rating'].mean()"
   ]
  },
  {
   "cell_type": "markdown",
   "id": "4c3468b1",
   "metadata": {},
   "source": [
    "As we can see in the barplot and chart above, Venlaxafine is the lowest rated depression drug with a mean rating of 6.48 (below average) whereas the other drugs have a mean rating above 7 (above average.)"
   ]
  },
  {
   "cell_type": "markdown",
   "id": "aed1b6e2",
   "metadata": {},
   "source": [
    "#### Highest Rated Depression Medications"
   ]
  },
  {
   "cell_type": "code",
   "execution_count": 50,
   "id": "30e8a741",
   "metadata": {},
   "outputs": [
    {
     "data": {
      "text/plain": [
       "drug\n",
       "Niravam                             10.000000\n",
       "Xanax XR                            10.000000\n",
       "Maprotiline                         10.000000\n",
       "Norpramin                           10.000000\n",
       "Asendin                             10.000000\n",
       "Desipramine                          9.857143\n",
       "Niacin                               9.857143\n",
       "Serzone                              9.800000\n",
       "Amitriptyline / chlordiazepoxide     9.666667\n",
       "Methylin ER                          9.500000\n",
       "Limbitrol                            9.500000\n",
       "Amoxapine                            9.500000\n",
       "Luvox                                9.333333\n",
       "Tramadol                             9.288462\n",
       "Clomipramine                         9.181818\n",
       "Name: rating, dtype: float64"
      ]
     },
     "execution_count": 50,
     "metadata": {},
     "output_type": "execute_result"
    }
   ],
   "source": [
    "depression.groupby('drug')['rating'].mean().sort_values(ascending = False).head(15)"
   ]
  },
  {
   "cell_type": "markdown",
   "id": "13115640",
   "metadata": {},
   "source": [
    "Above are the depression drugs with the highest average ratings. These range from 9.18 to 10.00.\n",
    "\n",
    "I will next observe the depression drugs with the lowest average ratings."
   ]
  },
  {
   "cell_type": "markdown",
   "id": "6e36cd65",
   "metadata": {},
   "source": [
    "#### Lowest Rated Depression Medications"
   ]
  },
  {
   "cell_type": "code",
   "execution_count": 51,
   "id": "e2d7043f",
   "metadata": {},
   "outputs": [
    {
     "data": {
      "text/plain": [
       "drug\n",
       "Tryptophan         1.000000\n",
       "Vyvanse            3.000000\n",
       "Luvox CR           4.000000\n",
       "Pamelor            4.000000\n",
       "Oleptro            4.000000\n",
       "Strattera          4.500000\n",
       "Fetzima            4.621622\n",
       "Aplenzin           4.750000\n",
       "Levomilnacipran    4.920000\n",
       "Zyprexa            5.785714\n",
       "Effexor            5.845361\n",
       "Lithium            5.866667\n",
       "Vortioxetine       5.881159\n",
       "Trintellix         5.995885\n",
       "Atomoxetine        6.000000\n",
       "Name: rating, dtype: float64"
      ]
     },
     "execution_count": 51,
     "metadata": {},
     "output_type": "execute_result"
    }
   ],
   "source": [
    "depression.groupby('drug')['rating'].mean().sort_values(ascending = True).head(15)"
   ]
  },
  {
   "cell_type": "markdown",
   "id": "4727ba18",
   "metadata": {},
   "source": [
    "The 15 lowest-rated depression medications range from 1.00 to 6.00.\n",
    "\n",
    "Before I move on to the next condition, I will observe the drugs with the highest average useful count."
   ]
  },
  {
   "cell_type": "markdown",
   "id": "ad3ed581",
   "metadata": {},
   "source": [
    "#### Highest Average Useful Count"
   ]
  },
  {
   "cell_type": "code",
   "execution_count": 52,
   "id": "b778be15",
   "metadata": {},
   "outputs": [
    {
     "data": {
      "text/plain": [
       "drug\n",
       "Methylin ER         181.000000\n",
       "Desyrel             128.000000\n",
       "Provigil            117.000000\n",
       "Elavil               99.666667\n",
       "Norpramin            89.000000\n",
       "                       ...    \n",
       "Lisdexamfetamine      2.600000\n",
       "Amoxapine             2.500000\n",
       "Vyvanse               2.000000\n",
       "Protriptyline         0.000000\n",
       "Vivactil              0.000000\n",
       "Name: usefulcount, Length: 105, dtype: float64"
      ]
     },
     "execution_count": 52,
     "metadata": {},
     "output_type": "execute_result"
    }
   ],
   "source": [
    "depression.groupby('drug')['usefulcount'].mean().sort_values(ascending = False)"
   ]
  },
  {
   "cell_type": "markdown",
   "id": "966deb24",
   "metadata": {},
   "source": [
    "It appears that Methylin ER, Desyrel, Provigil, Elavil, and Norpramin have the highest average useful count. I may observe these more closely. (It is also worth noting that the highest average useful counts here are much higher than they were in the Birth Control dataset.)"
   ]
  },
  {
   "cell_type": "markdown",
   "id": "b088b8d0",
   "metadata": {},
   "source": [
    "##### Discussion"
   ]
  },
  {
   "cell_type": "markdown",
   "id": "8c215329",
   "metadata": {},
   "source": [
    "For those with depression, the most commonly reviewed drug was Buproprion, at approximately 6% of total reviews. Buproprion also had a mean rating of 7.35, which was the most highly rated drug for depression.\n",
    "\n",
    "I will now move on to observe the subset of Pain."
   ]
  },
  {
   "cell_type": "markdown",
   "id": "f7de1c71",
   "metadata": {},
   "source": [
    "### Pain"
   ]
  },
  {
   "cell_type": "code",
   "execution_count": 53,
   "id": "ffd16261",
   "metadata": {},
   "outputs": [
    {
     "data": {
      "text/html": [
       "<div>\n",
       "<style scoped>\n",
       "    .dataframe tbody tr th:only-of-type {\n",
       "        vertical-align: middle;\n",
       "    }\n",
       "\n",
       "    .dataframe tbody tr th {\n",
       "        vertical-align: top;\n",
       "    }\n",
       "\n",
       "    .dataframe thead th {\n",
       "        text-align: right;\n",
       "    }\n",
       "</style>\n",
       "<table border=\"1\" class=\"dataframe\">\n",
       "  <thead>\n",
       "    <tr style=\"text-align: right;\">\n",
       "      <th></th>\n",
       "      <th>drug</th>\n",
       "      <th>condition</th>\n",
       "      <th>review</th>\n",
       "      <th>rating</th>\n",
       "      <th>usefulcount</th>\n",
       "    </tr>\n",
       "  </thead>\n",
       "  <tbody>\n",
       "    <tr>\n",
       "      <th>1043</th>\n",
       "      <td>Ibudone</td>\n",
       "      <td>Pain</td>\n",
       "      <td>\"I just started taking this medicine.  I have ...</td>\n",
       "      <td>7.0</td>\n",
       "      <td>27</td>\n",
       "    </tr>\n",
       "    <tr>\n",
       "      <th>1048</th>\n",
       "      <td>Ultram ODT</td>\n",
       "      <td>Pain</td>\n",
       "      <td>\"You can use ultram to detox yourself from har...</td>\n",
       "      <td>10.0</td>\n",
       "      <td>28</td>\n",
       "    </tr>\n",
       "    <tr>\n",
       "      <th>1053</th>\n",
       "      <td>Ultram ODT</td>\n",
       "      <td>Pain</td>\n",
       "      <td>\"I have been using tramadol for eight years fo...</td>\n",
       "      <td>10.0</td>\n",
       "      <td>105</td>\n",
       "    </tr>\n",
       "    <tr>\n",
       "      <th>1944</th>\n",
       "      <td>Belbuca</td>\n",
       "      <td>Pain</td>\n",
       "      <td>\"I was on Fentynal  patches for year and a hal...</td>\n",
       "      <td>1.0</td>\n",
       "      <td>14</td>\n",
       "    </tr>\n",
       "    <tr>\n",
       "      <th>2110</th>\n",
       "      <td>Talacen</td>\n",
       "      <td>Pain</td>\n",
       "      <td>\"I have rheumatoid arthritis and a few other b...</td>\n",
       "      <td>9.0</td>\n",
       "      <td>12</td>\n",
       "    </tr>\n",
       "  </tbody>\n",
       "</table>\n",
       "</div>"
      ],
      "text/plain": [
       "            drug condition                                             review  \\\n",
       "1043     Ibudone      Pain  \"I just started taking this medicine.  I have ...   \n",
       "1048  Ultram ODT      Pain  \"You can use ultram to detox yourself from har...   \n",
       "1053  Ultram ODT      Pain  \"I have been using tramadol for eight years fo...   \n",
       "1944     Belbuca      Pain  \"I was on Fentynal  patches for year and a hal...   \n",
       "2110     Talacen      Pain  \"I have rheumatoid arthritis and a few other b...   \n",
       "\n",
       "      rating  usefulcount  \n",
       "1043     7.0           27  \n",
       "1048    10.0           28  \n",
       "1053    10.0          105  \n",
       "1944     1.0           14  \n",
       "2110     9.0           12  "
      ]
     },
     "execution_count": 53,
     "metadata": {},
     "output_type": "execute_result"
    }
   ],
   "source": [
    "pain = reviews.loc[reviews['condition'] == 'Pain']\n",
    "\n",
    "pain = pd.DataFrame(pain)\n",
    "\n",
    "pain.head()"
   ]
  },
  {
   "cell_type": "code",
   "execution_count": 54,
   "id": "30dd8f54",
   "metadata": {},
   "outputs": [
    {
     "data": {
      "text/plain": [
       "(6145, 5)"
      ]
     },
     "execution_count": 54,
     "metadata": {},
     "output_type": "execute_result"
    }
   ],
   "source": [
    "pain.shape"
   ]
  },
  {
   "cell_type": "markdown",
   "id": "96dfb594",
   "metadata": {},
   "source": [
    "Below, I will observe the most common drugs reviewed for pain."
   ]
  },
  {
   "cell_type": "markdown",
   "id": "2bd9db4c",
   "metadata": {},
   "source": [
    "#### Most Common Drugs"
   ]
  },
  {
   "cell_type": "code",
   "execution_count": 55,
   "id": "e2c2654a",
   "metadata": {},
   "outputs": [
    {
     "data": {
      "text/plain": [
       "Tramadol                       0.058096\n",
       "Acetaminophen / hydrocodone    0.054028\n",
       "Oxycodone                      0.045728\n",
       "Acetaminophen / oxycodone      0.040521\n",
       "Tapentadol                     0.035151\n",
       "                                 ...   \n",
       "Ziconotide                     0.000163\n",
       "Capsin                         0.000163\n",
       "Lanacane                       0.000163\n",
       "Indocin SR                     0.000163\n",
       "Ibudone                        0.000163\n",
       "Name: drug, Length: 200, dtype: float64"
      ]
     },
     "execution_count": 55,
     "metadata": {},
     "output_type": "execute_result"
    }
   ],
   "source": [
    "pain.drug.value_counts(normalize = True)"
   ]
  },
  {
   "cell_type": "markdown",
   "id": "f7b0658f",
   "metadata": {},
   "source": [
    "It appears that the most commonly reviewed drugs for pain are Tramadol, Acetaminophen / hydrocodone, Oxycodone, Acetaminophen / oxycodone, and Tapentadol. It also appears that 200 drugs were reviewed for their effects on pain."
   ]
  },
  {
   "cell_type": "code",
   "execution_count": 56,
   "id": "97383904",
   "metadata": {},
   "outputs": [
    {
     "data": {
      "text/plain": [
       "array(['Tramadol', 'Acetaminophen / oxycodone', 'Tapentadol',\n",
       "       'Acetaminophen / hydrocodone', 'Oxycodone'], dtype=object)"
      ]
     },
     "execution_count": 56,
     "metadata": {},
     "output_type": "execute_result"
    }
   ],
   "source": [
    "pain_drugs = pain.loc[(pain['drug'] == 'Tramadol') | (pain['drug'] == 'Acetaminophen / hydrocodone') |\n",
    "                                 (pain['drug'] == 'Oxycodone') | (pain['drug'] == 'Acetaminophen / oxycodone') |\n",
    "                                  (pain['drug'] == 'Tapentadol')]\n",
    "\n",
    "pain_drugs.drug.unique()"
   ]
  },
  {
   "cell_type": "markdown",
   "id": "f4d40f96",
   "metadata": {},
   "source": [
    "##### Distribution of Most Common Drugs"
   ]
  },
  {
   "cell_type": "code",
   "execution_count": 57,
   "id": "b53d3576",
   "metadata": {},
   "outputs": [
    {
     "data": {
      "image/png": "[encoded data removed]",
      "text/plain": [
       "<Figure size 640x480 with 1 Axes>"
      ]
     },
     "metadata": {},
     "output_type": "display_data"
    }
   ],
   "source": [
    "sns.histplot(data= pain_drugs, y = 'drug').set(\n",
    "    title = 'Number of Reviews for Most Commonly Reviewed Drugs - Pain');"
   ]
  },
  {
   "cell_type": "markdown",
   "id": "d6d4ecd6",
   "metadata": {},
   "source": [
    "As noted above, Tramadol was the most commonly reviewed drug for pain. Below, I will show the average rating for each of these drugs."
   ]
  },
  {
   "cell_type": "code",
   "execution_count": 58,
   "id": "b8cb1525",
   "metadata": {},
   "outputs": [
    {
     "data": {
      "image/png": "[encoded data removed]",
      "text/plain": [
       "<Figure size 640x480 with 1 Axes>"
      ]
     },
     "metadata": {},
     "output_type": "display_data"
    }
   ],
   "source": [
    "sns.histplot(data= pain_drugs, x = 'rating').set(\n",
    "    title = 'Histogram of Ratings - Pain');"
   ]
  },
  {
   "cell_type": "markdown",
   "id": "20ea4517",
   "metadata": {},
   "source": [
    "##### Average Rating of Most Commonly Reviewed Drugs"
   ]
  },
  {
   "cell_type": "code",
   "execution_count": 59,
   "id": "63915d1d",
   "metadata": {},
   "outputs": [
    {
     "data": {
      "image/png": "[encoded data removed]",
      "text/plain": [
       "<Figure size 640x480 with 1 Axes>"
      ]
     },
     "metadata": {},
     "output_type": "display_data"
    }
   ],
   "source": [
    "sns.barplot(data = pain_drugs, x='rating', y= 'drug', orient = 'h', color = 'teal').set(\n",
    "    title = 'Mean Rating of Most Commonly Reviewed Drugs - Pain');"
   ]
  },
  {
   "cell_type": "code",
   "execution_count": 60,
   "id": "95a0f776",
   "metadata": {},
   "outputs": [
    {
     "data": {
      "text/plain": [
       "drug\n",
       "Acetaminophen / hydrocodone    7.975904\n",
       "Acetaminophen / oxycodone      8.546185\n",
       "Oxycodone                      8.857651\n",
       "Tapentadol                     6.333333\n",
       "Tramadol                       6.509804\n",
       "Name: rating, dtype: float64"
      ]
     },
     "execution_count": 60,
     "metadata": {},
     "output_type": "execute_result"
    }
   ],
   "source": [
    "pain_drugs.groupby('drug')['rating'].mean()"
   ]
  },
  {
   "cell_type": "code",
   "execution_count": 61,
   "id": "136ea7a2",
   "metadata": {},
   "outputs": [
    {
     "data": {
      "text/plain": [
       "7.6322213181448335"
      ]
     },
     "execution_count": 61,
     "metadata": {},
     "output_type": "execute_result"
    }
   ],
   "source": [
    "pain.rating.mean()"
   ]
  },
  {
   "cell_type": "markdown",
   "id": "b27b6cdf",
   "metadata": {},
   "source": [
    "Of the 5 most commonly reviewed drugs for pain, Oxycodone has the highest average rating of 8.86, while Tapentadol has the lowest mean rating of 6.33.\n",
    "\n",
    "Both Tapentadol and Tramadol have ratings below the mean rating given to reviews for pain medication, whereas the other three are above."
   ]
  },
  {
   "cell_type": "markdown",
   "id": "1e4e00ba",
   "metadata": {},
   "source": [
    "#### Highest Rated Pain Medications"
   ]
  },
  {
   "cell_type": "markdown",
   "id": "b7123e69",
   "metadata": {},
   "source": [
    "I would like to see the average ratings for each pain drug as a column. I will create this below.\n",
    "\n",
    "First, I will add the empty column."
   ]
  },
  {
   "cell_type": "markdown",
   "id": "9e17a473",
   "metadata": {},
   "source": [
    "Now I will create lists of the drugs and ratings. Below are the drugs with the highest mean ratings. "
   ]
  },
  {
   "cell_type": "code",
   "execution_count": 62,
   "id": "e051a19b",
   "metadata": {},
   "outputs": [
    {
     "data": {
      "text/plain": [
       "drug\n",
       "Motrin                             10.000000\n",
       "Bupivacaine liposome               10.000000\n",
       "Vitapap                            10.000000\n",
       "Ultram ODT                         10.000000\n",
       "Children's Motrin                  10.000000\n",
       "Aspirin / caffeine                 10.000000\n",
       "Doans Pills Extra Strength         10.000000\n",
       "Motrin IB                          10.000000\n",
       "Anaprox-DS                         10.000000\n",
       "Roxicodone Intensol                10.000000\n",
       "Exparel                            10.000000\n",
       "Feverall                           10.000000\n",
       "Palladone                          10.000000\n",
       "Oxyfast                            10.000000\n",
       "Orudis KT                          10.000000\n",
       "Lorcet                             10.000000\n",
       "Magnacet                           10.000000\n",
       "Magnesium salicylate               10.000000\n",
       "Maxidone                           10.000000\n",
       "Medi-Quik Spray                    10.000000\n",
       "Buprenex                           10.000000\n",
       "Ketoprofen                          9.750000\n",
       "Cataflam                            9.750000\n",
       "Valdecoxib                          9.750000\n",
       "Aspirin / butalbital / caffeine     9.714286\n",
       "Fiorinal                            9.666667\n",
       "Meperitab                           9.666667\n",
       "Sublimaze                           9.666667\n",
       "Actiq                               9.666667\n",
       "Methadose                           9.625000\n",
       "Name: rating, dtype: float64"
      ]
     },
     "execution_count": 62,
     "metadata": {},
     "output_type": "execute_result"
    }
   ],
   "source": [
    "pain.groupby('drug')['rating'].mean().sort_values(ascending = False).head(30)"
   ]
  },
  {
   "cell_type": "markdown",
   "id": "13452e9e",
   "metadata": {},
   "source": [
    "The top 25 rated pain medications all received a rating of 10, so the top 30 drugs are shown instead. \n",
    "\n",
    "I suspect that the 10.00 rated drugs may be drugs with few (yet positive) reviews. I will determine this below."
   ]
  },
  {
   "cell_type": "code",
   "execution_count": 63,
   "id": "5c8187a5",
   "metadata": {},
   "outputs": [
    {
     "data": {
      "text/plain": [
       "Bupivacaine liposome    3\n",
       "Vitapap                 2\n",
       "Motrin                  1\n",
       "Name: drug, dtype: int64"
      ]
     },
     "execution_count": 63,
     "metadata": {},
     "output_type": "execute_result"
    }
   ],
   "source": [
    "drug10sample = pain.loc[(pain['drug'] == 'Motrin') | (pain['drug'] == 'Bupivacaine liposome')| \n",
    "                        (pain['drug'] == 'Vitapap')]\n",
    "drug10sample.drug.value_counts()"
   ]
  },
  {
   "cell_type": "markdown",
   "id": "f659b997",
   "metadata": {},
   "source": [
    "Yes, these are drugs that appear infrequently in the dataset for the pain condition. However, their average ratings are still shown above."
   ]
  },
  {
   "cell_type": "markdown",
   "id": "fec0c3ff",
   "metadata": {},
   "source": [
    "#### Lowest Average Rating"
   ]
  },
  {
   "cell_type": "code",
   "execution_count": 64,
   "id": "6c57136a",
   "metadata": {},
   "outputs": [
    {
     "data": {
      "text/plain": [
       "drug\n",
       "Capsin                     1.000000\n",
       "Belbuca                    1.000000\n",
       "Ziconotide                 1.000000\n",
       "Prialt                     1.000000\n",
       "Capzasin                   1.000000\n",
       "Dolobid                    1.000000\n",
       "Proctofoam                 2.000000\n",
       "Advil Liqui-Gels           2.000000\n",
       "Aspirin / oxycodone        2.333333\n",
       "Tylenol with Codeine #4    2.750000\n",
       "Hysingla ER                4.176471\n",
       "Naloxone / oxycodone       4.500000\n",
       "Camphor / menthol          4.500000\n",
       "Acetaminophen / codeine    4.946809\n",
       "Darvocet-N 50              5.000000\n",
       "Name: rating, dtype: float64"
      ]
     },
     "execution_count": 64,
     "metadata": {},
     "output_type": "execute_result"
    }
   ],
   "source": [
    "pain.groupby('drug')['rating'].mean().sort_values(ascending = True).head(15)"
   ]
  },
  {
   "cell_type": "markdown",
   "id": "2487b5ae",
   "metadata": {},
   "source": [
    "The lowest-rated pain drugs range from mean ratings of 1.00 to 5.00."
   ]
  },
  {
   "cell_type": "markdown",
   "id": "03de10cc",
   "metadata": {},
   "source": [
    "#### Highest Average Useful Count"
   ]
  },
  {
   "cell_type": "code",
   "execution_count": 65,
   "id": "36ee7050",
   "metadata": {},
   "outputs": [
    {
     "data": {
      "text/plain": [
       "drug\n",
       "Elavil               135.772727\n",
       "Pamelor              128.000000\n",
       "Nortriptyline        112.916667\n",
       "Amitriptyline         85.937500\n",
       "Methadone Diskets     84.000000\n",
       "                        ...    \n",
       "Prialt                 1.000000\n",
       "Ziconotide             1.000000\n",
       "Menthol                0.500000\n",
       "Proctofoam             0.000000\n",
       "Lagesic                0.000000\n",
       "Name: usefulcount, Length: 200, dtype: float64"
      ]
     },
     "execution_count": 65,
     "metadata": {},
     "output_type": "execute_result"
    }
   ],
   "source": [
    "pain.groupby('drug')['usefulcount'].mean().sort_values(ascending = False)"
   ]
  },
  {
   "cell_type": "markdown",
   "id": "eb870004",
   "metadata": {},
   "source": [
    "It appears that Elavil, Pamelor, Nortriptyline, Amitriptyline, and Methadone Diskets are the drugs with reviews of highest average useful count.\n",
    "\n",
    "I will now move on to observe Anxiety."
   ]
  },
  {
   "cell_type": "markdown",
   "id": "c52671e4",
   "metadata": {},
   "source": [
    "### Anxiety"
   ]
  },
  {
   "cell_type": "code",
   "execution_count": 66,
   "id": "a5133eda",
   "metadata": {},
   "outputs": [
    {
     "data": {
      "text/html": [
       "<div>\n",
       "<style scoped>\n",
       "    .dataframe tbody tr th:only-of-type {\n",
       "        vertical-align: middle;\n",
       "    }\n",
       "\n",
       "    .dataframe tbody tr th {\n",
       "        vertical-align: top;\n",
       "    }\n",
       "\n",
       "    .dataframe thead th {\n",
       "        text-align: right;\n",
       "    }\n",
       "</style>\n",
       "<table border=\"1\" class=\"dataframe\">\n",
       "  <thead>\n",
       "    <tr style=\"text-align: right;\">\n",
       "      <th></th>\n",
       "      <th>drug</th>\n",
       "      <th>condition</th>\n",
       "      <th>review</th>\n",
       "      <th>rating</th>\n",
       "      <th>usefulcount</th>\n",
       "    </tr>\n",
       "  </thead>\n",
       "  <tbody>\n",
       "    <tr>\n",
       "      <th>4661</th>\n",
       "      <td>Paxil CR</td>\n",
       "      <td>Anxiety</td>\n",
       "      <td>\"I love it. It works for me very well. I take ...</td>\n",
       "      <td>10.0</td>\n",
       "      <td>20</td>\n",
       "    </tr>\n",
       "    <tr>\n",
       "      <th>4665</th>\n",
       "      <td>Paxil CR</td>\n",
       "      <td>Anxiety</td>\n",
       "      <td>\"I was taking Prozac for few years to treat my...</td>\n",
       "      <td>9.0</td>\n",
       "      <td>28</td>\n",
       "    </tr>\n",
       "    <tr>\n",
       "      <th>4666</th>\n",
       "      <td>Paxil CR</td>\n",
       "      <td>Anxiety</td>\n",
       "      <td>\"I was taking Paxil for both depression and an...</td>\n",
       "      <td>7.0</td>\n",
       "      <td>43</td>\n",
       "    </tr>\n",
       "    <tr>\n",
       "      <th>4668</th>\n",
       "      <td>Paxil CR</td>\n",
       "      <td>Anxiety</td>\n",
       "      <td>\"It will do nothing negative. Give it a try to...</td>\n",
       "      <td>10.0</td>\n",
       "      <td>13</td>\n",
       "    </tr>\n",
       "    <tr>\n",
       "      <th>4669</th>\n",
       "      <td>Paxil CR</td>\n",
       "      <td>Anxiety</td>\n",
       "      <td>\"After 5 years on Paxil, then 2 years on Paxil...</td>\n",
       "      <td>8.0</td>\n",
       "      <td>1</td>\n",
       "    </tr>\n",
       "  </tbody>\n",
       "</table>\n",
       "</div>"
      ],
      "text/plain": [
       "          drug condition                                             review  \\\n",
       "4661  Paxil CR   Anxiety  \"I love it. It works for me very well. I take ...   \n",
       "4665  Paxil CR   Anxiety  \"I was taking Prozac for few years to treat my...   \n",
       "4666  Paxil CR   Anxiety  \"I was taking Paxil for both depression and an...   \n",
       "4668  Paxil CR   Anxiety  \"It will do nothing negative. Give it a try to...   \n",
       "4669  Paxil CR   Anxiety  \"After 5 years on Paxil, then 2 years on Paxil...   \n",
       "\n",
       "      rating  usefulcount  \n",
       "4661    10.0           20  \n",
       "4665     9.0           28  \n",
       "4666     7.0           43  \n",
       "4668    10.0           13  \n",
       "4669     8.0            1  "
      ]
     },
     "execution_count": 66,
     "metadata": {},
     "output_type": "execute_result"
    }
   ],
   "source": [
    "anxiety = reviews.loc[reviews['condition']== 'Anxiety']\n",
    "\n",
    "anxiety = pd.DataFrame(anxiety)\n",
    "                          \n",
    "anxiety.head()"
   ]
  },
  {
   "cell_type": "code",
   "execution_count": 67,
   "id": "ee254560",
   "metadata": {},
   "outputs": [
    {
     "data": {
      "text/plain": [
       "(5904, 5)"
      ]
     },
     "execution_count": 67,
     "metadata": {},
     "output_type": "execute_result"
    }
   ],
   "source": [
    "anxiety.shape"
   ]
  },
  {
   "cell_type": "markdown",
   "id": "bd8c3ac5",
   "metadata": {},
   "source": [
    "Below, I will observe information for the most commonly reviewed anxiety drugs."
   ]
  },
  {
   "cell_type": "markdown",
   "id": "d9ba3a73",
   "metadata": {},
   "source": [
    "#### Most Common Drugs"
   ]
  },
  {
   "cell_type": "code",
   "execution_count": 68,
   "id": "46cc3a44",
   "metadata": {},
   "outputs": [
    {
     "data": {
      "text/plain": [
       "Escitalopram    0.081978\n",
       "Alprazolam      0.072493\n",
       "Buspirone       0.068936\n",
       "Clonazepam      0.066396\n",
       "Lexapro         0.063008\n",
       "                  ...   \n",
       "Vanspar         0.000169\n",
       "Serzone         0.000169\n",
       "Tranxene SD     0.000169\n",
       "Zetran          0.000169\n",
       "Nadolol         0.000169\n",
       "Name: drug, Length: 78, dtype: float64"
      ]
     },
     "execution_count": 68,
     "metadata": {},
     "output_type": "execute_result"
    }
   ],
   "source": [
    "anxiety.drug.value_counts(normalize = True)"
   ]
  },
  {
   "cell_type": "markdown",
   "id": "29a9e9c8",
   "metadata": {},
   "source": [
    "It appears that the most commonly reviewed anxiety drugs are Escitalopram, Alprazolam, Buspirone, Clonazepam, and Lexapro.\n",
    "\n",
    "I will create a subset of these in order to observe trends."
   ]
  },
  {
   "cell_type": "code",
   "execution_count": 69,
   "id": "e259e75a",
   "metadata": {},
   "outputs": [
    {
     "data": {
      "text/plain": [
       "array(['Lexapro', 'Escitalopram', 'Alprazolam', 'Buspirone', 'Clonazepam'],\n",
       "      dtype=object)"
      ]
     },
     "execution_count": 69,
     "metadata": {},
     "output_type": "execute_result"
    }
   ],
   "source": [
    "anxiety_drugs = anxiety.loc[(anxiety['drug'] == 'Escitalopram') | (anxiety['drug'] == 'Alprazolam') |\n",
    "                                 (anxiety['drug'] == 'Buspirone') | (anxiety['drug'] == 'Clonazepam') |\n",
    "                                  (anxiety['drug'] == 'Lexapro')]\n",
    "anxiety_drugs.drug.unique()"
   ]
  },
  {
   "cell_type": "markdown",
   "id": "19666bec",
   "metadata": {},
   "source": [
    "##### Distribution of Most Common Drugs"
   ]
  },
  {
   "cell_type": "code",
   "execution_count": 70,
   "id": "780d0c81",
   "metadata": {},
   "outputs": [
    {
     "data": {
      "image/png": "[encoded data removed]",
      "text/plain": [
       "<Figure size 640x480 with 1 Axes>"
      ]
     },
     "metadata": {},
     "output_type": "display_data"
    }
   ],
   "source": [
    "sns.histplot(data = anxiety_drugs, x='drug').set(\n",
    "    title = 'Number of Reviews for Most Commonly Reviewed Drugs - Anxiety');"
   ]
  },
  {
   "cell_type": "markdown",
   "id": "9404656e",
   "metadata": {},
   "source": [
    "As was shown above, Escitalopram is the most commonly reviewed drug for anxiety.\n",
    "\n",
    "I will next show average rating for each of these drugs."
   ]
  },
  {
   "cell_type": "code",
   "execution_count": 71,
   "id": "9b8dc830",
   "metadata": {},
   "outputs": [
    {
     "data": {
      "image/png": "[encoded data removed]",
      "text/plain": [
       "<Figure size 640x480 with 1 Axes>"
      ]
     },
     "metadata": {},
     "output_type": "display_data"
    }
   ],
   "source": [
    "sns.histplot(data = anxiety_drugs, x='rating').set(\n",
    "    title = 'Histogram of Ratings - Anxiety');"
   ]
  },
  {
   "cell_type": "markdown",
   "id": "799fc89c",
   "metadata": {},
   "source": [
    "##### Average Rating of Most Commonly Reviewed Drugs"
   ]
  },
  {
   "cell_type": "code",
   "execution_count": 72,
   "id": "4ad86251",
   "metadata": {},
   "outputs": [
    {
     "data": {
      "image/png": "[encoded data removed]",
      "text/plain": [
       "<Figure size 640x480 with 1 Axes>"
      ]
     },
     "metadata": {},
     "output_type": "display_data"
    }
   ],
   "source": [
    "sns.barplot(data = anxiety_drugs, x='rating', y= 'drug', orient = 'h', color = 'teal').set(\n",
    "    title = 'Mean Rating of Most Commonly Reviewed Drugs - Anxiety');"
   ]
  },
  {
   "cell_type": "code",
   "execution_count": 73,
   "id": "0df25a7c",
   "metadata": {},
   "outputs": [
    {
     "data": {
      "text/plain": [
       "drug\n",
       "Alprazolam      8.869159\n",
       "Buspirone       6.164619\n",
       "Clonazepam      8.612245\n",
       "Escitalopram    7.909091\n",
       "Lexapro         7.841398\n",
       "Name: rating, dtype: float64"
      ]
     },
     "execution_count": 73,
     "metadata": {},
     "output_type": "execute_result"
    }
   ],
   "source": [
    "anxiety_drugs.groupby('drug')['rating'].mean()"
   ]
  },
  {
   "cell_type": "code",
   "execution_count": 74,
   "id": "eab01d53",
   "metadata": {},
   "outputs": [
    {
     "data": {
      "text/plain": [
       "7.691056910569106"
      ]
     },
     "execution_count": 74,
     "metadata": {},
     "output_type": "execute_result"
    }
   ],
   "source": [
    "anxiety.rating.mean()"
   ]
  },
  {
   "cell_type": "markdown",
   "id": "b5754723",
   "metadata": {},
   "source": [
    "Of the 5 most commonly reviewed anxiety medications, Alprazolam has the highest mean rating of 8.87. The lowest rated medication in this group is Buspirone, with a mean rating of 6.16.\n",
    "\n",
    "Of the same 5 medications, Buspirone is the only one with a rating below the average rating for anxiety medications, which is 7.69.\n",
    "\n",
    "Now, I would like to observe the highest and lowest rated medications for all reviews of anxiety medication."
   ]
  },
  {
   "cell_type": "markdown",
   "id": "36d07604",
   "metadata": {},
   "source": [
    "#### Highest Rated Anxiety Medications"
   ]
  },
  {
   "cell_type": "code",
   "execution_count": 75,
   "id": "fe98de47",
   "metadata": {},
   "outputs": [
    {
     "data": {
      "text/plain": [
       "drug\n",
       "Zetran                              10.000000\n",
       "Phenytoin                           10.000000\n",
       "Diazepam Intensol                   10.000000\n",
       "Lorazepam Intensol                  10.000000\n",
       "Wellbutrin                          10.000000\n",
       "Micrainin                           10.000000\n",
       "Alprazolam Intensol                 10.000000\n",
       "Tranxene SD                         10.000000\n",
       "Pexeva                              10.000000\n",
       "Niravam                              9.800000\n",
       "Amitriptyline / chlordiazepoxide     9.666667\n",
       "Klonopin Wafer                       9.600000\n",
       "Limbitrol DS                         9.500000\n",
       "Triavil                              9.500000\n",
       "Amitriptyline / perphenazine         9.500000\n",
       "Name: rating, dtype: float64"
      ]
     },
     "execution_count": 75,
     "metadata": {},
     "output_type": "execute_result"
    }
   ],
   "source": [
    "anxiety.groupby('drug')['rating'].mean().sort_values(ascending = False).head(15)"
   ]
  },
  {
   "cell_type": "markdown",
   "id": "c659761c",
   "metadata": {},
   "source": [
    "The 15 top-rated medications range from 9.50 to 10.00."
   ]
  },
  {
   "cell_type": "markdown",
   "id": "bbf707a9",
   "metadata": {},
   "source": [
    "#### Lowest Rated Anxiety Medications"
   ]
  },
  {
   "cell_type": "code",
   "execution_count": 76,
   "id": "5e66da60",
   "metadata": {},
   "outputs": [
    {
     "data": {
      "text/plain": [
       "drug\n",
       "Vanspar             1.000000\n",
       "Compazine           3.666667\n",
       "Oxcarbazepine       4.444444\n",
       "Catapres            4.500000\n",
       "Stelazine           5.000000\n",
       "Nefazodone          5.000000\n",
       "Prochlorperazine    5.333333\n",
       "Hydroxyzine         5.679365\n",
       "Vistaril            5.712766\n",
       "Wellbutrin XL       6.000000\n",
       "Trifluoperazine     6.000000\n",
       "Nadolol             6.000000\n",
       "Risperidone         6.047619\n",
       "Buspirone           6.164619\n",
       "Atarax              6.260000\n",
       "Name: rating, dtype: float64"
      ]
     },
     "execution_count": 76,
     "metadata": {},
     "output_type": "execute_result"
    }
   ],
   "source": [
    "anxiety.groupby('drug')['rating'].mean().sort_values(ascending = True).head(15)"
   ]
  },
  {
   "cell_type": "markdown",
   "id": "c4934bd7",
   "metadata": {},
   "source": [
    "The 15 lowest-rated anxiety medications range from 1.00 to 6.26. "
   ]
  },
  {
   "cell_type": "markdown",
   "id": "d315ca40",
   "metadata": {},
   "source": [
    "#### Highest Average Useful Count"
   ]
  },
  {
   "cell_type": "code",
   "execution_count": 77,
   "id": "a7979e69",
   "metadata": {},
   "outputs": [
    {
     "data": {
      "text/plain": [
       "drug\n",
       "Wellbutrin                          150.000000\n",
       "Neurontin                           145.222222\n",
       "Viibryd                             132.800000\n",
       "Tenormin                            116.000000\n",
       "Desyrel                             105.000000\n",
       "                                       ...    \n",
       "Nefazodone                           12.500000\n",
       "Vanspar                              10.000000\n",
       "Amitriptyline / chlordiazepoxide      9.333333\n",
       "Trifluoperazine                       4.333333\n",
       "Micrainin                             3.000000\n",
       "Name: usefulcount, Length: 78, dtype: float64"
      ]
     },
     "execution_count": 77,
     "metadata": {},
     "output_type": "execute_result"
    }
   ],
   "source": [
    "anxiety.groupby('drug')['usefulcount'].mean().sort_values(ascending = False)"
   ]
  },
  {
   "cell_type": "markdown",
   "id": "89744f60",
   "metadata": {},
   "source": [
    "It appears that on average, the drugs with reviews engendering the highest useful counts are Wellbutrin, Neurotin, Viibryd, Tenormin, and Desyrel.\n",
    "\n",
    "A medical professional or researcher interested in learning more about which depression medication reviews people find most useful could make use of this information.\n",
    "\n",
    "I will now move on to observe the final condition of interest, which is acne."
   ]
  },
  {
   "cell_type": "markdown",
   "id": "d1ac86b3",
   "metadata": {},
   "source": [
    "### Acne"
   ]
  },
  {
   "cell_type": "code",
   "execution_count": 78,
   "id": "7ca29de4",
   "metadata": {},
   "outputs": [
    {
     "data": {
      "text/html": [
       "<div>\n",
       "<style scoped>\n",
       "    .dataframe tbody tr th:only-of-type {\n",
       "        vertical-align: middle;\n",
       "    }\n",
       "\n",
       "    .dataframe tbody tr th {\n",
       "        vertical-align: top;\n",
       "    }\n",
       "\n",
       "    .dataframe thead th {\n",
       "        text-align: right;\n",
       "    }\n",
       "</style>\n",
       "<table border=\"1\" class=\"dataframe\">\n",
       "  <thead>\n",
       "    <tr style=\"text-align: right;\">\n",
       "      <th></th>\n",
       "      <th>drug</th>\n",
       "      <th>condition</th>\n",
       "      <th>review</th>\n",
       "      <th>rating</th>\n",
       "      <th>usefulcount</th>\n",
       "    </tr>\n",
       "  </thead>\n",
       "  <tbody>\n",
       "    <tr>\n",
       "      <th>600</th>\n",
       "      <td>Resorcinol / sulfur</td>\n",
       "      <td>Acne</td>\n",
       "      <td>\"Have loved this product since I began using i...</td>\n",
       "      <td>10.0</td>\n",
       "      <td>3</td>\n",
       "    </tr>\n",
       "    <tr>\n",
       "      <th>1940</th>\n",
       "      <td>Dynacin</td>\n",
       "      <td>Acne</td>\n",
       "      <td>\"This drug is very helpful. I used to have pus...</td>\n",
       "      <td>8.0</td>\n",
       "      <td>10</td>\n",
       "    </tr>\n",
       "    <tr>\n",
       "      <th>2455</th>\n",
       "      <td>Altabax</td>\n",
       "      <td>Acne</td>\n",
       "      <td>\"Hi I get pimples on my face, nose area especi...</td>\n",
       "      <td>9.0</td>\n",
       "      <td>4</td>\n",
       "    </tr>\n",
       "    <tr>\n",
       "      <th>2456</th>\n",
       "      <td>Altabax</td>\n",
       "      <td>Acne</td>\n",
       "      <td>\"I was prescribed this after not having luck w...</td>\n",
       "      <td>8.0</td>\n",
       "      <td>2</td>\n",
       "    </tr>\n",
       "    <tr>\n",
       "      <th>3901</th>\n",
       "      <td>Aldactone</td>\n",
       "      <td>Acne</td>\n",
       "      <td>\"I have been taking Aldactone for adult hormon...</td>\n",
       "      <td>10.0</td>\n",
       "      <td>140</td>\n",
       "    </tr>\n",
       "  </tbody>\n",
       "</table>\n",
       "</div>"
      ],
      "text/plain": [
       "                     drug condition  \\\n",
       "600   Resorcinol / sulfur      Acne   \n",
       "1940              Dynacin      Acne   \n",
       "2455              Altabax      Acne   \n",
       "2456              Altabax      Acne   \n",
       "3901            Aldactone      Acne   \n",
       "\n",
       "                                                 review  rating  usefulcount  \n",
       "600   \"Have loved this product since I began using i...    10.0            3  \n",
       "1940  \"This drug is very helpful. I used to have pus...     8.0           10  \n",
       "2455  \"Hi I get pimples on my face, nose area especi...     9.0            4  \n",
       "2456  \"I was prescribed this after not having luck w...     8.0            2  \n",
       "3901  \"I have been taking Aldactone for adult hormon...    10.0          140  "
      ]
     },
     "execution_count": 78,
     "metadata": {},
     "output_type": "execute_result"
    }
   ],
   "source": [
    "acne = reviews.loc[reviews['condition']== 'Acne']\n",
    "\n",
    "acne = pd.DataFrame(acne)\n",
    "                          \n",
    "acne.head()"
   ]
  },
  {
   "cell_type": "code",
   "execution_count": 79,
   "id": "aa2ba139",
   "metadata": {},
   "outputs": [
    {
     "data": {
      "text/plain": [
       "(5588, 5)"
      ]
     },
     "execution_count": 79,
     "metadata": {},
     "output_type": "execute_result"
    }
   ],
   "source": [
    "acne.shape"
   ]
  },
  {
   "cell_type": "markdown",
   "id": "83967407",
   "metadata": {},
   "source": [
    "There are 5,588 reviews for acne medications.\n",
    "\n",
    "Below, I will observe the information for most commonly reviewed acne drugs."
   ]
  },
  {
   "cell_type": "markdown",
   "id": "9345e84e",
   "metadata": {},
   "source": [
    "#### Most Common Drugs"
   ]
  },
  {
   "cell_type": "code",
   "execution_count": 80,
   "id": "32a6923a",
   "metadata": {},
   "outputs": [
    {
     "data": {
      "text/plain": [
       "Isotretinoin                    0.092520\n",
       "Adapalene / benzoyl peroxide    0.071045\n",
       "Epiduo                          0.070508\n",
       "Doxycycline                     0.064603\n",
       "Accutane                        0.057445\n",
       "                                  ...   \n",
       "BP Wash                         0.000179\n",
       "Hexachlorophene                 0.000179\n",
       "Clindagel                       0.000179\n",
       "Avita                           0.000179\n",
       "Resorcinol / sulfur             0.000179\n",
       "Name: drug, Length: 117, dtype: float64"
      ]
     },
     "execution_count": 80,
     "metadata": {},
     "output_type": "execute_result"
    }
   ],
   "source": [
    "acne.drug.value_counts(normalize = True)"
   ]
  },
  {
   "cell_type": "markdown",
   "id": "87cae445",
   "metadata": {},
   "source": [
    "It appears that there are 117 acne medications represented. The most common are Isotretinoin, Adapalene / benzoyl peroxide, Epiduo, Doxycycline, and Accutane.\n",
    "\n",
    "I will create a subset in order to determine more."
   ]
  },
  {
   "cell_type": "code",
   "execution_count": 81,
   "id": "e5eb9c55",
   "metadata": {},
   "outputs": [
    {
     "data": {
      "text/plain": [
       "array(['Epiduo', 'Isotretinoin', 'Doxycycline', 'Accutane',\n",
       "       'Adapalene / benzoyl peroxide'], dtype=object)"
      ]
     },
     "execution_count": 81,
     "metadata": {},
     "output_type": "execute_result"
    }
   ],
   "source": [
    "acne_drugs = acne.loc[(acne['drug'] == 'Isotretinoin') | (acne['drug'] == 'Adapalene / benzoyl peroxide') |\n",
    "                                 (acne['drug'] == 'Epiduo') | (acne['drug'] == 'Doxycycline') |\n",
    "                                  (acne['drug'] == 'Accutane')]\n",
    "acne_drugs.drug.unique()"
   ]
  },
  {
   "cell_type": "markdown",
   "id": "0eaa156f",
   "metadata": {},
   "source": [
    "I will now observe the attributes of this group."
   ]
  },
  {
   "cell_type": "markdown",
   "id": "b8ef8ecf",
   "metadata": {},
   "source": [
    "##### Distribution of Most Common Drugs"
   ]
  },
  {
   "cell_type": "code",
   "execution_count": 82,
   "id": "9bc7638b",
   "metadata": {},
   "outputs": [
    {
     "data": {
      "image/png": "[encoded data removed]",
      "text/plain": [
       "<Figure size 640x480 with 1 Axes>"
      ]
     },
     "metadata": {},
     "output_type": "display_data"
    }
   ],
   "source": [
    "sns.histplot(data = acne_drugs, y='drug').set(\n",
    "    title = 'Number of Reviews of Most Commony Reviewed Drugs - Acne');"
   ]
  },
  {
   "cell_type": "markdown",
   "id": "d7ec0b08",
   "metadata": {},
   "source": [
    "As was shown above, Isotretinoin was the most commonly reviewed acne drug.\n",
    "\n",
    "Next, I will show the average rating for each of these commonly reviewed acne drugs."
   ]
  },
  {
   "cell_type": "code",
   "execution_count": 83,
   "id": "9767d435",
   "metadata": {},
   "outputs": [
    {
     "data": {
      "image/png": "[encoded data removed]",
      "text/plain": [
       "<Figure size 640x480 with 1 Axes>"
      ]
     },
     "metadata": {},
     "output_type": "display_data"
    }
   ],
   "source": [
    "sns.histplot(data = acne_drugs, x='rating').set(\n",
    "    title = 'Histogram of Ratings - Acne');"
   ]
  },
  {
   "cell_type": "markdown",
   "id": "84e8d3c2",
   "metadata": {},
   "source": [
    "##### Average Rating of Most Commonly Reviewed Drugs"
   ]
  },
  {
   "cell_type": "code",
   "execution_count": 84,
   "id": "3cc06680",
   "metadata": {},
   "outputs": [
    {
     "data": {
      "image/png": "[encoded data removed]",
      "text/plain": [
       "<Figure size 640x480 with 1 Axes>"
      ]
     },
     "metadata": {},
     "output_type": "display_data"
    }
   ],
   "source": [
    "sns.barplot(data = acne_drugs, x='rating', y= 'drug', orient = 'h', color = 'teal').set(\n",
    "    title = 'Mean Rating of Most Commonly Reviewed Drugs - Acne');"
   ]
  },
  {
   "cell_type": "code",
   "execution_count": 85,
   "id": "43e4bf7b",
   "metadata": {},
   "outputs": [
    {
     "data": {
      "text/plain": [
       "drug\n",
       "Accutane                        8.401869\n",
       "Adapalene / benzoyl peroxide    7.521411\n",
       "Doxycycline                     7.437673\n",
       "Epiduo                          7.332487\n",
       "Isotretinoin                    8.381044\n",
       "Name: rating, dtype: float64"
      ]
     },
     "execution_count": 85,
     "metadata": {},
     "output_type": "execute_result"
    }
   ],
   "source": [
    "acne_drugs.groupby('drug')['rating'].mean()"
   ]
  },
  {
   "cell_type": "code",
   "execution_count": 86,
   "id": "e3964cde",
   "metadata": {},
   "outputs": [
    {
     "data": {
      "text/plain": [
       "7.374194702934861"
      ]
     },
     "execution_count": 86,
     "metadata": {},
     "output_type": "execute_result"
    }
   ],
   "source": [
    "acne.rating.mean()"
   ]
  },
  {
   "cell_type": "markdown",
   "id": "7d587fa0",
   "metadata": {},
   "source": [
    "Of the 5 most commonly reviewed acne drugs, the most highly rated on average is Accutane with a mean rating of 8.40. Of the same 5 drugs, only Epiduo had a mean rating less than the mean rating of all acne drugs reviewed (7.33, compared to dataset acne rating mean of 7.37.)\n",
    "\n",
    "With this in mind, I will move on to observe the highest rated acne medications for the entire dataset."
   ]
  },
  {
   "cell_type": "markdown",
   "id": "c284babb",
   "metadata": {},
   "source": [
    "#### Highest Rated Acne Medications"
   ]
  },
  {
   "cell_type": "code",
   "execution_count": 87,
   "id": "9ce2103a",
   "metadata": {},
   "outputs": [
    {
     "data": {
      "text/plain": [
       "drug\n",
       "Hexachlorophene                      10.000000\n",
       "Oxy-10                               10.000000\n",
       "Salicylic acid / sulfur              10.000000\n",
       "Salicylic acid                       10.000000\n",
       "Septra                               10.000000\n",
       "Clindagel                            10.000000\n",
       "Resorcinol / sulfur                  10.000000\n",
       "Pernox                               10.000000\n",
       "PanOxyl 10% Acne Foaming Wash        10.000000\n",
       "Avita                                10.000000\n",
       "Benzoyl peroxide / hydrocortisone    10.000000\n",
       "Avar                                 10.000000\n",
       "Sulfur                               10.000000\n",
       "NuOx                                 10.000000\n",
       "Ery Pads                             10.000000\n",
       "Erythromycin                         10.000000\n",
       "Norinyl 1+35                         10.000000\n",
       "Fostex Medicated                     10.000000\n",
       "Benzoyl peroxide / sulfur            10.000000\n",
       "Aldactone                             9.750000\n",
       "PanOxyl                               9.600000\n",
       "Clarifoam EF                          9.200000\n",
       "Doxy 100                              9.000000\n",
       "Fabior                                9.000000\n",
       "Vestura                               9.000000\n",
       "Vibramycin                            9.000000\n",
       "Azelex                                9.000000\n",
       "BP Wash                               9.000000\n",
       "Tretin-X                              9.000000\n",
       "Bactrim                               8.903846\n",
       "Name: rating, dtype: float64"
      ]
     },
     "execution_count": 87,
     "metadata": {},
     "output_type": "execute_result"
    }
   ],
   "source": [
    "acne.groupby('drug')['rating'].mean().sort_values(ascending = False).head(30)"
   ]
  },
  {
   "cell_type": "markdown",
   "id": "71aa6913",
   "metadata": {},
   "source": [
    "The highest rated acne medications are shown above. The top 30 are shown, as the top 15 all have average ratings of 10.00. The top 30-rated medications range from 8.90 - 10.00."
   ]
  },
  {
   "cell_type": "markdown",
   "id": "cd531ddb",
   "metadata": {},
   "source": [
    "#### Lowest Rated Acne Medications"
   ]
  },
  {
   "cell_type": "code",
   "execution_count": 88,
   "id": "072ed82e",
   "metadata": {},
   "outputs": [
    {
     "data": {
      "text/plain": [
       "drug\n",
       "femhrt                               1.000000\n",
       "Tri-Estarylla                        1.500000\n",
       "Loestrin Fe 1 / 20                   2.000000\n",
       "Junel Fe 1.5 / 30                    2.000000\n",
       "Microgestin Fe 1.5 / 30              2.800000\n",
       "Loestrin 24 Fe                       3.206897\n",
       "Ethinyl estradiol / norethindrone    3.906977\n",
       "Gildess Fe 1 / 20                    4.111111\n",
       "Microgestin Fe 1 / 20                4.285714\n",
       "Gildess Fe 1.5 / 30                  4.500000\n",
       "Tri-Linyah                           5.000000\n",
       "Tri-Sprintec                         5.388060\n",
       "Estarylla                            5.500000\n",
       "Absorica                             5.500000\n",
       "Ortho Tri-Cyclen                     5.641026\n",
       "Name: rating, dtype: float64"
      ]
     },
     "execution_count": 88,
     "metadata": {},
     "output_type": "execute_result"
    }
   ],
   "source": [
    "acne.groupby('drug')['rating'].mean().sort_values(ascending = True).head(15)"
   ]
  },
  {
   "cell_type": "markdown",
   "id": "5c10632a",
   "metadata": {},
   "source": [
    "The lowest rated acne medications are shown above. The top 15-rated medications range from 1.00 to 5.64."
   ]
  },
  {
   "cell_type": "markdown",
   "id": "cf46f5db",
   "metadata": {},
   "source": [
    "#### Highest Average Useful Count"
   ]
  },
  {
   "cell_type": "code",
   "execution_count": 89,
   "id": "fd8f92a1",
   "metadata": {},
   "outputs": [
    {
     "data": {
      "text/plain": [
       "drug\n",
       "Aldactone                            95.500000\n",
       "Milk of Magnesia                     44.000000\n",
       "Retin-A                              36.718750\n",
       "Clindamycin                          33.877551\n",
       "Clindagel                            32.000000\n",
       "                                       ...    \n",
       "Tri-Estarylla                         0.500000\n",
       "Junel Fe 1.5 / 30                     0.500000\n",
       "Loestrin Fe 1 / 20                    0.000000\n",
       "Benzoyl peroxide / salicylic acid     0.000000\n",
       "Benzoyl peroxide / hydrocortisone     0.000000\n",
       "Name: usefulcount, Length: 117, dtype: float64"
      ]
     },
     "execution_count": 89,
     "metadata": {},
     "output_type": "execute_result"
    }
   ],
   "source": [
    "acne.groupby('drug')['usefulcount'].mean().sort_values(ascending = False)"
   ]
  },
  {
   "cell_type": "markdown",
   "id": "b0930b72",
   "metadata": {},
   "source": [
    "It appears that the drugs with reviews generating the highest average useful count are: Aldactone, Milk of Magnesia, Retin-A, Clindamycin, and Clindagel.\n",
    "\n",
    "Before moving on to select a specific condition for further analysis, I will observe more information regarding ratings and useful counts."
   ]
  },
  {
   "cell_type": "markdown",
   "id": "30083bef",
   "metadata": {},
   "source": [
    "### Rating & Useful Count"
   ]
  },
  {
   "cell_type": "markdown",
   "id": "c14abb05",
   "metadata": {},
   "source": [
    "Here, I will observe to see how ratings correlate with the useful count."
   ]
  },
  {
   "cell_type": "code",
   "execution_count": 90,
   "id": "1ebd6ca5",
   "metadata": {},
   "outputs": [
    {
     "data": {
      "image/png": "[encoded data removed]",
      "text/plain": [
       "<Figure size 640x480 with 1 Axes>"
      ]
     },
     "metadata": {},
     "output_type": "display_data"
    }
   ],
   "source": [
    "sns.barplot(data = reviews, x='rating', y= 'usefulcount', color = 'teal').set(\n",
    "    title = 'Useful Count as a Function of Rating');"
   ]
  },
  {
   "cell_type": "markdown",
   "id": "2bb3848e",
   "metadata": {},
   "source": [
    "It appears that generally, the higher the rating given by the viewer, the more times it was described as useful."
   ]
  },
  {
   "cell_type": "code",
   "execution_count": 91,
   "id": "61dabf04",
   "metadata": {},
   "outputs": [
    {
     "data": {
      "image/png": "[encoded data removed]",
      "text/plain": [
       "<Figure size 640x480 with 2 Axes>"
      ]
     },
     "metadata": {},
     "output_type": "display_data"
    }
   ],
   "source": [
    "sns.heatmap(data = reviews.corr(), annot = True).set(\n",
    "    title = 'Correlation Between Useful Count & Rating');"
   ]
  },
  {
   "cell_type": "markdown",
   "id": "d07c524a",
   "metadata": {},
   "source": [
    "It appears that overall, there is a fair correlation (0.23) between rating and usefulness count."
   ]
  },
  {
   "cell_type": "markdown",
   "id": "d9460ee8",
   "metadata": {},
   "source": [
    "With the information presented regarding medications for the 5 most common health conditions in the dataset, researchers and/or medical professionals could learn more about which medications are rated highly/lowly for each condition. They could also get a sense of what information patients find most \"useful.\"\n",
    "\n",
    "In the next notebook, I will go on to observe medications for one particular condition, which is pain."
   ]
  }
 ],
 "metadata": {
  "kernelspec": {
   "display_name": "Python 3 (ipykernel)",
   "language": "python",
   "name": "python3"
  },
  "language_info": {
   "codemirror_mode": {
    "name": "ipython",
    "version": 3
   },
   "file_extension": ".py",
   "mimetype": "text/x-python",
   "name": "python",
   "nbconvert_exporter": "python",
   "pygments_lexer": "ipython3",
   "version": "3.9.13"
  }
 },
 "nbformat": 4,
 "nbformat_minor": 5
}
