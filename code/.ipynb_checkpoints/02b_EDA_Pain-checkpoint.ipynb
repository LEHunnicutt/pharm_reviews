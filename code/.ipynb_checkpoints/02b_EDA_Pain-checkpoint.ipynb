{
 "cells": [
  {
   "cell_type": "markdown",
   "id": "d4647be8",
   "metadata": {},
   "source": [
    "# 02b EDA - Pain"
   ]
  },
  {
   "cell_type": "markdown",
   "id": "bf74508a",
   "metadata": {},
   "source": [
    "## Introduction"
   ]
  },
  {
   "cell_type": "markdown",
   "id": "13b5e185",
   "metadata": {},
   "source": [
    "I will now proceed to use NLP to make determinings regarding language used in the reviews. From this point on, I will analyze the reviews in which \"Pain\" is the identified condition."
   ]
  },
  {
   "cell_type": "markdown",
   "id": "5d6ee010",
   "metadata": {},
   "source": [
    "## Data Import"
   ]
  },
  {
   "cell_type": "code",
   "execution_count": 2,
   "id": "87331670",
   "metadata": {},
   "outputs": [],
   "source": [
    "#imports necessary libraries\n",
    "\n",
    "import pandas as pd\n",
    "import numpy as np\n",
    "import matplotlib.pyplot as plt\n",
    "\n",
    "import seaborn as sns\n",
    "\n",
    "from sklearn.feature_extraction.text import CountVectorizer\n",
    "from sklearn.feature_extraction import text\n",
    "import nltk\n",
    "from nltk.sentiment.vader import SentimentIntensityAnalyzer"
   ]
  },
  {
   "cell_type": "code",
   "execution_count": 3,
   "id": "cdb7726e",
   "metadata": {},
   "outputs": [],
   "source": [
    "file_path = '../data/drugsComTrain_raw_CLEAN.csv'\n",
    "\n",
    "reviews = pd.read_csv(file_path)"
   ]
  },
  {
   "cell_type": "code",
   "execution_count": 4,
   "id": "5850de3a",
   "metadata": {},
   "outputs": [
    {
     "data": {
      "text/html": [
       "<div>\n",
       "<style scoped>\n",
       "    .dataframe tbody tr th:only-of-type {\n",
       "        vertical-align: middle;\n",
       "    }\n",
       "\n",
       "    .dataframe tbody tr th {\n",
       "        vertical-align: top;\n",
       "    }\n",
       "\n",
       "    .dataframe thead th {\n",
       "        text-align: right;\n",
       "    }\n",
       "</style>\n",
       "<table border=\"1\" class=\"dataframe\">\n",
       "  <thead>\n",
       "    <tr style=\"text-align: right;\">\n",
       "      <th></th>\n",
       "      <th>drug</th>\n",
       "      <th>condition</th>\n",
       "      <th>review</th>\n",
       "      <th>rating</th>\n",
       "      <th>usefulcount</th>\n",
       "    </tr>\n",
       "  </thead>\n",
       "  <tbody>\n",
       "    <tr>\n",
       "      <th>0</th>\n",
       "      <td>Medroxyprogesterone</td>\n",
       "      <td>Amenorrhea</td>\n",
       "      <td>\"I&amp;#039;m 21 years old and recently found out ...</td>\n",
       "      <td>10.0</td>\n",
       "      <td>11</td>\n",
       "    </tr>\n",
       "    <tr>\n",
       "      <th>1</th>\n",
       "      <td>Medroxyprogesterone</td>\n",
       "      <td>Abnormal Uterine Bleeding</td>\n",
       "      <td>\"I have been on the shot 11 years and until a ...</td>\n",
       "      <td>8.0</td>\n",
       "      <td>7</td>\n",
       "    </tr>\n",
       "    <tr>\n",
       "      <th>2</th>\n",
       "      <td>Medroxyprogesterone</td>\n",
       "      <td>Birth Control</td>\n",
       "      <td>\"Ive had four shots at this point. I was on bi...</td>\n",
       "      <td>9.0</td>\n",
       "      <td>12</td>\n",
       "    </tr>\n",
       "    <tr>\n",
       "      <th>3</th>\n",
       "      <td>Medroxyprogesterone</td>\n",
       "      <td>Abnormal Uterine Bleeding</td>\n",
       "      <td>\"I had a total of 3 shots. I got my first one ...</td>\n",
       "      <td>1.0</td>\n",
       "      <td>4</td>\n",
       "    </tr>\n",
       "    <tr>\n",
       "      <th>4</th>\n",
       "      <td>Medroxyprogesterone</td>\n",
       "      <td>Abnormal Uterine Bleeding</td>\n",
       "      <td>\"I&amp;#039;m 18 and got this for heavy bleeding. ...</td>\n",
       "      <td>5.0</td>\n",
       "      <td>6</td>\n",
       "    </tr>\n",
       "  </tbody>\n",
       "</table>\n",
       "</div>"
      ],
      "text/plain": [
       "                  drug                  condition  \\\n",
       "0  Medroxyprogesterone                 Amenorrhea   \n",
       "1  Medroxyprogesterone  Abnormal Uterine Bleeding   \n",
       "2  Medroxyprogesterone              Birth Control   \n",
       "3  Medroxyprogesterone  Abnormal Uterine Bleeding   \n",
       "4  Medroxyprogesterone  Abnormal Uterine Bleeding   \n",
       "\n",
       "                                              review  rating  usefulcount  \n",
       "0  \"I&#039;m 21 years old and recently found out ...    10.0           11  \n",
       "1  \"I have been on the shot 11 years and until a ...     8.0            7  \n",
       "2  \"Ive had four shots at this point. I was on bi...     9.0           12  \n",
       "3  \"I had a total of 3 shots. I got my first one ...     1.0            4  \n",
       "4  \"I&#039;m 18 and got this for heavy bleeding. ...     5.0            6  "
      ]
     },
     "execution_count": 4,
     "metadata": {},
     "output_type": "execute_result"
    }
   ],
   "source": [
    "reviews.head()"
   ]
  },
  {
   "cell_type": "code",
   "execution_count": 5,
   "id": "b0ac376e",
   "metadata": {},
   "outputs": [
    {
     "data": {
      "text/plain": [
       "(161297, 5)"
      ]
     },
     "execution_count": 5,
     "metadata": {},
     "output_type": "execute_result"
    }
   ],
   "source": [
    "reviews.shape"
   ]
  },
  {
   "cell_type": "code",
   "execution_count": 6,
   "id": "3e334ba3",
   "metadata": {},
   "outputs": [
    {
     "data": {
      "text/html": [
       "<div>\n",
       "<style scoped>\n",
       "    .dataframe tbody tr th:only-of-type {\n",
       "        vertical-align: middle;\n",
       "    }\n",
       "\n",
       "    .dataframe tbody tr th {\n",
       "        vertical-align: top;\n",
       "    }\n",
       "\n",
       "    .dataframe thead th {\n",
       "        text-align: right;\n",
       "    }\n",
       "</style>\n",
       "<table border=\"1\" class=\"dataframe\">\n",
       "  <thead>\n",
       "    <tr style=\"text-align: right;\">\n",
       "      <th></th>\n",
       "      <th>drug</th>\n",
       "      <th>condition</th>\n",
       "      <th>review</th>\n",
       "      <th>rating</th>\n",
       "      <th>usefulcount</th>\n",
       "    </tr>\n",
       "  </thead>\n",
       "  <tbody>\n",
       "    <tr>\n",
       "      <th>1043</th>\n",
       "      <td>Ibudone</td>\n",
       "      <td>Pain</td>\n",
       "      <td>\"I just started taking this medicine.  I have ...</td>\n",
       "      <td>7.0</td>\n",
       "      <td>27</td>\n",
       "    </tr>\n",
       "    <tr>\n",
       "      <th>1048</th>\n",
       "      <td>Ultram ODT</td>\n",
       "      <td>Pain</td>\n",
       "      <td>\"You can use ultram to detox yourself from har...</td>\n",
       "      <td>10.0</td>\n",
       "      <td>28</td>\n",
       "    </tr>\n",
       "    <tr>\n",
       "      <th>1053</th>\n",
       "      <td>Ultram ODT</td>\n",
       "      <td>Pain</td>\n",
       "      <td>\"I have been using tramadol for eight years fo...</td>\n",
       "      <td>10.0</td>\n",
       "      <td>105</td>\n",
       "    </tr>\n",
       "    <tr>\n",
       "      <th>1944</th>\n",
       "      <td>Belbuca</td>\n",
       "      <td>Pain</td>\n",
       "      <td>\"I was on Fentynal  patches for year and a hal...</td>\n",
       "      <td>1.0</td>\n",
       "      <td>14</td>\n",
       "    </tr>\n",
       "    <tr>\n",
       "      <th>2110</th>\n",
       "      <td>Talacen</td>\n",
       "      <td>Pain</td>\n",
       "      <td>\"I have rheumatoid arthritis and a few other b...</td>\n",
       "      <td>9.0</td>\n",
       "      <td>12</td>\n",
       "    </tr>\n",
       "  </tbody>\n",
       "</table>\n",
       "</div>"
      ],
      "text/plain": [
       "            drug condition                                             review  \\\n",
       "1043     Ibudone      Pain  \"I just started taking this medicine.  I have ...   \n",
       "1048  Ultram ODT      Pain  \"You can use ultram to detox yourself from har...   \n",
       "1053  Ultram ODT      Pain  \"I have been using tramadol for eight years fo...   \n",
       "1944     Belbuca      Pain  \"I was on Fentynal  patches for year and a hal...   \n",
       "2110     Talacen      Pain  \"I have rheumatoid arthritis and a few other b...   \n",
       "\n",
       "      rating  usefulcount  \n",
       "1043     7.0           27  \n",
       "1048    10.0           28  \n",
       "1053    10.0          105  \n",
       "1944     1.0           14  \n",
       "2110     9.0           12  "
      ]
     },
     "execution_count": 6,
     "metadata": {},
     "output_type": "execute_result"
    }
   ],
   "source": [
    "#creates a dataframe of the reviews for pain condition & displays top 5 rows\n",
    "\n",
    "pain = reviews.loc[reviews['condition'] == 'Pain']\n",
    "\n",
    "pain = pd.DataFrame(pain)\n",
    "\n",
    "pain.head()"
   ]
  },
  {
   "cell_type": "code",
   "execution_count": 7,
   "id": "f709d226",
   "metadata": {},
   "outputs": [
    {
     "data": {
      "text/plain": [
       "(6145, 5)"
      ]
     },
     "execution_count": 7,
     "metadata": {},
     "output_type": "execute_result"
    }
   ],
   "source": [
    "pain.shape"
   ]
  },
  {
   "cell_type": "code",
   "execution_count": 8,
   "id": "8c40ee1c",
   "metadata": {},
   "outputs": [
    {
     "data": {
      "text/plain": [
       "drug           0\n",
       "condition      0\n",
       "review         0\n",
       "rating         0\n",
       "usefulcount    0\n",
       "dtype: int64"
      ]
     },
     "execution_count": 8,
     "metadata": {},
     "output_type": "execute_result"
    }
   ],
   "source": [
    "pain.isnull().sum()"
   ]
  },
  {
   "cell_type": "code",
   "execution_count": 9,
   "id": "95678f9e",
   "metadata": {},
   "outputs": [
    {
     "data": {
      "text/plain": [
       "array(['Pain'], dtype=object)"
      ]
     },
     "execution_count": 9,
     "metadata": {},
     "output_type": "execute_result"
    }
   ],
   "source": [
    "pain.condition.unique() "
   ]
  },
  {
   "cell_type": "markdown",
   "id": "6da9794c",
   "metadata": {},
   "source": [
    "All conditions are correctly listed as \"Pain.\" I will now remove the condition column as it is no longer needed."
   ]
  },
  {
   "cell_type": "code",
   "execution_count": 10,
   "id": "09dfb06c",
   "metadata": {},
   "outputs": [
    {
     "data": {
      "text/plain": [
       "Index(['drug', 'review', 'rating', 'usefulcount'], dtype='object')"
      ]
     },
     "execution_count": 10,
     "metadata": {},
     "output_type": "execute_result"
    }
   ],
   "source": [
    "#drops condition column & shows revised list of columns\n",
    "\n",
    "pain = pain.drop(columns = ['condition'])\n",
    "\n",
    "pain.columns"
   ]
  },
  {
   "cell_type": "code",
   "execution_count": 11,
   "id": "6991a96e",
   "metadata": {},
   "outputs": [
    {
     "data": {
      "text/html": [
       "<div>\n",
       "<style scoped>\n",
       "    .dataframe tbody tr th:only-of-type {\n",
       "        vertical-align: middle;\n",
       "    }\n",
       "\n",
       "    .dataframe tbody tr th {\n",
       "        vertical-align: top;\n",
       "    }\n",
       "\n",
       "    .dataframe thead th {\n",
       "        text-align: right;\n",
       "    }\n",
       "</style>\n",
       "<table border=\"1\" class=\"dataframe\">\n",
       "  <thead>\n",
       "    <tr style=\"text-align: right;\">\n",
       "      <th></th>\n",
       "      <th>drug</th>\n",
       "      <th>review</th>\n",
       "      <th>rating</th>\n",
       "      <th>usefulcount</th>\n",
       "    </tr>\n",
       "  </thead>\n",
       "  <tbody>\n",
       "    <tr>\n",
       "      <th>1043</th>\n",
       "      <td>Ibudone</td>\n",
       "      <td>\"I just started taking this medicine.  I have ...</td>\n",
       "      <td>7.0</td>\n",
       "      <td>27</td>\n",
       "    </tr>\n",
       "    <tr>\n",
       "      <th>1048</th>\n",
       "      <td>Ultram ODT</td>\n",
       "      <td>\"You can use ultram to detox yourself from har...</td>\n",
       "      <td>10.0</td>\n",
       "      <td>28</td>\n",
       "    </tr>\n",
       "    <tr>\n",
       "      <th>1053</th>\n",
       "      <td>Ultram ODT</td>\n",
       "      <td>\"I have been using tramadol for eight years fo...</td>\n",
       "      <td>10.0</td>\n",
       "      <td>105</td>\n",
       "    </tr>\n",
       "    <tr>\n",
       "      <th>1944</th>\n",
       "      <td>Belbuca</td>\n",
       "      <td>\"I was on Fentynal  patches for year and a hal...</td>\n",
       "      <td>1.0</td>\n",
       "      <td>14</td>\n",
       "    </tr>\n",
       "    <tr>\n",
       "      <th>2110</th>\n",
       "      <td>Talacen</td>\n",
       "      <td>\"I have rheumatoid arthritis and a few other b...</td>\n",
       "      <td>9.0</td>\n",
       "      <td>12</td>\n",
       "    </tr>\n",
       "  </tbody>\n",
       "</table>\n",
       "</div>"
      ],
      "text/plain": [
       "            drug                                             review  rating  \\\n",
       "1043     Ibudone  \"I just started taking this medicine.  I have ...     7.0   \n",
       "1048  Ultram ODT  \"You can use ultram to detox yourself from har...    10.0   \n",
       "1053  Ultram ODT  \"I have been using tramadol for eight years fo...    10.0   \n",
       "1944     Belbuca  \"I was on Fentynal  patches for year and a hal...     1.0   \n",
       "2110     Talacen  \"I have rheumatoid arthritis and a few other b...     9.0   \n",
       "\n",
       "      usefulcount  \n",
       "1043           27  \n",
       "1048           28  \n",
       "1053          105  \n",
       "1944           14  \n",
       "2110           12  "
      ]
     },
     "execution_count": 11,
     "metadata": {},
     "output_type": "execute_result"
    }
   ],
   "source": [
    "pain.head()"
   ]
  },
  {
   "cell_type": "markdown",
   "id": "bd2bdfc6",
   "metadata": {},
   "source": [
    "This dataframe is now ready to use.\n",
    "\n",
    "Ultimately, I would like to compare reviews that contain the highest and lowest ratings. First, I will observe a statistical summary to gain information about the ratings."
   ]
  },
  {
   "cell_type": "code",
   "execution_count": 12,
   "id": "025ca2df",
   "metadata": {},
   "outputs": [
    {
     "data": {
      "text/plain": [
       "count    6145.000000\n",
       "mean        7.632221\n",
       "std         2.928199\n",
       "min         1.000000\n",
       "25%         7.000000\n",
       "50%         9.000000\n",
       "75%        10.000000\n",
       "max        10.000000\n",
       "Name: rating, dtype: float64"
      ]
     },
     "execution_count": 12,
     "metadata": {},
     "output_type": "execute_result"
    }
   ],
   "source": [
    "pain.rating.describe() #shows a statistical summary"
   ]
  },
  {
   "cell_type": "markdown",
   "id": "049a149c",
   "metadata": {},
   "source": [
    "It appears that the median is at 9.0. I will re-display the histogram of review ratings for the pain condition."
   ]
  },
  {
   "cell_type": "code",
   "execution_count": 13,
   "id": "01509099",
   "metadata": {},
   "outputs": [
    {
     "data": {
      "image/png": "[encoded data removed]",
      "text/plain": [
       "<Figure size 640x480 with 1 Axes>"
      ]
     },
     "metadata": {},
     "output_type": "display_data"
    }
   ],
   "source": [
    "sns.histplot(data = pain, x='rating').set(title = 'Number of Reviews per Rating - Pain');"
   ]
  },
  {
   "cell_type": "code",
   "execution_count": 14,
   "id": "0cc9229a",
   "metadata": {},
   "outputs": [
    {
     "data": {
      "text/plain": [
       "9.0"
      ]
     },
     "execution_count": 14,
     "metadata": {},
     "output_type": "execute_result"
    }
   ],
   "source": [
    "pain.rating.median()"
   ]
  },
  {
   "cell_type": "markdown",
   "id": "0bd1829e",
   "metadata": {},
   "source": [
    "I considered making a model to predict between ratings of 10 and 1, however there are so few ratings of 1 within this dataset. I will make exploratory determinations below."
   ]
  },
  {
   "cell_type": "markdown",
   "id": "5d1cd530",
   "metadata": {},
   "source": [
    "## Creating Subsets"
   ]
  },
  {
   "cell_type": "markdown",
   "id": "77b4ce93",
   "metadata": {},
   "source": [
    "#### Reviews Rated 10"
   ]
  },
  {
   "cell_type": "code",
   "execution_count": 15,
   "id": "cc29c76c",
   "metadata": {},
   "outputs": [
    {
     "data": {
      "text/html": [
       "<div>\n",
       "<style scoped>\n",
       "    .dataframe tbody tr th:only-of-type {\n",
       "        vertical-align: middle;\n",
       "    }\n",
       "\n",
       "    .dataframe tbody tr th {\n",
       "        vertical-align: top;\n",
       "    }\n",
       "\n",
       "    .dataframe thead th {\n",
       "        text-align: right;\n",
       "    }\n",
       "</style>\n",
       "<table border=\"1\" class=\"dataframe\">\n",
       "  <thead>\n",
       "    <tr style=\"text-align: right;\">\n",
       "      <th></th>\n",
       "      <th>drug</th>\n",
       "      <th>review</th>\n",
       "      <th>rating</th>\n",
       "      <th>usefulcount</th>\n",
       "    </tr>\n",
       "  </thead>\n",
       "  <tbody>\n",
       "    <tr>\n",
       "      <th>1048</th>\n",
       "      <td>Ultram ODT</td>\n",
       "      <td>\"You can use ultram to detox yourself from har...</td>\n",
       "      <td>10.0</td>\n",
       "      <td>28</td>\n",
       "    </tr>\n",
       "    <tr>\n",
       "      <th>1053</th>\n",
       "      <td>Ultram ODT</td>\n",
       "      <td>\"I have been using tramadol for eight years fo...</td>\n",
       "      <td>10.0</td>\n",
       "      <td>105</td>\n",
       "    </tr>\n",
       "    <tr>\n",
       "      <th>2500</th>\n",
       "      <td>Lorcet 10 / 650</td>\n",
       "      <td>\"This pill has allowed me to get some much nee...</td>\n",
       "      <td>10.0</td>\n",
       "      <td>9</td>\n",
       "    </tr>\n",
       "    <tr>\n",
       "      <th>2891</th>\n",
       "      <td>Codeine</td>\n",
       "      <td>\"I was prescribed codeine when my wisdom teeth...</td>\n",
       "      <td>10.0</td>\n",
       "      <td>11</td>\n",
       "    </tr>\n",
       "    <tr>\n",
       "      <th>2894</th>\n",
       "      <td>Codeine</td>\n",
       "      <td>\"Very effective. I have osteoarthritis and can...</td>\n",
       "      <td>10.0</td>\n",
       "      <td>59</td>\n",
       "    </tr>\n",
       "  </tbody>\n",
       "</table>\n",
       "</div>"
      ],
      "text/plain": [
       "                 drug                                             review  \\\n",
       "1048       Ultram ODT  \"You can use ultram to detox yourself from har...   \n",
       "1053       Ultram ODT  \"I have been using tramadol for eight years fo...   \n",
       "2500  Lorcet 10 / 650  \"This pill has allowed me to get some much nee...   \n",
       "2891          Codeine  \"I was prescribed codeine when my wisdom teeth...   \n",
       "2894          Codeine  \"Very effective. I have osteoarthritis and can...   \n",
       "\n",
       "      rating  usefulcount  \n",
       "1048    10.0           28  \n",
       "1053    10.0          105  \n",
       "2500    10.0            9  \n",
       "2891    10.0           11  \n",
       "2894    10.0           59  "
      ]
     },
     "execution_count": 15,
     "metadata": {},
     "output_type": "execute_result"
    }
   ],
   "source": [
    "# creates a subset of pain with only 10-rated reviews\n",
    "\n",
    "ten = pain.loc[pain['rating'] == 10]\n",
    "\n",
    "ten = pd.DataFrame(ten)\n",
    "\n",
    "ten.head()"
   ]
  },
  {
   "cell_type": "code",
   "execution_count": 16,
   "id": "e1ba2014",
   "metadata": {},
   "outputs": [
    {
     "data": {
      "text/plain": [
       "(2108, 4)"
      ]
     },
     "execution_count": 16,
     "metadata": {},
     "output_type": "execute_result"
    }
   ],
   "source": [
    "ten.shape"
   ]
  },
  {
   "cell_type": "markdown",
   "id": "2011bc37",
   "metadata": {},
   "source": [
    "There are 2108 reviews with a rating of 10 for the pain condition."
   ]
  },
  {
   "cell_type": "code",
   "execution_count": 17,
   "id": "5c4dc7ef",
   "metadata": {},
   "outputs": [
    {
     "data": {
      "text/plain": [
       "array([10.])"
      ]
     },
     "execution_count": 17,
     "metadata": {},
     "output_type": "execute_result"
    }
   ],
   "source": [
    "ten.rating.unique()"
   ]
  },
  {
   "cell_type": "markdown",
   "id": "7deba423",
   "metadata": {},
   "source": [
    "It appears the subset was made correctly. Before using NLP, I will examine other attributes of this subset."
   ]
  },
  {
   "cell_type": "code",
   "execution_count": 18,
   "id": "1e0268d5",
   "metadata": {},
   "outputs": [
    {
     "data": {
      "text/plain": [
       "41.55075901328273"
      ]
     },
     "execution_count": 18,
     "metadata": {},
     "output_type": "execute_result"
    }
   ],
   "source": [
    "ten.usefulcount.mean()"
   ]
  },
  {
   "cell_type": "markdown",
   "id": "23445614",
   "metadata": {},
   "source": [
    "Mean useful count of reviews for this group is 41.55."
   ]
  },
  {
   "cell_type": "code",
   "execution_count": 19,
   "id": "d82fd09f",
   "metadata": {},
   "outputs": [
    {
     "data": {
      "text/plain": [
       "Oxycodone                      132\n",
       "Acetaminophen / oxycodone      107\n",
       "Acetaminophen / hydrocodone    106\n",
       "Hydromorphone                  100\n",
       "Dilaudid                        88\n",
       "                              ... \n",
       "Fentora                          1\n",
       "Oxyfast                          1\n",
       "Methadone Diskets                1\n",
       "Orudis KT                        1\n",
       "Soma Compound with Codeine       1\n",
       "Name: drug, Length: 160, dtype: int64"
      ]
     },
     "execution_count": 19,
     "metadata": {},
     "output_type": "execute_result"
    }
   ],
   "source": [
    "ten.drug.value_counts()"
   ]
  },
  {
   "cell_type": "markdown",
   "id": "fc4d01db",
   "metadata": {},
   "source": [
    "There are 160 drugs with at least 1 10-star review for pain. Drugs most commonly rated 10 for the pain condition are: Oxycodone, Acetaminophen / oxycodone, Acetaminophen / hydrocodone, Hydromorphone, and Dilaudid.\n",
    "\n",
    "I will now use NLP to examine words within this subset."
   ]
  },
  {
   "cell_type": "markdown",
   "id": "e07b736c",
   "metadata": {},
   "source": [
    "I will begin by looking for the most common single words in the reviews."
   ]
  },
  {
   "cell_type": "markdown",
   "id": "3a188157",
   "metadata": {},
   "source": [
    "#### Reviews Rated 1"
   ]
  },
  {
   "cell_type": "code",
   "execution_count": 20,
   "id": "5c0f613c",
   "metadata": {},
   "outputs": [
    {
     "data": {
      "text/html": [
       "<div>\n",
       "<style scoped>\n",
       "    .dataframe tbody tr th:only-of-type {\n",
       "        vertical-align: middle;\n",
       "    }\n",
       "\n",
       "    .dataframe tbody tr th {\n",
       "        vertical-align: top;\n",
       "    }\n",
       "\n",
       "    .dataframe thead th {\n",
       "        text-align: right;\n",
       "    }\n",
       "</style>\n",
       "<table border=\"1\" class=\"dataframe\">\n",
       "  <thead>\n",
       "    <tr style=\"text-align: right;\">\n",
       "      <th></th>\n",
       "      <th>drug</th>\n",
       "      <th>review</th>\n",
       "      <th>rating</th>\n",
       "      <th>usefulcount</th>\n",
       "    </tr>\n",
       "  </thead>\n",
       "  <tbody>\n",
       "    <tr>\n",
       "      <th>1944</th>\n",
       "      <td>Belbuca</td>\n",
       "      <td>\"I was on Fentynal  patches for year and a hal...</td>\n",
       "      <td>1.0</td>\n",
       "      <td>14</td>\n",
       "    </tr>\n",
       "    <tr>\n",
       "      <th>2556</th>\n",
       "      <td>Darvocet A500</td>\n",
       "      <td>\"I have Anklosing spondylitis, arthritis in ma...</td>\n",
       "      <td>1.0</td>\n",
       "      <td>19</td>\n",
       "    </tr>\n",
       "    <tr>\n",
       "      <th>2890</th>\n",
       "      <td>Codeine</td>\n",
       "      <td>\"Had Panadeine Forte for a tooth abscess pain....</td>\n",
       "      <td>1.0</td>\n",
       "      <td>14</td>\n",
       "    </tr>\n",
       "    <tr>\n",
       "      <th>2892</th>\n",
       "      <td>Codeine</td>\n",
       "      <td>\"My dentist prescribed it to me to treat a too...</td>\n",
       "      <td>1.0</td>\n",
       "      <td>19</td>\n",
       "    </tr>\n",
       "    <tr>\n",
       "      <th>2906</th>\n",
       "      <td>Codeine</td>\n",
       "      <td>\"I had an external hemorrhoids surgery and cod...</td>\n",
       "      <td>1.0</td>\n",
       "      <td>2</td>\n",
       "    </tr>\n",
       "  </tbody>\n",
       "</table>\n",
       "</div>"
      ],
      "text/plain": [
       "               drug                                             review  \\\n",
       "1944        Belbuca  \"I was on Fentynal  patches for year and a hal...   \n",
       "2556  Darvocet A500  \"I have Anklosing spondylitis, arthritis in ma...   \n",
       "2890        Codeine  \"Had Panadeine Forte for a tooth abscess pain....   \n",
       "2892        Codeine  \"My dentist prescribed it to me to treat a too...   \n",
       "2906        Codeine  \"I had an external hemorrhoids surgery and cod...   \n",
       "\n",
       "      rating  usefulcount  \n",
       "1944     1.0           14  \n",
       "2556     1.0           19  \n",
       "2890     1.0           14  \n",
       "2892     1.0           19  \n",
       "2906     1.0            2  "
      ]
     },
     "execution_count": 20,
     "metadata": {},
     "output_type": "execute_result"
    }
   ],
   "source": [
    "# creates a subset of pain with only 10-rated reviews\n",
    "\n",
    "one = pain.loc[pain['rating'] == 1]\n",
    "\n",
    "one = pd.DataFrame(one)\n",
    "\n",
    "one.head()"
   ]
  },
  {
   "cell_type": "code",
   "execution_count": 21,
   "id": "c8716f9a",
   "metadata": {},
   "outputs": [
    {
     "data": {
      "text/plain": [
       "(582, 4)"
      ]
     },
     "execution_count": 21,
     "metadata": {},
     "output_type": "execute_result"
    }
   ],
   "source": [
    "one.shape"
   ]
  },
  {
   "cell_type": "markdown",
   "id": "6d20d549",
   "metadata": {},
   "source": [
    "There are 582 reviews rated 1 for the pain condition."
   ]
  },
  {
   "cell_type": "code",
   "execution_count": 22,
   "id": "24d36dca",
   "metadata": {},
   "outputs": [
    {
     "data": {
      "text/plain": [
       "3.6219931271477663"
      ]
     },
     "execution_count": 22,
     "metadata": {},
     "output_type": "execute_result"
    }
   ],
   "source": [
    "2108/582 #of 10 rated reviews / # of 1 rated reviews"
   ]
  },
  {
   "cell_type": "markdown",
   "id": "a144fafa",
   "metadata": {},
   "source": [
    "There are more than 3x as many 10-rated reviews than 1-rated reviews for the pain condition."
   ]
  },
  {
   "cell_type": "code",
   "execution_count": 23,
   "id": "923b4f76",
   "metadata": {},
   "outputs": [
    {
     "data": {
      "text/plain": [
       "array([1.])"
      ]
     },
     "execution_count": 23,
     "metadata": {},
     "output_type": "execute_result"
    }
   ],
   "source": [
    "one.rating.unique()"
   ]
  },
  {
   "cell_type": "markdown",
   "id": "26389bab",
   "metadata": {},
   "source": [
    "The subset has been created. I will observe a few attributes before moving on to NLP."
   ]
  },
  {
   "cell_type": "code",
   "execution_count": 24,
   "id": "cb586e66",
   "metadata": {},
   "outputs": [
    {
     "data": {
      "text/plain": [
       "22.572164948453608"
      ]
     },
     "execution_count": 24,
     "metadata": {},
     "output_type": "execute_result"
    }
   ],
   "source": [
    "one.usefulcount.mean() "
   ]
  },
  {
   "cell_type": "markdown",
   "id": "5bc146e9",
   "metadata": {},
   "source": [
    "The mean useful count of the 1-rated reviews is 22.57."
   ]
  },
  {
   "cell_type": "code",
   "execution_count": 25,
   "id": "99e53e68",
   "metadata": {},
   "outputs": [
    {
     "data": {
      "text/plain": [
       "1.8407963572908996"
      ]
     },
     "execution_count": 25,
     "metadata": {},
     "output_type": "execute_result"
    }
   ],
   "source": [
    "ten.usefulcount.mean()/one.usefulcount.mean()"
   ]
  },
  {
   "cell_type": "markdown",
   "id": "2cd974e7",
   "metadata": {},
   "source": [
    "The mean useful count of the 10 reviews is almost 2x that of the 1 reviews."
   ]
  },
  {
   "cell_type": "code",
   "execution_count": 26,
   "id": "08ec89a0",
   "metadata": {},
   "outputs": [
    {
     "data": {
      "text/plain": [
       "Tramadol                   62\n",
       "Tapentadol                 40\n",
       "Acetaminophen / codeine    29\n",
       "Gabapentin                 28\n",
       "Nucynta                    28\n",
       "                           ..\n",
       "Morphine / naltrexone       1\n",
       "Duragesic                   1\n",
       "Avinza                      1\n",
       "OxyContin                   1\n",
       "Camphor / menthol           1\n",
       "Name: drug, Length: 102, dtype: int64"
      ]
     },
     "execution_count": 26,
     "metadata": {},
     "output_type": "execute_result"
    }
   ],
   "source": [
    "one.drug.value_counts()"
   ]
  },
  {
   "cell_type": "markdown",
   "id": "7b43d8cb",
   "metadata": {},
   "source": [
    "There are 102 drugs that were given a 1-star rating at least once. Drugs most commonly given a 1-rated review for pain are: Tramadol, Tapentadol, Acetaminophen / codeine, Gabapentin, and Nucynta.\n",
    "\n",
    "I will now move on to use NLP to observe most common unigrams, bigrams, and trigrams."
   ]
  },
  {
   "cell_type": "markdown",
   "id": "46716d47",
   "metadata": {},
   "source": [
    "## 10-Rated v. 1-Rated"
   ]
  },
  {
   "cell_type": "markdown",
   "id": "f72b312b",
   "metadata": {},
   "source": [
    "### Unigrams"
   ]
  },
  {
   "cell_type": "code",
   "execution_count": 27,
   "id": "760299aa",
   "metadata": {},
   "outputs": [],
   "source": [
    "review_stop_words = text.ENGLISH_STOP_WORDS.union([\"039\" ,\"ve\"])"
   ]
  },
  {
   "cell_type": "code",
   "execution_count": 28,
   "id": "2b142706",
   "metadata": {},
   "outputs": [
    {
     "data": {
      "text/plain": [
       "320"
      ]
     },
     "execution_count": 28,
     "metadata": {},
     "output_type": "execute_result"
    }
   ],
   "source": [
    "len(review_stop_words)"
   ]
  },
  {
   "cell_type": "markdown",
   "id": "56eb517c",
   "metadata": {},
   "source": [
    "##### Reviews Rated 10"
   ]
  },
  {
   "cell_type": "code",
   "execution_count": 29,
   "id": "4eab954b",
   "metadata": {},
   "outputs": [],
   "source": [
    "cvx = CountVectorizer(stop_words = review_stop_words) #converts each review word into a column to create a dataframe\n",
    "cvx.fit(ten['review'])\n",
    "\n",
    "ten_cvx = cvx.transform(ten['review'])\n",
    "ten_cvx = pd.DataFrame(ten_cvx.todense(), columns = cvx.get_feature_names_out())"
   ]
  },
  {
   "cell_type": "code",
   "execution_count": 30,
   "id": "e79a2a1b",
   "metadata": {},
   "outputs": [
    {
     "data": {
      "text/plain": [
       "(2108, 5363)"
      ]
     },
     "execution_count": 30,
     "metadata": {},
     "output_type": "execute_result"
    }
   ],
   "source": [
    "ten_cvx.shape #displays layout of dataframe"
   ]
  },
  {
   "cell_type": "code",
   "execution_count": 31,
   "id": "e7de2acf",
   "metadata": {},
   "outputs": [
    {
     "data": {
      "text/plain": [
       "pain          3740\n",
       "day            698\n",
       "years          665\n",
       "life           508\n",
       "medicine       488\n",
       "doctor         482\n",
       "taking         434\n",
       "medication     395\n",
       "works          362\n",
       "relief         362\n",
       "severe         352\n",
       "effects        336\n",
       "like           328\n",
       "work           316\n",
       "10             314\n",
       "worked         312\n",
       "great          304\n",
       "just           304\n",
       "time           302\n",
       "hours          300\n",
       "dtype: int64"
      ]
     },
     "execution_count": 31,
     "metadata": {},
     "output_type": "execute_result"
    }
   ],
   "source": [
    "ten_cvx.sum().sort_values(ascending = False).head(20) #shows 20 most common words in reviews"
   ]
  },
  {
   "cell_type": "markdown",
   "id": "3f25265c",
   "metadata": {},
   "source": [
    "##### Reviews Rated 1"
   ]
  },
  {
   "cell_type": "code",
   "execution_count": 32,
   "id": "1231d770",
   "metadata": {},
   "outputs": [],
   "source": [
    "cvx = CountVectorizer(stop_words = review_stop_words) #converts each review word into a column to create a dataframe\n",
    "cvx.fit(one['review'])\n",
    "\n",
    "one_cvx = cvx.transform(one['review'])\n",
    "one_cvx = pd.DataFrame(one_cvx.todense(), columns = cvx.get_feature_names_out())"
   ]
  },
  {
   "cell_type": "code",
   "execution_count": 33,
   "id": "276084e4",
   "metadata": {},
   "outputs": [
    {
     "data": {
      "text/plain": [
       "(582, 2784)"
      ]
     },
     "execution_count": 33,
     "metadata": {},
     "output_type": "execute_result"
    }
   ],
   "source": [
    "one_cvx.shape #displays layout of dataframe"
   ]
  },
  {
   "cell_type": "code",
   "execution_count": 34,
   "id": "3a1e192d",
   "metadata": {},
   "outputs": [
    {
     "data": {
      "text/plain": [
       "pain          790\n",
       "day           159\n",
       "medication    147\n",
       "taking        138\n",
       "relief        134\n",
       "did           126\n",
       "took          124\n",
       "prescribed    121\n",
       "doctor        111\n",
       "time          106\n",
       "work          102\n",
       "hours         101\n",
       "like           95\n",
       "given          90\n",
       "just           88\n",
       "help           87\n",
       "effects        85\n",
       "severe         85\n",
       "medicine       82\n",
       "mg             81\n",
       "dtype: int64"
      ]
     },
     "execution_count": 34,
     "metadata": {},
     "output_type": "execute_result"
    }
   ],
   "source": [
    "one_cvx.sum().sort_values(ascending = False).head(20) #shows 20 most common words in reviews"
   ]
  },
  {
   "cell_type": "markdown",
   "id": "777dee10",
   "metadata": {},
   "source": [
    "The most common unigrams appear fairly similar between the two different rating sets.\n",
    "\n",
    "Bigrams may be more revealing. I will explore these next."
   ]
  },
  {
   "cell_type": "markdown",
   "id": "1de5deea",
   "metadata": {},
   "source": [
    "### Bigrams"
   ]
  },
  {
   "cell_type": "markdown",
   "id": "0117a18f",
   "metadata": {},
   "source": [
    "##### Reviews Rated 10"
   ]
  },
  {
   "cell_type": "code",
   "execution_count": 35,
   "id": "6f03f497",
   "metadata": {},
   "outputs": [],
   "source": [
    "#converts each title bigram into a column to create a dataframe\n",
    "\n",
    "cv_bigrams = CountVectorizer(stop_words=review_stop_words, ngram_range=(2,2))\n",
    "\n",
    "cv_bigrams.fit(ten['review'])\n",
    "\n",
    "ten_cv_bigrams= cv_bigrams.transform(ten['review'])\n",
    "ten_cv_bigrams= pd.DataFrame(ten_cv_bigrams.todense(), columns = cv_bigrams.get_feature_names_out())"
   ]
  },
  {
   "cell_type": "code",
   "execution_count": 36,
   "id": "726a5854",
   "metadata": {},
   "outputs": [
    {
     "data": {
      "text/plain": [
       "(2108, 31630)"
      ]
     },
     "execution_count": 36,
     "metadata": {},
     "output_type": "execute_result"
    }
   ],
   "source": [
    "ten_cv_bigrams.shape"
   ]
  },
  {
   "cell_type": "code",
   "execution_count": 37,
   "id": "673f1b18",
   "metadata": {},
   "outputs": [
    {
     "data": {
      "text/plain": [
       "chronic pain         162\n",
       "pain relief          155\n",
       "pain free            125\n",
       "severe pain          118\n",
       "times day             95\n",
       "pain away             86\n",
       "pain management       85\n",
       "breakthrough pain     84\n",
       "years ago             77\n",
       "pain medication       73\n",
       "10 325                67\n",
       "pain medicines        66\n",
       "doctor gave           61\n",
       "pain medicine         61\n",
       "pain gone             60\n",
       "best pain             60\n",
       "life saver            58\n",
       "quality life          57\n",
       "works great           56\n",
       "pain years            52\n",
       "dtype: int64"
      ]
     },
     "execution_count": 37,
     "metadata": {},
     "output_type": "execute_result"
    }
   ],
   "source": [
    "ten_cv_bigrams.sum().sort_values(ascending = False).head(20) #shows 20 most bigrams in reviews"
   ]
  },
  {
   "cell_type": "markdown",
   "id": "ccb6ceec",
   "metadata": {},
   "source": [
    "By using two words, themes begin to emerge. I suspect that terms such as \"pain gone,\" \"best pain,\" \"life saver,\" \"quality life,\" and \"works great\" will not be found among the most common in the 1-star review set. \n",
    "\n",
    "I will save this dataframe for later modeling, then I will observe below."
   ]
  },
  {
   "cell_type": "code",
   "execution_count": null,
   "id": "a2779f27",
   "metadata": {},
   "outputs": [],
   "source": [
    "ten_bigrams = ten_cv_bigrams[['']]"
   ]
  },
  {
   "cell_type": "markdown",
   "id": "c434bcb0",
   "metadata": {},
   "source": [
    "##### Reviews Rated 1"
   ]
  },
  {
   "cell_type": "code",
   "execution_count": 176,
   "id": "5a3897dc",
   "metadata": {},
   "outputs": [],
   "source": [
    "#converts each bigram into a column to create a dataframe\n",
    "\n",
    "cv_bigrams = CountVectorizer(stop_words=review_stop_words, ngram_range=(2,2))\n",
    "\n",
    "cv_bigrams.fit(one['review'])\n",
    "\n",
    "one_cv_bigrams= cv_bigrams.transform(one['review'])\n",
    "one_cv_bigrams= pd.DataFrame(one_cv_bigrams.todense(), columns = cv_bigrams.get_feature_names_out())"
   ]
  },
  {
   "cell_type": "code",
   "execution_count": 177,
   "id": "8214ab48",
   "metadata": {},
   "outputs": [
    {
     "data": {
      "text/plain": [
       "(582, 10048)"
      ]
     },
     "execution_count": 177,
     "metadata": {},
     "output_type": "execute_result"
    }
   ],
   "source": [
    "one_cv_bigrams.shape"
   ]
  },
  {
   "cell_type": "code",
   "execution_count": 178,
   "id": "2b5cc492",
   "metadata": {},
   "outputs": [
    {
     "data": {
      "text/plain": [
       "pain relief          59\n",
       "chronic pain         25\n",
       "help pain            24\n",
       "times day            21\n",
       "pain management      21\n",
       "severe pain          18\n",
       "felt like            17\n",
       "does work            16\n",
       "pain medication      16\n",
       "waste money          16\n",
       "doctor prescribed    16\n",
       "relieve pain         15\n",
       "did help             14\n",
       "does absolutely      14\n",
       "did absolutely       14\n",
       "lidocaine patches    13\n",
       "didn work            13\n",
       "doesn help           13\n",
       "opana er             13\n",
       "severe headache      12\n",
       "dtype: int64"
      ]
     },
     "execution_count": 178,
     "metadata": {},
     "output_type": "execute_result"
    }
   ],
   "source": [
    "one_cv_bigrams.sum().sort_values(ascending = False).head(20) #shows 20 most bigrams in reviews"
   ]
  },
  {
   "cell_type": "markdown",
   "id": "48168721",
   "metadata": {},
   "source": [
    "Here, certain terms emerge that were not found in the 10-review's most common bigrams, such as \"waste money,\" \"didn('t) work,\" and \"doesn('t) help.\"\n",
    "\n",
    "I also suspsect that bigrams such as \"does absolutely,\" and \"did absolutely\" may end with the word \"nothing,\" or something similar that would be more revealing.\n",
    "\n",
    "I will explore trigrams below."
   ]
  },
  {
   "cell_type": "markdown",
   "id": "e8b58f9d",
   "metadata": {},
   "source": [
    "### Trigrams"
   ]
  },
  {
   "cell_type": "markdown",
   "id": "836932b7",
   "metadata": {},
   "source": [
    "##### Reviews rated 10"
   ]
  },
  {
   "cell_type": "code",
   "execution_count": 179,
   "id": "2f6a1ae5",
   "metadata": {},
   "outputs": [],
   "source": [
    "cv_trigrams = CountVectorizer(stop_words=review_stop_words, ngram_range=(3,3))\n",
    "\n",
    "cv_trigrams.fit(ten['review'])\n",
    "\n",
    "ten_cv_trigrams= cv_trigrams.transform(ten['review'])\n",
    "ten_cv_trigrams= pd.DataFrame(ten_cv_trigrams.todense(), columns = cv_trigrams.get_feature_names_out())"
   ]
  },
  {
   "cell_type": "code",
   "execution_count": 180,
   "id": "03bbd877",
   "metadata": {},
   "outputs": [
    {
     "data": {
      "text/plain": [
       "(2108, 40022)"
      ]
     },
     "execution_count": 180,
     "metadata": {},
     "output_type": "execute_result"
    }
   ],
   "source": [
    "ten_cv_trigrams.shape"
   ]
  },
  {
   "cell_type": "code",
   "execution_count": 181,
   "id": "8e095966",
   "metadata": {},
   "outputs": [
    {
     "data": {
      "text/plain": [
       "degenerative disc disease    40\n",
       "took pain away               35\n",
       "norco 10 325                 28\n",
       "takes pain away              25\n",
       "pain management doctor       21\n",
       "best pain reliever           17\n",
       "percocet 10 325              15\n",
       "quot high quot               14\n",
       "mg times day                 13\n",
       "best pain medication         12\n",
       "took away pain               11\n",
       "best pain medicine           11\n",
       "gets rid pain                10\n",
       "years chronic pain           10\n",
       "improved quality life         9\n",
       "really helps pain             9\n",
       "live normal life              9\n",
       "pain 12 years                 9\n",
       "chronic pain years            9\n",
       "takes away pain               9\n",
       "dtype: int64"
      ]
     },
     "execution_count": 181,
     "metadata": {},
     "output_type": "execute_result"
    }
   ],
   "source": [
    "ten_cv_trigrams.sum().sort_values(ascending = False).head(20) #shows 20 most trigrams in reviews"
   ]
  },
  {
   "cell_type": "markdown",
   "id": "337824d8",
   "metadata": {},
   "source": [
    "This set is the most revealing yet, with terms such as \"took pain away,\" \"best pain reliever,\" \"best pain medication,\" \"took away pain,\" \"best pain medicine,\" \"gets rid pain,\" and more.\n",
    "\n",
    "I will observe the trigrams within the 1-rated reviews."
   ]
  },
  {
   "cell_type": "markdown",
   "id": "ab7fc90d",
   "metadata": {},
   "source": [
    "##### Reviews rated 1"
   ]
  },
  {
   "cell_type": "code",
   "execution_count": 182,
   "id": "fd94bdae",
   "metadata": {},
   "outputs": [],
   "source": [
    "cv_trigrams = CountVectorizer(stop_words=review_stop_words, ngram_range=(3,3))\n",
    "\n",
    "cv_trigrams.fit(one['review'])\n",
    "\n",
    "one_cv_trigrams= cv_trigrams.transform(one['review'])\n",
    "one_cv_trigrams= pd.DataFrame(one_cv_trigrams.todense(), columns = cv_trigrams.get_feature_names_out())"
   ]
  },
  {
   "cell_type": "code",
   "execution_count": 183,
   "id": "26cf295c",
   "metadata": {},
   "outputs": [
    {
     "data": {
      "text/plain": [
       "(582, 11114)"
      ]
     },
     "execution_count": 183,
     "metadata": {},
     "output_type": "execute_result"
    }
   ],
   "source": [
    "one_cv_trigrams.shape"
   ]
  },
  {
   "cell_type": "code",
   "execution_count": 184,
   "id": "d0f1e177",
   "metadata": {},
   "outputs": [
    {
     "data": {
      "text/plain": [
       "given dilaudid iv          8\n",
       "waste time money           7\n",
       "pain management doctor     6\n",
       "doctor wanted try          6\n",
       "does absolutely pain       5\n",
       "did help pain              5\n",
       "dr wanted try              4\n",
       "wisdom tooth pain          4\n",
       "better good luck           4\n",
       "didn help pain             4\n",
       "didn make dent             4\n",
       "little pain relief         4\n",
       "20 mg month                4\n",
       "tramadol 50mg hours        4\n",
       "30 minutes later           4\n",
       "make dent pain             4\n",
       "severe headache nausea     4\n",
       "experienced pain relief    4\n",
       "ibuprofen worked better    3\n",
       "like taking placebo        3\n",
       "dtype: int64"
      ]
     },
     "execution_count": 184,
     "metadata": {},
     "output_type": "execute_result"
    }
   ],
   "source": [
    "one_cv_trigrams.sum().sort_values(ascending = False).head(20) #shows 20 most trigrams in reviews"
   ]
  },
  {
   "cell_type": "markdown",
   "id": "1e15ae46",
   "metadata": {},
   "source": [
    "Here, common trigrams include: \"waste time money,\" \"didn't help pain,\" \"didn't make dent,\" \"little pain relief,\" \"severe headache nausea,\" and \"like taking placebo,\" among others.\n",
    "\n",
    "The most frequent trigram is a specific reference to a dilaudid iv.\n",
    "\n",
    "I will learn more about the reviews of this specific drug, among others, below."
   ]
  },
  {
   "cell_type": "markdown",
   "id": "0a6bbeca",
   "metadata": {},
   "source": [
    "### Sentiment Analysis"
   ]
  },
  {
   "cell_type": "code",
   "execution_count": 185,
   "id": "4d88de19",
   "metadata": {},
   "outputs": [],
   "source": [
    "sia = SentimentIntensityAnalyzer()"
   ]
  },
  {
   "cell_type": "markdown",
   "id": "6fbfed53",
   "metadata": {},
   "source": [
    "##### Reviews Rated 10"
   ]
  },
  {
   "cell_type": "code",
   "execution_count": 186,
   "id": "d22b90bb",
   "metadata": {},
   "outputs": [],
   "source": [
    "scores10 = [sia.polarity_scores(word) for word in ten['review']]\n",
    "\n",
    "scores10_sentiments = pd.DataFrame(scores10)"
   ]
  },
  {
   "cell_type": "code",
   "execution_count": 187,
   "id": "ecdf7f18",
   "metadata": {},
   "outputs": [
    {
     "data": {
      "text/html": [
       "<div>\n",
       "<style scoped>\n",
       "    .dataframe tbody tr th:only-of-type {\n",
       "        vertical-align: middle;\n",
       "    }\n",
       "\n",
       "    .dataframe tbody tr th {\n",
       "        vertical-align: top;\n",
       "    }\n",
       "\n",
       "    .dataframe thead th {\n",
       "        text-align: right;\n",
       "    }\n",
       "</style>\n",
       "<table border=\"1\" class=\"dataframe\">\n",
       "  <thead>\n",
       "    <tr style=\"text-align: right;\">\n",
       "      <th></th>\n",
       "      <th>neg</th>\n",
       "      <th>neu</th>\n",
       "      <th>pos</th>\n",
       "      <th>compound</th>\n",
       "    </tr>\n",
       "  </thead>\n",
       "  <tbody>\n",
       "    <tr>\n",
       "      <th>0</th>\n",
       "      <td>0.081</td>\n",
       "      <td>0.741</td>\n",
       "      <td>0.178</td>\n",
       "      <td>0.4939</td>\n",
       "    </tr>\n",
       "    <tr>\n",
       "      <th>1</th>\n",
       "      <td>0.195</td>\n",
       "      <td>0.777</td>\n",
       "      <td>0.028</td>\n",
       "      <td>-0.9141</td>\n",
       "    </tr>\n",
       "    <tr>\n",
       "      <th>2</th>\n",
       "      <td>0.142</td>\n",
       "      <td>0.756</td>\n",
       "      <td>0.102</td>\n",
       "      <td>-0.6597</td>\n",
       "    </tr>\n",
       "    <tr>\n",
       "      <th>3</th>\n",
       "      <td>0.098</td>\n",
       "      <td>0.791</td>\n",
       "      <td>0.111</td>\n",
       "      <td>0.1779</td>\n",
       "    </tr>\n",
       "    <tr>\n",
       "      <th>4</th>\n",
       "      <td>0.145</td>\n",
       "      <td>0.589</td>\n",
       "      <td>0.266</td>\n",
       "      <td>0.9257</td>\n",
       "    </tr>\n",
       "  </tbody>\n",
       "</table>\n",
       "</div>"
      ],
      "text/plain": [
       "     neg    neu    pos  compound\n",
       "0  0.081  0.741  0.178    0.4939\n",
       "1  0.195  0.777  0.028   -0.9141\n",
       "2  0.142  0.756  0.102   -0.6597\n",
       "3  0.098  0.791  0.111    0.1779\n",
       "4  0.145  0.589  0.266    0.9257"
      ]
     },
     "execution_count": 187,
     "metadata": {},
     "output_type": "execute_result"
    }
   ],
   "source": [
    "scores10_sentiments.head()"
   ]
  },
  {
   "cell_type": "code",
   "execution_count": 188,
   "id": "4baf4411",
   "metadata": {},
   "outputs": [
    {
     "data": {
      "text/html": [
       "<div>\n",
       "<style scoped>\n",
       "    .dataframe tbody tr th:only-of-type {\n",
       "        vertical-align: middle;\n",
       "    }\n",
       "\n",
       "    .dataframe tbody tr th {\n",
       "        vertical-align: top;\n",
       "    }\n",
       "\n",
       "    .dataframe thead th {\n",
       "        text-align: right;\n",
       "    }\n",
       "</style>\n",
       "<table border=\"1\" class=\"dataframe\">\n",
       "  <thead>\n",
       "    <tr style=\"text-align: right;\">\n",
       "      <th></th>\n",
       "      <th>neg</th>\n",
       "      <th>neu</th>\n",
       "      <th>pos</th>\n",
       "      <th>compound</th>\n",
       "    </tr>\n",
       "  </thead>\n",
       "  <tbody>\n",
       "    <tr>\n",
       "      <th>count</th>\n",
       "      <td>2108.000000</td>\n",
       "      <td>2108.000000</td>\n",
       "      <td>2108.000000</td>\n",
       "      <td>2108.000000</td>\n",
       "    </tr>\n",
       "    <tr>\n",
       "      <th>mean</th>\n",
       "      <td>0.145992</td>\n",
       "      <td>0.732185</td>\n",
       "      <td>0.121828</td>\n",
       "      <td>-0.184345</td>\n",
       "    </tr>\n",
       "    <tr>\n",
       "      <th>std</th>\n",
       "      <td>0.094339</td>\n",
       "      <td>0.134357</td>\n",
       "      <td>0.111674</td>\n",
       "      <td>0.635321</td>\n",
       "    </tr>\n",
       "    <tr>\n",
       "      <th>min</th>\n",
       "      <td>0.000000</td>\n",
       "      <td>0.076000</td>\n",
       "      <td>0.000000</td>\n",
       "      <td>-0.995100</td>\n",
       "    </tr>\n",
       "    <tr>\n",
       "      <th>25%</th>\n",
       "      <td>0.084750</td>\n",
       "      <td>0.674000</td>\n",
       "      <td>0.054000</td>\n",
       "      <td>-0.795725</td>\n",
       "    </tr>\n",
       "    <tr>\n",
       "      <th>50%</th>\n",
       "      <td>0.139000</td>\n",
       "      <td>0.750000</td>\n",
       "      <td>0.100000</td>\n",
       "      <td>-0.317300</td>\n",
       "    </tr>\n",
       "    <tr>\n",
       "      <th>75%</th>\n",
       "      <td>0.198000</td>\n",
       "      <td>0.815250</td>\n",
       "      <td>0.160000</td>\n",
       "      <td>0.415800</td>\n",
       "    </tr>\n",
       "    <tr>\n",
       "      <th>max</th>\n",
       "      <td>0.767000</td>\n",
       "      <td>1.000000</td>\n",
       "      <td>0.804000</td>\n",
       "      <td>0.987800</td>\n",
       "    </tr>\n",
       "  </tbody>\n",
       "</table>\n",
       "</div>"
      ],
      "text/plain": [
       "               neg          neu          pos     compound\n",
       "count  2108.000000  2108.000000  2108.000000  2108.000000\n",
       "mean      0.145992     0.732185     0.121828    -0.184345\n",
       "std       0.094339     0.134357     0.111674     0.635321\n",
       "min       0.000000     0.076000     0.000000    -0.995100\n",
       "25%       0.084750     0.674000     0.054000    -0.795725\n",
       "50%       0.139000     0.750000     0.100000    -0.317300\n",
       "75%       0.198000     0.815250     0.160000     0.415800\n",
       "max       0.767000     1.000000     0.804000     0.987800"
      ]
     },
     "execution_count": 188,
     "metadata": {},
     "output_type": "execute_result"
    }
   ],
   "source": [
    "scores10_sentiments.describe()"
   ]
  },
  {
   "cell_type": "markdown",
   "id": "9d26327f",
   "metadata": {},
   "source": [
    "For the 10-Rated Reviews, Mean scores =\n",
    "\n",
    "Negative: 0.145992\n",
    "Neutral: 0.732185\n",
    "Positive: 0.121828\n",
    "Compound: -0.184345\n",
    "\n",
    "The mean compound score is slightly negative, meaning the language used is slightly more negative. \n",
    "\n",
    "I will complete the same process for the 1-Rated reviews as a basis of comparison."
   ]
  },
  {
   "cell_type": "markdown",
   "id": "f1de0630",
   "metadata": {},
   "source": [
    "##### Reviews Rated 1"
   ]
  },
  {
   "cell_type": "code",
   "execution_count": 189,
   "id": "6600b19e",
   "metadata": {},
   "outputs": [],
   "source": [
    "scores1 = [sia.polarity_scores(word) for word in one['review']]\n",
    "\n",
    "scores1_sentiments = pd.DataFrame(scores1)"
   ]
  },
  {
   "cell_type": "code",
   "execution_count": 190,
   "id": "bb5bc1ac",
   "metadata": {},
   "outputs": [
    {
     "data": {
      "text/html": [
       "<div>\n",
       "<style scoped>\n",
       "    .dataframe tbody tr th:only-of-type {\n",
       "        vertical-align: middle;\n",
       "    }\n",
       "\n",
       "    .dataframe tbody tr th {\n",
       "        vertical-align: top;\n",
       "    }\n",
       "\n",
       "    .dataframe thead th {\n",
       "        text-align: right;\n",
       "    }\n",
       "</style>\n",
       "<table border=\"1\" class=\"dataframe\">\n",
       "  <thead>\n",
       "    <tr style=\"text-align: right;\">\n",
       "      <th></th>\n",
       "      <th>neg</th>\n",
       "      <th>neu</th>\n",
       "      <th>pos</th>\n",
       "      <th>compound</th>\n",
       "    </tr>\n",
       "  </thead>\n",
       "  <tbody>\n",
       "    <tr>\n",
       "      <th>0</th>\n",
       "      <td>0.092</td>\n",
       "      <td>0.834</td>\n",
       "      <td>0.075</td>\n",
       "      <td>-0.2298</td>\n",
       "    </tr>\n",
       "    <tr>\n",
       "      <th>1</th>\n",
       "      <td>0.000</td>\n",
       "      <td>0.948</td>\n",
       "      <td>0.052</td>\n",
       "      <td>0.0951</td>\n",
       "    </tr>\n",
       "    <tr>\n",
       "      <th>2</th>\n",
       "      <td>0.356</td>\n",
       "      <td>0.644</td>\n",
       "      <td>0.000</td>\n",
       "      <td>-0.7351</td>\n",
       "    </tr>\n",
       "    <tr>\n",
       "      <th>3</th>\n",
       "      <td>0.000</td>\n",
       "      <td>0.816</td>\n",
       "      <td>0.184</td>\n",
       "      <td>0.4019</td>\n",
       "    </tr>\n",
       "    <tr>\n",
       "      <th>4</th>\n",
       "      <td>0.063</td>\n",
       "      <td>0.937</td>\n",
       "      <td>0.000</td>\n",
       "      <td>-0.2235</td>\n",
       "    </tr>\n",
       "  </tbody>\n",
       "</table>\n",
       "</div>"
      ],
      "text/plain": [
       "     neg    neu    pos  compound\n",
       "0  0.092  0.834  0.075   -0.2298\n",
       "1  0.000  0.948  0.052    0.0951\n",
       "2  0.356  0.644  0.000   -0.7351\n",
       "3  0.000  0.816  0.184    0.4019\n",
       "4  0.063  0.937  0.000   -0.2235"
      ]
     },
     "execution_count": 190,
     "metadata": {},
     "output_type": "execute_result"
    }
   ],
   "source": [
    "scores1_sentiments.head()"
   ]
  },
  {
   "cell_type": "code",
   "execution_count": 191,
   "id": "a9f633b8",
   "metadata": {},
   "outputs": [
    {
     "data": {
      "text/html": [
       "<div>\n",
       "<style scoped>\n",
       "    .dataframe tbody tr th:only-of-type {\n",
       "        vertical-align: middle;\n",
       "    }\n",
       "\n",
       "    .dataframe tbody tr th {\n",
       "        vertical-align: top;\n",
       "    }\n",
       "\n",
       "    .dataframe thead th {\n",
       "        text-align: right;\n",
       "    }\n",
       "</style>\n",
       "<table border=\"1\" class=\"dataframe\">\n",
       "  <thead>\n",
       "    <tr style=\"text-align: right;\">\n",
       "      <th></th>\n",
       "      <th>neg</th>\n",
       "      <th>neu</th>\n",
       "      <th>pos</th>\n",
       "      <th>compound</th>\n",
       "    </tr>\n",
       "  </thead>\n",
       "  <tbody>\n",
       "    <tr>\n",
       "      <th>count</th>\n",
       "      <td>582.000000</td>\n",
       "      <td>582.000000</td>\n",
       "      <td>582.000000</td>\n",
       "      <td>582.000000</td>\n",
       "    </tr>\n",
       "    <tr>\n",
       "      <th>mean</th>\n",
       "      <td>0.171107</td>\n",
       "      <td>0.750041</td>\n",
       "      <td>0.078859</td>\n",
       "      <td>-0.458895</td>\n",
       "    </tr>\n",
       "    <tr>\n",
       "      <th>std</th>\n",
       "      <td>0.103491</td>\n",
       "      <td>0.118542</td>\n",
       "      <td>0.078238</td>\n",
       "      <td>0.508689</td>\n",
       "    </tr>\n",
       "    <tr>\n",
       "      <th>min</th>\n",
       "      <td>0.000000</td>\n",
       "      <td>0.104000</td>\n",
       "      <td>0.000000</td>\n",
       "      <td>-0.990900</td>\n",
       "    </tr>\n",
       "    <tr>\n",
       "      <th>25%</th>\n",
       "      <td>0.104000</td>\n",
       "      <td>0.685000</td>\n",
       "      <td>0.018000</td>\n",
       "      <td>-0.868850</td>\n",
       "    </tr>\n",
       "    <tr>\n",
       "      <th>50%</th>\n",
       "      <td>0.161000</td>\n",
       "      <td>0.764000</td>\n",
       "      <td>0.067000</td>\n",
       "      <td>-0.679700</td>\n",
       "    </tr>\n",
       "    <tr>\n",
       "      <th>75%</th>\n",
       "      <td>0.230750</td>\n",
       "      <td>0.821000</td>\n",
       "      <td>0.112000</td>\n",
       "      <td>-0.137150</td>\n",
       "    </tr>\n",
       "    <tr>\n",
       "      <th>max</th>\n",
       "      <td>0.644000</td>\n",
       "      <td>1.000000</td>\n",
       "      <td>0.556000</td>\n",
       "      <td>0.977500</td>\n",
       "    </tr>\n",
       "  </tbody>\n",
       "</table>\n",
       "</div>"
      ],
      "text/plain": [
       "              neg         neu         pos    compound\n",
       "count  582.000000  582.000000  582.000000  582.000000\n",
       "mean     0.171107    0.750041    0.078859   -0.458895\n",
       "std      0.103491    0.118542    0.078238    0.508689\n",
       "min      0.000000    0.104000    0.000000   -0.990900\n",
       "25%      0.104000    0.685000    0.018000   -0.868850\n",
       "50%      0.161000    0.764000    0.067000   -0.679700\n",
       "75%      0.230750    0.821000    0.112000   -0.137150\n",
       "max      0.644000    1.000000    0.556000    0.977500"
      ]
     },
     "execution_count": 191,
     "metadata": {},
     "output_type": "execute_result"
    }
   ],
   "source": [
    "scores1_sentiments.describe()"
   ]
  },
  {
   "cell_type": "markdown",
   "id": "e43740a9",
   "metadata": {},
   "source": [
    "For the 1 Rated Reviews, Mean scores = \n",
    "\n",
    "Negative: 0.171107\n",
    "Neutral: 0.750041\n",
    "Positive: 0.078859\n",
    "Compound: -0.458895\n",
    "\n",
    "The mean compound score is moderately negative, more strongly negative than the mean score for the reviews rated 10."
   ]
  },
  {
   "cell_type": "markdown",
   "id": "30a8f071",
   "metadata": {},
   "source": [
    "### Samples"
   ]
  },
  {
   "cell_type": "markdown",
   "id": "a30bc9da",
   "metadata": {},
   "source": [
    "It may be of interest to look more closely at some of the reviews in order to see what praise and/or concerns patients have when taking these medications. I will observe below."
   ]
  },
  {
   "cell_type": "markdown",
   "id": "611dd30c",
   "metadata": {},
   "source": [
    "##### 10-Rated Reviews"
   ]
  },
  {
   "cell_type": "code",
   "execution_count": 192,
   "id": "c9d0ad08",
   "metadata": {},
   "outputs": [
    {
     "data": {
      "text/plain": [
       "[['Buprenorphine',\n",
       "  '\"At age 55 I fell off the roof and I had pain in my tail bone. Nothing showed on X-ray, CAT scan, MRI&#039;S either. So I was given hydrocodone and tylenol 3, a pat on the head and was basically told to suffer.  Surgery was denied, I was in so much pain I didn&#039;t care. All the medical society abandoned me. So one day I said good by and took all the pills I could find and tried to commit suicide. Didn&#039;t work, sent to psyc. ward and started on buprenorphine. What a God send. I have been mostly pain free for 6 years. Yea I&#039;m &#039;hooked&#039; but I am so blessed for it. ps. I am also &#039;hooked&#039; on insulin. Dependent not addicted.\"',\n",
       "  10.0,\n",
       "  28]]"
      ]
     },
     "execution_count": 192,
     "metadata": {},
     "output_type": "execute_result"
    }
   ],
   "source": [
    "ten.sample(1, random_state = 1234).values.tolist()"
   ]
  },
  {
   "cell_type": "markdown",
   "id": "7288442b",
   "metadata": {},
   "source": [
    "This reviewer describes buprenorphine as a \"God send,\" stating it relieved pain that was severe enough that the person previously tried to commit suicide."
   ]
  },
  {
   "cell_type": "code",
   "execution_count": 193,
   "id": "d509e3a7",
   "metadata": {},
   "outputs": [
    {
     "data": {
      "text/plain": [
       "[['Oxycodone',\n",
       "  '\"This medicine has worked wonders on my chronic back pain. I have tried everything from Tramadol to Opana ER and for the price Roxicodone 30mg tops them all if taken as prescribed, and at the same time each day. The only downfall is that you must take the pills more frequently than say MS Contin or Oxycontin where you only need them every 12 hours. However that was my main problem with the Opana, Oxycontin, Etc., they didn&#039;t seem to last the full 12 hours as advertised. I was lucky if I got a good 8 hours from them.\"',\n",
       "  10.0,\n",
       "  48]]"
      ]
     },
     "execution_count": 193,
     "metadata": {},
     "output_type": "execute_result"
    }
   ],
   "source": [
    "ten.sample(1, random_state = 3456).values.tolist()"
   ]
  },
  {
   "cell_type": "markdown",
   "id": "d1b7382d",
   "metadata": {},
   "source": [
    "Regarding Oxycodone, this person informs, \"This medicine has worked wonders on my back pain.\""
   ]
  },
  {
   "cell_type": "code",
   "execution_count": 194,
   "id": "52812ef7",
   "metadata": {},
   "outputs": [
    {
     "data": {
      "text/plain": [
       "[['Naproxen',\n",
       "  '\"52 yr old struggled physically for 30 years, fibromyalgia, CFS, widespread joint and muscle pain.\\r\\nDepressed due to daily pain and effort to do anything.\\r\\nTook 500mg Naproxen and the pain, stiffness and burning has virtually gone, it took about 45 minutes to work, I feel like somebody else, woke up this morning having had a good nights sleep still feeling much better, I can&#039;t actually believe it. Ibuprofen, paracetamol didn&#039;t touch it, Zapain helps but worsens fatigue.\\r\\nI was prescribed Naproxen 6 months ago 250 mg twice a day, didn&#039;t do a lot and I over read and over thought the side effects so didn&#039;t bother. I&#039;m trying 500 mg once a day for a few days then I&#039;ll try splitting the dose. I&#039;ve had no side effects on either 500mg so far, I just feel great.\"',\n",
       "  10.0,\n",
       "  5]]"
      ]
     },
     "execution_count": 194,
     "metadata": {},
     "output_type": "execute_result"
    }
   ],
   "source": [
    "ten.sample(1, random_state = 6789).values.tolist()"
   ]
  },
  {
   "cell_type": "markdown",
   "id": "c72e707f",
   "metadata": {},
   "source": [
    "Regarding Naproxen, this person informs, \"Took 500mg Naproxen and the pain, stiffness and burning has virtually gone...had a good nights sleep still feeling much better.\""
   ]
  },
  {
   "cell_type": "markdown",
   "id": "7acb0b65",
   "metadata": {},
   "source": [
    "##### Sentiment Analysis"
   ]
  },
  {
   "cell_type": "code",
   "execution_count": 195,
   "id": "23b8bc56",
   "metadata": {},
   "outputs": [
    {
     "data": {
      "text/html": [
       "<div>\n",
       "<style scoped>\n",
       "    .dataframe tbody tr th:only-of-type {\n",
       "        vertical-align: middle;\n",
       "    }\n",
       "\n",
       "    .dataframe tbody tr th {\n",
       "        vertical-align: top;\n",
       "    }\n",
       "\n",
       "    .dataframe thead th {\n",
       "        text-align: right;\n",
       "    }\n",
       "</style>\n",
       "<table border=\"1\" class=\"dataframe\">\n",
       "  <thead>\n",
       "    <tr style=\"text-align: right;\">\n",
       "      <th></th>\n",
       "      <th>drug</th>\n",
       "      <th>review</th>\n",
       "      <th>rating</th>\n",
       "      <th>usefulcount</th>\n",
       "    </tr>\n",
       "  </thead>\n",
       "  <tbody>\n",
       "    <tr>\n",
       "      <th>48421</th>\n",
       "      <td>Buprenorphine</td>\n",
       "      <td>\"At age 55 I fell off the roof and I had pain ...</td>\n",
       "      <td>10.0</td>\n",
       "      <td>28</td>\n",
       "    </tr>\n",
       "    <tr>\n",
       "      <th>131834</th>\n",
       "      <td>Oxycodone</td>\n",
       "      <td>\"This medicine has worked wonders on my chroni...</td>\n",
       "      <td>10.0</td>\n",
       "      <td>48</td>\n",
       "    </tr>\n",
       "    <tr>\n",
       "      <th>60935</th>\n",
       "      <td>Naproxen</td>\n",
       "      <td>\"52 yr old struggled physically for 30 years, ...</td>\n",
       "      <td>10.0</td>\n",
       "      <td>5</td>\n",
       "    </tr>\n",
       "  </tbody>\n",
       "</table>\n",
       "</div>"
      ],
      "text/plain": [
       "                 drug                                             review  \\\n",
       "48421   Buprenorphine  \"At age 55 I fell off the roof and I had pain ...   \n",
       "131834      Oxycodone  \"This medicine has worked wonders on my chroni...   \n",
       "60935        Naproxen  \"52 yr old struggled physically for 30 years, ...   \n",
       "\n",
       "        rating  usefulcount  \n",
       "48421     10.0           28  \n",
       "131834    10.0           48  \n",
       "60935     10.0            5  "
      ]
     },
     "execution_count": 195,
     "metadata": {},
     "output_type": "execute_result"
    }
   ],
   "source": [
    "sample10 = pd.concat([ten.sample(1, random_state = 1234), ten.sample(1, random_state = 3456),\n",
    "                     ten.sample(1, random_state = 6789)])\n",
    "                      \n",
    "sample10"
   ]
  },
  {
   "cell_type": "code",
   "execution_count": 314,
   "id": "29b1ff1d",
   "metadata": {},
   "outputs": [
    {
     "data": {
      "text/html": [
       "<div>\n",
       "<style scoped>\n",
       "    .dataframe tbody tr th:only-of-type {\n",
       "        vertical-align: middle;\n",
       "    }\n",
       "\n",
       "    .dataframe tbody tr th {\n",
       "        vertical-align: top;\n",
       "    }\n",
       "\n",
       "    .dataframe thead th {\n",
       "        text-align: right;\n",
       "    }\n",
       "</style>\n",
       "<table border=\"1\" class=\"dataframe\">\n",
       "  <thead>\n",
       "    <tr style=\"text-align: right;\">\n",
       "      <th></th>\n",
       "      <th>0</th>\n",
       "    </tr>\n",
       "  </thead>\n",
       "  <tbody>\n",
       "    <tr>\n",
       "      <th>0</th>\n",
       "      <td>\"At age 55 I fell off the roof and I had pain ...</td>\n",
       "    </tr>\n",
       "    <tr>\n",
       "      <th>1</th>\n",
       "      <td>\"This medicine has worked wonders on my chroni...</td>\n",
       "    </tr>\n",
       "    <tr>\n",
       "      <th>2</th>\n",
       "      <td>\"52 yr old struggled physically for 30 years, ...</td>\n",
       "    </tr>\n",
       "  </tbody>\n",
       "</table>\n",
       "</div>"
      ],
      "text/plain": [
       "                                                   0\n",
       "0  \"At age 55 I fell off the roof and I had pain ...\n",
       "1  \"This medicine has worked wonders on my chroni...\n",
       "2  \"52 yr old struggled physically for 30 years, ..."
      ]
     },
     "execution_count": 314,
     "metadata": {},
     "output_type": "execute_result"
    }
   ],
   "source": [
    "words10 = sample10.review.values.tolist()\n",
    "\n",
    "words10_df = pd.DataFrame(words10)\n",
    "\n",
    "words10_df"
   ]
  },
  {
   "cell_type": "code",
   "execution_count": 315,
   "id": "6cfc524b",
   "metadata": {},
   "outputs": [
    {
     "data": {
      "text/html": [
       "<div>\n",
       "<style scoped>\n",
       "    .dataframe tbody tr th:only-of-type {\n",
       "        vertical-align: middle;\n",
       "    }\n",
       "\n",
       "    .dataframe tbody tr th {\n",
       "        vertical-align: top;\n",
       "    }\n",
       "\n",
       "    .dataframe thead th {\n",
       "        text-align: right;\n",
       "    }\n",
       "</style>\n",
       "<table border=\"1\" class=\"dataframe\">\n",
       "  <thead>\n",
       "    <tr style=\"text-align: right;\">\n",
       "      <th></th>\n",
       "      <th>0</th>\n",
       "      <th>neg</th>\n",
       "      <th>neu</th>\n",
       "      <th>pos</th>\n",
       "      <th>compound</th>\n",
       "    </tr>\n",
       "  </thead>\n",
       "  <tbody>\n",
       "    <tr>\n",
       "      <th>0</th>\n",
       "      <td>\"At age 55 I fell off the roof and I had pain ...</td>\n",
       "      <td>0.119</td>\n",
       "      <td>0.755</td>\n",
       "      <td>0.126</td>\n",
       "      <td>0.4473</td>\n",
       "    </tr>\n",
       "    <tr>\n",
       "      <th>1</th>\n",
       "      <td>\"This medicine has worked wonders on my chroni...</td>\n",
       "      <td>0.058</td>\n",
       "      <td>0.856</td>\n",
       "      <td>0.087</td>\n",
       "      <td>0.4588</td>\n",
       "    </tr>\n",
       "    <tr>\n",
       "      <th>2</th>\n",
       "      <td>\"52 yr old struggled physically for 30 years, ...</td>\n",
       "      <td>0.161</td>\n",
       "      <td>0.779</td>\n",
       "      <td>0.060</td>\n",
       "      <td>-0.9389</td>\n",
       "    </tr>\n",
       "  </tbody>\n",
       "</table>\n",
       "</div>"
      ],
      "text/plain": [
       "                                                   0    neg    neu    pos  \\\n",
       "0  \"At age 55 I fell off the roof and I had pain ...  0.119  0.755  0.126   \n",
       "1  \"This medicine has worked wonders on my chroni...  0.058  0.856  0.087   \n",
       "2  \"52 yr old struggled physically for 30 years, ...  0.161  0.779  0.060   \n",
       "\n",
       "   compound  \n",
       "0    0.4473  \n",
       "1    0.4588  \n",
       "2   -0.9389  "
      ]
     },
     "execution_count": 315,
     "metadata": {},
     "output_type": "execute_result"
    }
   ],
   "source": [
    "scores_s10 = [sia.polarity_scores(word) for word in sample10['review']]\n",
    "\n",
    "scores_s10_sentiments = pd.DataFrame(scores_s10)\n",
    "\n",
    "final_s10_sentiments = pd.concat([words10_df, scores_s10_sentiments], axis=1)\n",
    "\n",
    "final_s10_sentiments"
   ]
  },
  {
   "cell_type": "code",
   "execution_count": 199,
   "id": "c06bf952",
   "metadata": {},
   "outputs": [
    {
     "data": {
      "image/png": "[encoded data removed]",
      "text/plain": [
       "<Figure size 640x480 with 1 Axes>"
      ]
     },
     "metadata": {},
     "output_type": "display_data"
    }
   ],
   "source": [
    "final_s10_sentiments.plot(kind='bar', title='Sentiment Scores: Samples - 10 Rating', xlabel='Post number', ylabel='Score');\n",
    "\n",
    "plt.xticks(rotation = 0);"
   ]
  },
  {
   "cell_type": "markdown",
   "id": "55cf23ce",
   "metadata": {},
   "source": [
    "##### One-Rated Reviews"
   ]
  },
  {
   "cell_type": "code",
   "execution_count": 200,
   "id": "1ae92392",
   "metadata": {},
   "outputs": [
    {
     "data": {
      "text/plain": [
       "[['Hysingla ER',\n",
       "  '\"I&#039;ve been a chronic pain patient for 10 plus years. My dr wanted me to try Hysingla 100 mg even though my other medication was working the best out of all the others I&#039;ve tried and been on.  I took the first does and I didn&#039;t seem to have any relief but I kept reminding myself what he and I discussed so I gave it another try.  By this time my other medication is no longer in my system and now my pain is getting really bad so I called my dr&#039;s office. I was advised that the Hysingla would peak at 15 hours of taking it and sometimes takes a while to build up.  After a few days my dr took me off of it, an asprin worked better then the Hysingla.  I hope others don&#039;t have to suffer like I did.\"',\n",
       "  1.0,\n",
       "  52]]"
      ]
     },
     "execution_count": 200,
     "metadata": {},
     "output_type": "execute_result"
    }
   ],
   "source": [
    "one.sample(1, random_state = 2424).values.tolist()"
   ]
  },
  {
   "cell_type": "markdown",
   "id": "bb870f20",
   "metadata": {},
   "source": [
    "Regarding Hyslinga ER, this patient informs they didn't \"seem to have any relief.\""
   ]
  },
  {
   "cell_type": "code",
   "execution_count": 201,
   "id": "c629dcc7",
   "metadata": {},
   "outputs": [
    {
     "data": {
      "text/plain": [
       "[['Gabapentin',\n",
       "  '\"I have very little memory of my time taking Gabapentin - which is part of the problem with the drug.  For some people it&#039;s OK, but for me my memory from that time is like a black hole.  I remember starting it, a few flashes while taking it, but I don&#039;t remember tapering off the drug.  It&#039;s like I lost 6 months of my life.  I couldn&#039;t even tell you if it helped with the pain.\"',\n",
       "  1.0,\n",
       "  49]]"
      ]
     },
     "execution_count": 201,
     "metadata": {},
     "output_type": "execute_result"
    }
   ],
   "source": [
    "one.sample(1, random_state = 4646).values.tolist()"
   ]
  },
  {
   "cell_type": "markdown",
   "id": "5a32773b",
   "metadata": {},
   "source": [
    "This person reports memory concerns while taking Gabapentin, stating, \"It's like I lost 6 months of my life. I couldn't even tell you if it helped with the pain.\""
   ]
  },
  {
   "cell_type": "code",
   "execution_count": 202,
   "id": "97266da2",
   "metadata": {},
   "outputs": [
    {
     "data": {
      "text/plain": [
       "[['Diclofenac',\n",
       "  '\"I actually came on this site to read about Voltaren gel to see if its effects were supposed to be cumulative--if, that is, I was supposed to start getting relief after several applications of the gel.  Unfortunately, I found out that it is supposed to work to relieve the pain each time it is used.  It certainly doesn&#039;t do this for me--I may as well be applying lotion for all the good it does me.  It really does nothing at all.\\r\\n\\r\\nI&#039;m really disappointed, as my pain management doctor just weaned me off of narcotics, so I don&#039;t have anything that helps with the pain at the moment.  I&#039;ll have to go see him again to get something else. It is so frustrating to try to find something that works, since everyone is different.\"',\n",
       "  1.0,\n",
       "  29]]"
      ]
     },
     "execution_count": 202,
     "metadata": {},
     "output_type": "execute_result"
    }
   ],
   "source": [
    "one.sample(1, random_state = 4848).values.tolist()"
   ]
  },
  {
   "cell_type": "markdown",
   "id": "e2fde815",
   "metadata": {},
   "source": [
    "Regarding Diclofenac, this patient states, \"It really does nothing at all,\" also informing that he is disappointed as his pain management doctor just weaned him off of narcotics."
   ]
  },
  {
   "cell_type": "markdown",
   "id": "dd67c1cc",
   "metadata": {},
   "source": [
    "##### Sentiment Analysis"
   ]
  },
  {
   "cell_type": "code",
   "execution_count": 203,
   "id": "df6c13ef",
   "metadata": {},
   "outputs": [
    {
     "data": {
      "text/html": [
       "<div>\n",
       "<style scoped>\n",
       "    .dataframe tbody tr th:only-of-type {\n",
       "        vertical-align: middle;\n",
       "    }\n",
       "\n",
       "    .dataframe tbody tr th {\n",
       "        vertical-align: top;\n",
       "    }\n",
       "\n",
       "    .dataframe thead th {\n",
       "        text-align: right;\n",
       "    }\n",
       "</style>\n",
       "<table border=\"1\" class=\"dataframe\">\n",
       "  <thead>\n",
       "    <tr style=\"text-align: right;\">\n",
       "      <th></th>\n",
       "      <th>drug</th>\n",
       "      <th>review</th>\n",
       "      <th>rating</th>\n",
       "      <th>usefulcount</th>\n",
       "    </tr>\n",
       "  </thead>\n",
       "  <tbody>\n",
       "    <tr>\n",
       "      <th>57466</th>\n",
       "      <td>Hysingla ER</td>\n",
       "      <td>\"I&amp;#039;ve been a chronic pain patient for 10 ...</td>\n",
       "      <td>1.0</td>\n",
       "      <td>52</td>\n",
       "    </tr>\n",
       "    <tr>\n",
       "      <th>78256</th>\n",
       "      <td>Gabapentin</td>\n",
       "      <td>\"I have very little memory of my time taking G...</td>\n",
       "      <td>1.0</td>\n",
       "      <td>49</td>\n",
       "    </tr>\n",
       "    <tr>\n",
       "      <th>125534</th>\n",
       "      <td>Diclofenac</td>\n",
       "      <td>\"I actually came on this site to read about Vo...</td>\n",
       "      <td>1.0</td>\n",
       "      <td>29</td>\n",
       "    </tr>\n",
       "  </tbody>\n",
       "</table>\n",
       "</div>"
      ],
      "text/plain": [
       "               drug                                             review  \\\n",
       "57466   Hysingla ER  \"I&#039;ve been a chronic pain patient for 10 ...   \n",
       "78256    Gabapentin  \"I have very little memory of my time taking G...   \n",
       "125534   Diclofenac  \"I actually came on this site to read about Vo...   \n",
       "\n",
       "        rating  usefulcount  \n",
       "57466      1.0           52  \n",
       "78256      1.0           49  \n",
       "125534     1.0           29  "
      ]
     },
     "execution_count": 203,
     "metadata": {},
     "output_type": "execute_result"
    }
   ],
   "source": [
    "sample1 = pd.concat([one.sample(1, random_state = 2424), one.sample(1, random_state = 4646),\n",
    "                     one.sample(1, random_state = 4848)])\n",
    "                      \n",
    "sample1"
   ]
  },
  {
   "cell_type": "code",
   "execution_count": 318,
   "id": "d52b432a",
   "metadata": {},
   "outputs": [
    {
     "data": {
      "text/html": [
       "<div>\n",
       "<style scoped>\n",
       "    .dataframe tbody tr th:only-of-type {\n",
       "        vertical-align: middle;\n",
       "    }\n",
       "\n",
       "    .dataframe tbody tr th {\n",
       "        vertical-align: top;\n",
       "    }\n",
       "\n",
       "    .dataframe thead th {\n",
       "        text-align: right;\n",
       "    }\n",
       "</style>\n",
       "<table border=\"1\" class=\"dataframe\">\n",
       "  <thead>\n",
       "    <tr style=\"text-align: right;\">\n",
       "      <th></th>\n",
       "      <th>0</th>\n",
       "    </tr>\n",
       "  </thead>\n",
       "  <tbody>\n",
       "    <tr>\n",
       "      <th>0</th>\n",
       "      <td>\"I&amp;#039;ve been a chronic pain patient for 10 ...</td>\n",
       "    </tr>\n",
       "    <tr>\n",
       "      <th>1</th>\n",
       "      <td>\"I have very little memory of my time taking G...</td>\n",
       "    </tr>\n",
       "    <tr>\n",
       "      <th>2</th>\n",
       "      <td>\"I actually came on this site to read about Vo...</td>\n",
       "    </tr>\n",
       "  </tbody>\n",
       "</table>\n",
       "</div>"
      ],
      "text/plain": [
       "                                                   0\n",
       "0  \"I&#039;ve been a chronic pain patient for 10 ...\n",
       "1  \"I have very little memory of my time taking G...\n",
       "2  \"I actually came on this site to read about Vo..."
      ]
     },
     "execution_count": 318,
     "metadata": {},
     "output_type": "execute_result"
    }
   ],
   "source": [
    "words1 = sample1.review.values.tolist()\n",
    "\n",
    "words1_df = pd.DataFrame(words1)\n",
    "\n",
    "words1_df"
   ]
  },
  {
   "cell_type": "code",
   "execution_count": 319,
   "id": "3297f4c5",
   "metadata": {},
   "outputs": [
    {
     "data": {
      "text/html": [
       "<div>\n",
       "<style scoped>\n",
       "    .dataframe tbody tr th:only-of-type {\n",
       "        vertical-align: middle;\n",
       "    }\n",
       "\n",
       "    .dataframe tbody tr th {\n",
       "        vertical-align: top;\n",
       "    }\n",
       "\n",
       "    .dataframe thead th {\n",
       "        text-align: right;\n",
       "    }\n",
       "</style>\n",
       "<table border=\"1\" class=\"dataframe\">\n",
       "  <thead>\n",
       "    <tr style=\"text-align: right;\">\n",
       "      <th></th>\n",
       "      <th>0</th>\n",
       "      <th>neg</th>\n",
       "      <th>neu</th>\n",
       "      <th>pos</th>\n",
       "      <th>compound</th>\n",
       "    </tr>\n",
       "  </thead>\n",
       "  <tbody>\n",
       "    <tr>\n",
       "      <th>0</th>\n",
       "      <td>\"I&amp;#039;ve been a chronic pain patient for 10 ...</td>\n",
       "      <td>0.124</td>\n",
       "      <td>0.776</td>\n",
       "      <td>0.100</td>\n",
       "      <td>-0.6946</td>\n",
       "    </tr>\n",
       "    <tr>\n",
       "      <th>1</th>\n",
       "      <td>\"I have very little memory of my time taking G...</td>\n",
       "      <td>0.063</td>\n",
       "      <td>0.826</td>\n",
       "      <td>0.111</td>\n",
       "      <td>0.5671</td>\n",
       "    </tr>\n",
       "    <tr>\n",
       "      <th>2</th>\n",
       "      <td>\"I actually came on this site to read about Vo...</td>\n",
       "      <td>0.126</td>\n",
       "      <td>0.773</td>\n",
       "      <td>0.101</td>\n",
       "      <td>-0.7035</td>\n",
       "    </tr>\n",
       "  </tbody>\n",
       "</table>\n",
       "</div>"
      ],
      "text/plain": [
       "                                                   0    neg    neu    pos  \\\n",
       "0  \"I&#039;ve been a chronic pain patient for 10 ...  0.124  0.776  0.100   \n",
       "1  \"I have very little memory of my time taking G...  0.063  0.826  0.111   \n",
       "2  \"I actually came on this site to read about Vo...  0.126  0.773  0.101   \n",
       "\n",
       "   compound  \n",
       "0   -0.6946  \n",
       "1    0.5671  \n",
       "2   -0.7035  "
      ]
     },
     "execution_count": 319,
     "metadata": {},
     "output_type": "execute_result"
    }
   ],
   "source": [
    "scores_s1 = [sia.polarity_scores(word) for word in sample1['review']]\n",
    "\n",
    "scores_s1_sentiments = pd.DataFrame(scores_s1)\n",
    "\n",
    "final_s1_sentiments = pd.concat([words1_df, scores_s1_sentiments], axis=1)\n",
    "\n",
    "final_s1_sentiments\n"
   ]
  },
  {
   "cell_type": "code",
   "execution_count": 207,
   "id": "1495b634",
   "metadata": {},
   "outputs": [
    {
     "data": {
      "image/png": "[encoded data removed]",
      "text/plain": [
       "<Figure size 640x480 with 1 Axes>"
      ]
     },
     "metadata": {},
     "output_type": "display_data"
    }
   ],
   "source": [
    "final_s1_sentiments.plot(kind='bar', title='Sentiment Scores: Samples - 1 Rating', xlabel='Post number', ylabel='Score');\n",
    "\n",
    "plt.xticks(rotation = 0);"
   ]
  },
  {
   "cell_type": "markdown",
   "id": "05e6de51",
   "metadata": {},
   "source": [
    "### Discussion"
   ]
  },
  {
   "cell_type": "markdown",
   "id": "f98ee125",
   "metadata": {},
   "source": [
    "Of these 3 reviews, 1 has a negative compound score, while 2 have a postive compound score."
   ]
  },
  {
   "cell_type": "markdown",
   "id": "912863b5",
   "metadata": {},
   "source": [
    "## Alternative Subsets"
   ]
  },
  {
   "cell_type": "markdown",
   "id": "6442e9c0",
   "metadata": {},
   "source": [
    "### Drugs Commonly Given Ratings of 10"
   ]
  },
  {
   "cell_type": "code",
   "execution_count": 208,
   "id": "1b4240cc",
   "metadata": {},
   "outputs": [
    {
     "data": {
      "text/plain": [
       "Oxycodone                      132\n",
       "Acetaminophen / oxycodone      107\n",
       "Acetaminophen / hydrocodone    106\n",
       "Hydromorphone                  100\n",
       "Dilaudid                        88\n",
       "                              ... \n",
       "Fentora                          1\n",
       "Oxyfast                          1\n",
       "Methadone Diskets                1\n",
       "Orudis KT                        1\n",
       "Soma Compound with Codeine       1\n",
       "Name: drug, Length: 160, dtype: int64"
      ]
     },
     "execution_count": 208,
     "metadata": {},
     "output_type": "execute_result"
    }
   ],
   "source": [
    "ten.drug.value_counts()"
   ]
  },
  {
   "cell_type": "code",
   "execution_count": 209,
   "id": "2a6d0dc2",
   "metadata": {},
   "outputs": [
    {
     "data": {
      "text/html": [
       "<div>\n",
       "<style scoped>\n",
       "    .dataframe tbody tr th:only-of-type {\n",
       "        vertical-align: middle;\n",
       "    }\n",
       "\n",
       "    .dataframe tbody tr th {\n",
       "        vertical-align: top;\n",
       "    }\n",
       "\n",
       "    .dataframe thead th {\n",
       "        text-align: right;\n",
       "    }\n",
       "</style>\n",
       "<table border=\"1\" class=\"dataframe\">\n",
       "  <thead>\n",
       "    <tr style=\"text-align: right;\">\n",
       "      <th></th>\n",
       "      <th>drug</th>\n",
       "      <th>review</th>\n",
       "      <th>rating</th>\n",
       "      <th>usefulcount</th>\n",
       "    </tr>\n",
       "  </thead>\n",
       "  <tbody>\n",
       "    <tr>\n",
       "      <th>28361</th>\n",
       "      <td>Acetaminophen / oxycodone</td>\n",
       "      <td>\"I think  endocet are the best pain medicine I...</td>\n",
       "      <td>10.0</td>\n",
       "      <td>19</td>\n",
       "    </tr>\n",
       "    <tr>\n",
       "      <th>28367</th>\n",
       "      <td>Acetaminophen / oxycodone</td>\n",
       "      <td>\"Taking for tooth abscesses , on 2 days now . ...</td>\n",
       "      <td>1.0</td>\n",
       "      <td>5</td>\n",
       "    </tr>\n",
       "    <tr>\n",
       "      <th>28369</th>\n",
       "      <td>Acetaminophen / oxycodone</td>\n",
       "      <td>\"I had either an abscess tooth and/or nerve ex...</td>\n",
       "      <td>10.0</td>\n",
       "      <td>8</td>\n",
       "    </tr>\n",
       "    <tr>\n",
       "      <th>28372</th>\n",
       "      <td>Acetaminophen / oxycodone</td>\n",
       "      <td>\"My doc prescribed this for after having colit...</td>\n",
       "      <td>1.0</td>\n",
       "      <td>9</td>\n",
       "    </tr>\n",
       "    <tr>\n",
       "      <th>28375</th>\n",
       "      <td>Acetaminophen / oxycodone</td>\n",
       "      <td>\"This is the only narcotic for pain that does ...</td>\n",
       "      <td>8.0</td>\n",
       "      <td>13</td>\n",
       "    </tr>\n",
       "  </tbody>\n",
       "</table>\n",
       "</div>"
      ],
      "text/plain": [
       "                            drug  \\\n",
       "28361  Acetaminophen / oxycodone   \n",
       "28367  Acetaminophen / oxycodone   \n",
       "28369  Acetaminophen / oxycodone   \n",
       "28372  Acetaminophen / oxycodone   \n",
       "28375  Acetaminophen / oxycodone   \n",
       "\n",
       "                                                  review  rating  usefulcount  \n",
       "28361  \"I think  endocet are the best pain medicine I...    10.0           19  \n",
       "28367  \"Taking for tooth abscesses , on 2 days now . ...     1.0            5  \n",
       "28369  \"I had either an abscess tooth and/or nerve ex...    10.0            8  \n",
       "28372  \"My doc prescribed this for after having colit...     1.0            9  \n",
       "28375  \"This is the only narcotic for pain that does ...     8.0           13  "
      ]
     },
     "execution_count": 209,
     "metadata": {},
     "output_type": "execute_result"
    }
   ],
   "source": [
    "ten_common = pain.loc[(pain['drug'] == 'Oxycodone') | (pain['drug'] == 'Acetaminophen / oxycodone') |\n",
    "                     (pain['drug'] == 'Acetaminophen / hydrocodone')|(pain['drug'] == 'Hydromorphone')|\n",
    "                    (pain['drug'] == 'Dilaudid')]\n",
    "\n",
    "ten_common.head()"
   ]
  },
  {
   "cell_type": "code",
   "execution_count": 210,
   "id": "98c30ec5",
   "metadata": {},
   "outputs": [
    {
     "data": {
      "text/plain": [
       "array(['Acetaminophen / oxycodone', 'Hydromorphone',\n",
       "       'Acetaminophen / hydrocodone', 'Dilaudid', 'Oxycodone'],\n",
       "      dtype=object)"
      ]
     },
     "execution_count": 210,
     "metadata": {},
     "output_type": "execute_result"
    }
   ],
   "source": [
    "ten_common.drug.unique()"
   ]
  },
  {
   "cell_type": "markdown",
   "id": "d6bef6b1",
   "metadata": {},
   "source": [
    "This has the correct drugs within. I will proceed with further analysis."
   ]
  },
  {
   "cell_type": "code",
   "execution_count": 211,
   "id": "9495a289",
   "metadata": {},
   "outputs": [
    {
     "data": {
      "image/png": "[encoded data removed]",
      "text/plain": [
       "<Figure size 640x480 with 1 Axes>"
      ]
     },
     "metadata": {},
     "output_type": "display_data"
    }
   ],
   "source": [
    "sns.histplot(data = ten_common, x='drug')\n",
    "\n",
    "plt.xticks(rotation = 45);"
   ]
  },
  {
   "cell_type": "code",
   "execution_count": 212,
   "id": "48338651",
   "metadata": {},
   "outputs": [
    {
     "data": {
      "text/plain": [
       "(1208, 4)"
      ]
     },
     "execution_count": 212,
     "metadata": {},
     "output_type": "execute_result"
    }
   ],
   "source": [
    "ten_common.shape"
   ]
  },
  {
   "cell_type": "markdown",
   "id": "8ca2c746",
   "metadata": {},
   "source": [
    "There are 1208 reviews within this subset."
   ]
  },
  {
   "cell_type": "code",
   "execution_count": 213,
   "id": "559efb73",
   "metadata": {},
   "outputs": [
    {
     "data": {
      "image/png": "[encoded data removed]",
      "text/plain": [
       "<Figure size 640x480 with 1 Axes>"
      ]
     },
     "metadata": {},
     "output_type": "display_data"
    }
   ],
   "source": [
    "sns.barplot(data= ten_common, x='usefulcount', y='drug', orient = 'h', color = 'teal');"
   ]
  },
  {
   "cell_type": "markdown",
   "id": "44c1cc77",
   "metadata": {},
   "source": [
    "The Oxycodone reviews have the highest average useful count."
   ]
  },
  {
   "cell_type": "code",
   "execution_count": 214,
   "id": "020932d1",
   "metadata": {},
   "outputs": [
    {
     "data": {
      "text/plain": [
       "count    1208.000000\n",
       "mean       29.373344\n",
       "std        42.610844\n",
       "min         0.000000\n",
       "25%         9.000000\n",
       "50%        18.000000\n",
       "75%        33.000000\n",
       "max       463.000000\n",
       "Name: usefulcount, dtype: float64"
      ]
     },
     "execution_count": 214,
     "metadata": {},
     "output_type": "execute_result"
    }
   ],
   "source": [
    "ten_common.usefulcount.describe()"
   ]
  },
  {
   "cell_type": "markdown",
   "id": "bf77e9f0",
   "metadata": {},
   "source": [
    "This subset has a mean useful count of 29.37."
   ]
  },
  {
   "cell_type": "code",
   "execution_count": 215,
   "id": "e8fc5472",
   "metadata": {},
   "outputs": [
    {
     "data": {
      "text/plain": [
       "drug\n",
       "Acetaminophen / hydrocodone    25.882530\n",
       "Acetaminophen / oxycodone      24.943775\n",
       "Dilaudid                       24.270440\n",
       "Hydromorphone                  21.631016\n",
       "Oxycodone                      45.462633\n",
       "Name: usefulcount, dtype: float64"
      ]
     },
     "execution_count": 215,
     "metadata": {},
     "output_type": "execute_result"
    }
   ],
   "source": [
    "ten_common.groupby('drug')['usefulcount'].mean()"
   ]
  },
  {
   "cell_type": "code",
   "execution_count": 216,
   "id": "3071df03",
   "metadata": {},
   "outputs": [
    {
     "data": {
      "text/plain": [
       "count    1208.000000\n",
       "mean        8.389901\n",
       "std         2.333318\n",
       "min         1.000000\n",
       "25%         8.000000\n",
       "50%         9.000000\n",
       "75%        10.000000\n",
       "max        10.000000\n",
       "Name: rating, dtype: float64"
      ]
     },
     "execution_count": 216,
     "metadata": {},
     "output_type": "execute_result"
    }
   ],
   "source": [
    "ten_common.rating.describe()"
   ]
  },
  {
   "cell_type": "code",
   "execution_count": 217,
   "id": "f684f31c",
   "metadata": {},
   "outputs": [
    {
     "data": {
      "image/png": "[encoded data removed]",
      "text/plain": [
       "<Figure size 640x480 with 1 Axes>"
      ]
     },
     "metadata": {},
     "output_type": "display_data"
    }
   ],
   "source": [
    "sns.barplot(data= ten_common, x='rating', y='drug', orient = 'h', color = 'teal');"
   ]
  },
  {
   "cell_type": "code",
   "execution_count": 218,
   "id": "e9c334ed",
   "metadata": {},
   "outputs": [
    {
     "data": {
      "text/plain": [
       "drug\n",
       "Acetaminophen / hydrocodone    7.975904\n",
       "Acetaminophen / oxycodone      8.546185\n",
       "Dilaudid                       8.484277\n",
       "Hydromorphone                  8.133690\n",
       "Oxycodone                      8.857651\n",
       "Name: rating, dtype: float64"
      ]
     },
     "execution_count": 218,
     "metadata": {},
     "output_type": "execute_result"
    }
   ],
   "source": [
    "ten_common.groupby('drug')['rating'].mean()"
   ]
  },
  {
   "cell_type": "markdown",
   "id": "0c087fcf",
   "metadata": {},
   "source": [
    "The mean ratings for each drug are shown above, all approximately 8 or higher."
   ]
  },
  {
   "cell_type": "markdown",
   "id": "3465bf3c",
   "metadata": {},
   "source": [
    "### Drugs Commonly Given Ratings of 1"
   ]
  },
  {
   "cell_type": "code",
   "execution_count": 219,
   "id": "803daac2",
   "metadata": {},
   "outputs": [
    {
     "data": {
      "text/plain": [
       "Tramadol                   62\n",
       "Tapentadol                 40\n",
       "Acetaminophen / codeine    29\n",
       "Gabapentin                 28\n",
       "Nucynta                    28\n",
       "                           ..\n",
       "Morphine / naltrexone       1\n",
       "Duragesic                   1\n",
       "Avinza                      1\n",
       "OxyContin                   1\n",
       "Camphor / menthol           1\n",
       "Name: drug, Length: 102, dtype: int64"
      ]
     },
     "execution_count": 219,
     "metadata": {},
     "output_type": "execute_result"
    }
   ],
   "source": [
    "one.drug.value_counts()"
   ]
  },
  {
   "cell_type": "code",
   "execution_count": 220,
   "id": "c6f1c4ee",
   "metadata": {},
   "outputs": [
    {
     "data": {
      "text/html": [
       "<div>\n",
       "<style scoped>\n",
       "    .dataframe tbody tr th:only-of-type {\n",
       "        vertical-align: middle;\n",
       "    }\n",
       "\n",
       "    .dataframe tbody tr th {\n",
       "        vertical-align: top;\n",
       "    }\n",
       "\n",
       "    .dataframe thead th {\n",
       "        text-align: right;\n",
       "    }\n",
       "</style>\n",
       "<table border=\"1\" class=\"dataframe\">\n",
       "  <thead>\n",
       "    <tr style=\"text-align: right;\">\n",
       "      <th></th>\n",
       "      <th>drug</th>\n",
       "      <th>review</th>\n",
       "      <th>rating</th>\n",
       "      <th>usefulcount</th>\n",
       "    </tr>\n",
       "  </thead>\n",
       "  <tbody>\n",
       "    <tr>\n",
       "      <th>14312</th>\n",
       "      <td>Nucynta</td>\n",
       "      <td>\"I have severe, constant pain following 4 seri...</td>\n",
       "      <td>5.0</td>\n",
       "      <td>29</td>\n",
       "    </tr>\n",
       "    <tr>\n",
       "      <th>14313</th>\n",
       "      <td>Nucynta</td>\n",
       "      <td>\"This has worked great for me. Manages my pain...</td>\n",
       "      <td>8.0</td>\n",
       "      <td>31</td>\n",
       "    </tr>\n",
       "    <tr>\n",
       "      <th>14314</th>\n",
       "      <td>Nucynta</td>\n",
       "      <td>\"I have severe IC. This is the only Med that m...</td>\n",
       "      <td>8.0</td>\n",
       "      <td>22</td>\n",
       "    </tr>\n",
       "    <tr>\n",
       "      <th>14315</th>\n",
       "      <td>Nucynta</td>\n",
       "      <td>\"I have a form of muscular dystrophy and take ...</td>\n",
       "      <td>10.0</td>\n",
       "      <td>26</td>\n",
       "    </tr>\n",
       "    <tr>\n",
       "      <th>14316</th>\n",
       "      <td>Nucynta</td>\n",
       "      <td>\"DO NOT TAKE THIS PILL...!!\\r\\nIF YOU HAVE ANY...</td>\n",
       "      <td>1.0</td>\n",
       "      <td>33</td>\n",
       "    </tr>\n",
       "  </tbody>\n",
       "</table>\n",
       "</div>"
      ],
      "text/plain": [
       "          drug                                             review  rating  \\\n",
       "14312  Nucynta  \"I have severe, constant pain following 4 seri...     5.0   \n",
       "14313  Nucynta  \"This has worked great for me. Manages my pain...     8.0   \n",
       "14314  Nucynta  \"I have severe IC. This is the only Med that m...     8.0   \n",
       "14315  Nucynta  \"I have a form of muscular dystrophy and take ...    10.0   \n",
       "14316  Nucynta  \"DO NOT TAKE THIS PILL...!!\\r\\nIF YOU HAVE ANY...     1.0   \n",
       "\n",
       "       usefulcount  \n",
       "14312           29  \n",
       "14313           31  \n",
       "14314           22  \n",
       "14315           26  \n",
       "14316           33  "
      ]
     },
     "execution_count": 220,
     "metadata": {},
     "output_type": "execute_result"
    }
   ],
   "source": [
    "one_common = pain.loc[(pain['drug'] == 'Tramadol') | (pain['drug'] == 'Tapentadol') |\n",
    "                     (pain['drug'] == 'Acetaminophen / codeine')|(pain['drug'] == 'Gabapentin')|\n",
    "                    (pain['drug'] == 'Nucynta')]\n",
    "\n",
    "one_common.head()"
   ]
  },
  {
   "cell_type": "code",
   "execution_count": 221,
   "id": "f8a5fb3c",
   "metadata": {},
   "outputs": [
    {
     "data": {
      "text/plain": [
       "(1007, 4)"
      ]
     },
     "execution_count": 221,
     "metadata": {},
     "output_type": "execute_result"
    }
   ],
   "source": [
    "one_common.shape"
   ]
  },
  {
   "cell_type": "markdown",
   "id": "bc54cf77",
   "metadata": {},
   "source": [
    "There are 1007 reviews within this subset, somewhat less than in the 10 common group."
   ]
  },
  {
   "cell_type": "code",
   "execution_count": 222,
   "id": "7b7617a5",
   "metadata": {},
   "outputs": [
    {
     "data": {
      "image/png": "[encoded data removed]",
      "text/plain": [
       "<Figure size 640x480 with 1 Axes>"
      ]
     },
     "metadata": {},
     "output_type": "display_data"
    }
   ],
   "source": [
    "sns.histplot(data= one_common, x='drug')\n",
    "\n",
    "plt.xticks(rotation = 45);"
   ]
  },
  {
   "cell_type": "code",
   "execution_count": 223,
   "id": "7a3c3edf",
   "metadata": {},
   "outputs": [
    {
     "data": {
      "text/plain": [
       "Tramadol                   357\n",
       "Tapentadol                 216\n",
       "Gabapentin                 176\n",
       "Nucynta                    164\n",
       "Acetaminophen / codeine     94\n",
       "Name: drug, dtype: int64"
      ]
     },
     "execution_count": 223,
     "metadata": {},
     "output_type": "execute_result"
    }
   ],
   "source": [
    "one_common.drug.value_counts()"
   ]
  },
  {
   "cell_type": "code",
   "execution_count": 224,
   "id": "6a4b1d81",
   "metadata": {},
   "outputs": [
    {
     "data": {
      "text/plain": [
       "count    1007.000000\n",
       "mean        6.310824\n",
       "std         3.321074\n",
       "min         1.000000\n",
       "25%         3.000000\n",
       "50%         8.000000\n",
       "75%         9.000000\n",
       "max        10.000000\n",
       "Name: rating, dtype: float64"
      ]
     },
     "execution_count": 224,
     "metadata": {},
     "output_type": "execute_result"
    }
   ],
   "source": [
    "one_common.rating.describe()"
   ]
  },
  {
   "cell_type": "markdown",
   "id": "ac1295e6",
   "metadata": {},
   "source": [
    "Mean rating for this subset is 6.31, and the median is 8.00. These values are lower than for the 10 common subset."
   ]
  },
  {
   "cell_type": "code",
   "execution_count": 225,
   "id": "35c26759",
   "metadata": {},
   "outputs": [
    {
     "data": {
      "text/plain": [
       "count    1007.000000\n",
       "mean       37.219464\n",
       "std        38.293111\n",
       "min         0.000000\n",
       "25%        13.500000\n",
       "50%        25.000000\n",
       "75%        49.000000\n",
       "max       317.000000\n",
       "Name: usefulcount, dtype: float64"
      ]
     },
     "execution_count": 225,
     "metadata": {},
     "output_type": "execute_result"
    }
   ],
   "source": [
    "one_common.usefulcount.describe()"
   ]
  },
  {
   "cell_type": "markdown",
   "id": "3cd47ffe",
   "metadata": {},
   "source": [
    "Mean useful count for these reviews is 37.21, and a median of 25.00. These values are higher than those in the 1 common dataset."
   ]
  },
  {
   "cell_type": "code",
   "execution_count": 226,
   "id": "0db6045a",
   "metadata": {},
   "outputs": [
    {
     "data": {
      "image/png": "[encoded data removed]",
      "text/plain": [
       "<Figure size 640x480 with 1 Axes>"
      ]
     },
     "metadata": {},
     "output_type": "display_data"
    }
   ],
   "source": [
    "sns.barplot(data= one_common, x='usefulcount', y='drug', orient = 'h', color = 'teal');"
   ]
  },
  {
   "cell_type": "code",
   "execution_count": 227,
   "id": "13123dfc",
   "metadata": {},
   "outputs": [
    {
     "data": {
      "text/plain": [
       "drug\n",
       "Acetaminophen / codeine    19.095745\n",
       "Gabapentin                 58.250000\n",
       "Nucynta                    42.713415\n",
       "Tapentadol                 39.449074\n",
       "Tramadol                   27.750700\n",
       "Name: usefulcount, dtype: float64"
      ]
     },
     "execution_count": 227,
     "metadata": {},
     "output_type": "execute_result"
    }
   ],
   "source": [
    "one_common.groupby('drug')['usefulcount'].mean()"
   ]
  },
  {
   "cell_type": "code",
   "execution_count": 228,
   "id": "ff530cb5",
   "metadata": {},
   "outputs": [
    {
     "data": {
      "image/png": "[encoded data removed]",
      "text/plain": [
       "<Figure size 640x480 with 1 Axes>"
      ]
     },
     "metadata": {},
     "output_type": "display_data"
    }
   ],
   "source": [
    "sns.barplot(data = one_common, x='rating', y='drug', orient = 'h', color = 'teal');"
   ]
  },
  {
   "cell_type": "code",
   "execution_count": 229,
   "id": "d8b9a446",
   "metadata": {},
   "outputs": [
    {
     "data": {
      "text/plain": [
       "drug\n",
       "Acetaminophen / codeine    4.946809\n",
       "Gabapentin                 6.477273\n",
       "Nucynta                    6.451220\n",
       "Tapentadol                 6.333333\n",
       "Tramadol                   6.509804\n",
       "Name: rating, dtype: float64"
      ]
     },
     "execution_count": 229,
     "metadata": {},
     "output_type": "execute_result"
    }
   ],
   "source": [
    "one_common.groupby('drug')['rating'].mean()"
   ]
  },
  {
   "cell_type": "code",
   "execution_count": 325,
   "id": "d377caae",
   "metadata": {},
   "outputs": [
    {
     "data": {
      "text/plain": [
       "380"
      ]
     },
     "execution_count": 325,
     "metadata": {},
     "output_type": "execute_result"
    }
   ],
   "source": [
    "len(pain.loc[(pain['drug'] == 'Tapentadol') | (pain['drug'] == 'Nucynta')])"
   ]
  },
  {
   "cell_type": "code",
   "execution_count": 323,
   "id": "7284a4ff",
   "metadata": {},
   "outputs": [
    {
     "data": {
      "text/plain": [
       "357"
      ]
     },
     "execution_count": 323,
     "metadata": {},
     "output_type": "execute_result"
    }
   ],
   "source": [
    "len(pain.loc[pain['drug'] == 'Tramadol'])"
   ]
  },
  {
   "cell_type": "code",
   "execution_count": 326,
   "id": "5e4a8f95",
   "metadata": {},
   "outputs": [
    {
     "data": {
      "text/plain": [
       "176"
      ]
     },
     "execution_count": 326,
     "metadata": {},
     "output_type": "execute_result"
    }
   ],
   "source": [
    "len(pain.loc[pain['drug'] == 'Gabapentin'])"
   ]
  },
  {
   "cell_type": "markdown",
   "id": "26ebd34d",
   "metadata": {},
   "source": [
    "The mean ratings for each drug in the 1 common dataset are shown above. These values, ranging from less than 5 to 6.5, are lower than the mean ratings for the 10 common group."
   ]
  },
  {
   "cell_type": "markdown",
   "id": "a8fd61cf",
   "metadata": {},
   "source": [
    "There appear to be distinguishable characteristics of each group, those with a large number of 10 ratings, and those with a large number of 1 ratings.\n",
    "\n",
    "I will use NLP to see if there are differences in language. I will focus on bigrams and trigrams, as these were previously determined to be more informative."
   ]
  },
  {
   "cell_type": "markdown",
   "id": "bf879527",
   "metadata": {},
   "source": [
    "### Drugs Commonly Rated 10 v. Drugs Commonly Rated 1"
   ]
  },
  {
   "cell_type": "markdown",
   "id": "4b1b36ba",
   "metadata": {},
   "source": [
    "### Bigrams"
   ]
  },
  {
   "cell_type": "markdown",
   "id": "0d045613",
   "metadata": {},
   "source": [
    "##### 10 Common"
   ]
  },
  {
   "cell_type": "code",
   "execution_count": 230,
   "id": "142e0bff",
   "metadata": {},
   "outputs": [],
   "source": [
    "#converts each title bigram into a column to create a dataframe\n",
    "\n",
    "cv_bigrams = CountVectorizer(stop_words=review_stop_words, ngram_range=(2,2))\n",
    "\n",
    "cv_bigrams.fit(ten_common['review'])\n",
    "\n",
    "ten_common_cv_bigrams= cv_bigrams.transform(ten_common['review'])\n",
    "ten_common_cv_bigrams= pd.DataFrame(ten_common_cv_bigrams.todense(), columns = cv_bigrams.get_feature_names_out())"
   ]
  },
  {
   "cell_type": "code",
   "execution_count": 231,
   "id": "74b4b8c9",
   "metadata": {},
   "outputs": [
    {
     "data": {
      "text/plain": [
       "(1208, 21284)"
      ]
     },
     "execution_count": 231,
     "metadata": {},
     "output_type": "execute_result"
    }
   ],
   "source": [
    "ten_common_cv_bigrams.shape"
   ]
  },
  {
   "cell_type": "code",
   "execution_count": 232,
   "id": "badcbe77",
   "metadata": {},
   "outputs": [
    {
     "data": {
      "text/plain": [
       "chronic pain         86\n",
       "pain relief          73\n",
       "10 325               70\n",
       "severe pain          65\n",
       "times day            58\n",
       "pain management      53\n",
       "pain medication      52\n",
       "pain away            47\n",
       "breakthrough pain    44\n",
       "given dilaudid       41\n",
       "pain free            38\n",
       "dilaudid iv          36\n",
       "pain medicine        35\n",
       "disc disease         33\n",
       "great pain           32\n",
       "years ago            32\n",
       "degenerative disc    32\n",
       "years old            31\n",
       "works great          30\n",
       "pain medicines       30\n",
       "dtype: int64"
      ]
     },
     "execution_count": 232,
     "metadata": {},
     "output_type": "execute_result"
    }
   ],
   "source": [
    "ten_common_cv_bigrams.sum().sort_values(ascending = False).head(20) #shows 20 most bigrams in reviews"
   ]
  },
  {
   "cell_type": "markdown",
   "id": "a450cb21",
   "metadata": {},
   "source": [
    "##### 1 Common"
   ]
  },
  {
   "cell_type": "code",
   "execution_count": 233,
   "id": "a28d9afc",
   "metadata": {},
   "outputs": [],
   "source": [
    "#converts each title bigram into a column to create a dataframe\n",
    "\n",
    "cv_bigrams = CountVectorizer(stop_words=review_stop_words, ngram_range=(2,2))\n",
    "\n",
    "cv_bigrams.fit(one_common['review'])\n",
    "\n",
    "one_common_cv_bigrams= cv_bigrams.transform(one_common['review'])\n",
    "one_common_cv_bigrams= pd.DataFrame(one_common_cv_bigrams.todense(), columns = cv_bigrams.get_feature_names_out())"
   ]
  },
  {
   "cell_type": "code",
   "execution_count": 234,
   "id": "3a1c8dfb",
   "metadata": {},
   "outputs": [
    {
     "data": {
      "text/plain": [
       "(1007, 21373)"
      ]
     },
     "execution_count": 234,
     "metadata": {},
     "output_type": "execute_result"
    }
   ],
   "source": [
    "one_common_cv_bigrams.shape"
   ]
  },
  {
   "cell_type": "code",
   "execution_count": 235,
   "id": "c3a3d32a",
   "metadata": {},
   "outputs": [
    {
     "data": {
      "text/plain": [
       "pain relief            98\n",
       "times day              80\n",
       "chronic pain           68\n",
       "50 mg                  51\n",
       "severe pain            48\n",
       "twice day              44\n",
       "nerve pain             44\n",
       "pain free              44\n",
       "doctor prescribed      41\n",
       "nucynta er             40\n",
       "pain management        36\n",
       "100 mg                 34\n",
       "prescribed tramadol    34\n",
       "started taking         33\n",
       "prescribed nucynta     29\n",
       "relieve pain           28\n",
       "lower pain             27\n",
       "works great            27\n",
       "taking tramadol        26\n",
       "years ago              25\n",
       "dtype: int64"
      ]
     },
     "execution_count": 235,
     "metadata": {},
     "output_type": "execute_result"
    }
   ],
   "source": [
    "one_common_cv_bigrams.sum().sort_values(ascending = False).head(20) #shows 20 most bigrams in reviews"
   ]
  },
  {
   "cell_type": "markdown",
   "id": "cea1edcf",
   "metadata": {},
   "source": [
    "The most bigrams are mostly different between the two datasets, but nothing that would necessarily imply that one set of drugs would be more highly rated than the other.\n",
    "\n",
    "I will observe trigrams next."
   ]
  },
  {
   "cell_type": "markdown",
   "id": "dc711c39",
   "metadata": {},
   "source": [
    "### Trigrams"
   ]
  },
  {
   "cell_type": "markdown",
   "id": "281e6327",
   "metadata": {},
   "source": [
    "##### 10 Common"
   ]
  },
  {
   "cell_type": "code",
   "execution_count": 236,
   "id": "c2293896",
   "metadata": {},
   "outputs": [],
   "source": [
    "cv_trigrams = CountVectorizer(stop_words=review_stop_words, ngram_range=(3,3))\n",
    "\n",
    "cv_trigrams.fit(ten_common['review'])\n",
    "\n",
    "ten_common_cv_trigrams= cv_trigrams.transform(ten_common['review'])\n",
    "ten_common_cv_trigrams= pd.DataFrame(ten_common_cv_trigrams.todense(), columns = cv_trigrams.get_feature_names_out())"
   ]
  },
  {
   "cell_type": "code",
   "execution_count": 237,
   "id": "502c03ae",
   "metadata": {},
   "outputs": [
    {
     "data": {
      "text/plain": [
       "(1208, 26184)"
      ]
     },
     "execution_count": 237,
     "metadata": {},
     "output_type": "execute_result"
    }
   ],
   "source": [
    "ten_common_cv_trigrams.shape"
   ]
  },
  {
   "cell_type": "code",
   "execution_count": 238,
   "id": "03c72952",
   "metadata": {},
   "outputs": [
    {
     "data": {
      "text/plain": [
       "degenerative disc disease    31\n",
       "took pain away               17\n",
       "norco 10 325                 16\n",
       "pain management doctor       15\n",
       "percocet 10 325              15\n",
       "given dilaudid iv            13\n",
       "takes pain away              12\n",
       "total knee replacement        8\n",
       "dilaudid iv hours             6\n",
       "morphine iv did               6\n",
       "best pain reliever            6\n",
       "gave morphine didn            6\n",
       "worked great pain             6\n",
       "mg times day                  6\n",
       "wisdom teeth removed          6\n",
       "prescribed percocet 325       6\n",
       "effective pain relief         6\n",
       "best pain medicine            5\n",
       "severe lower pain             5\n",
       "took away pain                5\n",
       "dtype: int64"
      ]
     },
     "execution_count": 238,
     "metadata": {},
     "output_type": "execute_result"
    }
   ],
   "source": [
    "ten_common_cv_trigrams.sum().sort_values(ascending = False).head(20) #shows 20 most trigrams in reviews"
   ]
  },
  {
   "cell_type": "markdown",
   "id": "a240d227",
   "metadata": {},
   "source": [
    "Now I will observe trigrams for the 1 common group."
   ]
  },
  {
   "cell_type": "markdown",
   "id": "b1e7d363",
   "metadata": {},
   "source": [
    "##### 1 Common"
   ]
  },
  {
   "cell_type": "code",
   "execution_count": 239,
   "id": "148d3409",
   "metadata": {},
   "outputs": [],
   "source": [
    "cv_trigrams = CountVectorizer(stop_words=review_stop_words, ngram_range=(3,3))\n",
    "\n",
    "cv_trigrams.fit(one_common['review'])\n",
    "\n",
    "one_common_cv_trigrams= cv_trigrams.transform(one_common['review'])\n",
    "one_common_cv_trigrams= pd.DataFrame(one_common_cv_trigrams.todense(), columns = cv_trigrams.get_feature_names_out())"
   ]
  },
  {
   "cell_type": "code",
   "execution_count": 240,
   "id": "357708a4",
   "metadata": {},
   "outputs": [
    {
     "data": {
      "text/plain": [
       "(1007, 26057)"
      ]
     },
     "execution_count": 240,
     "metadata": {},
     "output_type": "execute_result"
    }
   ],
   "source": [
    "one_common_cv_trigrams.shape"
   ]
  },
  {
   "cell_type": "code",
   "execution_count": 241,
   "id": "81a1d856",
   "metadata": {},
   "outputs": [
    {
     "data": {
      "text/plain": [
       "mg times day                  20\n",
       "degenerative disc disease     16\n",
       "did relieve pain              11\n",
       "tramadol 50 mg                10\n",
       "nucynta 100 mg                10\n",
       "doctor prescribed nucynta      9\n",
       "took pain away                 9\n",
       "pain management doctor         9\n",
       "300mg times day                8\n",
       "er twice day                   7\n",
       "taking 50 mg                   7\n",
       "100mg times day                7\n",
       "50mg times day                 7\n",
       "months ago doctor              6\n",
       "mg twice day                   6\n",
       "taking tramadol years          6\n",
       "restless leg syndrome          6\n",
       "100 mg hours                   6\n",
       "50 mg times                    6\n",
       "doctor prescribed tramadol     6\n",
       "dtype: int64"
      ]
     },
     "execution_count": 241,
     "metadata": {},
     "output_type": "execute_result"
    }
   ],
   "source": [
    "one_common_cv_trigrams.sum().sort_values(ascending = False).head(20) #shows 20 most trigrams in reviews"
   ]
  },
  {
   "cell_type": "markdown",
   "id": "327e18e0",
   "metadata": {},
   "source": [
    "There is not much in the way of revealing characteristics here, however a model may be able to distinguish between the text. I will use Sentiment Analysis to see what differences may exist."
   ]
  },
  {
   "cell_type": "markdown",
   "id": "7cd4e844",
   "metadata": {},
   "source": [
    "### Sentiment Analysis"
   ]
  },
  {
   "cell_type": "markdown",
   "id": "297a756c",
   "metadata": {},
   "source": [
    "##### 10 Common"
   ]
  },
  {
   "cell_type": "code",
   "execution_count": 242,
   "id": "58e3ad39",
   "metadata": {},
   "outputs": [],
   "source": [
    "scores10common = [sia.polarity_scores(word) for word in ten_common['review']]\n",
    "\n",
    "scores10common_sentiments = pd.DataFrame(scores10common)"
   ]
  },
  {
   "cell_type": "code",
   "execution_count": 243,
   "id": "18d64d52",
   "metadata": {},
   "outputs": [
    {
     "data": {
      "text/html": [
       "<div>\n",
       "<style scoped>\n",
       "    .dataframe tbody tr th:only-of-type {\n",
       "        vertical-align: middle;\n",
       "    }\n",
       "\n",
       "    .dataframe tbody tr th {\n",
       "        vertical-align: top;\n",
       "    }\n",
       "\n",
       "    .dataframe thead th {\n",
       "        text-align: right;\n",
       "    }\n",
       "</style>\n",
       "<table border=\"1\" class=\"dataframe\">\n",
       "  <thead>\n",
       "    <tr style=\"text-align: right;\">\n",
       "      <th></th>\n",
       "      <th>neg</th>\n",
       "      <th>neu</th>\n",
       "      <th>pos</th>\n",
       "      <th>compound</th>\n",
       "    </tr>\n",
       "  </thead>\n",
       "  <tbody>\n",
       "    <tr>\n",
       "      <th>0</th>\n",
       "      <td>0.195</td>\n",
       "      <td>0.697</td>\n",
       "      <td>0.108</td>\n",
       "      <td>-0.7003</td>\n",
       "    </tr>\n",
       "    <tr>\n",
       "      <th>1</th>\n",
       "      <td>0.120</td>\n",
       "      <td>0.710</td>\n",
       "      <td>0.169</td>\n",
       "      <td>0.2263</td>\n",
       "    </tr>\n",
       "    <tr>\n",
       "      <th>2</th>\n",
       "      <td>0.110</td>\n",
       "      <td>0.771</td>\n",
       "      <td>0.119</td>\n",
       "      <td>-0.1426</td>\n",
       "    </tr>\n",
       "    <tr>\n",
       "      <th>3</th>\n",
       "      <td>0.384</td>\n",
       "      <td>0.616</td>\n",
       "      <td>0.000</td>\n",
       "      <td>-0.9909</td>\n",
       "    </tr>\n",
       "    <tr>\n",
       "      <th>4</th>\n",
       "      <td>0.101</td>\n",
       "      <td>0.899</td>\n",
       "      <td>0.000</td>\n",
       "      <td>-0.6705</td>\n",
       "    </tr>\n",
       "  </tbody>\n",
       "</table>\n",
       "</div>"
      ],
      "text/plain": [
       "     neg    neu    pos  compound\n",
       "0  0.195  0.697  0.108   -0.7003\n",
       "1  0.120  0.710  0.169    0.2263\n",
       "2  0.110  0.771  0.119   -0.1426\n",
       "3  0.384  0.616  0.000   -0.9909\n",
       "4  0.101  0.899  0.000   -0.6705"
      ]
     },
     "execution_count": 243,
     "metadata": {},
     "output_type": "execute_result"
    }
   ],
   "source": [
    "scores10common_sentiments.head()"
   ]
  },
  {
   "cell_type": "code",
   "execution_count": 244,
   "id": "4aa1c6b7",
   "metadata": {},
   "outputs": [
    {
     "data": {
      "text/plain": [
       "(1208, 4)"
      ]
     },
     "execution_count": 244,
     "metadata": {},
     "output_type": "execute_result"
    }
   ],
   "source": [
    "scores10common_sentiments.shape"
   ]
  },
  {
   "cell_type": "code",
   "execution_count": 245,
   "id": "9aee061f",
   "metadata": {},
   "outputs": [
    {
     "data": {
      "text/html": [
       "<div>\n",
       "<style scoped>\n",
       "    .dataframe tbody tr th:only-of-type {\n",
       "        vertical-align: middle;\n",
       "    }\n",
       "\n",
       "    .dataframe tbody tr th {\n",
       "        vertical-align: top;\n",
       "    }\n",
       "\n",
       "    .dataframe thead th {\n",
       "        text-align: right;\n",
       "    }\n",
       "</style>\n",
       "<table border=\"1\" class=\"dataframe\">\n",
       "  <thead>\n",
       "    <tr style=\"text-align: right;\">\n",
       "      <th></th>\n",
       "      <th>neg</th>\n",
       "      <th>neu</th>\n",
       "      <th>pos</th>\n",
       "      <th>compound</th>\n",
       "    </tr>\n",
       "  </thead>\n",
       "  <tbody>\n",
       "    <tr>\n",
       "      <th>count</th>\n",
       "      <td>1208.000000</td>\n",
       "      <td>1208.000000</td>\n",
       "      <td>1208.000000</td>\n",
       "      <td>1208.000000</td>\n",
       "    </tr>\n",
       "    <tr>\n",
       "      <th>mean</th>\n",
       "      <td>0.148374</td>\n",
       "      <td>0.741518</td>\n",
       "      <td>0.110116</td>\n",
       "      <td>-0.247924</td>\n",
       "    </tr>\n",
       "    <tr>\n",
       "      <th>std</th>\n",
       "      <td>0.094405</td>\n",
       "      <td>0.127151</td>\n",
       "      <td>0.102829</td>\n",
       "      <td>0.597516</td>\n",
       "    </tr>\n",
       "    <tr>\n",
       "      <th>min</th>\n",
       "      <td>0.000000</td>\n",
       "      <td>0.160000</td>\n",
       "      <td>0.000000</td>\n",
       "      <td>-0.991400</td>\n",
       "    </tr>\n",
       "    <tr>\n",
       "      <th>25%</th>\n",
       "      <td>0.087000</td>\n",
       "      <td>0.676000</td>\n",
       "      <td>0.047000</td>\n",
       "      <td>-0.798375</td>\n",
       "    </tr>\n",
       "    <tr>\n",
       "      <th>50%</th>\n",
       "      <td>0.141000</td>\n",
       "      <td>0.756000</td>\n",
       "      <td>0.091000</td>\n",
       "      <td>-0.412300</td>\n",
       "    </tr>\n",
       "    <tr>\n",
       "      <th>75%</th>\n",
       "      <td>0.201000</td>\n",
       "      <td>0.822000</td>\n",
       "      <td>0.147000</td>\n",
       "      <td>0.241625</td>\n",
       "    </tr>\n",
       "    <tr>\n",
       "      <th>max</th>\n",
       "      <td>0.767000</td>\n",
       "      <td>1.000000</td>\n",
       "      <td>0.778000</td>\n",
       "      <td>0.987800</td>\n",
       "    </tr>\n",
       "  </tbody>\n",
       "</table>\n",
       "</div>"
      ],
      "text/plain": [
       "               neg          neu          pos     compound\n",
       "count  1208.000000  1208.000000  1208.000000  1208.000000\n",
       "mean      0.148374     0.741518     0.110116    -0.247924\n",
       "std       0.094405     0.127151     0.102829     0.597516\n",
       "min       0.000000     0.160000     0.000000    -0.991400\n",
       "25%       0.087000     0.676000     0.047000    -0.798375\n",
       "50%       0.141000     0.756000     0.091000    -0.412300\n",
       "75%       0.201000     0.822000     0.147000     0.241625\n",
       "max       0.767000     1.000000     0.778000     0.987800"
      ]
     },
     "execution_count": 245,
     "metadata": {},
     "output_type": "execute_result"
    }
   ],
   "source": [
    "scores10common_sentiments.describe()"
   ]
  },
  {
   "cell_type": "markdown",
   "id": "9d1edc50",
   "metadata": {},
   "source": [
    "For the drugs with frequent 10 reviews, the mean scores are as follows:\n",
    "\n",
    "Negative: 0.148374\n",
    "Neutral: 0.741518\n",
    "Positive: 0.110116\n",
    "Compound: -0.247924\n"
   ]
  },
  {
   "cell_type": "markdown",
   "id": "558b7000",
   "metadata": {},
   "source": [
    "##### 1 Common"
   ]
  },
  {
   "cell_type": "code",
   "execution_count": 246,
   "id": "589f6fdb",
   "metadata": {},
   "outputs": [],
   "source": [
    "scores1common = [sia.polarity_scores(word) for word in one_common['review']]\n",
    "\n",
    "scores1common_sentiments = pd.DataFrame(scores1common)"
   ]
  },
  {
   "cell_type": "code",
   "execution_count": 247,
   "id": "e3fc09f9",
   "metadata": {},
   "outputs": [
    {
     "data": {
      "text/html": [
       "<div>\n",
       "<style scoped>\n",
       "    .dataframe tbody tr th:only-of-type {\n",
       "        vertical-align: middle;\n",
       "    }\n",
       "\n",
       "    .dataframe tbody tr th {\n",
       "        vertical-align: top;\n",
       "    }\n",
       "\n",
       "    .dataframe thead th {\n",
       "        text-align: right;\n",
       "    }\n",
       "</style>\n",
       "<table border=\"1\" class=\"dataframe\">\n",
       "  <thead>\n",
       "    <tr style=\"text-align: right;\">\n",
       "      <th></th>\n",
       "      <th>neg</th>\n",
       "      <th>neu</th>\n",
       "      <th>pos</th>\n",
       "      <th>compound</th>\n",
       "    </tr>\n",
       "  </thead>\n",
       "  <tbody>\n",
       "    <tr>\n",
       "      <th>0</th>\n",
       "      <td>0.136</td>\n",
       "      <td>0.814</td>\n",
       "      <td>0.050</td>\n",
       "      <td>-0.7884</td>\n",
       "    </tr>\n",
       "    <tr>\n",
       "      <th>1</th>\n",
       "      <td>0.140</td>\n",
       "      <td>0.698</td>\n",
       "      <td>0.163</td>\n",
       "      <td>0.0258</td>\n",
       "    </tr>\n",
       "    <tr>\n",
       "      <th>2</th>\n",
       "      <td>0.157</td>\n",
       "      <td>0.819</td>\n",
       "      <td>0.024</td>\n",
       "      <td>-0.8271</td>\n",
       "    </tr>\n",
       "    <tr>\n",
       "      <th>3</th>\n",
       "      <td>0.186</td>\n",
       "      <td>0.717</td>\n",
       "      <td>0.097</td>\n",
       "      <td>-0.8736</td>\n",
       "    </tr>\n",
       "    <tr>\n",
       "      <th>4</th>\n",
       "      <td>0.232</td>\n",
       "      <td>0.631</td>\n",
       "      <td>0.138</td>\n",
       "      <td>-0.8894</td>\n",
       "    </tr>\n",
       "  </tbody>\n",
       "</table>\n",
       "</div>"
      ],
      "text/plain": [
       "     neg    neu    pos  compound\n",
       "0  0.136  0.814  0.050   -0.7884\n",
       "1  0.140  0.698  0.163    0.0258\n",
       "2  0.157  0.819  0.024   -0.8271\n",
       "3  0.186  0.717  0.097   -0.8736\n",
       "4  0.232  0.631  0.138   -0.8894"
      ]
     },
     "execution_count": 247,
     "metadata": {},
     "output_type": "execute_result"
    }
   ],
   "source": [
    "scores1common_sentiments.head()"
   ]
  },
  {
   "cell_type": "code",
   "execution_count": 248,
   "id": "76cf9f20",
   "metadata": {},
   "outputs": [
    {
     "data": {
      "text/plain": [
       "(1007, 4)"
      ]
     },
     "execution_count": 248,
     "metadata": {},
     "output_type": "execute_result"
    }
   ],
   "source": [
    "scores1common_sentiments.shape"
   ]
  },
  {
   "cell_type": "code",
   "execution_count": 249,
   "id": "8348e902",
   "metadata": {},
   "outputs": [
    {
     "data": {
      "text/html": [
       "<div>\n",
       "<style scoped>\n",
       "    .dataframe tbody tr th:only-of-type {\n",
       "        vertical-align: middle;\n",
       "    }\n",
       "\n",
       "    .dataframe tbody tr th {\n",
       "        vertical-align: top;\n",
       "    }\n",
       "\n",
       "    .dataframe thead th {\n",
       "        text-align: right;\n",
       "    }\n",
       "</style>\n",
       "<table border=\"1\" class=\"dataframe\">\n",
       "  <thead>\n",
       "    <tr style=\"text-align: right;\">\n",
       "      <th></th>\n",
       "      <th>neg</th>\n",
       "      <th>neu</th>\n",
       "      <th>pos</th>\n",
       "      <th>compound</th>\n",
       "    </tr>\n",
       "  </thead>\n",
       "  <tbody>\n",
       "    <tr>\n",
       "      <th>count</th>\n",
       "      <td>1007.000000</td>\n",
       "      <td>1007.000000</td>\n",
       "      <td>1007.000000</td>\n",
       "      <td>1007.000000</td>\n",
       "    </tr>\n",
       "    <tr>\n",
       "      <th>mean</th>\n",
       "      <td>0.149444</td>\n",
       "      <td>0.748341</td>\n",
       "      <td>0.102240</td>\n",
       "      <td>-0.291232</td>\n",
       "    </tr>\n",
       "    <tr>\n",
       "      <th>std</th>\n",
       "      <td>0.088570</td>\n",
       "      <td>0.109349</td>\n",
       "      <td>0.089482</td>\n",
       "      <td>0.613018</td>\n",
       "    </tr>\n",
       "    <tr>\n",
       "      <th>min</th>\n",
       "      <td>0.000000</td>\n",
       "      <td>0.104000</td>\n",
       "      <td>0.000000</td>\n",
       "      <td>-0.991000</td>\n",
       "    </tr>\n",
       "    <tr>\n",
       "      <th>25%</th>\n",
       "      <td>0.095000</td>\n",
       "      <td>0.695500</td>\n",
       "      <td>0.047500</td>\n",
       "      <td>-0.846200</td>\n",
       "    </tr>\n",
       "    <tr>\n",
       "      <th>50%</th>\n",
       "      <td>0.144000</td>\n",
       "      <td>0.759000</td>\n",
       "      <td>0.090000</td>\n",
       "      <td>-0.488300</td>\n",
       "    </tr>\n",
       "    <tr>\n",
       "      <th>75%</th>\n",
       "      <td>0.197500</td>\n",
       "      <td>0.812000</td>\n",
       "      <td>0.136000</td>\n",
       "      <td>0.218750</td>\n",
       "    </tr>\n",
       "    <tr>\n",
       "      <th>max</th>\n",
       "      <td>0.644000</td>\n",
       "      <td>1.000000</td>\n",
       "      <td>0.804000</td>\n",
       "      <td>0.975400</td>\n",
       "    </tr>\n",
       "  </tbody>\n",
       "</table>\n",
       "</div>"
      ],
      "text/plain": [
       "               neg          neu          pos     compound\n",
       "count  1007.000000  1007.000000  1007.000000  1007.000000\n",
       "mean      0.149444     0.748341     0.102240    -0.291232\n",
       "std       0.088570     0.109349     0.089482     0.613018\n",
       "min       0.000000     0.104000     0.000000    -0.991000\n",
       "25%       0.095000     0.695500     0.047500    -0.846200\n",
       "50%       0.144000     0.759000     0.090000    -0.488300\n",
       "75%       0.197500     0.812000     0.136000     0.218750\n",
       "max       0.644000     1.000000     0.804000     0.975400"
      ]
     },
     "execution_count": 249,
     "metadata": {},
     "output_type": "execute_result"
    }
   ],
   "source": [
    "scores1common_sentiments.describe()"
   ]
  },
  {
   "cell_type": "markdown",
   "id": "38e346bc",
   "metadata": {},
   "source": [
    "For the drugs with frequent 10 reviews, the mean scores are as follows:\n",
    "\n",
    "Negative: 0.0.149444 Neutral: 0.741518 Positive: 0.102240 Compound: -0.291232"
   ]
  },
  {
   "cell_type": "markdown",
   "id": "4d18129a",
   "metadata": {},
   "source": [
    "These scores are similar to those in the 10 common group. It appears that sentiment scores would not be an effective means to differentiate between these two groups.\n",
    "\n",
    "As my final comparison, I will observe the drugs with the highest and lowest ratings within the 10 and 1 common groups."
   ]
  },
  {
   "cell_type": "markdown",
   "id": "ee0ce31d",
   "metadata": {},
   "source": [
    "### Samples"
   ]
  },
  {
   "cell_type": "markdown",
   "id": "c5c361e8",
   "metadata": {},
   "source": [
    "##### Ten Common"
   ]
  },
  {
   "cell_type": "code",
   "execution_count": 250,
   "id": "b5b9cafb",
   "metadata": {},
   "outputs": [
    {
     "data": {
      "text/plain": [
       "[['Acetaminophen / hydrocodone',\n",
       "  '\"I&#039;m taking Lortab for the pain from getting my wisdom teeth out. I&#039;m really lucky that I had them because when the anesthesia wore off the pain was unbearable. Since then, I&#039;ve taken one pill or maybe one and a half if the first one didn&#039;t help after an hour or so. That only has happened a couple of times though, and mostly at night. The side effects I got are (listed from most present to rare):  loopiness (like I&#039;m slightly drunk almost), extreme mood swings (I&#039;ve cried multiple times over nothing), itching (mostly on my face, not too much), constipation (only slightly though) and nausea (only the very first time I took them, and with two pills). Overall, worth it. Takes care of the pain.\"',\n",
       "  8.0,\n",
       "  16]]"
      ]
     },
     "execution_count": 250,
     "metadata": {},
     "output_type": "execute_result"
    }
   ],
   "source": [
    "ten_common.sample(1, random_state = 1111).values.tolist()"
   ]
  },
  {
   "cell_type": "markdown",
   "id": "bdb3ab59",
   "metadata": {},
   "source": [
    "This person lists side effects from Acetaminophen / hydrocodone, and reports, \"Takes care of the pain.\""
   ]
  },
  {
   "cell_type": "code",
   "execution_count": 251,
   "id": "8b751d7b",
   "metadata": {},
   "outputs": [
    {
     "data": {
      "text/plain": [
       "[['Acetaminophen / oxycodone', '\"Great!\"', 10.0, 8]]"
      ]
     },
     "execution_count": 251,
     "metadata": {},
     "output_type": "execute_result"
    }
   ],
   "source": [
    "ten_common.sample(1, random_state = 2222).values.tolist()"
   ]
  },
  {
   "cell_type": "markdown",
   "id": "7915ca69",
   "metadata": {},
   "source": [
    "This person simply describes Acetaminophen / oxycodone as \"Great!\""
   ]
  },
  {
   "cell_type": "code",
   "execution_count": 252,
   "id": "be6cac87",
   "metadata": {},
   "outputs": [
    {
     "data": {
      "text/plain": [
       "[['Acetaminophen / hydrocodone',\n",
       "  '\"I&#039;ve been suffering from endometriosis for over 5 years now. I have tried so many different medicines to help relieve the pain I have on a daily basis. My gyno prescribed Lortab ES for me 6 months ago and it has been a miracle for me. I take only as directed by my doctor and luckily haven&#039;t experienced any negative side-effects. Thanks to Lortab I can finally have some of my life back.\"',\n",
       "  9.0,\n",
       "  13]]"
      ]
     },
     "execution_count": 252,
     "metadata": {},
     "output_type": "execute_result"
    }
   ],
   "source": [
    "ten_common.sample(1, random_state = 3333).values.tolist()"
   ]
  },
  {
   "cell_type": "markdown",
   "id": "c2fa6b7b",
   "metadata": {},
   "source": [
    "Regarding Acetaminophen / hydrocodone, the patient states, \"it has been a miracle for me...haven't experienced any negative side-effects.\""
   ]
  },
  {
   "cell_type": "markdown",
   "id": "dac7461d",
   "metadata": {},
   "source": [
    "##### Sentiment Analysis"
   ]
  },
  {
   "cell_type": "code",
   "execution_count": 253,
   "id": "1b6e9c8a",
   "metadata": {},
   "outputs": [
    {
     "data": {
      "text/html": [
       "<div>\n",
       "<style scoped>\n",
       "    .dataframe tbody tr th:only-of-type {\n",
       "        vertical-align: middle;\n",
       "    }\n",
       "\n",
       "    .dataframe tbody tr th {\n",
       "        vertical-align: top;\n",
       "    }\n",
       "\n",
       "    .dataframe thead th {\n",
       "        text-align: right;\n",
       "    }\n",
       "</style>\n",
       "<table border=\"1\" class=\"dataframe\">\n",
       "  <thead>\n",
       "    <tr style=\"text-align: right;\">\n",
       "      <th></th>\n",
       "      <th>drug</th>\n",
       "      <th>review</th>\n",
       "      <th>rating</th>\n",
       "      <th>usefulcount</th>\n",
       "    </tr>\n",
       "  </thead>\n",
       "  <tbody>\n",
       "    <tr>\n",
       "      <th>40285</th>\n",
       "      <td>Acetaminophen / hydrocodone</td>\n",
       "      <td>\"I&amp;#039;m taking Lortab for the pain from gett...</td>\n",
       "      <td>8.0</td>\n",
       "      <td>16</td>\n",
       "    </tr>\n",
       "    <tr>\n",
       "      <th>28653</th>\n",
       "      <td>Acetaminophen / oxycodone</td>\n",
       "      <td>\"Great!\"</td>\n",
       "      <td>10.0</td>\n",
       "      <td>8</td>\n",
       "    </tr>\n",
       "    <tr>\n",
       "      <th>40274</th>\n",
       "      <td>Acetaminophen / hydrocodone</td>\n",
       "      <td>\"I&amp;#039;ve been suffering from endometriosis f...</td>\n",
       "      <td>9.0</td>\n",
       "      <td>13</td>\n",
       "    </tr>\n",
       "  </tbody>\n",
       "</table>\n",
       "</div>"
      ],
      "text/plain": [
       "                              drug  \\\n",
       "40285  Acetaminophen / hydrocodone   \n",
       "28653    Acetaminophen / oxycodone   \n",
       "40274  Acetaminophen / hydrocodone   \n",
       "\n",
       "                                                  review  rating  usefulcount  \n",
       "40285  \"I&#039;m taking Lortab for the pain from gett...     8.0           16  \n",
       "28653                                           \"Great!\"    10.0            8  \n",
       "40274  \"I&#039;ve been suffering from endometriosis f...     9.0           13  "
      ]
     },
     "execution_count": 253,
     "metadata": {},
     "output_type": "execute_result"
    }
   ],
   "source": [
    "sample10c = pd.concat([ten_common.sample(1, random_state = 1111), ten_common.sample(1, random_state = 2222),\n",
    "                     ten_common.sample(1, random_state = 3333)])\n",
    "                      \n",
    "sample10c"
   ]
  },
  {
   "cell_type": "code",
   "execution_count": 320,
   "id": "68005b58",
   "metadata": {},
   "outputs": [
    {
     "data": {
      "text/html": [
       "<div>\n",
       "<style scoped>\n",
       "    .dataframe tbody tr th:only-of-type {\n",
       "        vertical-align: middle;\n",
       "    }\n",
       "\n",
       "    .dataframe tbody tr th {\n",
       "        vertical-align: top;\n",
       "    }\n",
       "\n",
       "    .dataframe thead th {\n",
       "        text-align: right;\n",
       "    }\n",
       "</style>\n",
       "<table border=\"1\" class=\"dataframe\">\n",
       "  <thead>\n",
       "    <tr style=\"text-align: right;\">\n",
       "      <th></th>\n",
       "      <th>0</th>\n",
       "    </tr>\n",
       "  </thead>\n",
       "  <tbody>\n",
       "    <tr>\n",
       "      <th>0</th>\n",
       "      <td>\"I&amp;#039;m taking Lortab for the pain from gett...</td>\n",
       "    </tr>\n",
       "    <tr>\n",
       "      <th>1</th>\n",
       "      <td>\"Great!\"</td>\n",
       "    </tr>\n",
       "    <tr>\n",
       "      <th>2</th>\n",
       "      <td>\"I&amp;#039;ve been suffering from endometriosis f...</td>\n",
       "    </tr>\n",
       "  </tbody>\n",
       "</table>\n",
       "</div>"
      ],
      "text/plain": [
       "                                                   0\n",
       "0  \"I&#039;m taking Lortab for the pain from gett...\n",
       "1                                           \"Great!\"\n",
       "2  \"I&#039;ve been suffering from endometriosis f..."
      ]
     },
     "execution_count": 320,
     "metadata": {},
     "output_type": "execute_result"
    }
   ],
   "source": [
    "words10c = sample10c.review.values.tolist()\n",
    "\n",
    "words10c_df = pd.DataFrame(words10c)\n",
    "\n",
    "words10c_df"
   ]
  },
  {
   "cell_type": "code",
   "execution_count": 321,
   "id": "f674a6c1",
   "metadata": {},
   "outputs": [
    {
     "data": {
      "text/html": [
       "<div>\n",
       "<style scoped>\n",
       "    .dataframe tbody tr th:only-of-type {\n",
       "        vertical-align: middle;\n",
       "    }\n",
       "\n",
       "    .dataframe tbody tr th {\n",
       "        vertical-align: top;\n",
       "    }\n",
       "\n",
       "    .dataframe thead th {\n",
       "        text-align: right;\n",
       "    }\n",
       "</style>\n",
       "<table border=\"1\" class=\"dataframe\">\n",
       "  <thead>\n",
       "    <tr style=\"text-align: right;\">\n",
       "      <th></th>\n",
       "      <th>0</th>\n",
       "      <th>neg</th>\n",
       "      <th>neu</th>\n",
       "      <th>pos</th>\n",
       "      <th>compound</th>\n",
       "    </tr>\n",
       "  </thead>\n",
       "  <tbody>\n",
       "    <tr>\n",
       "      <th>0</th>\n",
       "      <td>\"I&amp;#039;m taking Lortab for the pain from gett...</td>\n",
       "      <td>0.082</td>\n",
       "      <td>0.814</td>\n",
       "      <td>0.104</td>\n",
       "      <td>0.4563</td>\n",
       "    </tr>\n",
       "    <tr>\n",
       "      <th>1</th>\n",
       "      <td>\"Great!\"</td>\n",
       "      <td>0.000</td>\n",
       "      <td>1.000</td>\n",
       "      <td>0.000</td>\n",
       "      <td>0.0000</td>\n",
       "    </tr>\n",
       "    <tr>\n",
       "      <th>2</th>\n",
       "      <td>\"I&amp;#039;ve been suffering from endometriosis f...</td>\n",
       "      <td>0.123</td>\n",
       "      <td>0.693</td>\n",
       "      <td>0.185</td>\n",
       "      <td>0.6249</td>\n",
       "    </tr>\n",
       "  </tbody>\n",
       "</table>\n",
       "</div>"
      ],
      "text/plain": [
       "                                                   0    neg    neu    pos  \\\n",
       "0  \"I&#039;m taking Lortab for the pain from gett...  0.082  0.814  0.104   \n",
       "1                                           \"Great!\"  0.000  1.000  0.000   \n",
       "2  \"I&#039;ve been suffering from endometriosis f...  0.123  0.693  0.185   \n",
       "\n",
       "   compound  \n",
       "0    0.4563  \n",
       "1    0.0000  \n",
       "2    0.6249  "
      ]
     },
     "execution_count": 321,
     "metadata": {},
     "output_type": "execute_result"
    }
   ],
   "source": [
    "scores_s10c = [sia.polarity_scores(word) for word in sample10c['review']]\n",
    "\n",
    "scores_s10c_sentiments = pd.DataFrame(scores_s10c)\n",
    "\n",
    "final_s10c_sentiments = pd.concat([words10c_df, scores_s10c_sentiments], axis=1)\n",
    "\n",
    "final_s10c_sentiments"
   ]
  },
  {
   "cell_type": "code",
   "execution_count": 259,
   "id": "46615290",
   "metadata": {},
   "outputs": [
    {
     "data": {
      "image/png": "[encoded data removed]",
      "text/plain": [
       "<Figure size 640x480 with 1 Axes>"
      ]
     },
     "metadata": {},
     "output_type": "display_data"
    }
   ],
   "source": [
    "final_s10c_sentiments.plot(kind='bar', title='Sentiment Scores: Samples - 10 Rating Common', xlabel='Post number', ylabel='Score');\n",
    "\n",
    "plt.xticks(rotation = 0);"
   ]
  },
  {
   "cell_type": "markdown",
   "id": "e8372bb5",
   "metadata": {},
   "source": [
    "It appears that the word \"Great\" is neutral."
   ]
  },
  {
   "cell_type": "markdown",
   "id": "9a93d7c4",
   "metadata": {},
   "source": [
    "##### One Common"
   ]
  },
  {
   "cell_type": "code",
   "execution_count": 260,
   "id": "f05936f9",
   "metadata": {},
   "outputs": [
    {
     "data": {
      "text/plain": [
       "[['Tapentadol',\n",
       "  '\"I found I had unusual energy and didn&#039;t feel my back pain, was able to do a lot of the manual chores involved in renovations and spring cleaning that I put off (due to pain and lack of motivation). So far no effects of longing for a dose. I take only when the pain comes back. I&#039;m waiting for the negative but so far ... it&#039;s great!\"',\n",
       "  10.0,\n",
       "  150]]"
      ]
     },
     "execution_count": 260,
     "metadata": {},
     "output_type": "execute_result"
    }
   ],
   "source": [
    "one_common.sample(1, random_state = 4444).values.tolist()"
   ]
  },
  {
   "cell_type": "markdown",
   "id": "b9527c25",
   "metadata": {},
   "source": [
    "This medication is rated 10 by its reviewer."
   ]
  },
  {
   "cell_type": "code",
   "execution_count": 261,
   "id": "50ae1db0",
   "metadata": {},
   "outputs": [
    {
     "data": {
      "text/plain": [
       "[['Acetaminophen / codeine',\n",
       "  '\"I use this for my pancreatitis, NASH, and inflamed spleen. I have other health issues as well. Currently this works far better than Vicodin, or Darvocet. Those two did nothing for me with the pain, this at least takes the edge off, though. At times it does make me sleepy and drowzy at work.\"',\n",
       "  9.0,\n",
       "  18]]"
      ]
     },
     "execution_count": 261,
     "metadata": {},
     "output_type": "execute_result"
    }
   ],
   "source": [
    "one_common.sample(1, random_state = 5555).values.tolist()"
   ]
  },
  {
   "cell_type": "markdown",
   "id": "0fa51bbe",
   "metadata": {},
   "source": [
    "This medication is rated 9 by its reviewer."
   ]
  },
  {
   "cell_type": "code",
   "execution_count": 262,
   "id": "2cf2e527",
   "metadata": {},
   "outputs": [
    {
     "data": {
      "text/plain": [
       "[['Tapentadol',\n",
       "  '\"Nucynta has worked very well for all my aches and pain, from the most severe to those I didn&#039;t even know I had.  At first, it did make me groggy which was a problem, but I kept taking it anyway because it did take away most of my pain.  After a couple of months of use, it takes away my pain, just like it did at the beginning, but I no longer feel sleepy.  I feel energetic, happier and am able very active because I hardly feel any pain.  I highly recommend it, but you do have to give it a chance because once your body adapts to it, the adverse effects far outweigh the benefits.\"',\n",
       "  10.0,\n",
       "  120]]"
      ]
     },
     "execution_count": 262,
     "metadata": {},
     "output_type": "execute_result"
    }
   ],
   "source": [
    "one_common.sample(1, random_state = 6666).values.tolist()"
   ]
  },
  {
   "cell_type": "markdown",
   "id": "2c27207b",
   "metadata": {},
   "source": [
    "This medication is rated 10 by its reviewer."
   ]
  },
  {
   "cell_type": "markdown",
   "id": "1e4ec6ef",
   "metadata": {},
   "source": [
    "##### Sentiment Analysis"
   ]
  },
  {
   "cell_type": "code",
   "execution_count": 263,
   "id": "28d6fb61",
   "metadata": {},
   "outputs": [
    {
     "data": {
      "text/html": [
       "<div>\n",
       "<style scoped>\n",
       "    .dataframe tbody tr th:only-of-type {\n",
       "        vertical-align: middle;\n",
       "    }\n",
       "\n",
       "    .dataframe tbody tr th {\n",
       "        vertical-align: top;\n",
       "    }\n",
       "\n",
       "    .dataframe thead th {\n",
       "        text-align: right;\n",
       "    }\n",
       "</style>\n",
       "<table border=\"1\" class=\"dataframe\">\n",
       "  <thead>\n",
       "    <tr style=\"text-align: right;\">\n",
       "      <th></th>\n",
       "      <th>drug</th>\n",
       "      <th>review</th>\n",
       "      <th>rating</th>\n",
       "      <th>usefulcount</th>\n",
       "    </tr>\n",
       "  </thead>\n",
       "  <tbody>\n",
       "    <tr>\n",
       "      <th>54588</th>\n",
       "      <td>Tapentadol</td>\n",
       "      <td>\"I found I had unusual energy and didn&amp;#039;t ...</td>\n",
       "      <td>10.0</td>\n",
       "      <td>150</td>\n",
       "    </tr>\n",
       "    <tr>\n",
       "      <th>30324</th>\n",
       "      <td>Acetaminophen / codeine</td>\n",
       "      <td>\"I use this for my pancreatitis, NASH, and inf...</td>\n",
       "      <td>9.0</td>\n",
       "      <td>18</td>\n",
       "    </tr>\n",
       "    <tr>\n",
       "      <th>54561</th>\n",
       "      <td>Tapentadol</td>\n",
       "      <td>\"Nucynta has worked very well for all my aches...</td>\n",
       "      <td>10.0</td>\n",
       "      <td>120</td>\n",
       "    </tr>\n",
       "  </tbody>\n",
       "</table>\n",
       "</div>"
      ],
      "text/plain": [
       "                          drug  \\\n",
       "54588               Tapentadol   \n",
       "30324  Acetaminophen / codeine   \n",
       "54561               Tapentadol   \n",
       "\n",
       "                                                  review  rating  usefulcount  \n",
       "54588  \"I found I had unusual energy and didn&#039;t ...    10.0          150  \n",
       "30324  \"I use this for my pancreatitis, NASH, and inf...     9.0           18  \n",
       "54561  \"Nucynta has worked very well for all my aches...    10.0          120  "
      ]
     },
     "execution_count": 263,
     "metadata": {},
     "output_type": "execute_result"
    }
   ],
   "source": [
    "sample1c = pd.concat([one_common.sample(1, random_state = 4444), one_common.sample(1, random_state = 5555),\n",
    "                     one_common.sample(1, random_state = 6666)])\n",
    "\n",
    "sample1c"
   ]
  },
  {
   "cell_type": "code",
   "execution_count": 264,
   "id": "be6837a4",
   "metadata": {},
   "outputs": [
    {
     "data": {
      "text/html": [
       "<div>\n",
       "<style scoped>\n",
       "    .dataframe tbody tr th:only-of-type {\n",
       "        vertical-align: middle;\n",
       "    }\n",
       "\n",
       "    .dataframe tbody tr th {\n",
       "        vertical-align: top;\n",
       "    }\n",
       "\n",
       "    .dataframe thead th {\n",
       "        text-align: right;\n",
       "    }\n",
       "</style>\n",
       "<table border=\"1\" class=\"dataframe\">\n",
       "  <thead>\n",
       "    <tr style=\"text-align: right;\">\n",
       "      <th></th>\n",
       "      <th>0</th>\n",
       "    </tr>\n",
       "  </thead>\n",
       "  <tbody>\n",
       "    <tr>\n",
       "      <th>0</th>\n",
       "      <td>\"I found I had unusual energy and didn&amp;#039;t ...</td>\n",
       "    </tr>\n",
       "    <tr>\n",
       "      <th>1</th>\n",
       "      <td>\"I use this for my pancreatitis, NASH, and inf...</td>\n",
       "    </tr>\n",
       "    <tr>\n",
       "      <th>2</th>\n",
       "      <td>\"Nucynta has worked very well for all my aches...</td>\n",
       "    </tr>\n",
       "  </tbody>\n",
       "</table>\n",
       "</div>"
      ],
      "text/plain": [
       "                                                   0\n",
       "0  \"I found I had unusual energy and didn&#039;t ...\n",
       "1  \"I use this for my pancreatitis, NASH, and inf...\n",
       "2  \"Nucynta has worked very well for all my aches..."
      ]
     },
     "execution_count": 264,
     "metadata": {},
     "output_type": "execute_result"
    }
   ],
   "source": [
    "words1c = sample1c.review.values.tolist()\n",
    "\n",
    "words1c_df = pd.DataFrame(words1c)\n",
    "\n",
    "words1c_df"
   ]
  },
  {
   "cell_type": "code",
   "execution_count": 265,
   "id": "b355b245",
   "metadata": {},
   "outputs": [
    {
     "data": {
      "text/html": [
       "<div>\n",
       "<style scoped>\n",
       "    .dataframe tbody tr th:only-of-type {\n",
       "        vertical-align: middle;\n",
       "    }\n",
       "\n",
       "    .dataframe tbody tr th {\n",
       "        vertical-align: top;\n",
       "    }\n",
       "\n",
       "    .dataframe thead th {\n",
       "        text-align: right;\n",
       "    }\n",
       "</style>\n",
       "<table border=\"1\" class=\"dataframe\">\n",
       "  <thead>\n",
       "    <tr style=\"text-align: right;\">\n",
       "      <th></th>\n",
       "      <th>0</th>\n",
       "      <th>neg</th>\n",
       "      <th>neu</th>\n",
       "      <th>pos</th>\n",
       "      <th>compound</th>\n",
       "    </tr>\n",
       "  </thead>\n",
       "  <tbody>\n",
       "    <tr>\n",
       "      <th>0</th>\n",
       "      <td>\"I found I had unusual energy and didn&amp;#039;t ...</td>\n",
       "      <td>0.196</td>\n",
       "      <td>0.782</td>\n",
       "      <td>0.022</td>\n",
       "      <td>-0.8394</td>\n",
       "    </tr>\n",
       "    <tr>\n",
       "      <th>1</th>\n",
       "      <td>\"I use this for my pancreatitis, NASH, and inf...</td>\n",
       "      <td>0.095</td>\n",
       "      <td>0.821</td>\n",
       "      <td>0.084</td>\n",
       "      <td>-0.1779</td>\n",
       "    </tr>\n",
       "    <tr>\n",
       "      <th>2</th>\n",
       "      <td>\"Nucynta has worked very well for all my aches...</td>\n",
       "      <td>0.191</td>\n",
       "      <td>0.641</td>\n",
       "      <td>0.168</td>\n",
       "      <td>-0.3118</td>\n",
       "    </tr>\n",
       "  </tbody>\n",
       "</table>\n",
       "</div>"
      ],
      "text/plain": [
       "                                                   0    neg    neu    pos  \\\n",
       "0  \"I found I had unusual energy and didn&#039;t ...  0.196  0.782  0.022   \n",
       "1  \"I use this for my pancreatitis, NASH, and inf...  0.095  0.821  0.084   \n",
       "2  \"Nucynta has worked very well for all my aches...  0.191  0.641  0.168   \n",
       "\n",
       "   compound  \n",
       "0   -0.8394  \n",
       "1   -0.1779  \n",
       "2   -0.3118  "
      ]
     },
     "execution_count": 265,
     "metadata": {},
     "output_type": "execute_result"
    }
   ],
   "source": [
    "scores_s1c = [sia.polarity_scores(word) for word in sample1c['review']]\n",
    "\n",
    "scores_s1c_sentiments = pd.DataFrame(scores_s1c)\n",
    "\n",
    "final_s1c_sentiments = pd.concat([words1c_df, scores_s1c_sentiments], axis=1)\n",
    "\n",
    "final_s1c_sentiments"
   ]
  },
  {
   "cell_type": "code",
   "execution_count": 266,
   "id": "6e213a47",
   "metadata": {},
   "outputs": [
    {
     "data": {
      "image/png": "[encoded data removed]",
      "text/plain": [
       "<Figure size 640x480 with 1 Axes>"
      ]
     },
     "metadata": {},
     "output_type": "display_data"
    }
   ],
   "source": [
    "final_s1c_sentiments.plot(kind='bar', title='Sentiment Scores: Samples - 1 Rating Common', \n",
    "                          xlabel='Post number', ylabel='Score');\n",
    "\n",
    "plt.xticks(rotation = 0);"
   ]
  },
  {
   "cell_type": "markdown",
   "id": "11364377",
   "metadata": {},
   "source": [
    "Although the ratings for the samples here are higher, the mean compound sentiment scores are lower."
   ]
  },
  {
   "cell_type": "markdown",
   "id": "a5606560",
   "metadata": {},
   "source": [
    "### Discussion"
   ]
  },
  {
   "cell_type": "code",
   "execution_count": null,
   "id": "286bdbdf",
   "metadata": {},
   "outputs": [],
   "source": []
  },
  {
   "cell_type": "markdown",
   "id": "8f075ccb",
   "metadata": {},
   "source": [
    "### Creating Case Study"
   ]
  },
  {
   "cell_type": "markdown",
   "id": "8f6b4f94",
   "metadata": {},
   "source": [
    "##### Oxycodone"
   ]
  },
  {
   "cell_type": "markdown",
   "id": "c4af5257",
   "metadata": {},
   "source": [
    "With a mean rating of 8.857651, Oxycodone is the most highly-rated pain drug in the 10 common dataset.\n",
    "\n",
    "I am interested in comparing between its reviews, and those with the lowest mean rating in the 1 common dataset."
   ]
  },
  {
   "cell_type": "code",
   "execution_count": 267,
   "id": "2e759888",
   "metadata": {},
   "outputs": [],
   "source": [
    "oxycodone = pain.loc[pain['drug'] == 'Oxycodone']\n",
    "\n",
    "oxycodone = pd.DataFrame(oxycodone)"
   ]
  },
  {
   "cell_type": "code",
   "execution_count": 268,
   "id": "6cedd9f9",
   "metadata": {},
   "outputs": [
    {
     "data": {
      "text/html": [
       "<div>\n",
       "<style scoped>\n",
       "    .dataframe tbody tr th:only-of-type {\n",
       "        vertical-align: middle;\n",
       "    }\n",
       "\n",
       "    .dataframe tbody tr th {\n",
       "        vertical-align: top;\n",
       "    }\n",
       "\n",
       "    .dataframe thead th {\n",
       "        text-align: right;\n",
       "    }\n",
       "</style>\n",
       "<table border=\"1\" class=\"dataframe\">\n",
       "  <thead>\n",
       "    <tr style=\"text-align: right;\">\n",
       "      <th></th>\n",
       "      <th>drug</th>\n",
       "      <th>review</th>\n",
       "      <th>rating</th>\n",
       "      <th>usefulcount</th>\n",
       "    </tr>\n",
       "  </thead>\n",
       "  <tbody>\n",
       "    <tr>\n",
       "      <th>131464</th>\n",
       "      <td>Oxycodone</td>\n",
       "      <td>\"I recently had 3 very painful surgeries withi...</td>\n",
       "      <td>9.0</td>\n",
       "      <td>2</td>\n",
       "    </tr>\n",
       "    <tr>\n",
       "      <th>131466</th>\n",
       "      <td>Oxycodone</td>\n",
       "      <td>\"severe lower back pain, sicatica etc.  Pain m...</td>\n",
       "      <td>10.0</td>\n",
       "      <td>8</td>\n",
       "    </tr>\n",
       "    <tr>\n",
       "      <th>131483</th>\n",
       "      <td>Oxycodone</td>\n",
       "      <td>\"I take these occasionally for breakthrough pa...</td>\n",
       "      <td>10.0</td>\n",
       "      <td>26</td>\n",
       "    </tr>\n",
       "    <tr>\n",
       "      <th>131490</th>\n",
       "      <td>Oxycodone</td>\n",
       "      <td>\"My sig other was being given roxy 30s  daily ...</td>\n",
       "      <td>8.0</td>\n",
       "      <td>23</td>\n",
       "    </tr>\n",
       "    <tr>\n",
       "      <th>131494</th>\n",
       "      <td>Oxycodone</td>\n",
       "      <td>\"I have been using 5 milligram oxycodone 30 mi...</td>\n",
       "      <td>10.0</td>\n",
       "      <td>44</td>\n",
       "    </tr>\n",
       "  </tbody>\n",
       "</table>\n",
       "</div>"
      ],
      "text/plain": [
       "             drug                                             review  rating  \\\n",
       "131464  Oxycodone  \"I recently had 3 very painful surgeries withi...     9.0   \n",
       "131466  Oxycodone  \"severe lower back pain, sicatica etc.  Pain m...    10.0   \n",
       "131483  Oxycodone  \"I take these occasionally for breakthrough pa...    10.0   \n",
       "131490  Oxycodone  \"My sig other was being given roxy 30s  daily ...     8.0   \n",
       "131494  Oxycodone  \"I have been using 5 milligram oxycodone 30 mi...    10.0   \n",
       "\n",
       "        usefulcount  \n",
       "131464            2  \n",
       "131466            8  \n",
       "131483           26  \n",
       "131490           23  \n",
       "131494           44  "
      ]
     },
     "execution_count": 268,
     "metadata": {},
     "output_type": "execute_result"
    }
   ],
   "source": [
    "oxycodone.head()"
   ]
  },
  {
   "cell_type": "code",
   "execution_count": 269,
   "id": "763addc1",
   "metadata": {},
   "outputs": [
    {
     "data": {
      "text/plain": [
       "(281, 4)"
      ]
     },
     "execution_count": 269,
     "metadata": {},
     "output_type": "execute_result"
    }
   ],
   "source": [
    "oxycodone.shape"
   ]
  },
  {
   "cell_type": "code",
   "execution_count": 270,
   "id": "ad493f46",
   "metadata": {},
   "outputs": [
    {
     "data": {
      "text/plain": [
       "count    281.000000\n",
       "mean       8.857651\n",
       "std        1.701161\n",
       "min        1.000000\n",
       "25%        9.000000\n",
       "50%        9.000000\n",
       "75%       10.000000\n",
       "max       10.000000\n",
       "Name: rating, dtype: float64"
      ]
     },
     "execution_count": 270,
     "metadata": {},
     "output_type": "execute_result"
    }
   ],
   "source": [
    "oxycodone.rating.describe()"
   ]
  },
  {
   "cell_type": "code",
   "execution_count": 271,
   "id": "fe894cd0",
   "metadata": {},
   "outputs": [
    {
     "data": {
      "image/png": "[encoded data removed]",
      "text/plain": [
       "<Figure size 640x480 with 1 Axes>"
      ]
     },
     "metadata": {},
     "output_type": "display_data"
    }
   ],
   "source": [
    "sns.histplot(data=oxycodone, x='rating');"
   ]
  },
  {
   "cell_type": "code",
   "execution_count": 272,
   "id": "c9163e75",
   "metadata": {},
   "outputs": [
    {
     "data": {
      "text/plain": [
       "0    10.0\n",
       "Name: rating, dtype: float64"
      ]
     },
     "execution_count": 272,
     "metadata": {},
     "output_type": "execute_result"
    }
   ],
   "source": [
    "oxycodone.rating.mode()"
   ]
  },
  {
   "cell_type": "markdown",
   "id": "034d3dac",
   "metadata": {},
   "source": [
    "There is a strong skew to the left, with higher ratings more common, and 10 as the mode."
   ]
  },
  {
   "cell_type": "code",
   "execution_count": 273,
   "id": "f5bba99c",
   "metadata": {},
   "outputs": [
    {
     "data": {
      "text/plain": [
       "count    281.000000\n",
       "mean      45.462633\n",
       "std       67.273372\n",
       "min        1.000000\n",
       "25%       11.000000\n",
       "50%       26.000000\n",
       "75%       49.000000\n",
       "max      463.000000\n",
       "Name: usefulcount, dtype: float64"
      ]
     },
     "execution_count": 273,
     "metadata": {},
     "output_type": "execute_result"
    }
   ],
   "source": [
    "oxycodone.usefulcount.describe()"
   ]
  },
  {
   "cell_type": "markdown",
   "id": "8f1a7c8d",
   "metadata": {},
   "source": [
    "##### Acetaminophen / codeine"
   ]
  },
  {
   "cell_type": "markdown",
   "id": "21116753",
   "metadata": {},
   "source": [
    "With a mean rating of 4.94, Acetaminophen / codeine has the lowest mean rating of drugs in the 1 common subset.\n",
    "\n",
    "I will explore further below."
   ]
  },
  {
   "cell_type": "code",
   "execution_count": 274,
   "id": "811801f8",
   "metadata": {},
   "outputs": [],
   "source": [
    "ac = pain.loc[pain['drug'] == 'Acetaminophen / codeine']\n",
    "\n",
    "ac = pd.DataFrame(ac)"
   ]
  },
  {
   "cell_type": "code",
   "execution_count": 275,
   "id": "97ca8ef9",
   "metadata": {},
   "outputs": [
    {
     "data": {
      "text/html": [
       "<div>\n",
       "<style scoped>\n",
       "    .dataframe tbody tr th:only-of-type {\n",
       "        vertical-align: middle;\n",
       "    }\n",
       "\n",
       "    .dataframe tbody tr th {\n",
       "        vertical-align: top;\n",
       "    }\n",
       "\n",
       "    .dataframe thead th {\n",
       "        text-align: right;\n",
       "    }\n",
       "</style>\n",
       "<table border=\"1\" class=\"dataframe\">\n",
       "  <thead>\n",
       "    <tr style=\"text-align: right;\">\n",
       "      <th></th>\n",
       "      <th>drug</th>\n",
       "      <th>review</th>\n",
       "      <th>rating</th>\n",
       "      <th>usefulcount</th>\n",
       "    </tr>\n",
       "  </thead>\n",
       "  <tbody>\n",
       "    <tr>\n",
       "      <th>30317</th>\n",
       "      <td>Acetaminophen / codeine</td>\n",
       "      <td>\"I have very swollen lymph nodes in my neck, c...</td>\n",
       "      <td>9.0</td>\n",
       "      <td>38</td>\n",
       "    </tr>\n",
       "    <tr>\n",
       "      <th>30318</th>\n",
       "      <td>Acetaminophen / codeine</td>\n",
       "      <td>\"I am still in tears from my wisdom teeth popp...</td>\n",
       "      <td>1.0</td>\n",
       "      <td>39</td>\n",
       "    </tr>\n",
       "    <tr>\n",
       "      <th>30319</th>\n",
       "      <td>Acetaminophen / codeine</td>\n",
       "      <td>\"Little to no relief for knee pain!\"</td>\n",
       "      <td>1.0</td>\n",
       "      <td>40</td>\n",
       "    </tr>\n",
       "    <tr>\n",
       "      <th>30320</th>\n",
       "      <td>Acetaminophen / codeine</td>\n",
       "      <td>\"I have broken bone. This helps a lot with mod...</td>\n",
       "      <td>7.0</td>\n",
       "      <td>16</td>\n",
       "    </tr>\n",
       "    <tr>\n",
       "      <th>30321</th>\n",
       "      <td>Acetaminophen / codeine</td>\n",
       "      <td>\"I am in severe pain. I believe I need 2 root ...</td>\n",
       "      <td>1.0</td>\n",
       "      <td>32</td>\n",
       "    </tr>\n",
       "  </tbody>\n",
       "</table>\n",
       "</div>"
      ],
      "text/plain": [
       "                          drug  \\\n",
       "30317  Acetaminophen / codeine   \n",
       "30318  Acetaminophen / codeine   \n",
       "30319  Acetaminophen / codeine   \n",
       "30320  Acetaminophen / codeine   \n",
       "30321  Acetaminophen / codeine   \n",
       "\n",
       "                                                  review  rating  usefulcount  \n",
       "30317  \"I have very swollen lymph nodes in my neck, c...     9.0           38  \n",
       "30318  \"I am still in tears from my wisdom teeth popp...     1.0           39  \n",
       "30319               \"Little to no relief for knee pain!\"     1.0           40  \n",
       "30320  \"I have broken bone. This helps a lot with mod...     7.0           16  \n",
       "30321  \"I am in severe pain. I believe I need 2 root ...     1.0           32  "
      ]
     },
     "execution_count": 275,
     "metadata": {},
     "output_type": "execute_result"
    }
   ],
   "source": [
    "ac.head()"
   ]
  },
  {
   "cell_type": "code",
   "execution_count": 276,
   "id": "20ce8629",
   "metadata": {},
   "outputs": [
    {
     "data": {
      "text/plain": [
       "(94, 4)"
      ]
     },
     "execution_count": 276,
     "metadata": {},
     "output_type": "execute_result"
    }
   ],
   "source": [
    "ac.shape"
   ]
  },
  {
   "cell_type": "code",
   "execution_count": 277,
   "id": "6737938d",
   "metadata": {},
   "outputs": [
    {
     "data": {
      "text/plain": [
       "count    94.000000\n",
       "mean      4.946809\n",
       "std       3.508414\n",
       "min       1.000000\n",
       "25%       1.000000\n",
       "50%       5.000000\n",
       "75%       8.000000\n",
       "max      10.000000\n",
       "Name: rating, dtype: float64"
      ]
     },
     "execution_count": 277,
     "metadata": {},
     "output_type": "execute_result"
    }
   ],
   "source": [
    "ac.rating.describe()"
   ]
  },
  {
   "cell_type": "code",
   "execution_count": 278,
   "id": "ad491b7d",
   "metadata": {},
   "outputs": [
    {
     "data": {
      "image/png": "[encoded data removed]",
      "text/plain": [
       "<Figure size 640x480 with 1 Axes>"
      ]
     },
     "metadata": {},
     "output_type": "display_data"
    }
   ],
   "source": [
    "sns.histplot(data=ac, x='rating');"
   ]
  },
  {
   "cell_type": "code",
   "execution_count": 279,
   "id": "1aa6f3fd",
   "metadata": {},
   "outputs": [
    {
     "data": {
      "text/plain": [
       "0    1.0\n",
       "Name: rating, dtype: float64"
      ]
     },
     "execution_count": 279,
     "metadata": {},
     "output_type": "execute_result"
    }
   ],
   "source": [
    "ac.rating.mode()"
   ]
  },
  {
   "cell_type": "markdown",
   "id": "d1f50822",
   "metadata": {},
   "source": [
    "While there are a significant number of reviews giving ratings of 10, the most frequent rating given is 1. This is a strong contrast to Oxycodone with its mode of 10."
   ]
  },
  {
   "cell_type": "markdown",
   "id": "f12bb0b1",
   "metadata": {},
   "source": [
    "Now, I will use NLP with Sentiment Analysis to discover any differences."
   ]
  },
  {
   "cell_type": "markdown",
   "id": "c38e5fe6",
   "metadata": {},
   "source": [
    "### Oxycodone v. Acetaminophen / codeine"
   ]
  },
  {
   "cell_type": "markdown",
   "id": "63dd8599",
   "metadata": {},
   "source": [
    "### Bigrams"
   ]
  },
  {
   "cell_type": "markdown",
   "id": "42566ff2",
   "metadata": {},
   "source": [
    "##### Oxycodone"
   ]
  },
  {
   "cell_type": "code",
   "execution_count": 280,
   "id": "fc0d26a2",
   "metadata": {},
   "outputs": [],
   "source": [
    "#converts each title bigram into a column to create a dataframe\n",
    "\n",
    "cv_bigrams = CountVectorizer(stop_words=review_stop_words, ngram_range=(2,2))\n",
    "\n",
    "cv_bigrams.fit(oxycodone['review'])\n",
    "\n",
    "oxycodone_cv_bigrams= cv_bigrams.transform(oxycodone['review'])\n",
    "oxycodone_cv_bigrams= pd.DataFrame(oxycodone_cv_bigrams.todense(), columns = cv_bigrams.get_feature_names_out())"
   ]
  },
  {
   "cell_type": "code",
   "execution_count": 281,
   "id": "dde46d10",
   "metadata": {},
   "outputs": [
    {
     "data": {
      "text/plain": [
       "(281, 6376)"
      ]
     },
     "execution_count": 281,
     "metadata": {},
     "output_type": "execute_result"
    }
   ],
   "source": [
    "oxycodone_cv_bigrams.shape"
   ]
  },
  {
   "cell_type": "code",
   "execution_count": 282,
   "id": "0aafcc20",
   "metadata": {},
   "outputs": [
    {
     "data": {
      "text/plain": [
       "times day            37\n",
       "chronic pain         35\n",
       "breakthrough pain    21\n",
       "twice day            21\n",
       "pain medication      17\n",
       "pain relief          17\n",
       "quality life         16\n",
       "years old            13\n",
       "years ago            12\n",
       "feel like            11\n",
       "pain medicine        11\n",
       "pain medicines       11\n",
       "degenerative disc    11\n",
       "30 mg                11\n",
       "disc disease         11\n",
       "severe pain          11\n",
       "taking oxycontin     10\n",
       "god send             10\n",
       "pain management      10\n",
       "10 years             10\n",
       "dtype: int64"
      ]
     },
     "execution_count": 282,
     "metadata": {},
     "output_type": "execute_result"
    }
   ],
   "source": [
    "oxycodone_cv_bigrams.sum().sort_values(ascending = False).head(20) #shows 20 most bigrams in reviews"
   ]
  },
  {
   "cell_type": "markdown",
   "id": "146039dc",
   "metadata": {},
   "source": [
    "##### Acetaminophen / codeine"
   ]
  },
  {
   "cell_type": "code",
   "execution_count": 283,
   "id": "b164202c",
   "metadata": {},
   "outputs": [],
   "source": [
    "#converts each title bigram into a column to create a dataframe\n",
    "\n",
    "cv_bigrams = CountVectorizer(stop_words=review_stop_words, ngram_range=(2,2))\n",
    "\n",
    "cv_bigrams.fit(ac['review'])\n",
    "\n",
    "ac_cv_bigrams= cv_bigrams.transform(ac['review'])\n",
    "ac_cv_bigrams= pd.DataFrame(ac_cv_bigrams.todense(), columns = cv_bigrams.get_feature_names_out())"
   ]
  },
  {
   "cell_type": "code",
   "execution_count": 284,
   "id": "07bbf413",
   "metadata": {},
   "outputs": [
    {
     "data": {
      "text/plain": [
       "(94, 2059)"
      ]
     },
     "execution_count": 284,
     "metadata": {},
     "output_type": "execute_result"
    }
   ],
   "source": [
    "ac_cv_bigrams.shape"
   ]
  },
  {
   "cell_type": "code",
   "execution_count": 285,
   "id": "35553cfc",
   "metadata": {},
   "outputs": [
    {
     "data": {
      "text/plain": [
       "prescribed tylenol       12\n",
       "pain relief               8\n",
       "wisdom teeth              7\n",
       "root canal                6\n",
       "tylenol codeine           6\n",
       "severe pain               6\n",
       "given tylenol             5\n",
       "wisdom tooth              5\n",
       "regular tylenol           4\n",
       "took tylenol              4\n",
       "went er                   4\n",
       "pain makes                4\n",
       "good deal                 4\n",
       "helps good                4\n",
       "tylenol pain              4\n",
       "acetaminophen codeine     3\n",
       "relief pain               3\n",
       "30 minutes                3\n",
       "pain management           3\n",
       "moderate pain             3\n",
       "dtype: int64"
      ]
     },
     "execution_count": 285,
     "metadata": {},
     "output_type": "execute_result"
    }
   ],
   "source": [
    "ac_cv_bigrams.sum().sort_values(ascending = False).head(20) #shows 20 most bigrams in reviews"
   ]
  },
  {
   "cell_type": "markdown",
   "id": "2a62e4ec",
   "metadata": {},
   "source": [
    "### Trigrams"
   ]
  },
  {
   "cell_type": "markdown",
   "id": "09539f86",
   "metadata": {},
   "source": [
    "##### Oxycodone"
   ]
  },
  {
   "cell_type": "code",
   "execution_count": 286,
   "id": "8024a127",
   "metadata": {},
   "outputs": [],
   "source": [
    "\n",
    "\n",
    "cv_trigrams = CountVectorizer(stop_words=review_stop_words, ngram_range=(3,3))\n",
    "\n",
    "cv_trigrams.fit(oxycodone['review'])\n",
    "\n",
    "oxycodone_cv_trigrams= cv_trigrams.transform(oxycodone['review'])\n",
    "oxycodone_cv_trigrams= pd.DataFrame(oxycodone_cv_trigrams.todense(), columns = cv_trigrams.get_feature_names_out())"
   ]
  },
  {
   "cell_type": "code",
   "execution_count": 287,
   "id": "7797c114",
   "metadata": {},
   "outputs": [
    {
     "data": {
      "text/plain": [
       "(281, 7203)"
      ]
     },
     "execution_count": 287,
     "metadata": {},
     "output_type": "execute_result"
    }
   ],
   "source": [
    "oxycodone_cv_trigrams.shape"
   ]
  },
  {
   "cell_type": "code",
   "execution_count": 288,
   "id": "035a16a9",
   "metadata": {},
   "outputs": [
    {
     "data": {
      "text/plain": [
       "degenerative disc disease      10\n",
       "pain management doctor          6\n",
       "times day pain                  4\n",
       "quot high quot                  4\n",
       "oxycodone immediate release     4\n",
       "mg twice day                    3\n",
       "oxycontin times day             3\n",
       "times day methadone             3\n",
       "times day taking                3\n",
       "oxycodone 30 mg                 3\n",
       "mg times day                    3\n",
       "total knee replacement          3\n",
       "40mg times day                  3\n",
       "suffering severe testicular     3\n",
       "took away pain                  3\n",
       "given quality life              3\n",
       "times day 10                    3\n",
       "tried pain medication           3\n",
       "great pain relief               3\n",
       "oxycodone times day             3\n",
       "dtype: int64"
      ]
     },
     "execution_count": 288,
     "metadata": {},
     "output_type": "execute_result"
    }
   ],
   "source": [
    "oxycodone_cv_trigrams.sum().sort_values(ascending = False).head(20) #shows 20 most bigrams in reviews"
   ]
  },
  {
   "cell_type": "markdown",
   "id": "25c0095e",
   "metadata": {},
   "source": [
    "##### Acetaminophen / codeine"
   ]
  },
  {
   "cell_type": "code",
   "execution_count": 289,
   "id": "369984f1",
   "metadata": {},
   "outputs": [],
   "source": [
    "\n",
    "cv_trigrams = CountVectorizer(stop_words=review_stop_words, ngram_range=(3,3))\n",
    "\n",
    "cv_trigrams.fit(ac['review'])\n",
    "\n",
    "ac_cv_trigrams= cv_trigrams.transform(ac['review'])\n",
    "ac_cv_trigrams= pd.DataFrame(ac_cv_trigrams.todense(), columns = cv_trigrams.get_feature_names_out())"
   ]
  },
  {
   "cell_type": "code",
   "execution_count": 290,
   "id": "1d4c2dbe",
   "metadata": {},
   "outputs": [
    {
     "data": {
      "text/plain": [
       "(94, 2130)"
      ]
     },
     "execution_count": 290,
     "metadata": {},
     "output_type": "execute_result"
    }
   ],
   "source": [
    "ac_cv_trigrams.shape"
   ]
  },
  {
   "cell_type": "code",
   "execution_count": 291,
   "id": "b87109bd",
   "metadata": {},
   "outputs": [
    {
     "data": {
      "text/plain": [
       "helps good deal                4\n",
       "prescribed tylenol codeine     3\n",
       "tylenol codeine 30             2\n",
       "carisoprodol helps good        2\n",
       "deal pain carisoprodol         2\n",
       "codeine helps good             2\n",
       "prescribed tylenol pain        2\n",
       "acetaminophen codeine helps    2\n",
       "high pain tolerance            2\n",
       "wisdom tooth removed           2\n",
       "good deal pain                 2\n",
       "30 minutes later               2\n",
       "wisdom teeth taken             2\n",
       "pain carisoprodol helps        2\n",
       "wisdom teeth pulled            2\n",
       "lower hip pain                 2\n",
       "prescribed gabapentin 800mg    1\n",
       "prescribed tooth extraction    1\n",
       "prescribed tylenol got         1\n",
       "prescribed tylenol given       1\n",
       "dtype: int64"
      ]
     },
     "execution_count": 291,
     "metadata": {},
     "output_type": "execute_result"
    }
   ],
   "source": [
    "ac_cv_trigrams.sum().sort_values(ascending = False).head(20) #shows 20 most bigrams in reviews"
   ]
  },
  {
   "cell_type": "markdown",
   "id": "f503c54a",
   "metadata": {},
   "source": [
    "### Sentiment Analysis"
   ]
  },
  {
   "cell_type": "markdown",
   "id": "35df80c1",
   "metadata": {},
   "source": [
    "##### Oxycodone"
   ]
  },
  {
   "cell_type": "code",
   "execution_count": 292,
   "id": "c7dede2e",
   "metadata": {},
   "outputs": [],
   "source": [
    "scores_oxy = [sia.polarity_scores(word) for word in oxycodone['review']]\n",
    "\n",
    "scores_oxy_sentiments = pd.DataFrame(scores_oxy)"
   ]
  },
  {
   "cell_type": "code",
   "execution_count": 293,
   "id": "bd6853a7",
   "metadata": {},
   "outputs": [
    {
     "data": {
      "text/plain": [
       "(281, 4)"
      ]
     },
     "execution_count": 293,
     "metadata": {},
     "output_type": "execute_result"
    }
   ],
   "source": [
    "scores_oxy_sentiments.shape"
   ]
  },
  {
   "cell_type": "code",
   "execution_count": 294,
   "id": "788dd3b2",
   "metadata": {},
   "outputs": [
    {
     "data": {
      "text/html": [
       "<div>\n",
       "<style scoped>\n",
       "    .dataframe tbody tr th:only-of-type {\n",
       "        vertical-align: middle;\n",
       "    }\n",
       "\n",
       "    .dataframe tbody tr th {\n",
       "        vertical-align: top;\n",
       "    }\n",
       "\n",
       "    .dataframe thead th {\n",
       "        text-align: right;\n",
       "    }\n",
       "</style>\n",
       "<table border=\"1\" class=\"dataframe\">\n",
       "  <thead>\n",
       "    <tr style=\"text-align: right;\">\n",
       "      <th></th>\n",
       "      <th>neg</th>\n",
       "      <th>neu</th>\n",
       "      <th>pos</th>\n",
       "      <th>compound</th>\n",
       "    </tr>\n",
       "  </thead>\n",
       "  <tbody>\n",
       "    <tr>\n",
       "      <th>count</th>\n",
       "      <td>281.000000</td>\n",
       "      <td>281.000000</td>\n",
       "      <td>281.000000</td>\n",
       "      <td>281.000000</td>\n",
       "    </tr>\n",
       "    <tr>\n",
       "      <th>mean</th>\n",
       "      <td>0.140075</td>\n",
       "      <td>0.749520</td>\n",
       "      <td>0.110441</td>\n",
       "      <td>-0.213418</td>\n",
       "    </tr>\n",
       "    <tr>\n",
       "      <th>std</th>\n",
       "      <td>0.098920</td>\n",
       "      <td>0.136819</td>\n",
       "      <td>0.107898</td>\n",
       "      <td>0.618745</td>\n",
       "    </tr>\n",
       "    <tr>\n",
       "      <th>min</th>\n",
       "      <td>0.000000</td>\n",
       "      <td>0.160000</td>\n",
       "      <td>0.000000</td>\n",
       "      <td>-0.989700</td>\n",
       "    </tr>\n",
       "    <tr>\n",
       "      <th>25%</th>\n",
       "      <td>0.079000</td>\n",
       "      <td>0.689000</td>\n",
       "      <td>0.044000</td>\n",
       "      <td>-0.807000</td>\n",
       "    </tr>\n",
       "    <tr>\n",
       "      <th>50%</th>\n",
       "      <td>0.135000</td>\n",
       "      <td>0.769000</td>\n",
       "      <td>0.088000</td>\n",
       "      <td>-0.338200</td>\n",
       "    </tr>\n",
       "    <tr>\n",
       "      <th>75%</th>\n",
       "      <td>0.189000</td>\n",
       "      <td>0.830000</td>\n",
       "      <td>0.148000</td>\n",
       "      <td>0.340000</td>\n",
       "    </tr>\n",
       "    <tr>\n",
       "      <th>max</th>\n",
       "      <td>0.767000</td>\n",
       "      <td>1.000000</td>\n",
       "      <td>0.694000</td>\n",
       "      <td>0.947500</td>\n",
       "    </tr>\n",
       "  </tbody>\n",
       "</table>\n",
       "</div>"
      ],
      "text/plain": [
       "              neg         neu         pos    compound\n",
       "count  281.000000  281.000000  281.000000  281.000000\n",
       "mean     0.140075    0.749520    0.110441   -0.213418\n",
       "std      0.098920    0.136819    0.107898    0.618745\n",
       "min      0.000000    0.160000    0.000000   -0.989700\n",
       "25%      0.079000    0.689000    0.044000   -0.807000\n",
       "50%      0.135000    0.769000    0.088000   -0.338200\n",
       "75%      0.189000    0.830000    0.148000    0.340000\n",
       "max      0.767000    1.000000    0.694000    0.947500"
      ]
     },
     "execution_count": 294,
     "metadata": {},
     "output_type": "execute_result"
    }
   ],
   "source": [
    "scores_oxy_sentiments.describe()"
   ]
  },
  {
   "cell_type": "code",
   "execution_count": null,
   "id": "e4ea12af",
   "metadata": {},
   "outputs": [],
   "source": []
  },
  {
   "cell_type": "markdown",
   "id": "fb741f8d",
   "metadata": {},
   "source": [
    "##### Acetaminophen / codeine"
   ]
  },
  {
   "cell_type": "code",
   "execution_count": 295,
   "id": "4e80be7c",
   "metadata": {},
   "outputs": [],
   "source": [
    "scores_ac = [sia.polarity_scores(word) for word in ac['review']]\n",
    "\n",
    "scores_ac_sentiments = pd.DataFrame(scores_ac)"
   ]
  },
  {
   "cell_type": "code",
   "execution_count": 296,
   "id": "920379da",
   "metadata": {},
   "outputs": [
    {
     "data": {
      "text/plain": [
       "(94, 4)"
      ]
     },
     "execution_count": 296,
     "metadata": {},
     "output_type": "execute_result"
    }
   ],
   "source": [
    "scores_ac_sentiments.shape"
   ]
  },
  {
   "cell_type": "code",
   "execution_count": 297,
   "id": "6630855b",
   "metadata": {},
   "outputs": [
    {
     "data": {
      "text/html": [
       "<div>\n",
       "<style scoped>\n",
       "    .dataframe tbody tr th:only-of-type {\n",
       "        vertical-align: middle;\n",
       "    }\n",
       "\n",
       "    .dataframe tbody tr th {\n",
       "        vertical-align: top;\n",
       "    }\n",
       "\n",
       "    .dataframe thead th {\n",
       "        text-align: right;\n",
       "    }\n",
       "</style>\n",
       "<table border=\"1\" class=\"dataframe\">\n",
       "  <thead>\n",
       "    <tr style=\"text-align: right;\">\n",
       "      <th></th>\n",
       "      <th>neg</th>\n",
       "      <th>neu</th>\n",
       "      <th>pos</th>\n",
       "      <th>compound</th>\n",
       "    </tr>\n",
       "  </thead>\n",
       "  <tbody>\n",
       "    <tr>\n",
       "      <th>count</th>\n",
       "      <td>94.000000</td>\n",
       "      <td>94.000000</td>\n",
       "      <td>94.000000</td>\n",
       "      <td>94.000000</td>\n",
       "    </tr>\n",
       "    <tr>\n",
       "      <th>mean</th>\n",
       "      <td>0.165372</td>\n",
       "      <td>0.732170</td>\n",
       "      <td>0.102457</td>\n",
       "      <td>-0.349932</td>\n",
       "    </tr>\n",
       "    <tr>\n",
       "      <th>std</th>\n",
       "      <td>0.099197</td>\n",
       "      <td>0.126897</td>\n",
       "      <td>0.105748</td>\n",
       "      <td>0.548227</td>\n",
       "    </tr>\n",
       "    <tr>\n",
       "      <th>min</th>\n",
       "      <td>0.000000</td>\n",
       "      <td>0.238000</td>\n",
       "      <td>0.000000</td>\n",
       "      <td>-0.987700</td>\n",
       "    </tr>\n",
       "    <tr>\n",
       "      <th>25%</th>\n",
       "      <td>0.110500</td>\n",
       "      <td>0.673500</td>\n",
       "      <td>0.041000</td>\n",
       "      <td>-0.813550</td>\n",
       "    </tr>\n",
       "    <tr>\n",
       "      <th>50%</th>\n",
       "      <td>0.154500</td>\n",
       "      <td>0.740000</td>\n",
       "      <td>0.083000</td>\n",
       "      <td>-0.510600</td>\n",
       "    </tr>\n",
       "    <tr>\n",
       "      <th>75%</th>\n",
       "      <td>0.207000</td>\n",
       "      <td>0.818000</td>\n",
       "      <td>0.141750</td>\n",
       "      <td>-0.068250</td>\n",
       "    </tr>\n",
       "    <tr>\n",
       "      <th>max</th>\n",
       "      <td>0.470000</td>\n",
       "      <td>1.000000</td>\n",
       "      <td>0.762000</td>\n",
       "      <td>0.865900</td>\n",
       "    </tr>\n",
       "  </tbody>\n",
       "</table>\n",
       "</div>"
      ],
      "text/plain": [
       "             neg        neu        pos   compound\n",
       "count  94.000000  94.000000  94.000000  94.000000\n",
       "mean    0.165372   0.732170   0.102457  -0.349932\n",
       "std     0.099197   0.126897   0.105748   0.548227\n",
       "min     0.000000   0.238000   0.000000  -0.987700\n",
       "25%     0.110500   0.673500   0.041000  -0.813550\n",
       "50%     0.154500   0.740000   0.083000  -0.510600\n",
       "75%     0.207000   0.818000   0.141750  -0.068250\n",
       "max     0.470000   1.000000   0.762000   0.865900"
      ]
     },
     "execution_count": 297,
     "metadata": {},
     "output_type": "execute_result"
    }
   ],
   "source": [
    "scores_ac_sentiments.describe()"
   ]
  },
  {
   "cell_type": "code",
   "execution_count": null,
   "id": "7e34015b",
   "metadata": {},
   "outputs": [],
   "source": []
  },
  {
   "cell_type": "markdown",
   "id": "3502cb37",
   "metadata": {},
   "source": [
    "### Samples"
   ]
  },
  {
   "cell_type": "markdown",
   "id": "0955fad0",
   "metadata": {},
   "source": [
    "#### Oxycodone"
   ]
  },
  {
   "cell_type": "code",
   "execution_count": 298,
   "id": "859aea59",
   "metadata": {},
   "outputs": [
    {
     "data": {
      "text/plain": [
       "[['Oxycodone',\n",
       "  '\"I&#039;ve taken many different opiates over the years for chipped bone spurs in neck and multiple abnormalities in my lower back. This medicine is a miracle for me. I rated it a &quot;10&quot; because the last 6 months i&#039;ve been prescribed it,&quot;i feel no pain at all&quot;.\"',\n",
       "  10.0,\n",
       "  9]]"
      ]
     },
     "execution_count": 298,
     "metadata": {},
     "output_type": "execute_result"
    }
   ],
   "source": [
    "oxycodone.sample(1, random_state = 1).values.tolist()"
   ]
  },
  {
   "cell_type": "markdown",
   "id": "215b6267",
   "metadata": {},
   "source": [
    "This person writes, \"This medicine is a miracle for me,\" and rates it a 10."
   ]
  },
  {
   "cell_type": "code",
   "execution_count": 299,
   "id": "30b1d001",
   "metadata": {},
   "outputs": [
    {
     "data": {
      "text/plain": [
       "[['Oxycodone',\n",
       "  '\"I am a 47 year old male who has taken this drug for 10 years. (300 mg per day everyday.)  Yes it will ease pain, but normally 2 to 3 years you have to increase it. I was medically dependent within months.  In late fall 09, the medicines just lost their effect by at least 50%.  So I was faced with a 50% increase in medicines.  I said NO!  So I tried a medical detox place to start.  After 90 hours there, they said you have done great we are sending you home.  I was so proud till 4a.m. the next day. I threw up 90 times in the next 60 hours.  I lost 34lbs. in 8 days and had severe withdrawal symptoms for 2 more weeks. It has been 30 days since I started this and I will never put that poison in my body. \"',\n",
       "  5.0,\n",
       "  77]]"
      ]
     },
     "execution_count": 299,
     "metadata": {},
     "output_type": "execute_result"
    }
   ],
   "source": [
    "oxycodone.sample(1, random_state = 2).values.tolist()"
   ]
  },
  {
   "cell_type": "markdown",
   "id": "21ab5fa1",
   "metadata": {},
   "source": [
    "This person writes, \"Yes it will ease pain, but normally 2 to 3 years you have to increase it. I was medically dependent within months,\" and then goes on to describe difficulties when detoxing, rating the medication a 5."
   ]
  },
  {
   "cell_type": "code",
   "execution_count": 300,
   "id": "e0927bd8",
   "metadata": {},
   "outputs": [
    {
     "data": {
      "text/plain": [
       "[['Oxycodone',\n",
       "  '\"I have degenerative disc disease and arthritis - dads got RA, I probably do to. It is very effective against chronic pain. I can play with my kids and surf. There is no reason to treat this very effective medicine as an outcast. Sure, it can be misused, but for real chronic pain sufferers like myself, its nothing short of a God send. Take as little as you can and still maintain effectiveness.\"',\n",
       "  9.0,\n",
       "  16]]"
      ]
     },
     "execution_count": 300,
     "metadata": {},
     "output_type": "execute_result"
    }
   ],
   "source": [
    "oxycodone.sample(1, random_state = 3).values.tolist()"
   ]
  },
  {
   "cell_type": "markdown",
   "id": "8b7965e9",
   "metadata": {},
   "source": [
    "This person writes, \"It is very effective against chronic pain. I can play with my kids and surf. There is no reason to treat this very effective medicine as an outcast,\" and rates it a 9."
   ]
  },
  {
   "cell_type": "markdown",
   "id": "6f8cdd61",
   "metadata": {},
   "source": [
    "##### Sentiment Analysis"
   ]
  },
  {
   "cell_type": "code",
   "execution_count": 301,
   "id": "e7791735",
   "metadata": {},
   "outputs": [
    {
     "data": {
      "text/html": [
       "<div>\n",
       "<style scoped>\n",
       "    .dataframe tbody tr th:only-of-type {\n",
       "        vertical-align: middle;\n",
       "    }\n",
       "\n",
       "    .dataframe tbody tr th {\n",
       "        vertical-align: top;\n",
       "    }\n",
       "\n",
       "    .dataframe thead th {\n",
       "        text-align: right;\n",
       "    }\n",
       "</style>\n",
       "<table border=\"1\" class=\"dataframe\">\n",
       "  <thead>\n",
       "    <tr style=\"text-align: right;\">\n",
       "      <th></th>\n",
       "      <th>drug</th>\n",
       "      <th>review</th>\n",
       "      <th>rating</th>\n",
       "      <th>usefulcount</th>\n",
       "    </tr>\n",
       "  </thead>\n",
       "  <tbody>\n",
       "    <tr>\n",
       "      <th>131725</th>\n",
       "      <td>Oxycodone</td>\n",
       "      <td>\"I&amp;#039;ve taken many different opiates over t...</td>\n",
       "      <td>10.0</td>\n",
       "      <td>9</td>\n",
       "    </tr>\n",
       "    <tr>\n",
       "      <th>131784</th>\n",
       "      <td>Oxycodone</td>\n",
       "      <td>\"I am a 47 year old male who has taken this dr...</td>\n",
       "      <td>5.0</td>\n",
       "      <td>77</td>\n",
       "    </tr>\n",
       "    <tr>\n",
       "      <th>131900</th>\n",
       "      <td>Oxycodone</td>\n",
       "      <td>\"I have degenerative disc disease and arthriti...</td>\n",
       "      <td>9.0</td>\n",
       "      <td>16</td>\n",
       "    </tr>\n",
       "  </tbody>\n",
       "</table>\n",
       "</div>"
      ],
      "text/plain": [
       "             drug                                             review  rating  \\\n",
       "131725  Oxycodone  \"I&#039;ve taken many different opiates over t...    10.0   \n",
       "131784  Oxycodone  \"I am a 47 year old male who has taken this dr...     5.0   \n",
       "131900  Oxycodone  \"I have degenerative disc disease and arthriti...     9.0   \n",
       "\n",
       "        usefulcount  \n",
       "131725            9  \n",
       "131784           77  \n",
       "131900           16  "
      ]
     },
     "execution_count": 301,
     "metadata": {},
     "output_type": "execute_result"
    }
   ],
   "source": [
    "sampleoxy = pd.concat([oxycodone.sample(1, random_state = 1), oxycodone.sample(1, random_state = 2),\n",
    "                     oxycodone.sample(1, random_state = 3)])\n",
    "                      \n",
    "sampleoxy"
   ]
  },
  {
   "cell_type": "code",
   "execution_count": 302,
   "id": "e38aac06",
   "metadata": {},
   "outputs": [
    {
     "data": {
      "text/html": [
       "<div>\n",
       "<style scoped>\n",
       "    .dataframe tbody tr th:only-of-type {\n",
       "        vertical-align: middle;\n",
       "    }\n",
       "\n",
       "    .dataframe tbody tr th {\n",
       "        vertical-align: top;\n",
       "    }\n",
       "\n",
       "    .dataframe thead th {\n",
       "        text-align: right;\n",
       "    }\n",
       "</style>\n",
       "<table border=\"1\" class=\"dataframe\">\n",
       "  <thead>\n",
       "    <tr style=\"text-align: right;\">\n",
       "      <th></th>\n",
       "      <th>0</th>\n",
       "    </tr>\n",
       "  </thead>\n",
       "  <tbody>\n",
       "    <tr>\n",
       "      <th>0</th>\n",
       "      <td>\"I&amp;#039;ve taken many different opiates over t...</td>\n",
       "    </tr>\n",
       "    <tr>\n",
       "      <th>1</th>\n",
       "      <td>\"I am a 47 year old male who has taken this dr...</td>\n",
       "    </tr>\n",
       "    <tr>\n",
       "      <th>2</th>\n",
       "      <td>\"I have degenerative disc disease and arthriti...</td>\n",
       "    </tr>\n",
       "  </tbody>\n",
       "</table>\n",
       "</div>"
      ],
      "text/plain": [
       "                                                   0\n",
       "0  \"I&#039;ve taken many different opiates over t...\n",
       "1  \"I am a 47 year old male who has taken this dr...\n",
       "2  \"I have degenerative disc disease and arthriti..."
      ]
     },
     "execution_count": 302,
     "metadata": {},
     "output_type": "execute_result"
    }
   ],
   "source": [
    "wordsoxy = sampleoxy.review.values.tolist()\n",
    "\n",
    "wordsoxy_df = pd.DataFrame(wordsoxy)\n",
    "\n",
    "wordsoxy_df"
   ]
  },
  {
   "cell_type": "code",
   "execution_count": 303,
   "id": "cd45646e",
   "metadata": {},
   "outputs": [
    {
     "data": {
      "text/html": [
       "<div>\n",
       "<style scoped>\n",
       "    .dataframe tbody tr th:only-of-type {\n",
       "        vertical-align: middle;\n",
       "    }\n",
       "\n",
       "    .dataframe tbody tr th {\n",
       "        vertical-align: top;\n",
       "    }\n",
       "\n",
       "    .dataframe thead th {\n",
       "        text-align: right;\n",
       "    }\n",
       "</style>\n",
       "<table border=\"1\" class=\"dataframe\">\n",
       "  <thead>\n",
       "    <tr style=\"text-align: right;\">\n",
       "      <th></th>\n",
       "      <th>0</th>\n",
       "      <th>neg</th>\n",
       "      <th>neu</th>\n",
       "      <th>pos</th>\n",
       "      <th>compound</th>\n",
       "    </tr>\n",
       "  </thead>\n",
       "  <tbody>\n",
       "    <tr>\n",
       "      <th>0</th>\n",
       "      <td>\"I&amp;#039;ve taken many different opiates over t...</td>\n",
       "      <td>0.152</td>\n",
       "      <td>0.772</td>\n",
       "      <td>0.075</td>\n",
       "      <td>-0.4404</td>\n",
       "    </tr>\n",
       "    <tr>\n",
       "      <th>1</th>\n",
       "      <td>\"I am a 47 year old male who has taken this dr...</td>\n",
       "      <td>0.097</td>\n",
       "      <td>0.740</td>\n",
       "      <td>0.163</td>\n",
       "      <td>0.8886</td>\n",
       "    </tr>\n",
       "    <tr>\n",
       "      <th>2</th>\n",
       "      <td>\"I have degenerative disc disease and arthriti...</td>\n",
       "      <td>0.175</td>\n",
       "      <td>0.675</td>\n",
       "      <td>0.150</td>\n",
       "      <td>-0.6343</td>\n",
       "    </tr>\n",
       "  </tbody>\n",
       "</table>\n",
       "</div>"
      ],
      "text/plain": [
       "                                                   0    neg    neu    pos  \\\n",
       "0  \"I&#039;ve taken many different opiates over t...  0.152  0.772  0.075   \n",
       "1  \"I am a 47 year old male who has taken this dr...  0.097  0.740  0.163   \n",
       "2  \"I have degenerative disc disease and arthriti...  0.175  0.675  0.150   \n",
       "\n",
       "   compound  \n",
       "0   -0.4404  \n",
       "1    0.8886  \n",
       "2   -0.6343  "
      ]
     },
     "execution_count": 303,
     "metadata": {},
     "output_type": "execute_result"
    }
   ],
   "source": [
    "scores_oxy = [sia.polarity_scores(word) for word in sampleoxy['review']]\n",
    "\n",
    "scores_oxy_sentiments = pd.DataFrame(scores_oxy)\n",
    "\n",
    "final_oxy_sentiments = pd.concat([wordsoxy_df, scores_oxy_sentiments], axis=1)\n",
    "\n",
    "final_oxy_sentiments"
   ]
  },
  {
   "cell_type": "code",
   "execution_count": 304,
   "id": "be710cd6",
   "metadata": {},
   "outputs": [
    {
     "data": {
      "image/png": "[encoded data removed]",
      "text/plain": [
       "<Figure size 640x480 with 1 Axes>"
      ]
     },
     "metadata": {},
     "output_type": "display_data"
    }
   ],
   "source": [
    "final_oxy_sentiments.plot(kind='bar', title='Sentiment Scores: Samples - Oxycodone', \n",
    "                          xlabel='Post number', ylabel='Score');\n",
    "\n",
    "plt.xticks(rotation = 0);"
   ]
  },
  {
   "cell_type": "markdown",
   "id": "9912d51d",
   "metadata": {},
   "source": [
    "#### Acetaminophen / codeine"
   ]
  },
  {
   "cell_type": "code",
   "execution_count": 305,
   "id": "3384dce0",
   "metadata": {},
   "outputs": [
    {
     "data": {
      "text/plain": [
       "[['Acetaminophen / codeine',\n",
       "  '\"I am currently taking this medication for moderate pain reduction. I hurt my wrist by falling on concrete stairs. It does reduce the pain and works very well. The only downside is stomach upset, nausea, and extreme sleepiness. I do not have any kind of narcotic tolerance. This medicine is for minor to moderate relief of pain, and should be used as such. This medicine in my book scores a 8 out of 10 points for managing moderate pain. Highly recommend.\"',\n",
       "  8.0,\n",
       "  11]]"
      ]
     },
     "execution_count": 305,
     "metadata": {},
     "output_type": "execute_result"
    }
   ],
   "source": [
    "ac.sample(1, random_state = 1001).values.tolist()"
   ]
  },
  {
   "cell_type": "markdown",
   "id": "90400f2a",
   "metadata": {},
   "source": [
    "This person writes, \"It does reduce the pain and works very well. The only downside is stomach upset, nausea, and extreme sleepiness. I do not have any kind of narcotic tolerance,\" and rates the medication an 8."
   ]
  },
  {
   "cell_type": "code",
   "execution_count": 308,
   "id": "f7020b2e",
   "metadata": {},
   "outputs": [
    {
     "data": {
      "text/plain": [
       "[['Acetaminophen / codeine',\n",
       "  '\"I have &quot;loose shoulders&quot; and my doctor perscribed this to me. I am 14 and it feels kind of weird as it is my first pain medication other that ibuprofen. It works rather quickly and subsides some pain but not all. Also makes me drowsy, so I only take it at night.\"',\n",
       "  7.0,\n",
       "  25]]"
      ]
     },
     "execution_count": 308,
     "metadata": {},
     "output_type": "execute_result"
    }
   ],
   "source": [
    "ac.sample(1, random_state = 1011).values.tolist()"
   ]
  },
  {
   "cell_type": "markdown",
   "id": "1936b7d0",
   "metadata": {},
   "source": [
    "This person writes, \"It works rather quickly and subsides some pain but not all. Also makes me drowsy, so I only take it at night,\" and rates the medication a 7."
   ]
  },
  {
   "cell_type": "code",
   "execution_count": 309,
   "id": "eaf04ed8",
   "metadata": {},
   "outputs": [
    {
     "data": {
      "text/plain": [
       "[['Acetaminophen / codeine',\n",
       "  '\"I had oral surgery and my doctor prescribed me this and it didn&#039;t touch the pain at all. \"',\n",
       "  5.0,\n",
       "  39]]"
      ]
     },
     "execution_count": 309,
     "metadata": {},
     "output_type": "execute_result"
    }
   ],
   "source": [
    "ac.sample(1, random_state = 1101).values.tolist()"
   ]
  },
  {
   "cell_type": "markdown",
   "id": "999ad1bb",
   "metadata": {},
   "source": [
    "This person writes that the medication \"didn&#039;t touch the pain at all,\" and rates it a 5."
   ]
  },
  {
   "cell_type": "markdown",
   "id": "837fbb94",
   "metadata": {},
   "source": [
    "##### Sentiment Analysis"
   ]
  },
  {
   "cell_type": "code",
   "execution_count": 310,
   "id": "b260c07f",
   "metadata": {},
   "outputs": [
    {
     "data": {
      "text/html": [
       "<div>\n",
       "<style scoped>\n",
       "    .dataframe tbody tr th:only-of-type {\n",
       "        vertical-align: middle;\n",
       "    }\n",
       "\n",
       "    .dataframe tbody tr th {\n",
       "        vertical-align: top;\n",
       "    }\n",
       "\n",
       "    .dataframe thead th {\n",
       "        text-align: right;\n",
       "    }\n",
       "</style>\n",
       "<table border=\"1\" class=\"dataframe\">\n",
       "  <thead>\n",
       "    <tr style=\"text-align: right;\">\n",
       "      <th></th>\n",
       "      <th>drug</th>\n",
       "      <th>review</th>\n",
       "      <th>rating</th>\n",
       "      <th>usefulcount</th>\n",
       "    </tr>\n",
       "  </thead>\n",
       "  <tbody>\n",
       "    <tr>\n",
       "      <th>30351</th>\n",
       "      <td>Acetaminophen / codeine</td>\n",
       "      <td>\"I am currently taking this medication for mod...</td>\n",
       "      <td>8.0</td>\n",
       "      <td>11</td>\n",
       "    </tr>\n",
       "    <tr>\n",
       "      <th>30373</th>\n",
       "      <td>Acetaminophen / codeine</td>\n",
       "      <td>\"I have &amp;quot;loose shoulders&amp;quot; and my doc...</td>\n",
       "      <td>7.0</td>\n",
       "      <td>25</td>\n",
       "    </tr>\n",
       "    <tr>\n",
       "      <th>30334</th>\n",
       "      <td>Acetaminophen / codeine</td>\n",
       "      <td>\"I had oral surgery and my doctor prescribed m...</td>\n",
       "      <td>5.0</td>\n",
       "      <td>39</td>\n",
       "    </tr>\n",
       "  </tbody>\n",
       "</table>\n",
       "</div>"
      ],
      "text/plain": [
       "                          drug  \\\n",
       "30351  Acetaminophen / codeine   \n",
       "30373  Acetaminophen / codeine   \n",
       "30334  Acetaminophen / codeine   \n",
       "\n",
       "                                                  review  rating  usefulcount  \n",
       "30351  \"I am currently taking this medication for mod...     8.0           11  \n",
       "30373  \"I have &quot;loose shoulders&quot; and my doc...     7.0           25  \n",
       "30334  \"I had oral surgery and my doctor prescribed m...     5.0           39  "
      ]
     },
     "execution_count": 310,
     "metadata": {},
     "output_type": "execute_result"
    }
   ],
   "source": [
    "sampleac = pd.concat([ac.sample(1, random_state = 1001), ac.sample(1, random_state = 1011),\n",
    "                     ac.sample(1, random_state = 1101)])\n",
    "                      \n",
    "sampleac"
   ]
  },
  {
   "cell_type": "code",
   "execution_count": 311,
   "id": "2627f3c1",
   "metadata": {},
   "outputs": [
    {
     "data": {
      "text/html": [
       "<div>\n",
       "<style scoped>\n",
       "    .dataframe tbody tr th:only-of-type {\n",
       "        vertical-align: middle;\n",
       "    }\n",
       "\n",
       "    .dataframe tbody tr th {\n",
       "        vertical-align: top;\n",
       "    }\n",
       "\n",
       "    .dataframe thead th {\n",
       "        text-align: right;\n",
       "    }\n",
       "</style>\n",
       "<table border=\"1\" class=\"dataframe\">\n",
       "  <thead>\n",
       "    <tr style=\"text-align: right;\">\n",
       "      <th></th>\n",
       "      <th>0</th>\n",
       "    </tr>\n",
       "  </thead>\n",
       "  <tbody>\n",
       "    <tr>\n",
       "      <th>0</th>\n",
       "      <td>\"I am currently taking this medication for mod...</td>\n",
       "    </tr>\n",
       "    <tr>\n",
       "      <th>1</th>\n",
       "      <td>\"I have &amp;quot;loose shoulders&amp;quot; and my doc...</td>\n",
       "    </tr>\n",
       "    <tr>\n",
       "      <th>2</th>\n",
       "      <td>\"I had oral surgery and my doctor prescribed m...</td>\n",
       "    </tr>\n",
       "  </tbody>\n",
       "</table>\n",
       "</div>"
      ],
      "text/plain": [
       "                                                   0\n",
       "0  \"I am currently taking this medication for mod...\n",
       "1  \"I have &quot;loose shoulders&quot; and my doc...\n",
       "2  \"I had oral surgery and my doctor prescribed m..."
      ]
     },
     "execution_count": 311,
     "metadata": {},
     "output_type": "execute_result"
    }
   ],
   "source": [
    "wordsac = sampleac.review.values.tolist()\n",
    "\n",
    "wordsac_df = pd.DataFrame(wordsac)\n",
    "\n",
    "wordsac_df"
   ]
  },
  {
   "cell_type": "code",
   "execution_count": 312,
   "id": "07af7e0b",
   "metadata": {},
   "outputs": [
    {
     "data": {
      "text/html": [
       "<div>\n",
       "<style scoped>\n",
       "    .dataframe tbody tr th:only-of-type {\n",
       "        vertical-align: middle;\n",
       "    }\n",
       "\n",
       "    .dataframe tbody tr th {\n",
       "        vertical-align: top;\n",
       "    }\n",
       "\n",
       "    .dataframe thead th {\n",
       "        text-align: right;\n",
       "    }\n",
       "</style>\n",
       "<table border=\"1\" class=\"dataframe\">\n",
       "  <thead>\n",
       "    <tr style=\"text-align: right;\">\n",
       "      <th></th>\n",
       "      <th>0</th>\n",
       "      <th>neg</th>\n",
       "      <th>neu</th>\n",
       "      <th>pos</th>\n",
       "      <th>compound</th>\n",
       "    </tr>\n",
       "  </thead>\n",
       "  <tbody>\n",
       "    <tr>\n",
       "      <th>0</th>\n",
       "      <td>\"I am currently taking this medication for mod...</td>\n",
       "      <td>0.236</td>\n",
       "      <td>0.684</td>\n",
       "      <td>0.08</td>\n",
       "      <td>-0.9338</td>\n",
       "    </tr>\n",
       "    <tr>\n",
       "      <th>1</th>\n",
       "      <td>\"I have &amp;quot;loose shoulders&amp;quot; and my doc...</td>\n",
       "      <td>0.110</td>\n",
       "      <td>0.890</td>\n",
       "      <td>0.00</td>\n",
       "      <td>-0.5854</td>\n",
       "    </tr>\n",
       "    <tr>\n",
       "      <th>2</th>\n",
       "      <td>\"I had oral surgery and my doctor prescribed m...</td>\n",
       "      <td>0.163</td>\n",
       "      <td>0.837</td>\n",
       "      <td>0.00</td>\n",
       "      <td>-0.5106</td>\n",
       "    </tr>\n",
       "  </tbody>\n",
       "</table>\n",
       "</div>"
      ],
      "text/plain": [
       "                                                   0    neg    neu   pos  \\\n",
       "0  \"I am currently taking this medication for mod...  0.236  0.684  0.08   \n",
       "1  \"I have &quot;loose shoulders&quot; and my doc...  0.110  0.890  0.00   \n",
       "2  \"I had oral surgery and my doctor prescribed m...  0.163  0.837  0.00   \n",
       "\n",
       "   compound  \n",
       "0   -0.9338  \n",
       "1   -0.5854  \n",
       "2   -0.5106  "
      ]
     },
     "execution_count": 312,
     "metadata": {},
     "output_type": "execute_result"
    }
   ],
   "source": [
    "scores_ac = [sia.polarity_scores(word) for word in sampleac['review']]\n",
    "\n",
    "scores_ac_sentiments = pd.DataFrame(scores_ac)\n",
    "\n",
    "final_ac_sentiments = pd.concat([wordsac_df, scores_ac_sentiments], axis=1)\n",
    "\n",
    "final_ac_sentiments"
   ]
  },
  {
   "cell_type": "code",
   "execution_count": 313,
   "id": "f6672398",
   "metadata": {},
   "outputs": [
    {
     "data": {
      "image/png": "[encoded data removed]",
      "text/plain": [
       "<Figure size 640x480 with 1 Axes>"
      ]
     },
     "metadata": {},
     "output_type": "display_data"
    }
   ],
   "source": [
    "final_ac_sentiments.plot(kind='bar', title='Sentiment Scores: Samples - Acetaminophen / codeine', \n",
    "                         xlabel='Post number', ylabel='Score');\n",
    "\n",
    "plt.xticks(rotation = 0);"
   ]
  },
  {
   "cell_type": "markdown",
   "id": "b940b61a",
   "metadata": {},
   "source": [
    "All sentiment scores here are negative."
   ]
  },
  {
   "cell_type": "markdown",
   "id": "2910e4ba",
   "metadata": {},
   "source": [
    "### Special Topics"
   ]
  },
  {
   "cell_type": "markdown",
   "id": "e422447b",
   "metadata": {},
   "source": [
    "It may be the case that medical providers, insurers, and/or patients would be interested to know which of the medications tend to bring about certain side effects. \n",
    "\n",
    "In the case of pain, I will explore dependency and nausea. I will choose words that seem to signal dependency issues or nausea, and then make determinations."
   ]
  },
  {
   "cell_type": "code",
   "execution_count": 377,
   "id": "bb853bf7",
   "metadata": {},
   "outputs": [
    {
     "data": {
      "text/html": [
       "<div>\n",
       "<style scoped>\n",
       "    .dataframe tbody tr th:only-of-type {\n",
       "        vertical-align: middle;\n",
       "    }\n",
       "\n",
       "    .dataframe tbody tr th {\n",
       "        vertical-align: top;\n",
       "    }\n",
       "\n",
       "    .dataframe thead th {\n",
       "        text-align: right;\n",
       "    }\n",
       "</style>\n",
       "<table border=\"1\" class=\"dataframe\">\n",
       "  <thead>\n",
       "    <tr style=\"text-align: right;\">\n",
       "      <th></th>\n",
       "      <th>drug</th>\n",
       "      <th>review</th>\n",
       "      <th>rating</th>\n",
       "      <th>usefulcount</th>\n",
       "    </tr>\n",
       "  </thead>\n",
       "  <tbody>\n",
       "    <tr>\n",
       "      <th>1944</th>\n",
       "      <td>Belbuca</td>\n",
       "      <td>\"I was on Fentynal  patches for year and a hal...</td>\n",
       "      <td>1.0</td>\n",
       "      <td>14</td>\n",
       "    </tr>\n",
       "    <tr>\n",
       "      <th>2556</th>\n",
       "      <td>Darvocet A500</td>\n",
       "      <td>\"I have Anklosing spondylitis, arthritis in ma...</td>\n",
       "      <td>1.0</td>\n",
       "      <td>19</td>\n",
       "    </tr>\n",
       "    <tr>\n",
       "      <th>2890</th>\n",
       "      <td>Codeine</td>\n",
       "      <td>\"Had Panadeine Forte for a tooth abscess pain....</td>\n",
       "      <td>1.0</td>\n",
       "      <td>14</td>\n",
       "    </tr>\n",
       "    <tr>\n",
       "      <th>2892</th>\n",
       "      <td>Codeine</td>\n",
       "      <td>\"My dentist prescribed it to me to treat a too...</td>\n",
       "      <td>1.0</td>\n",
       "      <td>19</td>\n",
       "    </tr>\n",
       "    <tr>\n",
       "      <th>2906</th>\n",
       "      <td>Codeine</td>\n",
       "      <td>\"I had an external hemorrhoids surgery and cod...</td>\n",
       "      <td>1.0</td>\n",
       "      <td>2</td>\n",
       "    </tr>\n",
       "  </tbody>\n",
       "</table>\n",
       "</div>"
      ],
      "text/plain": [
       "               drug                                             review  \\\n",
       "1944        Belbuca  \"I was on Fentynal  patches for year and a hal...   \n",
       "2556  Darvocet A500  \"I have Anklosing spondylitis, arthritis in ma...   \n",
       "2890        Codeine  \"Had Panadeine Forte for a tooth abscess pain....   \n",
       "2892        Codeine  \"My dentist prescribed it to me to treat a too...   \n",
       "2906        Codeine  \"I had an external hemorrhoids surgery and cod...   \n",
       "\n",
       "      rating  usefulcount  \n",
       "1944     1.0           14  \n",
       "2556     1.0           19  \n",
       "2890     1.0           14  \n",
       "2892     1.0           19  \n",
       "2906     1.0            2  "
      ]
     },
     "execution_count": 377,
     "metadata": {},
     "output_type": "execute_result"
    }
   ],
   "source": [
    "low = pain[pain['rating']<5]\n",
    "\n",
    "low.head()"
   ]
  },
  {
   "cell_type": "code",
   "execution_count": 379,
   "id": "0633be6d",
   "metadata": {},
   "outputs": [
    {
     "data": {
      "text/plain": [
       "array([1., 3., 2., 4.])"
      ]
     },
     "execution_count": 379,
     "metadata": {},
     "output_type": "execute_result"
    }
   ],
   "source": [
    "low.rating.unique()"
   ]
  },
  {
   "cell_type": "code",
   "execution_count": 378,
   "id": "8e86279a",
   "metadata": {},
   "outputs": [
    {
     "data": {
      "text/plain": [
       "(1041, 4)"
      ]
     },
     "execution_count": 378,
     "metadata": {},
     "output_type": "execute_result"
    }
   ],
   "source": [
    "low.shape"
   ]
  },
  {
   "cell_type": "markdown",
   "id": "6bc9dfbb",
   "metadata": {},
   "source": [
    "We can now make observations about this group."
   ]
  },
  {
   "cell_type": "code",
   "execution_count": 380,
   "id": "39e43eaa",
   "metadata": {},
   "outputs": [
    {
     "data": {
      "text/plain": [
       "Tramadol                   102\n",
       "Tapentadol                  64\n",
       "Gabapentin                  55\n",
       "Acetaminophen / codeine     46\n",
       "Nucynta                     42\n",
       "                          ... \n",
       "Duramorph                    1\n",
       "Dolobid                      1\n",
       "Trolamine salicylate         1\n",
       "Naprosyn                     1\n",
       "Belbuca                      1\n",
       "Name: drug, Length: 119, dtype: int64"
      ]
     },
     "execution_count": 380,
     "metadata": {},
     "output_type": "execute_result"
    }
   ],
   "source": [
    "low.drug.value_counts()"
   ]
  },
  {
   "cell_type": "code",
   "execution_count": 381,
   "id": "9ee95761",
   "metadata": {},
   "outputs": [
    {
     "data": {
      "text/plain": [
       "1.8309317963496639"
      ]
     },
     "execution_count": 381,
     "metadata": {},
     "output_type": "execute_result"
    }
   ],
   "source": [
    "low.rating.mean()"
   ]
  },
  {
   "cell_type": "code",
   "execution_count": 383,
   "id": "32067db7",
   "metadata": {},
   "outputs": [
    {
     "data": {
      "image/png": "[encoded data removed]",
      "text/plain": [
       "<Figure size 640x480 with 1 Axes>"
      ]
     },
     "metadata": {},
     "output_type": "display_data"
    }
   ],
   "source": [
    "sns.histplot(data=low, x='rating');"
   ]
  },
  {
   "cell_type": "markdown",
   "id": "7c8a2338",
   "metadata": {},
   "source": [
    "##### Tolerance"
   ]
  },
  {
   "cell_type": "code",
   "execution_count": 448,
   "id": "6a15f6ba",
   "metadata": {},
   "outputs": [
    {
     "data": {
      "text/html": [
       "<div>\n",
       "<style scoped>\n",
       "    .dataframe tbody tr th:only-of-type {\n",
       "        vertical-align: middle;\n",
       "    }\n",
       "\n",
       "    .dataframe tbody tr th {\n",
       "        vertical-align: top;\n",
       "    }\n",
       "\n",
       "    .dataframe thead th {\n",
       "        text-align: right;\n",
       "    }\n",
       "</style>\n",
       "<table border=\"1\" class=\"dataframe\">\n",
       "  <thead>\n",
       "    <tr style=\"text-align: right;\">\n",
       "      <th></th>\n",
       "      <th>drug</th>\n",
       "      <th>review</th>\n",
       "      <th>rating</th>\n",
       "      <th>usefulcount</th>\n",
       "    </tr>\n",
       "  </thead>\n",
       "  <tbody>\n",
       "    <tr>\n",
       "      <th>14347</th>\n",
       "      <td>Nucynta</td>\n",
       "      <td>\"Was put on nucynta 100 mg every six hours for...</td>\n",
       "      <td>1.0</td>\n",
       "      <td>26</td>\n",
       "    </tr>\n",
       "    <tr>\n",
       "      <th>23804</th>\n",
       "      <td>Tramadol</td>\n",
       "      <td>\"This pain reliever is not the best, but it he...</td>\n",
       "      <td>1.0</td>\n",
       "      <td>26</td>\n",
       "    </tr>\n",
       "    <tr>\n",
       "      <th>30322</th>\n",
       "      <td>Acetaminophen / codeine</td>\n",
       "      <td>\"I have to take this following surgery to remo...</td>\n",
       "      <td>2.0</td>\n",
       "      <td>5</td>\n",
       "    </tr>\n",
       "    <tr>\n",
       "      <th>30346</th>\n",
       "      <td>Acetaminophen / codeine</td>\n",
       "      <td>\"My wisdom tooth got infected(pericoronitis) a...</td>\n",
       "      <td>1.0</td>\n",
       "      <td>14</td>\n",
       "    </tr>\n",
       "    <tr>\n",
       "      <th>30354</th>\n",
       "      <td>Acetaminophen / codeine</td>\n",
       "      <td>\"I was diagnosed with a missed miscarriage las...</td>\n",
       "      <td>1.0</td>\n",
       "      <td>11</td>\n",
       "    </tr>\n",
       "    <tr>\n",
       "      <th>30377</th>\n",
       "      <td>Acetaminophen / codeine</td>\n",
       "      <td>\"I need to get a wisdom tooth removed and have...</td>\n",
       "      <td>3.0</td>\n",
       "      <td>3</td>\n",
       "    </tr>\n",
       "    <tr>\n",
       "      <th>37370</th>\n",
       "      <td>Tylenol with Codeine #3</td>\n",
       "      <td>\"My wisdom tooth got infected(pericoronitis) a...</td>\n",
       "      <td>1.0</td>\n",
       "      <td>14</td>\n",
       "    </tr>\n",
       "    <tr>\n",
       "      <th>40262</th>\n",
       "      <td>Acetaminophen / hydrocodone</td>\n",
       "      <td>\"Built up a tolerance to it very quickly and m...</td>\n",
       "      <td>4.0</td>\n",
       "      <td>10</td>\n",
       "    </tr>\n",
       "    <tr>\n",
       "      <th>42167</th>\n",
       "      <td>Ziconotide</td>\n",
       "      <td>\"Once it was introduced into my pump my legs f...</td>\n",
       "      <td>1.0</td>\n",
       "      <td>1</td>\n",
       "    </tr>\n",
       "    <tr>\n",
       "      <th>60928</th>\n",
       "      <td>Prialt</td>\n",
       "      <td>\"Once it was introduced into my pump my legs f...</td>\n",
       "      <td>1.0</td>\n",
       "      <td>1</td>\n",
       "    </tr>\n",
       "    <tr>\n",
       "      <th>62925</th>\n",
       "      <td>Vicodin</td>\n",
       "      <td>\"Built up a tolerance to it very quickly and m...</td>\n",
       "      <td>4.0</td>\n",
       "      <td>10</td>\n",
       "    </tr>\n",
       "    <tr>\n",
       "      <th>65238</th>\n",
       "      <td>Oxymorphone</td>\n",
       "      <td>\"I have spinal stenosis, DDD, bone spurs, rupt...</td>\n",
       "      <td>1.0</td>\n",
       "      <td>5</td>\n",
       "    </tr>\n",
       "    <tr>\n",
       "      <th>65846</th>\n",
       "      <td>Acetaminophen / tramadol</td>\n",
       "      <td>\"I have suffered from moderate to severe back ...</td>\n",
       "      <td>3.0</td>\n",
       "      <td>4</td>\n",
       "    </tr>\n",
       "    <tr>\n",
       "      <th>125583</th>\n",
       "      <td>Diclofenac</td>\n",
       "      <td>\"Occupational Health at my workplace prescribe...</td>\n",
       "      <td>2.0</td>\n",
       "      <td>10</td>\n",
       "    </tr>\n",
       "  </tbody>\n",
       "</table>\n",
       "</div>"
      ],
      "text/plain": [
       "                               drug  \\\n",
       "14347                       Nucynta   \n",
       "23804                      Tramadol   \n",
       "30322       Acetaminophen / codeine   \n",
       "30346       Acetaminophen / codeine   \n",
       "30354       Acetaminophen / codeine   \n",
       "30377       Acetaminophen / codeine   \n",
       "37370       Tylenol with Codeine #3   \n",
       "40262   Acetaminophen / hydrocodone   \n",
       "42167                    Ziconotide   \n",
       "60928                        Prialt   \n",
       "62925                       Vicodin   \n",
       "65238                   Oxymorphone   \n",
       "65846      Acetaminophen / tramadol   \n",
       "125583                   Diclofenac   \n",
       "\n",
       "                                                   review  rating  usefulcount  \n",
       "14347   \"Was put on nucynta 100 mg every six hours for...     1.0           26  \n",
       "23804   \"This pain reliever is not the best, but it he...     1.0           26  \n",
       "30322   \"I have to take this following surgery to remo...     2.0            5  \n",
       "30346   \"My wisdom tooth got infected(pericoronitis) a...     1.0           14  \n",
       "30354   \"I was diagnosed with a missed miscarriage las...     1.0           11  \n",
       "30377   \"I need to get a wisdom tooth removed and have...     3.0            3  \n",
       "37370   \"My wisdom tooth got infected(pericoronitis) a...     1.0           14  \n",
       "40262   \"Built up a tolerance to it very quickly and m...     4.0           10  \n",
       "42167   \"Once it was introduced into my pump my legs f...     1.0            1  \n",
       "60928   \"Once it was introduced into my pump my legs f...     1.0            1  \n",
       "62925   \"Built up a tolerance to it very quickly and m...     4.0           10  \n",
       "65238   \"I have spinal stenosis, DDD, bone spurs, rupt...     1.0            5  \n",
       "65846   \"I have suffered from moderate to severe back ...     3.0            4  \n",
       "125583  \"Occupational Health at my workplace prescribe...     2.0           10  "
      ]
     },
     "execution_count": 448,
     "metadata": {},
     "output_type": "execute_result"
    }
   ],
   "source": [
    "tolerance = low[low['review'].str.contains('tolerance')]\n",
    "\n",
    "tolerance"
   ]
  },
  {
   "cell_type": "code",
   "execution_count": 449,
   "id": "b220b923",
   "metadata": {},
   "outputs": [
    {
     "data": {
      "text/plain": [
       "(14, 4)"
      ]
     },
     "execution_count": 449,
     "metadata": {},
     "output_type": "execute_result"
    }
   ],
   "source": [
    "tolerance.shape"
   ]
  },
  {
   "cell_type": "code",
   "execution_count": 450,
   "id": "7d505d0b",
   "metadata": {},
   "outputs": [
    {
     "data": {
      "text/plain": [
       "1.8571428571428572"
      ]
     },
     "execution_count": 450,
     "metadata": {},
     "output_type": "execute_result"
    }
   ],
   "source": [
    "tolerance.rating.mean()"
   ]
  },
  {
   "cell_type": "code",
   "execution_count": 451,
   "id": "80926936",
   "metadata": {},
   "outputs": [
    {
     "data": {
      "image/png": "[encoded data removed]",
      "text/plain": [
       "<Figure size 640x480 with 1 Axes>"
      ]
     },
     "metadata": {},
     "output_type": "display_data"
    }
   ],
   "source": [
    "sns.histplot(data= tolerance, x='rating');"
   ]
  },
  {
   "cell_type": "code",
   "execution_count": 452,
   "id": "21ad7c70",
   "metadata": {},
   "outputs": [
    {
     "data": {
      "text/plain": [
       "Acetaminophen / codeine        0.285714\n",
       "Nucynta                        0.071429\n",
       "Tramadol                       0.071429\n",
       "Tylenol with Codeine #3        0.071429\n",
       "Acetaminophen / hydrocodone    0.071429\n",
       "Ziconotide                     0.071429\n",
       "Prialt                         0.071429\n",
       "Vicodin                        0.071429\n",
       "Oxymorphone                    0.071429\n",
       "Acetaminophen / tramadol       0.071429\n",
       "Diclofenac                     0.071429\n",
       "Name: drug, dtype: float64"
      ]
     },
     "execution_count": 452,
     "metadata": {},
     "output_type": "execute_result"
    }
   ],
   "source": [
    "tolerance.drug.value_counts(normalize = True)"
   ]
  },
  {
   "cell_type": "code",
   "execution_count": 454,
   "id": "277dc744",
   "metadata": {},
   "outputs": [
    {
     "data": {
      "text/plain": [
       "[['Ziconotide',\n",
       "  '\"Once it was introduced into my pump my legs felt as though they were on fire this was corrected with bynedryel. The following effects were an intolerance to light that caused migraines also the lack of bowel control and the loss of hearing in my right ear and visual problems that left me unable to drive.I had to go to my doctor and insist that the prialt be removed. He resisted but I prevailed. I have never been that sick with multiple illnesses in my life.  I have had 3 spinal bone fusions and 2 thumb reconstructions with right and left shoulder operations also a right knee operation and countless spinal injections and on and on. Because of my doctors reluctance to extract the prialt. I called the manufacturer of prialt who stopped it instantly.\"',\n",
       "  1.0,\n",
       "  1],\n",
       " ['Oxymorphone',\n",
       "  '\"I have spinal stenosis, DDD, bone spurs, ruptured discs, double laminectomy at L5-S1, L3-L4 in 2013. I&#039;ve been on oxycodone for over 4 years. That worked great but I started at 100 mg a day and even now only at 80 mg a day, so I think it is not out of the ordinary to have a built up of tolerance. Dr. switched from four 20 mg oxycodone to four 10 mg Oxymorphone. He said it is equivalent to 25 mg oxycodone. It worked a little better on pain, but the side effects were awful!!! I was very sedated, moody, irritable and grumpy. The worst was at night I had a restless leg syndrome type of pain in my legs, and I could NOT stay asleep, even with sleep meds!!! I do NOT recommend this medication! I&#039;m looking into this genetic test I keep hearing about!\"',\n",
       "  1.0,\n",
       "  5],\n",
       " ['Acetaminophen / hydrocodone',\n",
       "  '\"Built up a tolerance to it very quickly and made me itch like crazy.\"',\n",
       "  4.0,\n",
       "  10],\n",
       " ['Vicodin',\n",
       "  '\"Built up a tolerance to it very quickly and made me itch like crazy.\"',\n",
       "  4.0,\n",
       "  10],\n",
       " ['Acetaminophen / codeine',\n",
       "  '\"My wisdom tooth got infected(pericoronitis) and the left side of my face is currently throbbing. I was prescribed penicillin along with ibuprofen 600mg. The penicillin takes a few days to kick in and ibuprofen does absolutely nothing. I called the doc back and they prescribed Tylenol #3. At first I was excited to relieve my pain, but after about 2 hours into my medication I still felt no relief. I hate pills and generally don&#039;t take anything on a regular basis(2 Advil for headaches when they rarely occur) so I don&#039;t have a tolerance for medicine. Tylenol #3 did absolutely nothing for me. Might as well have not taken anything at all. Garbage!\"',\n",
       "  1.0,\n",
       "  14]]"
      ]
     },
     "execution_count": 454,
     "metadata": {},
     "output_type": "execute_result"
    }
   ],
   "source": [
    "tolerance.sample(5, random_state = 6789).values.tolist()"
   ]
  },
  {
   "cell_type": "code",
   "execution_count": null,
   "id": "5a50f935",
   "metadata": {},
   "outputs": [],
   "source": []
  },
  {
   "cell_type": "markdown",
   "id": "c6838d1c",
   "metadata": {},
   "source": [
    "##### \"Withdrawal\""
   ]
  },
  {
   "cell_type": "code",
   "execution_count": 386,
   "id": "00a154e9",
   "metadata": {},
   "outputs": [
    {
     "data": {
      "text/html": [
       "<div>\n",
       "<style scoped>\n",
       "    .dataframe tbody tr th:only-of-type {\n",
       "        vertical-align: middle;\n",
       "    }\n",
       "\n",
       "    .dataframe tbody tr th {\n",
       "        vertical-align: top;\n",
       "    }\n",
       "\n",
       "    .dataframe thead th {\n",
       "        text-align: right;\n",
       "    }\n",
       "</style>\n",
       "<table border=\"1\" class=\"dataframe\">\n",
       "  <thead>\n",
       "    <tr style=\"text-align: right;\">\n",
       "      <th></th>\n",
       "      <th>drug</th>\n",
       "      <th>review</th>\n",
       "      <th>rating</th>\n",
       "      <th>usefulcount</th>\n",
       "    </tr>\n",
       "  </thead>\n",
       "  <tbody>\n",
       "    <tr>\n",
       "      <th>4097</th>\n",
       "      <td>Opana</td>\n",
       "      <td>\"I&amp;#039;ve been on oxymorphone for 10 years. M...</td>\n",
       "      <td>1.0</td>\n",
       "      <td>22</td>\n",
       "    </tr>\n",
       "    <tr>\n",
       "      <th>14320</th>\n",
       "      <td>Nucynta</td>\n",
       "      <td>\"After 10 years of a combination of treatments...</td>\n",
       "      <td>1.0</td>\n",
       "      <td>29</td>\n",
       "    </tr>\n",
       "    <tr>\n",
       "      <th>14327</th>\n",
       "      <td>Nucynta</td>\n",
       "      <td>\"I was prescribed this medication because I&amp;#0...</td>\n",
       "      <td>1.0</td>\n",
       "      <td>47</td>\n",
       "    </tr>\n",
       "    <tr>\n",
       "      <th>14335</th>\n",
       "      <td>Nucynta</td>\n",
       "      <td>\"I was switched to nucynta 75mg three daily fr...</td>\n",
       "      <td>1.0</td>\n",
       "      <td>5</td>\n",
       "    </tr>\n",
       "    <tr>\n",
       "      <th>14338</th>\n",
       "      <td>Nucynta</td>\n",
       "      <td>\"was on 15mg opanaer 2 x daily down from 2 x 3...</td>\n",
       "      <td>1.0</td>\n",
       "      <td>5</td>\n",
       "    </tr>\n",
       "  </tbody>\n",
       "</table>\n",
       "</div>"
      ],
      "text/plain": [
       "          drug                                             review  rating  \\\n",
       "4097     Opana  \"I&#039;ve been on oxymorphone for 10 years. M...     1.0   \n",
       "14320  Nucynta  \"After 10 years of a combination of treatments...     1.0   \n",
       "14327  Nucynta  \"I was prescribed this medication because I&#0...     1.0   \n",
       "14335  Nucynta  \"I was switched to nucynta 75mg three daily fr...     1.0   \n",
       "14338  Nucynta  \"was on 15mg opanaer 2 x daily down from 2 x 3...     1.0   \n",
       "\n",
       "       usefulcount  \n",
       "4097            22  \n",
       "14320           29  \n",
       "14327           47  \n",
       "14335            5  \n",
       "14338            5  "
      ]
     },
     "execution_count": 386,
     "metadata": {},
     "output_type": "execute_result"
    }
   ],
   "source": [
    "withdrawal = low[low['review'].str.contains('withdrawal')]\n",
    "\n",
    "withdrawal.head()"
   ]
  },
  {
   "cell_type": "code",
   "execution_count": 387,
   "id": "582d2a4f",
   "metadata": {},
   "outputs": [
    {
     "data": {
      "text/plain": [
       "1.6222222222222222"
      ]
     },
     "execution_count": 387,
     "metadata": {},
     "output_type": "execute_result"
    }
   ],
   "source": [
    "withdrawal.rating.mean()"
   ]
  },
  {
   "cell_type": "code",
   "execution_count": 388,
   "id": "13cd43d4",
   "metadata": {},
   "outputs": [
    {
     "data": {
      "image/png": "[encoded data removed]",
      "text/plain": [
       "<Figure size 640x480 with 1 Axes>"
      ]
     },
     "metadata": {},
     "output_type": "display_data"
    }
   ],
   "source": [
    "sns.histplot(data = withdrawal, x= 'rating');"
   ]
  },
  {
   "cell_type": "code",
   "execution_count": 389,
   "id": "af685983",
   "metadata": {},
   "outputs": [
    {
     "data": {
      "text/plain": [
       "['\"I was prescribed this medicine for moderate pain after surgery. My incisions bothered me, and I took 4 pills a day for the first 3 days, then usually 2 a day. However, the side effects: nausea, palpitations, dizziness, drowsiness AND sleeplessness, constipation and mental vagueness were really too unpleasant to be rid of minor pain, so after a week I stopped taking it. It is annoying that after stopping it, I suffered nausea, palpitations, and weakness/drowsiness after large meals--possibly due to withdrawal.\"',\n",
       " '\"This medication isn&#039;t that effective compared to taking Norco since Norco releases most of its metabolytes within an hour immediately causing pain relief. Switching over to Hysingla has not only cost me way more money per month but also has caused me to have severe withdrawals and pain to due it&#039;s very slow time release of the medication. I take 20 mg of Norco at a time tid and I&#039;m on the Hysingla 30mg. So with that being said, my body is used to 20mg of morphine every 6 hours.  If I&#039;m on the Hysingla 30, it means I&#039;m only getting approximately 1.25mg an hour.  That causes the concentration of my morphine levels to drop rapidly. Bottom line, this medication does not work unless you have minor pain that can wait a while till this medication\"',\n",
       " '\"I was switched to nucynta 75mg three daily from norco 10  four daily and was told there would not be withdrawal effect. Either the Dr does not know or she lied. The withdrawal from norco was fast and severe. Became very agitated and the pain spread and became worse. Dangerous drug.\"',\n",
       " '\"OK, so I am prone to addiction to drugs that impact the GABA neurotransmitter system--benzos, phenobarbital (all prescribed, BTW). Gabapentin is no different, I am now on a long, slow detox from this nasty stuff. Rare, but not that rare per my detox docs, and a brutal withdrawal-not quite klonopin brutal, but I have better docs now too. IF you have any history of having a hard time getting off alcohol, benzos or other GABA drugs, approach gabapentin and it&#039;s cousin Neurontin, with great trepidation.\"',\n",
       " '\"I was prescribed Nucynta 100mg 4x day after years of being on Hydrocodone, tramadol as well as oxycodone for back pain from 3 previous disc fusion surgeries. I have to say that Nucynta did relieve my pain but for only maybe 1 1/2 hours at the most. The side effects are horrible, head ache, stomach discomfort, &quot;trippy&quot; feeling, just to name a few. I would also like to add that I was not in withdrawal from opiates when I took this medication, even though I was having mild withdrawals from the years of Tramadol use and Nucynta did help me with the withdrawal symptoms, somewhat. Even though I do not want to continue opiate usage any longer Nucynta is not the solution for my pain. \"']"
      ]
     },
     "execution_count": 389,
     "metadata": {},
     "output_type": "execute_result"
    }
   ],
   "source": [
    "withdrawal.review.sample(5, random_state = 6789).values.tolist()"
   ]
  },
  {
   "cell_type": "markdown",
   "id": "50df3f69",
   "metadata": {},
   "source": [
    "These reviews do seem to discuss dependency issues.\n",
    "\n",
    "We can see which drugs most frequently fall into this category."
   ]
  },
  {
   "cell_type": "code",
   "execution_count": 409,
   "id": "d89608ed",
   "metadata": {},
   "outputs": [
    {
     "data": {
      "text/plain": [
       "Tapentadol             0.111111\n",
       "Nucynta                0.111111\n",
       "Tramadol               0.088889\n",
       "Oxymorphone            0.088889\n",
       "Opana ER               0.066667\n",
       "Hydrocodone            0.066667\n",
       "Hysingla ER            0.044444\n",
       "Fentanyl               0.044444\n",
       "Gabapentin             0.044444\n",
       "Oxycodone              0.044444\n",
       "Duragesic              0.044444\n",
       "Neurontin              0.022222\n",
       "Levorphanol            0.022222\n",
       "Aspirin / oxycodone    0.022222\n",
       "Opana                  0.022222\n",
       "MS Contin              0.022222\n",
       "Morphine               0.022222\n",
       "Nalbuphine             0.022222\n",
       "Nubain                 0.022222\n",
       "Ultram                 0.022222\n",
       "Methadone              0.022222\n",
       "Zohydro ER             0.022222\n",
       "Name: drug, dtype: float64"
      ]
     },
     "execution_count": 409,
     "metadata": {},
     "output_type": "execute_result"
    }
   ],
   "source": [
    "withdrawal.drug.value_counts(normalize = True)"
   ]
  },
  {
   "cell_type": "markdown",
   "id": "115144fc",
   "metadata": {},
   "source": [
    "##### Nausea"
   ]
  },
  {
   "cell_type": "code",
   "execution_count": 396,
   "id": "61d8fa34",
   "metadata": {},
   "outputs": [
    {
     "data": {
      "text/html": [
       "<div>\n",
       "<style scoped>\n",
       "    .dataframe tbody tr th:only-of-type {\n",
       "        vertical-align: middle;\n",
       "    }\n",
       "\n",
       "    .dataframe tbody tr th {\n",
       "        vertical-align: top;\n",
       "    }\n",
       "\n",
       "    .dataframe thead th {\n",
       "        text-align: right;\n",
       "    }\n",
       "</style>\n",
       "<table border=\"1\" class=\"dataframe\">\n",
       "  <thead>\n",
       "    <tr style=\"text-align: right;\">\n",
       "      <th></th>\n",
       "      <th>drug</th>\n",
       "      <th>review</th>\n",
       "      <th>rating</th>\n",
       "      <th>usefulcount</th>\n",
       "    </tr>\n",
       "  </thead>\n",
       "  <tbody>\n",
       "    <tr>\n",
       "      <th>12780</th>\n",
       "      <td>Embeda</td>\n",
       "      <td>\"I was taking Opana ER 20 and was switched by ...</td>\n",
       "      <td>1.0</td>\n",
       "      <td>36</td>\n",
       "    </tr>\n",
       "    <tr>\n",
       "      <th>12823</th>\n",
       "      <td>Voltaren</td>\n",
       "      <td>\"The side effects are brutal. Stomach aches, n...</td>\n",
       "      <td>2.0</td>\n",
       "      <td>29</td>\n",
       "    </tr>\n",
       "    <tr>\n",
       "      <th>14347</th>\n",
       "      <td>Nucynta</td>\n",
       "      <td>\"Was put on nucynta 100 mg every six hours for...</td>\n",
       "      <td>1.0</td>\n",
       "      <td>26</td>\n",
       "    </tr>\n",
       "    <tr>\n",
       "      <th>14360</th>\n",
       "      <td>Nucynta</td>\n",
       "      <td>\"Lots of nausea\"</td>\n",
       "      <td>3.0</td>\n",
       "      <td>34</td>\n",
       "    </tr>\n",
       "    <tr>\n",
       "      <th>14454</th>\n",
       "      <td>Nucynta</td>\n",
       "      <td>\"My doctor wanted to try me on Nucynta for my ...</td>\n",
       "      <td>1.0</td>\n",
       "      <td>32</td>\n",
       "    </tr>\n",
       "    <tr>\n",
       "      <th>...</th>\n",
       "      <td>...</td>\n",
       "      <td>...</td>\n",
       "      <td>...</td>\n",
       "      <td>...</td>\n",
       "    </tr>\n",
       "    <tr>\n",
       "      <th>134831</th>\n",
       "      <td>Dilaudid</td>\n",
       "      <td>\"I was given a dose of delaudid through IV for...</td>\n",
       "      <td>2.0</td>\n",
       "      <td>22</td>\n",
       "    </tr>\n",
       "    <tr>\n",
       "      <th>141164</th>\n",
       "      <td>Fentanyl Transdermal System</td>\n",
       "      <td>\"This medication is supposed to be continual p...</td>\n",
       "      <td>4.0</td>\n",
       "      <td>65</td>\n",
       "    </tr>\n",
       "    <tr>\n",
       "      <th>142402</th>\n",
       "      <td>Toradol</td>\n",
       "      <td>\"I end up in the ER at least twice a month wit...</td>\n",
       "      <td>1.0</td>\n",
       "      <td>18</td>\n",
       "    </tr>\n",
       "    <tr>\n",
       "      <th>158554</th>\n",
       "      <td>Butrans</td>\n",
       "      <td>\"I&amp;#039;ve been using this patch for 2 and a h...</td>\n",
       "      <td>2.0</td>\n",
       "      <td>43</td>\n",
       "    </tr>\n",
       "    <tr>\n",
       "      <th>158643</th>\n",
       "      <td>Butrans</td>\n",
       "      <td>\"I have been on Butrans patch for about 6 mont...</td>\n",
       "      <td>4.0</td>\n",
       "      <td>97</td>\n",
       "    </tr>\n",
       "  </tbody>\n",
       "</table>\n",
       "<p>95 rows × 4 columns</p>\n",
       "</div>"
      ],
      "text/plain": [
       "                               drug  \\\n",
       "12780                        Embeda   \n",
       "12823                      Voltaren   \n",
       "14347                       Nucynta   \n",
       "14360                       Nucynta   \n",
       "14454                       Nucynta   \n",
       "...                             ...   \n",
       "134831                     Dilaudid   \n",
       "141164  Fentanyl Transdermal System   \n",
       "142402                      Toradol   \n",
       "158554                      Butrans   \n",
       "158643                      Butrans   \n",
       "\n",
       "                                                   review  rating  usefulcount  \n",
       "12780   \"I was taking Opana ER 20 and was switched by ...     1.0           36  \n",
       "12823   \"The side effects are brutal. Stomach aches, n...     2.0           29  \n",
       "14347   \"Was put on nucynta 100 mg every six hours for...     1.0           26  \n",
       "14360                                    \"Lots of nausea\"     3.0           34  \n",
       "14454   \"My doctor wanted to try me on Nucynta for my ...     1.0           32  \n",
       "...                                                   ...     ...          ...  \n",
       "134831  \"I was given a dose of delaudid through IV for...     2.0           22  \n",
       "141164  \"This medication is supposed to be continual p...     4.0           65  \n",
       "142402  \"I end up in the ER at least twice a month wit...     1.0           18  \n",
       "158554  \"I&#039;ve been using this patch for 2 and a h...     2.0           43  \n",
       "158643  \"I have been on Butrans patch for about 6 mont...     4.0           97  \n",
       "\n",
       "[95 rows x 4 columns]"
      ]
     },
     "execution_count": 396,
     "metadata": {},
     "output_type": "execute_result"
    }
   ],
   "source": [
    "nausea = low[low['review'].str.contains('nausea')]\n",
    "\n",
    "nausea"
   ]
  },
  {
   "cell_type": "code",
   "execution_count": 397,
   "id": "c329c734",
   "metadata": {},
   "outputs": [
    {
     "data": {
      "text/plain": [
       "1.8526315789473684"
      ]
     },
     "execution_count": 397,
     "metadata": {},
     "output_type": "execute_result"
    }
   ],
   "source": [
    "nausea.rating.mean()"
   ]
  },
  {
   "cell_type": "code",
   "execution_count": 398,
   "id": "f9c03677",
   "metadata": {},
   "outputs": [
    {
     "data": {
      "image/png": "[encoded data removed]",
      "text/plain": [
       "<Figure size 640x480 with 1 Axes>"
      ]
     },
     "metadata": {},
     "output_type": "display_data"
    }
   ],
   "source": [
    "sns.histplot(data=nausea, x='rating');"
   ]
  },
  {
   "cell_type": "code",
   "execution_count": 405,
   "id": "3cd8376a",
   "metadata": {},
   "outputs": [
    {
     "data": {
      "text/plain": [
       "Tramadol                       0.147368\n",
       "Acetaminophen / hydrocodone    0.073684\n",
       "Hydrocodone                    0.063158\n",
       "Acetaminophen / oxycodone      0.052632\n",
       "Hydromorphone                  0.052632\n",
       "Ultram                         0.042105\n",
       "Diclofenac                     0.042105\n",
       "Norco                          0.031579\n",
       "Hysingla ER                    0.031579\n",
       "Nucynta                        0.031579\n",
       "Tapentadol                     0.031579\n",
       "Dilaudid                       0.031579\n",
       "Morphine                       0.031579\n",
       "Vicodin                        0.031579\n",
       "Percocet                       0.021053\n",
       "Acetaminophen / tramadol       0.021053\n",
       "Butrans                        0.021053\n",
       "Buprenorphine                  0.021053\n",
       "Naproxen                       0.010526\n",
       "Toradol                        0.010526\n",
       "Fentanyl Transdermal System    0.010526\n",
       "Naloxone / pentazocine         0.010526\n",
       "Methadone                      0.010526\n",
       "Stadol                         0.010526\n",
       "Oxycodone                      0.010526\n",
       "Amitriptyline                  0.010526\n",
       "Acetaminophen / codeine        0.010526\n",
       "Zorvolex                       0.010526\n",
       "Nubain                         0.010526\n",
       "Endocet                        0.010526\n",
       "Ultram ER                      0.010526\n",
       "Dilaudid-HP                    0.010526\n",
       "Morphine / naltrexone          0.010526\n",
       "Voltaren Gel                   0.010526\n",
       "MS Contin                      0.010526\n",
       "Tylenol with Codeine #3        0.010526\n",
       "Nalbuphine                     0.010526\n",
       "Voltaren                       0.010526\n",
       "Embeda                         0.010526\n",
       "Name: drug, dtype: float64"
      ]
     },
     "execution_count": 405,
     "metadata": {},
     "output_type": "execute_result"
    }
   ],
   "source": [
    "nausea.drug.value_counts(normalize = True)"
   ]
  },
  {
   "cell_type": "code",
   "execution_count": 399,
   "id": "e27183bc",
   "metadata": {},
   "outputs": [
    {
     "data": {
      "text/plain": [
       "[['Stadol',\n",
       "  '\"I have migraines really bad, my neurologist prescirbed Stadol as a last resort medication.  So far it has not worked.  Just made me nauseated and gave me a head rush.  It&#039;s very discouraging to read the comments about ER&#039;s thinking migraine sufferers are drug seeking people.  It&#039;s sad that we get no attention or help.  I would rather suffer than go to the ER and be put in a group that I&#039;m not in.  Good luck to all of us :)\"',\n",
       "  3.0,\n",
       "  19],\n",
       " ['Tramadol',\n",
       "  '\"Tramadol made me so queasy that I couldn&#039;t sit up or walk without feeling nausea. Didn&#039;t touch the head pain.\"',\n",
       "  1.0,\n",
       "  5],\n",
       " ['Butrans',\n",
       "  '\"I have been on Butrans patch for about 6 months. Started on 5mg, then 10mg after a few months, and then 20mg. I had several side effects although it did relieve my pain. Just the past two days I had to go off of the patch because my side effects were very worse with being on the 20mg. The side effects I have experience since I started Butrans 6 months ago are: In the beginning, very itchy all over, not just at the patch placement site..that did go away after about 3 weeks. Severe horrible constipation...I mean horrible.. severe appetite loss. Although I needed to lose the 27 pounds that I have lost since taking Butrans, I am a worry wart, so I worry it could be something more severe, but I think its the patch. Severe nausea too.\"',\n",
       "  4.0,\n",
       "  97],\n",
       " ['Hysingla ER',\n",
       "  '\"I have been taking Hysingla 20 mg for a month. I was taking Norco 5-325 up to 4 a day for chronic back pain post 6 surgeries. I was switched to Hysingla due to elevated liver enzymes from Tylenol. I have bile duct structure and do what I can to keep liver enzymes lower. I only took what I absolutely had to daily of Norco. Averaging 2 Norco&#039;s a day. Since I have started the Hysingla I have had a moderately severe headache and nausea everyday. I&#039;m not sure which is worse the liver pain or headache. The nausea I tolerate. I have decided to stop taking the Hysingla and go back to the Norco. I would rather take as little as possible of medication and still be in pain than have increase in pain and be flat on my back for 6 hours with headache.\"',\n",
       "  1.0,\n",
       "  27],\n",
       " ['Hydrocodone',\n",
       "  '\"This made me weak with vomiting &amp; nausea all the time, felt weak &amp; shaky all the time\"',\n",
       "  1.0,\n",
       "  12]]"
      ]
     },
     "execution_count": 399,
     "metadata": {},
     "output_type": "execute_result"
    }
   ],
   "source": [
    "nausea.sample(5, random_state = 6789).values.tolist()"
   ]
  },
  {
   "cell_type": "markdown",
   "id": "686e972f",
   "metadata": {},
   "source": [
    "##### Hallucinations"
   ]
  },
  {
   "cell_type": "code",
   "execution_count": 410,
   "id": "028dd3ce",
   "metadata": {},
   "outputs": [
    {
     "data": {
      "text/html": [
       "<div>\n",
       "<style scoped>\n",
       "    .dataframe tbody tr th:only-of-type {\n",
       "        vertical-align: middle;\n",
       "    }\n",
       "\n",
       "    .dataframe tbody tr th {\n",
       "        vertical-align: top;\n",
       "    }\n",
       "\n",
       "    .dataframe thead th {\n",
       "        text-align: right;\n",
       "    }\n",
       "</style>\n",
       "<table border=\"1\" class=\"dataframe\">\n",
       "  <thead>\n",
       "    <tr style=\"text-align: right;\">\n",
       "      <th></th>\n",
       "      <th>drug</th>\n",
       "      <th>review</th>\n",
       "      <th>rating</th>\n",
       "      <th>usefulcount</th>\n",
       "    </tr>\n",
       "  </thead>\n",
       "  <tbody>\n",
       "    <tr>\n",
       "      <th>14327</th>\n",
       "      <td>Nucynta</td>\n",
       "      <td>\"I was prescribed this medication because I&amp;#0...</td>\n",
       "      <td>1.0</td>\n",
       "      <td>47</td>\n",
       "    </tr>\n",
       "    <tr>\n",
       "      <th>14392</th>\n",
       "      <td>Nucynta</td>\n",
       "      <td>\"I was put on 100mg of Nucynta ER for facial n...</td>\n",
       "      <td>3.0</td>\n",
       "      <td>29</td>\n",
       "    </tr>\n",
       "    <tr>\n",
       "      <th>14397</th>\n",
       "      <td>Nucynta</td>\n",
       "      <td>\"Was prescribed Nucynta for back pain after in...</td>\n",
       "      <td>3.0</td>\n",
       "      <td>16</td>\n",
       "    </tr>\n",
       "    <tr>\n",
       "      <th>16255</th>\n",
       "      <td>Methadone</td>\n",
       "      <td>\"I have Lupus, RA two other types of arthritis...</td>\n",
       "      <td>1.0</td>\n",
       "      <td>22</td>\n",
       "    </tr>\n",
       "    <tr>\n",
       "      <th>18729</th>\n",
       "      <td>Ultram</td>\n",
       "      <td>\"Personally the medicine worked well for chron...</td>\n",
       "      <td>3.0</td>\n",
       "      <td>42</td>\n",
       "    </tr>\n",
       "    <tr>\n",
       "      <th>32805</th>\n",
       "      <td>Talwin</td>\n",
       "      <td>\"Scary medicine given for migraine, sent home....</td>\n",
       "      <td>1.0</td>\n",
       "      <td>4</td>\n",
       "    </tr>\n",
       "    <tr>\n",
       "      <th>32963</th>\n",
       "      <td>Tapentadol</td>\n",
       "      <td>\"I was prescribed this medication because I&amp;#0...</td>\n",
       "      <td>1.0</td>\n",
       "      <td>47</td>\n",
       "    </tr>\n",
       "    <tr>\n",
       "      <th>32986</th>\n",
       "      <td>Tapentadol</td>\n",
       "      <td>\"Saw pain Doc went over all my test, MRI resul...</td>\n",
       "      <td>4.0</td>\n",
       "      <td>31</td>\n",
       "    </tr>\n",
       "    <tr>\n",
       "      <th>33073</th>\n",
       "      <td>Tapentadol</td>\n",
       "      <td>\"I was put on 100mg of Nucynta ER for facial n...</td>\n",
       "      <td>3.0</td>\n",
       "      <td>29</td>\n",
       "    </tr>\n",
       "    <tr>\n",
       "      <th>33078</th>\n",
       "      <td>Tapentadol</td>\n",
       "      <td>\"Was prescribed Nucynta for back pain after in...</td>\n",
       "      <td>3.0</td>\n",
       "      <td>16</td>\n",
       "    </tr>\n",
       "    <tr>\n",
       "      <th>50338</th>\n",
       "      <td>Tramadol</td>\n",
       "      <td>\"Personally the medicine worked well for chron...</td>\n",
       "      <td>3.0</td>\n",
       "      <td>42</td>\n",
       "    </tr>\n",
       "    <tr>\n",
       "      <th>54589</th>\n",
       "      <td>Tapentadol</td>\n",
       "      <td>\"I was prescribed 1-2 of the 75mgs every 4-6 h...</td>\n",
       "      <td>3.0</td>\n",
       "      <td>7</td>\n",
       "    </tr>\n",
       "    <tr>\n",
       "      <th>93888</th>\n",
       "      <td>Nucynta ER</td>\n",
       "      <td>\"Saw pain Doc went over all my test, MRI resul...</td>\n",
       "      <td>4.0</td>\n",
       "      <td>31</td>\n",
       "    </tr>\n",
       "    <tr>\n",
       "      <th>127798</th>\n",
       "      <td>Cymbalta</td>\n",
       "      <td>\"My MD prescribed Cymbalta for chronic pain ca...</td>\n",
       "      <td>1.0</td>\n",
       "      <td>126</td>\n",
       "    </tr>\n",
       "    <tr>\n",
       "      <th>145354</th>\n",
       "      <td>Pentazocine</td>\n",
       "      <td>\"Scary medicine given for migraine, sent home....</td>\n",
       "      <td>1.0</td>\n",
       "      <td>4</td>\n",
       "    </tr>\n",
       "    <tr>\n",
       "      <th>146996</th>\n",
       "      <td>Propoxyphene</td>\n",
       "      <td>\"Took only once and it made me sick to my stom...</td>\n",
       "      <td>3.0</td>\n",
       "      <td>4</td>\n",
       "    </tr>\n",
       "  </tbody>\n",
       "</table>\n",
       "</div>"
      ],
      "text/plain": [
       "                drug                                             review  \\\n",
       "14327        Nucynta  \"I was prescribed this medication because I&#0...   \n",
       "14392        Nucynta  \"I was put on 100mg of Nucynta ER for facial n...   \n",
       "14397        Nucynta  \"Was prescribed Nucynta for back pain after in...   \n",
       "16255      Methadone  \"I have Lupus, RA two other types of arthritis...   \n",
       "18729         Ultram  \"Personally the medicine worked well for chron...   \n",
       "32805         Talwin  \"Scary medicine given for migraine, sent home....   \n",
       "32963     Tapentadol  \"I was prescribed this medication because I&#0...   \n",
       "32986     Tapentadol  \"Saw pain Doc went over all my test, MRI resul...   \n",
       "33073     Tapentadol  \"I was put on 100mg of Nucynta ER for facial n...   \n",
       "33078     Tapentadol  \"Was prescribed Nucynta for back pain after in...   \n",
       "50338       Tramadol  \"Personally the medicine worked well for chron...   \n",
       "54589     Tapentadol  \"I was prescribed 1-2 of the 75mgs every 4-6 h...   \n",
       "93888     Nucynta ER  \"Saw pain Doc went over all my test, MRI resul...   \n",
       "127798      Cymbalta  \"My MD prescribed Cymbalta for chronic pain ca...   \n",
       "145354   Pentazocine  \"Scary medicine given for migraine, sent home....   \n",
       "146996  Propoxyphene  \"Took only once and it made me sick to my stom...   \n",
       "\n",
       "        rating  usefulcount  \n",
       "14327      1.0           47  \n",
       "14392      3.0           29  \n",
       "14397      3.0           16  \n",
       "16255      1.0           22  \n",
       "18729      3.0           42  \n",
       "32805      1.0            4  \n",
       "32963      1.0           47  \n",
       "32986      4.0           31  \n",
       "33073      3.0           29  \n",
       "33078      3.0           16  \n",
       "50338      3.0           42  \n",
       "54589      3.0            7  \n",
       "93888      4.0           31  \n",
       "127798     1.0          126  \n",
       "145354     1.0            4  \n",
       "146996     3.0            4  "
      ]
     },
     "execution_count": 410,
     "metadata": {},
     "output_type": "execute_result"
    }
   ],
   "source": [
    "hallucinations = low[low['review'].str.contains('hallucinations')]\n",
    "\n",
    "hallucinations"
   ]
  },
  {
   "cell_type": "code",
   "execution_count": 411,
   "id": "d419ff8b",
   "metadata": {},
   "outputs": [
    {
     "data": {
      "text/plain": [
       "(16, 4)"
      ]
     },
     "execution_count": 411,
     "metadata": {},
     "output_type": "execute_result"
    }
   ],
   "source": [
    "hallucinations.shape"
   ]
  },
  {
   "cell_type": "code",
   "execution_count": 412,
   "id": "5eab84e8",
   "metadata": {},
   "outputs": [
    {
     "data": {
      "text/plain": [
       "2.375"
      ]
     },
     "execution_count": 412,
     "metadata": {},
     "output_type": "execute_result"
    }
   ],
   "source": [
    "hallucinations.rating.mean()"
   ]
  },
  {
   "cell_type": "code",
   "execution_count": 414,
   "id": "10c83a1e",
   "metadata": {},
   "outputs": [
    {
     "data": {
      "image/png": "[encoded data removed]",
      "text/plain": [
       "<Figure size 640x480 with 1 Axes>"
      ]
     },
     "metadata": {},
     "output_type": "display_data"
    }
   ],
   "source": [
    "sns.histplot(data= hallucinations, x='rating');"
   ]
  },
  {
   "cell_type": "code",
   "execution_count": 416,
   "id": "048f6b81",
   "metadata": {},
   "outputs": [
    {
     "data": {
      "text/plain": [
       "Tapentadol      0.3125\n",
       "Nucynta         0.1875\n",
       "Methadone       0.0625\n",
       "Ultram          0.0625\n",
       "Talwin          0.0625\n",
       "Tramadol        0.0625\n",
       "Nucynta ER      0.0625\n",
       "Cymbalta        0.0625\n",
       "Pentazocine     0.0625\n",
       "Propoxyphene    0.0625\n",
       "Name: drug, dtype: float64"
      ]
     },
     "execution_count": 416,
     "metadata": {},
     "output_type": "execute_result"
    }
   ],
   "source": [
    "hallucinations.drug.value_counts(normalize = True)"
   ]
  },
  {
   "cell_type": "code",
   "execution_count": 418,
   "id": "f172529e",
   "metadata": {},
   "outputs": [
    {
     "data": {
      "text/plain": [
       "[['Tapentadol',\n",
       "  '\"I was put on 100mg of Nucynta ER for facial nerve pain. I have found that it doesn&#039;t work that well for my pain and it causes intense headaches and fatigue. \\r\\r\\n\\r\\r\\nI have also experienced auditory hallucinations at night or when daydreaming when fatigued. Just some really weird side effects, and increased insomnia. I still find more relief from low dose oxycodone for break through pain but like to limit the number of times a week I have to use it.\\r\\r\\n\\r\\r\\nI find the pain relief to be mild/moderate at best, and with a lot more side effects then the oxycodone, but everyone reacts differently.\\r\\r\\n\\r\\r\\nIf you had any side effects at all when trying Tramadol be cautious, in my experience (with Nucynta) the side effects were the same but more intense.\"',\n",
       "  3.0,\n",
       "  29],\n",
       " ['Talwin',\n",
       "  '\"Scary medicine given for migraine, sent home. Had hallucinations bad. \"',\n",
       "  1.0,\n",
       "  4],\n",
       " ['Pentazocine',\n",
       "  '\"Scary medicine given for migraine, sent home. Had hallucinations bad. \"',\n",
       "  1.0,\n",
       "  4],\n",
       " ['Tapentadol',\n",
       "  '\"Saw pain Doc went over all my test, MRI results and did an exam. Should have known he was a Nucynta ER pusher by all the posters in the office. Started me off at 150 mg x2 a day , and in the beginning it seem to work alone with Dilaudid fir BT pain. Saw the Doc 2 days before surgery and 3 months on Nucynta ER I told him it wasn&#039;t really working for me he said well let&#039;s UP your dose to 200 mg 2x a day. I had surgery no issues. Until I started back on the Nucynta ER. I had  hallucinations, loss of memory and violent rage. I don&#039;t remember the last two days I was taking the medication. I ended up in the ER 3 days after spine surgery cause I went into a fit of rage. Pain Doc was called he said it was the Nucynta and to stop taking it. Bad drug\"',\n",
       "  4.0,\n",
       "  31],\n",
       " ['Tapentadol',\n",
       "  '\"I was prescribed 1-2 of the 75mgs every 4-6 hours as needed for severe shoulder pain, due to rheumatoid arthritis and an undiagnosed muscle disorder (something similar to fibro, but not yet diagnosed officially). I took 1 pill and after about 45 mins, felt no relief, so I took another.  After about another 30-45mins, I started to feel really messed up in my head, fuzzy, dizzy, not too bothersome until I started having heart palpitations, very scary! I went to bed about 2 hours later and had major hallucinations (this has NEVER happened to me on any other drug)  I have taken many pain killers, both narcotic and non-narcotic, so my experience is vast, and I have never encountered side effects like this. Back to Percs.\"',\n",
       "  3.0,\n",
       "  7]]"
      ]
     },
     "execution_count": 418,
     "metadata": {},
     "output_type": "execute_result"
    }
   ],
   "source": [
    "hallucinations.sample(5, random_state = 6789).values.tolist()"
   ]
  },
  {
   "cell_type": "markdown",
   "id": "48bd7d96",
   "metadata": {},
   "source": [
    "##### Suicidal"
   ]
  },
  {
   "cell_type": "code",
   "execution_count": 420,
   "id": "72c2f66d",
   "metadata": {},
   "outputs": [
    {
     "data": {
      "text/html": [
       "<div>\n",
       "<style scoped>\n",
       "    .dataframe tbody tr th:only-of-type {\n",
       "        vertical-align: middle;\n",
       "    }\n",
       "\n",
       "    .dataframe tbody tr th {\n",
       "        vertical-align: top;\n",
       "    }\n",
       "\n",
       "    .dataframe thead th {\n",
       "        text-align: right;\n",
       "    }\n",
       "</style>\n",
       "<table border=\"1\" class=\"dataframe\">\n",
       "  <thead>\n",
       "    <tr style=\"text-align: right;\">\n",
       "      <th></th>\n",
       "      <th>drug</th>\n",
       "      <th>review</th>\n",
       "      <th>rating</th>\n",
       "      <th>usefulcount</th>\n",
       "    </tr>\n",
       "  </thead>\n",
       "  <tbody>\n",
       "    <tr>\n",
       "      <th>34761</th>\n",
       "      <td>Gabapentin</td>\n",
       "      <td>\"Prescribed on Oct 5, threw it away October 25...</td>\n",
       "      <td>1.0</td>\n",
       "      <td>65</td>\n",
       "    </tr>\n",
       "    <tr>\n",
       "      <th>35095</th>\n",
       "      <td>Gabapentin</td>\n",
       "      <td>\"I was given this medicine in hospital to help...</td>\n",
       "      <td>1.0</td>\n",
       "      <td>130</td>\n",
       "    </tr>\n",
       "    <tr>\n",
       "      <th>39300</th>\n",
       "      <td>Elavil</td>\n",
       "      <td>\"I was prescribed this after a severe TBI and ...</td>\n",
       "      <td>1.0</td>\n",
       "      <td>94</td>\n",
       "    </tr>\n",
       "    <tr>\n",
       "      <th>67266</th>\n",
       "      <td>Neurontin</td>\n",
       "      <td>\"I was given this medicine in hospital to help...</td>\n",
       "      <td>1.0</td>\n",
       "      <td>130</td>\n",
       "    </tr>\n",
       "    <tr>\n",
       "      <th>105252</th>\n",
       "      <td>OxyContin</td>\n",
       "      <td>\"Five years ago, I was close to suicidal with ...</td>\n",
       "      <td>3.0</td>\n",
       "      <td>79</td>\n",
       "    </tr>\n",
       "    <tr>\n",
       "      <th>131716</th>\n",
       "      <td>Oxycodone</td>\n",
       "      <td>\"Five years ago, I was close to suicidal with ...</td>\n",
       "      <td>3.0</td>\n",
       "      <td>79</td>\n",
       "    </tr>\n",
       "    <tr>\n",
       "      <th>142181</th>\n",
       "      <td>Acetaminophen / propoxyphene</td>\n",
       "      <td>\"I was taking it for my cramps after having my...</td>\n",
       "      <td>2.0</td>\n",
       "      <td>15</td>\n",
       "    </tr>\n",
       "  </tbody>\n",
       "</table>\n",
       "</div>"
      ],
      "text/plain": [
       "                                drug  \\\n",
       "34761                     Gabapentin   \n",
       "35095                     Gabapentin   \n",
       "39300                         Elavil   \n",
       "67266                      Neurontin   \n",
       "105252                     OxyContin   \n",
       "131716                     Oxycodone   \n",
       "142181  Acetaminophen / propoxyphene   \n",
       "\n",
       "                                                   review  rating  usefulcount  \n",
       "34761   \"Prescribed on Oct 5, threw it away October 25...     1.0           65  \n",
       "35095   \"I was given this medicine in hospital to help...     1.0          130  \n",
       "39300   \"I was prescribed this after a severe TBI and ...     1.0           94  \n",
       "67266   \"I was given this medicine in hospital to help...     1.0          130  \n",
       "105252  \"Five years ago, I was close to suicidal with ...     3.0           79  \n",
       "131716  \"Five years ago, I was close to suicidal with ...     3.0           79  \n",
       "142181  \"I was taking it for my cramps after having my...     2.0           15  "
      ]
     },
     "execution_count": 420,
     "metadata": {},
     "output_type": "execute_result"
    }
   ],
   "source": [
    "suicidal = low[low['review'].str.contains('suicidal')]\n",
    "\n",
    "suicidal"
   ]
  },
  {
   "cell_type": "code",
   "execution_count": 422,
   "id": "8b253c6e",
   "metadata": {},
   "outputs": [
    {
     "data": {
      "text/plain": [
       "(7, 4)"
      ]
     },
     "execution_count": 422,
     "metadata": {},
     "output_type": "execute_result"
    }
   ],
   "source": [
    "suicidal.shape"
   ]
  },
  {
   "cell_type": "markdown",
   "id": "9151f8d5",
   "metadata": {},
   "source": [
    "Ratings and drug names are easily seen here as there are only 7. I will proceed to list the reviews."
   ]
  },
  {
   "cell_type": "code",
   "execution_count": 423,
   "id": "e0f0206b",
   "metadata": {},
   "outputs": [
    {
     "data": {
      "text/plain": [
       "[['Gabapentin',\n",
       "  '\"Prescribed on Oct 5, threw it away October 25.  Experienced wild mood swings, crying, agitated, and an evening of suicidal thoughts when I realized it was the drug.  Was a very bad drug for me.  Would definitely consider these as possible serious side effects when taking this drug.\"',\n",
       "  1.0,\n",
       "  65],\n",
       " ['Gabapentin',\n",
       "  '\"I was given this medicine in hospital to help with pain/nerve damage after a ruptured disc. BEWARE it made me suicidal! I am a normal, healthy person but after a week or so on this, I started sobbing almost all the time and was in total despair. Fortunately, my husband worked out what the stimulus was and I was told to stop taking the medicine immediately. This was recommended as the withdrawal effects would be better than carrying on with it and weaning off. It took a couple of weeks but I could only have close friends around who understood that at any moment, a wave of crying would over take me but wouldn&#039;t last.\"',\n",
       "  1.0,\n",
       "  130],\n",
       " ['Elavil',\n",
       "  '\"I was prescribed this after a severe TBI and broken neck, it was suppose to help my headaches. After about a week it turned me into a rapid cycling bipolar suicidal freak, one second driving singing happy, next second I was trying to swerve in front of a semi.\"',\n",
       "  1.0,\n",
       "  94],\n",
       " ['Neurontin',\n",
       "  '\"I was given this medicine in hospital to help with pain/nerve damage after a ruptured disc. BEWARE it made me suicidal! I am a normal, healthy person but after a week or so on this, I started sobbing almost all the time and was in total despair. Fortunately, my husband worked out what the stimulus was and I was told to stop taking the medicine immediately. This was recommended as the withdrawal effects would be better than carrying on with it and weaning off. It took a couple of weeks but I could only have close friends around who understood that at any moment, a wave of crying would over take me but wouldn&#039;t last.\"',\n",
       "  1.0,\n",
       "  130],\n",
       " ['OxyContin',\n",
       "  '\"Five years ago, I was close to suicidal with pain and found a superb pain management doctor.at the Beth Israel Pain &amp; Palliative Care Unit in NYC. I HIGHLY recommend them. Recently, I began to feel pain again of the acute variety (am always in some chronic pain), Said to my husband, &quot;it is as if this drug is not working at all&quot;. Went today for my regular two month check-up and told my doctor. He nodded and told me that MANY of his patients no longer get relief with Oxycontin as the new formula (meant to keep abusers from crushing it) does not work well in ER form. I had not had to use more than the same dose for 5 years, and was in relative comfort, given my disability, and now I have to try a higher dosage or change medication. \"',\n",
       "  3.0,\n",
       "  79],\n",
       " ['Oxycodone',\n",
       "  '\"Five years ago, I was close to suicidal with pain and found a superb pain management doctor.at the Beth Israel Pain &amp; Palliative Care Unit in NYC. I HIGHLY recommend them. Recently, I began to feel pain again of the acute variety (am always in some chronic pain), Said to my husband, &quot;it is as if this drug is not working at all&quot;. Went today for my regular two month check-up and told my doctor. He nodded and told me that MANY of his patients no longer get relief with Oxycontin as the new formula (meant to keep abusers from crushing it) does not work well in ER form. I had not had to use more than the same dose for 5 years, and was in relative comfort, given my disability, and now I have to try a higher dosage or change medication. \"',\n",
       "  3.0,\n",
       "  79],\n",
       " ['Acetaminophen / propoxyphene',\n",
       "  '\"I was taking it for my cramps after having my second child.  Unfortunately, my doctor didn&#039;t pay attention to me about being prone to depression when he prescribed it.  Not only did I start abusing it just to be able to be numb enough to function, I also became suicidal. I will agree though that it worked great for the pain.\"',\n",
       "  2.0,\n",
       "  15]]"
      ]
     },
     "execution_count": 423,
     "metadata": {},
     "output_type": "execute_result"
    }
   ],
   "source": [
    "suicidal.values.tolist() #displaying all reviews, as there are only 7"
   ]
  },
  {
   "cell_type": "markdown",
   "id": "e2f4f068",
   "metadata": {},
   "source": [
    "##### Constipation"
   ]
  },
  {
   "cell_type": "code",
   "execution_count": 425,
   "id": "d2bcf94f",
   "metadata": {},
   "outputs": [
    {
     "data": {
      "text/html": [
       "<div>\n",
       "<style scoped>\n",
       "    .dataframe tbody tr th:only-of-type {\n",
       "        vertical-align: middle;\n",
       "    }\n",
       "\n",
       "    .dataframe tbody tr th {\n",
       "        vertical-align: top;\n",
       "    }\n",
       "\n",
       "    .dataframe thead th {\n",
       "        text-align: right;\n",
       "    }\n",
       "</style>\n",
       "<table border=\"1\" class=\"dataframe\">\n",
       "  <thead>\n",
       "    <tr style=\"text-align: right;\">\n",
       "      <th></th>\n",
       "      <th>drug</th>\n",
       "      <th>review</th>\n",
       "      <th>rating</th>\n",
       "      <th>usefulcount</th>\n",
       "    </tr>\n",
       "  </thead>\n",
       "  <tbody>\n",
       "    <tr>\n",
       "      <th>12779</th>\n",
       "      <td>Embeda</td>\n",
       "      <td>\"As the last reviewer said I have had increase...</td>\n",
       "      <td>1.0</td>\n",
       "      <td>29</td>\n",
       "    </tr>\n",
       "    <tr>\n",
       "      <th>12780</th>\n",
       "      <td>Embeda</td>\n",
       "      <td>\"I was taking Opana ER 20 and was switched by ...</td>\n",
       "      <td>1.0</td>\n",
       "      <td>36</td>\n",
       "    </tr>\n",
       "    <tr>\n",
       "      <th>16283</th>\n",
       "      <td>Methadone</td>\n",
       "      <td>\"Methadone was wonderful to relieve pain after...</td>\n",
       "      <td>3.0</td>\n",
       "      <td>17</td>\n",
       "    </tr>\n",
       "    <tr>\n",
       "      <th>18759</th>\n",
       "      <td>Ultram</td>\n",
       "      <td>\"I was prescribed this medicine for moderate p...</td>\n",
       "      <td>3.0</td>\n",
       "      <td>26</td>\n",
       "    </tr>\n",
       "    <tr>\n",
       "      <th>23756</th>\n",
       "      <td>Tramadol</td>\n",
       "      <td>\"This is an exceptional drug for pain relief b...</td>\n",
       "      <td>3.0</td>\n",
       "      <td>23</td>\n",
       "    </tr>\n",
       "    <tr>\n",
       "      <th>28372</th>\n",
       "      <td>Acetaminophen / oxycodone</td>\n",
       "      <td>\"My doc prescribed this for after having colit...</td>\n",
       "      <td>1.0</td>\n",
       "      <td>9</td>\n",
       "    </tr>\n",
       "    <tr>\n",
       "      <th>28430</th>\n",
       "      <td>Acetaminophen / oxycodone</td>\n",
       "      <td>\"Prescribed this after impacted wisdom teeth e...</td>\n",
       "      <td>2.0</td>\n",
       "      <td>15</td>\n",
       "    </tr>\n",
       "    <tr>\n",
       "      <th>39796</th>\n",
       "      <td>Oxymorphone</td>\n",
       "      <td>\"I&amp;#039;ve been taking generic Opana (Oxymorph...</td>\n",
       "      <td>2.0</td>\n",
       "      <td>4</td>\n",
       "    </tr>\n",
       "    <tr>\n",
       "      <th>40294</th>\n",
       "      <td>Acetaminophen / hydrocodone</td>\n",
       "      <td>\"Prescribed when I had all 4 wisdom teeth remo...</td>\n",
       "      <td>3.0</td>\n",
       "      <td>4</td>\n",
       "    </tr>\n",
       "    <tr>\n",
       "      <th>48438</th>\n",
       "      <td>Buprenorphine</td>\n",
       "      <td>\"I have been on Butrans patch for about 6 mont...</td>\n",
       "      <td>4.0</td>\n",
       "      <td>97</td>\n",
       "    </tr>\n",
       "    <tr>\n",
       "      <th>49907</th>\n",
       "      <td>Tramadol</td>\n",
       "      <td>\"dry eyes, runny nose, cramps both forearms in...</td>\n",
       "      <td>2.0</td>\n",
       "      <td>7</td>\n",
       "    </tr>\n",
       "    <tr>\n",
       "      <th>50425</th>\n",
       "      <td>Tramadol</td>\n",
       "      <td>\"I was prescribed this medicine for moderate p...</td>\n",
       "      <td>3.0</td>\n",
       "      <td>26</td>\n",
       "    </tr>\n",
       "    <tr>\n",
       "      <th>54597</th>\n",
       "      <td>Tapentadol</td>\n",
       "      <td>\"Was prescribed Nucynta for pain associated wi...</td>\n",
       "      <td>4.0</td>\n",
       "      <td>15</td>\n",
       "    </tr>\n",
       "    <tr>\n",
       "      <th>62933</th>\n",
       "      <td>Vicodin</td>\n",
       "      <td>\"Prescribed when I had all 4 wisdom teeth remo...</td>\n",
       "      <td>3.0</td>\n",
       "      <td>4</td>\n",
       "    </tr>\n",
       "    <tr>\n",
       "      <th>71237</th>\n",
       "      <td>Morphine / naltrexone</td>\n",
       "      <td>\"I was taking Opana ER 20 and was switched by ...</td>\n",
       "      <td>1.0</td>\n",
       "      <td>36</td>\n",
       "    </tr>\n",
       "    <tr>\n",
       "      <th>94518</th>\n",
       "      <td>Percocet</td>\n",
       "      <td>\"My doc prescribed this for after having colit...</td>\n",
       "      <td>1.0</td>\n",
       "      <td>9</td>\n",
       "    </tr>\n",
       "    <tr>\n",
       "      <th>94531</th>\n",
       "      <td>Percocet</td>\n",
       "      <td>\"Prescribed this after impacted wisdom teeth e...</td>\n",
       "      <td>2.0</td>\n",
       "      <td>15</td>\n",
       "    </tr>\n",
       "    <tr>\n",
       "      <th>130510</th>\n",
       "      <td>Aspirin / oxycodone</td>\n",
       "      <td>\"I had a fractured femur from being hit by a c...</td>\n",
       "      <td>1.0</td>\n",
       "      <td>10</td>\n",
       "    </tr>\n",
       "    <tr>\n",
       "      <th>152602</th>\n",
       "      <td>Amitriptyline</td>\n",
       "      <td>\"Horrific.  First thing, 1st pill, was extreme...</td>\n",
       "      <td>1.0</td>\n",
       "      <td>19</td>\n",
       "    </tr>\n",
       "    <tr>\n",
       "      <th>158643</th>\n",
       "      <td>Butrans</td>\n",
       "      <td>\"I have been on Butrans patch for about 6 mont...</td>\n",
       "      <td>4.0</td>\n",
       "      <td>97</td>\n",
       "    </tr>\n",
       "  </tbody>\n",
       "</table>\n",
       "</div>"
      ],
      "text/plain": [
       "                               drug  \\\n",
       "12779                        Embeda   \n",
       "12780                        Embeda   \n",
       "16283                     Methadone   \n",
       "18759                        Ultram   \n",
       "23756                      Tramadol   \n",
       "28372     Acetaminophen / oxycodone   \n",
       "28430     Acetaminophen / oxycodone   \n",
       "39796                   Oxymorphone   \n",
       "40294   Acetaminophen / hydrocodone   \n",
       "48438                 Buprenorphine   \n",
       "49907                      Tramadol   \n",
       "50425                      Tramadol   \n",
       "54597                    Tapentadol   \n",
       "62933                       Vicodin   \n",
       "71237         Morphine / naltrexone   \n",
       "94518                      Percocet   \n",
       "94531                      Percocet   \n",
       "130510          Aspirin / oxycodone   \n",
       "152602                Amitriptyline   \n",
       "158643                      Butrans   \n",
       "\n",
       "                                                   review  rating  usefulcount  \n",
       "12779   \"As the last reviewer said I have had increase...     1.0           29  \n",
       "12780   \"I was taking Opana ER 20 and was switched by ...     1.0           36  \n",
       "16283   \"Methadone was wonderful to relieve pain after...     3.0           17  \n",
       "18759   \"I was prescribed this medicine for moderate p...     3.0           26  \n",
       "23756   \"This is an exceptional drug for pain relief b...     3.0           23  \n",
       "28372   \"My doc prescribed this for after having colit...     1.0            9  \n",
       "28430   \"Prescribed this after impacted wisdom teeth e...     2.0           15  \n",
       "39796   \"I&#039;ve been taking generic Opana (Oxymorph...     2.0            4  \n",
       "40294   \"Prescribed when I had all 4 wisdom teeth remo...     3.0            4  \n",
       "48438   \"I have been on Butrans patch for about 6 mont...     4.0           97  \n",
       "49907   \"dry eyes, runny nose, cramps both forearms in...     2.0            7  \n",
       "50425   \"I was prescribed this medicine for moderate p...     3.0           26  \n",
       "54597   \"Was prescribed Nucynta for pain associated wi...     4.0           15  \n",
       "62933   \"Prescribed when I had all 4 wisdom teeth remo...     3.0            4  \n",
       "71237   \"I was taking Opana ER 20 and was switched by ...     1.0           36  \n",
       "94518   \"My doc prescribed this for after having colit...     1.0            9  \n",
       "94531   \"Prescribed this after impacted wisdom teeth e...     2.0           15  \n",
       "130510  \"I had a fractured femur from being hit by a c...     1.0           10  \n",
       "152602  \"Horrific.  First thing, 1st pill, was extreme...     1.0           19  \n",
       "158643  \"I have been on Butrans patch for about 6 mont...     4.0           97  "
      ]
     },
     "execution_count": 425,
     "metadata": {},
     "output_type": "execute_result"
    }
   ],
   "source": [
    "constipation = low[low['review'].str.contains('constipation')]\n",
    "\n",
    "constipation"
   ]
  },
  {
   "cell_type": "code",
   "execution_count": 426,
   "id": "d8c2b909",
   "metadata": {},
   "outputs": [
    {
     "data": {
      "text/plain": [
       "(20, 4)"
      ]
     },
     "execution_count": 426,
     "metadata": {},
     "output_type": "execute_result"
    }
   ],
   "source": [
    "constipation.shape"
   ]
  },
  {
   "cell_type": "code",
   "execution_count": 427,
   "id": "6190fcb0",
   "metadata": {},
   "outputs": [
    {
     "data": {
      "image/png": "[encoded data removed]",
      "text/plain": [
       "<Figure size 640x480 with 1 Axes>"
      ]
     },
     "metadata": {},
     "output_type": "display_data"
    }
   ],
   "source": [
    "sns.histplot(data= constipation, x='rating');"
   ]
  },
  {
   "cell_type": "code",
   "execution_count": 428,
   "id": "88c6b681",
   "metadata": {},
   "outputs": [
    {
     "data": {
      "text/plain": [
       "Tramadol                       0.15\n",
       "Embeda                         0.10\n",
       "Acetaminophen / oxycodone      0.10\n",
       "Percocet                       0.10\n",
       "Methadone                      0.05\n",
       "Ultram                         0.05\n",
       "Oxymorphone                    0.05\n",
       "Acetaminophen / hydrocodone    0.05\n",
       "Buprenorphine                  0.05\n",
       "Tapentadol                     0.05\n",
       "Vicodin                        0.05\n",
       "Morphine / naltrexone          0.05\n",
       "Aspirin / oxycodone            0.05\n",
       "Amitriptyline                  0.05\n",
       "Butrans                        0.05\n",
       "Name: drug, dtype: float64"
      ]
     },
     "execution_count": 428,
     "metadata": {},
     "output_type": "execute_result"
    }
   ],
   "source": [
    "constipation.drug.value_counts(normalize = True)"
   ]
  },
  {
   "cell_type": "code",
   "execution_count": 430,
   "id": "0c77c1ff",
   "metadata": {},
   "outputs": [
    {
     "data": {
      "text/plain": [
       "[['Amitriptyline',\n",
       "  '\"Horrific.  First thing, 1st pill, was extremely dry mouth with a dry cough that last a couple of hours.  2 day same  but now accompanied with an internally anxiety accompanied by insomnia.  Within a week, felt like every adverse reaction mention in pamphlet and online was applicable plus some not mentioned (dry mouth, blurred vision, centralized stomach pain/gut, constipation and blurred double vision... OH! not to mention the vivid racing dreams anytime I could fall asleep.)  When I mentioned to Dr., his feeling was for me to continue meds.  Issues would work themselves out within a couple weeks more.  &quot;Ok doc. I&#039;ll give it a couple of weeks more of this torture these pills have put me in.&quot;  Went home and tossed them in garbage.\"',\n",
       "  1.0,\n",
       "  19],\n",
       " ['Ultram',\n",
       "  '\"I was prescribed this medicine for moderate pain after surgery. My incisions bothered me, and I took 4 pills a day for the first 3 days, then usually 2 a day. However, the side effects: nausea, palpitations, dizziness, drowsiness AND sleeplessness, constipation and mental vagueness were really too unpleasant to be rid of minor pain, so after a week I stopped taking it. It is annoying that after stopping it, I suffered nausea, palpitations, and weakness/drowsiness after large meals--possibly due to withdrawal.\"',\n",
       "  3.0,\n",
       "  26],\n",
       " ['Acetaminophen / hydrocodone',\n",
       "  '\"Prescribed when I had all 4 wisdom teeth removed. This worked well on the first day at taking the pain away, but I was unable to sleep. After about the third dose severe nausea kicked in, as well as constipation and insomnia. \"',\n",
       "  3.0,\n",
       "  4],\n",
       " ['Tramadol',\n",
       "  '\"dry eyes, runny nose, cramps both forearms into hands neck cramps rt arm going numb on and off constipation &quot; loopy&quot; thoughts slow reaction\"',\n",
       "  2.0,\n",
       "  7],\n",
       " ['Tramadol',\n",
       "  '\"I was prescribed this medicine for moderate pain after surgery. My incisions bothered me, and I took 4 pills a day for the first 3 days, then usually 2 a day. However, the side effects: nausea, palpitations, dizziness, drowsiness AND sleeplessness, constipation and mental vagueness were really too unpleasant to be rid of minor pain, so after a week I stopped taking it. It is annoying that after stopping it, I suffered nausea, palpitations, and weakness/drowsiness after large meals--possibly due to withdrawal.\"',\n",
       "  3.0,\n",
       "  26]]"
      ]
     },
     "execution_count": 430,
     "metadata": {},
     "output_type": "execute_result"
    }
   ],
   "source": [
    "constipation.sample(5, random_state = 6789).values.tolist()"
   ]
  },
  {
   "cell_type": "markdown",
   "id": "1e7e4243",
   "metadata": {},
   "source": [
    "##### Sleep"
   ]
  },
  {
   "cell_type": "code",
   "execution_count": 431,
   "id": "221e4e88",
   "metadata": {},
   "outputs": [
    {
     "data": {
      "text/html": [
       "<div>\n",
       "<style scoped>\n",
       "    .dataframe tbody tr th:only-of-type {\n",
       "        vertical-align: middle;\n",
       "    }\n",
       "\n",
       "    .dataframe tbody tr th {\n",
       "        vertical-align: top;\n",
       "    }\n",
       "\n",
       "    .dataframe thead th {\n",
       "        text-align: right;\n",
       "    }\n",
       "</style>\n",
       "<table border=\"1\" class=\"dataframe\">\n",
       "  <thead>\n",
       "    <tr style=\"text-align: right;\">\n",
       "      <th></th>\n",
       "      <th>drug</th>\n",
       "      <th>review</th>\n",
       "      <th>rating</th>\n",
       "      <th>usefulcount</th>\n",
       "    </tr>\n",
       "  </thead>\n",
       "  <tbody>\n",
       "    <tr>\n",
       "      <th>1944</th>\n",
       "      <td>Belbuca</td>\n",
       "      <td>\"I was on Fentynal  patches for year and a hal...</td>\n",
       "      <td>1.0</td>\n",
       "      <td>14</td>\n",
       "    </tr>\n",
       "    <tr>\n",
       "      <th>12790</th>\n",
       "      <td>Voltaren</td>\n",
       "      <td>\"Was given voltaren-XR for knee pain.  I am st...</td>\n",
       "      <td>1.0</td>\n",
       "      <td>24</td>\n",
       "    </tr>\n",
       "    <tr>\n",
       "      <th>13818</th>\n",
       "      <td>Pregabalin</td>\n",
       "      <td>\"I really didn&amp;#039;t notice much difference a...</td>\n",
       "      <td>3.0</td>\n",
       "      <td>14</td>\n",
       "    </tr>\n",
       "    <tr>\n",
       "      <th>14321</th>\n",
       "      <td>Nucynta</td>\n",
       "      <td>\"For fibromyalgia - This drug did absolutely n...</td>\n",
       "      <td>1.0</td>\n",
       "      <td>40</td>\n",
       "    </tr>\n",
       "    <tr>\n",
       "      <th>14323</th>\n",
       "      <td>Nucynta</td>\n",
       "      <td>\"I took 150 mg x 2 daily of nucynta for full b...</td>\n",
       "      <td>1.0</td>\n",
       "      <td>27</td>\n",
       "    </tr>\n",
       "    <tr>\n",
       "      <th>...</th>\n",
       "      <td>...</td>\n",
       "      <td>...</td>\n",
       "      <td>...</td>\n",
       "      <td>...</td>\n",
       "    </tr>\n",
       "    <tr>\n",
       "      <th>152750</th>\n",
       "      <td>Amitriptyline</td>\n",
       "      <td>\"I am currently 16 years old, and have chronic...</td>\n",
       "      <td>3.0</td>\n",
       "      <td>41</td>\n",
       "    </tr>\n",
       "    <tr>\n",
       "      <th>153144</th>\n",
       "      <td>Amitriptyline</td>\n",
       "      <td>\"I have been on a 75mg of Elavil for over a ye...</td>\n",
       "      <td>4.0</td>\n",
       "      <td>98</td>\n",
       "    </tr>\n",
       "    <tr>\n",
       "      <th>153157</th>\n",
       "      <td>Amitriptyline</td>\n",
       "      <td>\"I have tried Cymbalta, tramadol, gabapentin, ...</td>\n",
       "      <td>4.0</td>\n",
       "      <td>54</td>\n",
       "    </tr>\n",
       "    <tr>\n",
       "      <th>153159</th>\n",
       "      <td>Amitriptyline</td>\n",
       "      <td>\"This medication caused me to have very horrib...</td>\n",
       "      <td>1.0</td>\n",
       "      <td>43</td>\n",
       "    </tr>\n",
       "    <tr>\n",
       "      <th>160518</th>\n",
       "      <td>Zohydro ER</td>\n",
       "      <td>\"I hate this drug. It will not allow me to sle...</td>\n",
       "      <td>3.0</td>\n",
       "      <td>32</td>\n",
       "    </tr>\n",
       "  </tbody>\n",
       "</table>\n",
       "<p>144 rows × 4 columns</p>\n",
       "</div>"
      ],
      "text/plain": [
       "                 drug                                             review  \\\n",
       "1944          Belbuca  \"I was on Fentynal  patches for year and a hal...   \n",
       "12790        Voltaren  \"Was given voltaren-XR for knee pain.  I am st...   \n",
       "13818      Pregabalin  \"I really didn&#039;t notice much difference a...   \n",
       "14321         Nucynta  \"For fibromyalgia - This drug did absolutely n...   \n",
       "14323         Nucynta  \"I took 150 mg x 2 daily of nucynta for full b...   \n",
       "...               ...                                                ...   \n",
       "152750  Amitriptyline  \"I am currently 16 years old, and have chronic...   \n",
       "153144  Amitriptyline  \"I have been on a 75mg of Elavil for over a ye...   \n",
       "153157  Amitriptyline  \"I have tried Cymbalta, tramadol, gabapentin, ...   \n",
       "153159  Amitriptyline  \"This medication caused me to have very horrib...   \n",
       "160518     Zohydro ER  \"I hate this drug. It will not allow me to sle...   \n",
       "\n",
       "        rating  usefulcount  \n",
       "1944       1.0           14  \n",
       "12790      1.0           24  \n",
       "13818      3.0           14  \n",
       "14321      1.0           40  \n",
       "14323      1.0           27  \n",
       "...        ...          ...  \n",
       "152750     3.0           41  \n",
       "153144     4.0           98  \n",
       "153157     4.0           54  \n",
       "153159     1.0           43  \n",
       "160518     3.0           32  \n",
       "\n",
       "[144 rows x 4 columns]"
      ]
     },
     "execution_count": 431,
     "metadata": {},
     "output_type": "execute_result"
    }
   ],
   "source": [
    "sleep = low[low['review'].str.contains('sleep')]\n",
    "\n",
    "sleep"
   ]
  },
  {
   "cell_type": "markdown",
   "id": "0ffb1dd5",
   "metadata": {},
   "source": [
    "There are 144 reviews containing the word \"sleep\", with ratings of less than 5."
   ]
  },
  {
   "cell_type": "code",
   "execution_count": 433,
   "id": "94a6987d",
   "metadata": {},
   "outputs": [
    {
     "data": {
      "text/plain": [
       "1.9513888888888888"
      ]
     },
     "execution_count": 433,
     "metadata": {},
     "output_type": "execute_result"
    }
   ],
   "source": [
    "sleep.rating.mean()"
   ]
  },
  {
   "cell_type": "code",
   "execution_count": 435,
   "id": "6b7bcf6e",
   "metadata": {},
   "outputs": [
    {
     "data": {
      "image/png": "[encoded data removed]",
      "text/plain": [
       "<Figure size 640x480 with 1 Axes>"
      ]
     },
     "metadata": {},
     "output_type": "display_data"
    }
   ],
   "source": [
    "sns.histplot(data = sleep, x='rating');"
   ]
  },
  {
   "cell_type": "code",
   "execution_count": 437,
   "id": "1e244145",
   "metadata": {},
   "outputs": [
    {
     "data": {
      "text/plain": [
       "Tramadol                        0.131944\n",
       "Tapentadol                      0.076389\n",
       "Gabapentin                      0.076389\n",
       "Acetaminophen / codeine         0.062500\n",
       "Nortriptyline                   0.062500\n",
       "Amitriptyline                   0.055556\n",
       "Nucynta                         0.048611\n",
       "Tylenol with Codeine #3         0.041667\n",
       "Hydrocodone                     0.041667\n",
       "Ultram                          0.034722\n",
       "Acetaminophen / hydrocodone     0.027778\n",
       "Dilaudid                        0.020833\n",
       "Hysingla ER                     0.020833\n",
       "Hydromorphone                   0.020833\n",
       "Hydroxyzine                     0.013889\n",
       "Vicodin                         0.013889\n",
       "Duloxetine                      0.013889\n",
       "Oxymorphone                     0.013889\n",
       "Neurontin                       0.013889\n",
       "Buprenorphine                   0.013889\n",
       "Acetaminophen / oxycodone       0.013889\n",
       "Vicoprofen                      0.013889\n",
       "Diclofenac                      0.006944\n",
       "Etodolac                        0.006944\n",
       "Lortab                          0.006944\n",
       "Belbuca                         0.006944\n",
       "Cymbalta                        0.006944\n",
       "Nucynta ER                      0.006944\n",
       "Hydrocodone / ibuprofen         0.006944\n",
       "Acetaminophen / propoxyphene    0.006944\n",
       "Percocet                        0.006944\n",
       "MS Contin                       0.006944\n",
       "Ketorolac                       0.006944\n",
       "Endocet                         0.006944\n",
       "Acetaminophen                   0.006944\n",
       "Kadian                          0.006944\n",
       "Diphenhydramine / naproxen      0.006944\n",
       "Voltaren                        0.006944\n",
       "Lyrica                          0.006944\n",
       "Norco                           0.006944\n",
       "Vistaril                        0.006944\n",
       "Elavil                          0.006944\n",
       "Ultram ER                       0.006944\n",
       "Methadone                       0.006944\n",
       "Pregabalin                      0.006944\n",
       "Zohydro ER                      0.006944\n",
       "Name: drug, dtype: float64"
      ]
     },
     "execution_count": 437,
     "metadata": {},
     "output_type": "execute_result"
    }
   ],
   "source": [
    "sleep.drug.value_counts(normalize = True)"
   ]
  },
  {
   "cell_type": "code",
   "execution_count": 439,
   "id": "bad5a3d7",
   "metadata": {},
   "outputs": [
    {
     "data": {
      "text/plain": [
       "[['Hydrocodone',\n",
       "  '\"24 hr medicine for pain, I only got 6 hours of minimal relief.  Started on the 20 mg for 1 month, then Dr switched me to 40 mg for 1 months, then 30 mg for 1 month.  It always seemed to start working long after I took it, about 12 hrs and made me extremely sleepy and tired, along with pain.  In the 3 months I took it, I gained 15 pounds without even eating more or differently because I was constantly nauseous with it.  Who wants food when queasy?  I have been prescribed and instant release pain med and have been on 2 days.  It works great with no side effects and I have lost the 7 lbs of the 15 the hysinglia  made me gain.  Hopefully the other 8 lbs will come off quickly too because the weight gain from the drug caused my A1C to go\"',\n",
       "  1.0,\n",
       "  27],\n",
       " ['Ultram ER',\n",
       "  '\"My doctor prescribed ULTRAM ER 200 for lower back pain and sciatica.  I was taking 1 tablet twice a day.  For 2 or 3 days it seemed to work great.  Then I started having side effects.  I had mild dizziness and a slight upset stomach.  I took Ultram ER for a total of 9 days.  The dizziness became severe, I was lethargic but not able to sleep for more than 2 or 3 hours a night, and the nausea had increased.  I stopped taking ultram ER and it took 12 days for the side effects to subside.  The doctor said I had an allergic reaction to this medication.\"',\n",
       "  1.0,\n",
       "  27],\n",
       " ['Gabapentin',\n",
       "  '\"Just started gabapentin today, still have leg pain but I guess I need to give it a chance. A few hours after taking I had zero energy and felt kinda like a limp spaghetti noodle. Sort of a blah feeling but I will try another tomorrow. Think I will take it a little later , maybe I can sleep through the blah stage.\"',\n",
       "  3.0,\n",
       "  37],\n",
       " ['Gabapentin',\n",
       "  '\"Have sacroilliac joint pain is so unbearable at times have been taking for five days now and only in evening helpful to sleep for awhile but no pain relief\"',\n",
       "  4.0,\n",
       "  47],\n",
       " ['Duloxetine',\n",
       "  '\"I tried Cymbalta for chronic calf pain due to small fiber neuropathy. I did not experience brain zaps, night terrors or headaches but it did make me sleep a lot while i acclimated. I got up to 120mg/day but did not get any pain relief; still, it seemed to help with my attitude so i kept it at 60mg for a while. Ultimately I ended up getting better results from Pamelor.\"',\n",
       "  4.0,\n",
       "  20]]"
      ]
     },
     "execution_count": 439,
     "metadata": {},
     "output_type": "execute_result"
    }
   ],
   "source": [
    "sleep.sample(5, random_state = 6789).values.tolist()"
   ]
  },
  {
   "cell_type": "markdown",
   "id": "e3a69ac1",
   "metadata": {},
   "source": [
    "##### Breathing"
   ]
  },
  {
   "cell_type": "code",
   "execution_count": 441,
   "id": "d280697e",
   "metadata": {},
   "outputs": [
    {
     "data": {
      "text/html": [
       "<div>\n",
       "<style scoped>\n",
       "    .dataframe tbody tr th:only-of-type {\n",
       "        vertical-align: middle;\n",
       "    }\n",
       "\n",
       "    .dataframe tbody tr th {\n",
       "        vertical-align: top;\n",
       "    }\n",
       "\n",
       "    .dataframe thead th {\n",
       "        text-align: right;\n",
       "    }\n",
       "</style>\n",
       "<table border=\"1\" class=\"dataframe\">\n",
       "  <thead>\n",
       "    <tr style=\"text-align: right;\">\n",
       "      <th></th>\n",
       "      <th>drug</th>\n",
       "      <th>review</th>\n",
       "      <th>rating</th>\n",
       "      <th>usefulcount</th>\n",
       "    </tr>\n",
       "  </thead>\n",
       "  <tbody>\n",
       "    <tr>\n",
       "      <th>14379</th>\n",
       "      <td>Nucynta</td>\n",
       "      <td>\"Takes a while to feel any relief.  I have exp...</td>\n",
       "      <td>3.0</td>\n",
       "      <td>27</td>\n",
       "    </tr>\n",
       "    <tr>\n",
       "      <th>14405</th>\n",
       "      <td>Nucynta</td>\n",
       "      <td>\"I was prescribed Nucynta for severe neck/shou...</td>\n",
       "      <td>1.0</td>\n",
       "      <td>20</td>\n",
       "    </tr>\n",
       "    <tr>\n",
       "      <th>25454</th>\n",
       "      <td>Fentanyl</td>\n",
       "      <td>\"At first patch helped with pain. Side effects...</td>\n",
       "      <td>1.0</td>\n",
       "      <td>10</td>\n",
       "    </tr>\n",
       "    <tr>\n",
       "      <th>28496</th>\n",
       "      <td>Acetaminophen / oxycodone</td>\n",
       "      <td>\"I&amp;#039;ve been taking Endocet 10 mg for almos...</td>\n",
       "      <td>3.0</td>\n",
       "      <td>14</td>\n",
       "    </tr>\n",
       "    <tr>\n",
       "      <th>29777</th>\n",
       "      <td>Talwin Nx</td>\n",
       "      <td>\"Hydrocodone wasn&amp;#039;t providing relief thro...</td>\n",
       "      <td>2.0</td>\n",
       "      <td>19</td>\n",
       "    </tr>\n",
       "  </tbody>\n",
       "</table>\n",
       "</div>"
      ],
      "text/plain": [
       "                            drug  \\\n",
       "14379                    Nucynta   \n",
       "14405                    Nucynta   \n",
       "25454                   Fentanyl   \n",
       "28496  Acetaminophen / oxycodone   \n",
       "29777                  Talwin Nx   \n",
       "\n",
       "                                                  review  rating  usefulcount  \n",
       "14379  \"Takes a while to feel any relief.  I have exp...     3.0           27  \n",
       "14405  \"I was prescribed Nucynta for severe neck/shou...     1.0           20  \n",
       "25454  \"At first patch helped with pain. Side effects...     1.0           10  \n",
       "28496  \"I&#039;ve been taking Endocet 10 mg for almos...     3.0           14  \n",
       "29777  \"Hydrocodone wasn&#039;t providing relief thro...     2.0           19  "
      ]
     },
     "execution_count": 441,
     "metadata": {},
     "output_type": "execute_result"
    }
   ],
   "source": [
    "breath = low[low['review'].str.contains('breath')]\n",
    "\n",
    "breath.head()"
   ]
  },
  {
   "cell_type": "code",
   "execution_count": 442,
   "id": "7d4ad07d",
   "metadata": {},
   "outputs": [
    {
     "data": {
      "text/plain": [
       "(27, 4)"
      ]
     },
     "execution_count": 442,
     "metadata": {},
     "output_type": "execute_result"
    }
   ],
   "source": [
    "breath.shape"
   ]
  },
  {
   "cell_type": "code",
   "execution_count": 444,
   "id": "995143ce",
   "metadata": {},
   "outputs": [
    {
     "data": {
      "text/plain": [
       "1.962962962962963"
      ]
     },
     "execution_count": 444,
     "metadata": {},
     "output_type": "execute_result"
    }
   ],
   "source": [
    "breath.rating.mean()"
   ]
  },
  {
   "cell_type": "code",
   "execution_count": 443,
   "id": "da699993",
   "metadata": {},
   "outputs": [
    {
     "data": {
      "image/png": "[encoded data removed]",
      "text/plain": [
       "<Figure size 640x480 with 1 Axes>"
      ]
     },
     "metadata": {},
     "output_type": "display_data"
    }
   ],
   "source": [
    "sns.histplot(data = breath, x='rating');"
   ]
  },
  {
   "cell_type": "code",
   "execution_count": 445,
   "id": "fda4c228",
   "metadata": {},
   "outputs": [
    {
     "data": {
      "text/plain": [
       "Hydromorphone                  0.148148\n",
       "Dilaudid                       0.111111\n",
       "Nucynta                        0.074074\n",
       "Acetaminophen / codeine        0.074074\n",
       "Hysingla ER                    0.037037\n",
       "Naloxone / pentazocine         0.037037\n",
       "Hydrocodone                    0.037037\n",
       "Cymbalta                       0.037037\n",
       "Lidoderm                       0.037037\n",
       "Endocet                        0.037037\n",
       "Morphine                       0.037037\n",
       "Tramadol                       0.037037\n",
       "Fentanyl                       0.037037\n",
       "Duramorph                      0.037037\n",
       "Acetaminophen / hydrocodone    0.037037\n",
       "Tylenol with Codeine #3        0.037037\n",
       "Tapentadol                     0.037037\n",
       "Talwin Nx                      0.037037\n",
       "Acetaminophen / oxycodone      0.037037\n",
       "Opana ER                       0.037037\n",
       "Name: drug, dtype: float64"
      ]
     },
     "execution_count": 445,
     "metadata": {},
     "output_type": "execute_result"
    }
   ],
   "source": [
    "breath.drug.value_counts(normalize= True)"
   ]
  },
  {
   "cell_type": "code",
   "execution_count": 447,
   "id": "c09c6a21",
   "metadata": {},
   "outputs": [
    {
     "data": {
      "text/plain": [
       "[['Tapentadol',\n",
       "  '\"Takes a while to feel any relief.  I have experienced dizziness, shallow breathing, hypotention.\"',\n",
       "  3.0,\n",
       "  27],\n",
       " ['Hydrocodone',\n",
       "  '\"I took 10mg, 3x day hydrocodone for a year prior to a new pain doc in a new state requiring I switch to Hysingla ER. I had only had one 10mg hydrocodone for each of the two days prior to beginning the Hysingla so this was not withdrawals. An hour after the 20mg pill, my heart was pounding hard, short of breath, which progressed to severe abdominal pain, nausea, the worst pain of my life (easily 2-3x my very worst days with stage 3 adhesive arachnoiditis, Ehlers-Danlos, and innumerable tarlov cysts on my spinal cord), joint pain, muscle pain and spasms, and I could literally feel my CSF pulsing in my spinal cord. The doc actually made me take a second dose because she thought I was in withdrawal. I vomited the 2nd one and nearly aspirated it\"',\n",
       "  1.0,\n",
       "  0],\n",
       " ['Lidoderm',\n",
       "  '\"The Mylan lidocaine patches are a waste of money!  They don&#039;t stay on your skin for more 2-3 hours. The problems with patches is the patch is not breathable and the adhesive does not move with your body.\"',\n",
       "  2.0,\n",
       "  19],\n",
       " ['Hysingla ER',\n",
       "  '\"This drug didn&#039;t work as well as short-acting hydrocodone in lower doses. I had to take up to 20 mg of Tramadol per day for breakthrough pain on top of the 30 mg of Hysingla. It put me to sleep, made me unable to think clearly or efficiently, and didn&#039;t allow me to organize my day or complete my tasks as well as I previously had. I had to take it around 6 PM to avoid breathing issues when I laid down and as a result, by the time I got up in the morning I no longer received any pain relief from it - there is no way it works for 24 hours. I&#039;m now in the process of returning to Norco and while still taking hydrocodone am experiencing withdrawal symptoms from getting off the Hysingla. It is far more dangerous and addictive than it is promoted.\"',\n",
       "  1.0,\n",
       "  33],\n",
       " ['Hydromorphone',\n",
       "  '\"Broke my arm and was given the drug. Caused respiratory distress. Was told to never take it again. I woke up and the medical staff was slapping me on the chest and screaming for me to breathe!\"',\n",
       "  2.0,\n",
       "  21]]"
      ]
     },
     "execution_count": 447,
     "metadata": {},
     "output_type": "execute_result"
    }
   ],
   "source": [
    "breath.sample(5, random_state = 6789).values.tolist()"
   ]
  },
  {
   "cell_type": "markdown",
   "id": "4f823367",
   "metadata": {},
   "source": [
    "##### Drowsiness"
   ]
  },
  {
   "cell_type": "code",
   "execution_count": 460,
   "id": "bff30cbe",
   "metadata": {},
   "outputs": [
    {
     "data": {
      "text/html": [
       "<div>\n",
       "<style scoped>\n",
       "    .dataframe tbody tr th:only-of-type {\n",
       "        vertical-align: middle;\n",
       "    }\n",
       "\n",
       "    .dataframe tbody tr th {\n",
       "        vertical-align: top;\n",
       "    }\n",
       "\n",
       "    .dataframe thead th {\n",
       "        text-align: right;\n",
       "    }\n",
       "</style>\n",
       "<table border=\"1\" class=\"dataframe\">\n",
       "  <thead>\n",
       "    <tr style=\"text-align: right;\">\n",
       "      <th></th>\n",
       "      <th>drug</th>\n",
       "      <th>review</th>\n",
       "      <th>rating</th>\n",
       "      <th>usefulcount</th>\n",
       "    </tr>\n",
       "  </thead>\n",
       "  <tbody>\n",
       "    <tr>\n",
       "      <th>18759</th>\n",
       "      <td>Ultram</td>\n",
       "      <td>\"I was prescribed this medicine for moderate p...</td>\n",
       "      <td>3.0</td>\n",
       "      <td>26</td>\n",
       "    </tr>\n",
       "    <tr>\n",
       "      <th>30349</th>\n",
       "      <td>Acetaminophen / codeine</td>\n",
       "      <td>\"Had a secondary molar extracted and was presc...</td>\n",
       "      <td>1.0</td>\n",
       "      <td>20</td>\n",
       "    </tr>\n",
       "    <tr>\n",
       "      <th>30353</th>\n",
       "      <td>Acetaminophen / codeine</td>\n",
       "      <td>\"Firstly it took me a while to fall asleep eve...</td>\n",
       "      <td>3.0</td>\n",
       "      <td>17</td>\n",
       "    </tr>\n",
       "    <tr>\n",
       "      <th>30393</th>\n",
       "      <td>Acetaminophen / codeine</td>\n",
       "      <td>\"I have needed to get my four wisdom teeth pul...</td>\n",
       "      <td>1.0</td>\n",
       "      <td>20</td>\n",
       "    </tr>\n",
       "    <tr>\n",
       "      <th>30411</th>\n",
       "      <td>Acetaminophen / codeine</td>\n",
       "      <td>\"I have had all 4 of my wisdom teeth removed 2...</td>\n",
       "      <td>1.0</td>\n",
       "      <td>20</td>\n",
       "    </tr>\n",
       "    <tr>\n",
       "      <th>34999</th>\n",
       "      <td>Gabapentin</td>\n",
       "      <td>\"I&amp;#039;ve had 5 surgeries on lower back which...</td>\n",
       "      <td>3.0</td>\n",
       "      <td>85</td>\n",
       "    </tr>\n",
       "    <tr>\n",
       "      <th>37315</th>\n",
       "      <td>Tylenol with Codeine #3</td>\n",
       "      <td>\"I have had all 4 of my wisdom teeth removed 2...</td>\n",
       "      <td>1.0</td>\n",
       "      <td>20</td>\n",
       "    </tr>\n",
       "    <tr>\n",
       "      <th>37373</th>\n",
       "      <td>Tylenol with Codeine #3</td>\n",
       "      <td>\"Had a secondary molar extracted and was presc...</td>\n",
       "      <td>1.0</td>\n",
       "      <td>20</td>\n",
       "    </tr>\n",
       "    <tr>\n",
       "      <th>37376</th>\n",
       "      <td>Tylenol with Codeine #3</td>\n",
       "      <td>\"Firstly it took me a while to fall asleep eve...</td>\n",
       "      <td>3.0</td>\n",
       "      <td>17</td>\n",
       "    </tr>\n",
       "    <tr>\n",
       "      <th>39990</th>\n",
       "      <td>Acetaminophen / hydrocodone</td>\n",
       "      <td>\"Doesn&amp;#039;t do anything.  No nausea, drowsin...</td>\n",
       "      <td>1.0</td>\n",
       "      <td>14</td>\n",
       "    </tr>\n",
       "    <tr>\n",
       "      <th>40030</th>\n",
       "      <td>Acetaminophen / hydrocodone</td>\n",
       "      <td>\"This medication did not help my pain post sur...</td>\n",
       "      <td>2.0</td>\n",
       "      <td>37</td>\n",
       "    </tr>\n",
       "    <tr>\n",
       "      <th>50425</th>\n",
       "      <td>Tramadol</td>\n",
       "      <td>\"I was prescribed this medicine for moderate p...</td>\n",
       "      <td>3.0</td>\n",
       "      <td>26</td>\n",
       "    </tr>\n",
       "    <tr>\n",
       "      <th>63315</th>\n",
       "      <td>Norco</td>\n",
       "      <td>\"Doesn&amp;#039;t do anything.  No nausea, drowsin...</td>\n",
       "      <td>1.0</td>\n",
       "      <td>14</td>\n",
       "    </tr>\n",
       "    <tr>\n",
       "      <th>63316</th>\n",
       "      <td>Norco</td>\n",
       "      <td>\"I was prescribed Norco 5/325 to manage post-o...</td>\n",
       "      <td>1.0</td>\n",
       "      <td>25</td>\n",
       "    </tr>\n",
       "    <tr>\n",
       "      <th>63367</th>\n",
       "      <td>Norco</td>\n",
       "      <td>\"This medication did not help my pain post sur...</td>\n",
       "      <td>2.0</td>\n",
       "      <td>37</td>\n",
       "    </tr>\n",
       "    <tr>\n",
       "      <th>67276</th>\n",
       "      <td>Neurontin</td>\n",
       "      <td>\"I have been put on this twice in the last cou...</td>\n",
       "      <td>1.0</td>\n",
       "      <td>20</td>\n",
       "    </tr>\n",
       "    <tr>\n",
       "      <th>68013</th>\n",
       "      <td>Voltaren Gel</td>\n",
       "      <td>\"The gel helps with the pain but my stomach wa...</td>\n",
       "      <td>3.0</td>\n",
       "      <td>26</td>\n",
       "    </tr>\n",
       "    <tr>\n",
       "      <th>93630</th>\n",
       "      <td>Ketorolac</td>\n",
       "      <td>\"Well I have a bad toothache and dentist gave ...</td>\n",
       "      <td>1.0</td>\n",
       "      <td>0</td>\n",
       "    </tr>\n",
       "    <tr>\n",
       "      <th>107529</th>\n",
       "      <td>Zorvolex</td>\n",
       "      <td>\"I have been dealing with extreme pain in my h...</td>\n",
       "      <td>1.0</td>\n",
       "      <td>8</td>\n",
       "    </tr>\n",
       "    <tr>\n",
       "      <th>114366</th>\n",
       "      <td>Diclofenac</td>\n",
       "      <td>\"I have been dealing with extreme pain in my h...</td>\n",
       "      <td>1.0</td>\n",
       "      <td>8</td>\n",
       "    </tr>\n",
       "    <tr>\n",
       "      <th>125524</th>\n",
       "      <td>Diclofenac</td>\n",
       "      <td>\"The gel helps with the pain but my stomach wa...</td>\n",
       "      <td>3.0</td>\n",
       "      <td>26</td>\n",
       "    </tr>\n",
       "    <tr>\n",
       "      <th>152750</th>\n",
       "      <td>Amitriptyline</td>\n",
       "      <td>\"I am currently 16 years old, and have chronic...</td>\n",
       "      <td>3.0</td>\n",
       "      <td>41</td>\n",
       "    </tr>\n",
       "  </tbody>\n",
       "</table>\n",
       "</div>"
      ],
      "text/plain": [
       "                               drug  \\\n",
       "18759                        Ultram   \n",
       "30349       Acetaminophen / codeine   \n",
       "30353       Acetaminophen / codeine   \n",
       "30393       Acetaminophen / codeine   \n",
       "30411       Acetaminophen / codeine   \n",
       "34999                    Gabapentin   \n",
       "37315       Tylenol with Codeine #3   \n",
       "37373       Tylenol with Codeine #3   \n",
       "37376       Tylenol with Codeine #3   \n",
       "39990   Acetaminophen / hydrocodone   \n",
       "40030   Acetaminophen / hydrocodone   \n",
       "50425                      Tramadol   \n",
       "63315                         Norco   \n",
       "63316                         Norco   \n",
       "63367                         Norco   \n",
       "67276                     Neurontin   \n",
       "68013                  Voltaren Gel   \n",
       "93630                     Ketorolac   \n",
       "107529                     Zorvolex   \n",
       "114366                   Diclofenac   \n",
       "125524                   Diclofenac   \n",
       "152750                Amitriptyline   \n",
       "\n",
       "                                                   review  rating  usefulcount  \n",
       "18759   \"I was prescribed this medicine for moderate p...     3.0           26  \n",
       "30349   \"Had a secondary molar extracted and was presc...     1.0           20  \n",
       "30353   \"Firstly it took me a while to fall asleep eve...     3.0           17  \n",
       "30393   \"I have needed to get my four wisdom teeth pul...     1.0           20  \n",
       "30411   \"I have had all 4 of my wisdom teeth removed 2...     1.0           20  \n",
       "34999   \"I&#039;ve had 5 surgeries on lower back which...     3.0           85  \n",
       "37315   \"I have had all 4 of my wisdom teeth removed 2...     1.0           20  \n",
       "37373   \"Had a secondary molar extracted and was presc...     1.0           20  \n",
       "37376   \"Firstly it took me a while to fall asleep eve...     3.0           17  \n",
       "39990   \"Doesn&#039;t do anything.  No nausea, drowsin...     1.0           14  \n",
       "40030   \"This medication did not help my pain post sur...     2.0           37  \n",
       "50425   \"I was prescribed this medicine for moderate p...     3.0           26  \n",
       "63315   \"Doesn&#039;t do anything.  No nausea, drowsin...     1.0           14  \n",
       "63316   \"I was prescribed Norco 5/325 to manage post-o...     1.0           25  \n",
       "63367   \"This medication did not help my pain post sur...     2.0           37  \n",
       "67276   \"I have been put on this twice in the last cou...     1.0           20  \n",
       "68013   \"The gel helps with the pain but my stomach wa...     3.0           26  \n",
       "93630   \"Well I have a bad toothache and dentist gave ...     1.0            0  \n",
       "107529  \"I have been dealing with extreme pain in my h...     1.0            8  \n",
       "114366  \"I have been dealing with extreme pain in my h...     1.0            8  \n",
       "125524  \"The gel helps with the pain but my stomach wa...     3.0           26  \n",
       "152750  \"I am currently 16 years old, and have chronic...     3.0           41  "
      ]
     },
     "execution_count": 460,
     "metadata": {},
     "output_type": "execute_result"
    }
   ],
   "source": [
    "drowsy = low[low['review'].str.contains('drows')]\n",
    "\n",
    "drowsy"
   ]
  },
  {
   "cell_type": "code",
   "execution_count": 461,
   "id": "07ef90de",
   "metadata": {},
   "outputs": [
    {
     "data": {
      "text/plain": [
       "(22, 4)"
      ]
     },
     "execution_count": 461,
     "metadata": {},
     "output_type": "execute_result"
    }
   ],
   "source": [
    "drowsy.shape"
   ]
  },
  {
   "cell_type": "code",
   "execution_count": 462,
   "id": "ec4628f3",
   "metadata": {},
   "outputs": [
    {
     "data": {
      "text/plain": [
       "1.8181818181818181"
      ]
     },
     "execution_count": 462,
     "metadata": {},
     "output_type": "execute_result"
    }
   ],
   "source": [
    "drowsy.rating.mean()"
   ]
  },
  {
   "cell_type": "code",
   "execution_count": 465,
   "id": "ed6c2bac",
   "metadata": {},
   "outputs": [
    {
     "data": {
      "image/png": "[encoded data removed]",
      "text/plain": [
       "<Figure size 640x480 with 1 Axes>"
      ]
     },
     "metadata": {},
     "output_type": "display_data"
    }
   ],
   "source": [
    "sns.histplot(data = drowsy, x='rating');"
   ]
  },
  {
   "cell_type": "code",
   "execution_count": 464,
   "id": "64225a42",
   "metadata": {},
   "outputs": [
    {
     "data": {
      "text/plain": [
       "Acetaminophen / codeine        0.181818\n",
       "Tylenol with Codeine #3        0.136364\n",
       "Norco                          0.136364\n",
       "Acetaminophen / hydrocodone    0.090909\n",
       "Diclofenac                     0.090909\n",
       "Ultram                         0.045455\n",
       "Gabapentin                     0.045455\n",
       "Tramadol                       0.045455\n",
       "Neurontin                      0.045455\n",
       "Voltaren Gel                   0.045455\n",
       "Ketorolac                      0.045455\n",
       "Zorvolex                       0.045455\n",
       "Amitriptyline                  0.045455\n",
       "Name: drug, dtype: float64"
      ]
     },
     "execution_count": 464,
     "metadata": {},
     "output_type": "execute_result"
    }
   ],
   "source": [
    "drowsy.drug.value_counts(normalize = True)"
   ]
  },
  {
   "cell_type": "code",
   "execution_count": 466,
   "id": "7aa7a9c3",
   "metadata": {},
   "outputs": [
    {
     "data": {
      "text/plain": [
       "[['Acetaminophen / codeine',\n",
       "  '\"I have needed to get my four wisdom teeth pulled out for 2 years now. And just on this medication until surgery. My  mandible which is my lower jaw and gums are very swollen and infected not so much  pain in my upper areas in my mouth. My dentist prescribed me Tylenol #3 with codeine and antibiotics . Tylenol #3 is a joke it does not help with my pain at all it just makes me very drowsy. When I do rest the pain is still severe.\"',\n",
       "  1.0,\n",
       "  20],\n",
       " ['Norco',\n",
       "  '\"This medication did not help my pain post surgery. My doctor had to change me to Percocet after 2 weeks. I even tried taking 2 at a time, with no relief. It was like there was no effect at all; I did not get drowsy so it did not help me sleep, it did not give me the jitters, or a &#039;high&#039; feeling. I cannot see how anyone would take these for recreational use or get addicted. They do absolutely nothing.\"',\n",
       "  2.0,\n",
       "  37],\n",
       " ['Tylenol with Codeine #3',\n",
       "  '\"Firstly it took me a while to fall asleep even though I was drowsy when I turned off my light.  And I woke up almost every hour.  I already have sleep problems but this pill made them much worse.\"',\n",
       "  3.0,\n",
       "  17],\n",
       " ['Acetaminophen / hydrocodone',\n",
       "  '\"Doesn&#039;t do anything.  No nausea, drowsiness or relief.  Used to take Vicodin worked much better.\"',\n",
       "  1.0,\n",
       "  14],\n",
       " ['Diclofenac',\n",
       "  '\"The gel helps with the pain but my stomach was a little upset, I got a mild headache and I felt very drowsy and out of it. Yes I know it&#039;s the gel but I still had side effects. I only rubbed in a small amount. I can&#039;t swear by it but I think it also caused me to have several anxiety attacks which I think are related to the woozy out of it feeling. It says it makes you dizzy on the box.\"',\n",
       "  3.0,\n",
       "  26]]"
      ]
     },
     "execution_count": 466,
     "metadata": {},
     "output_type": "execute_result"
    }
   ],
   "source": [
    "drowsy.sample(5, random_state = 6789).values.tolist()"
   ]
  },
  {
   "cell_type": "markdown",
   "id": "0cb6f21e",
   "metadata": {},
   "source": [
    "##### Dizziness"
   ]
  },
  {
   "cell_type": "code",
   "execution_count": 467,
   "id": "32df7fe1",
   "metadata": {},
   "outputs": [
    {
     "data": {
      "text/html": [
       "<div>\n",
       "<style scoped>\n",
       "    .dataframe tbody tr th:only-of-type {\n",
       "        vertical-align: middle;\n",
       "    }\n",
       "\n",
       "    .dataframe tbody tr th {\n",
       "        vertical-align: top;\n",
       "    }\n",
       "\n",
       "    .dataframe thead th {\n",
       "        text-align: right;\n",
       "    }\n",
       "</style>\n",
       "<table border=\"1\" class=\"dataframe\">\n",
       "  <thead>\n",
       "    <tr style=\"text-align: right;\">\n",
       "      <th></th>\n",
       "      <th>drug</th>\n",
       "      <th>review</th>\n",
       "      <th>rating</th>\n",
       "      <th>usefulcount</th>\n",
       "    </tr>\n",
       "  </thead>\n",
       "  <tbody>\n",
       "    <tr>\n",
       "      <th>2890</th>\n",
       "      <td>Codeine</td>\n",
       "      <td>\"Had Panadeine Forte for a tooth abscess pain....</td>\n",
       "      <td>1.0</td>\n",
       "      <td>14</td>\n",
       "    </tr>\n",
       "    <tr>\n",
       "      <th>4048</th>\n",
       "      <td>Opana</td>\n",
       "      <td>\"I took ONE dose of 20mg of Opana ER.  I becam...</td>\n",
       "      <td>1.0</td>\n",
       "      <td>50</td>\n",
       "    </tr>\n",
       "    <tr>\n",
       "      <th>14320</th>\n",
       "      <td>Nucynta</td>\n",
       "      <td>\"After 10 years of a combination of treatments...</td>\n",
       "      <td>1.0</td>\n",
       "      <td>29</td>\n",
       "    </tr>\n",
       "    <tr>\n",
       "      <th>14352</th>\n",
       "      <td>Nucynta</td>\n",
       "      <td>\"Gave me severe-headache,insomnia, dizzy, conf...</td>\n",
       "      <td>1.0</td>\n",
       "      <td>53</td>\n",
       "    </tr>\n",
       "    <tr>\n",
       "      <th>14379</th>\n",
       "      <td>Nucynta</td>\n",
       "      <td>\"Takes a while to feel any relief.  I have exp...</td>\n",
       "      <td>3.0</td>\n",
       "      <td>27</td>\n",
       "    </tr>\n",
       "    <tr>\n",
       "      <th>...</th>\n",
       "      <td>...</td>\n",
       "      <td>...</td>\n",
       "      <td>...</td>\n",
       "      <td>...</td>\n",
       "    </tr>\n",
       "    <tr>\n",
       "      <th>135639</th>\n",
       "      <td>Hydrocodone / ibuprofen</td>\n",
       "      <td>\"My dentist prescribed Vicoprofen for pain fol...</td>\n",
       "      <td>1.0</td>\n",
       "      <td>8</td>\n",
       "    </tr>\n",
       "    <tr>\n",
       "      <th>141301</th>\n",
       "      <td>Indomethacin</td>\n",
       "      <td>\"I have severe tongue pain after a nerve was d...</td>\n",
       "      <td>4.0</td>\n",
       "      <td>7</td>\n",
       "    </tr>\n",
       "    <tr>\n",
       "      <th>143552</th>\n",
       "      <td>Vicoprofen</td>\n",
       "      <td>\"My dentist prescribed Vicoprofen for pain fol...</td>\n",
       "      <td>1.0</td>\n",
       "      <td>8</td>\n",
       "    </tr>\n",
       "    <tr>\n",
       "      <th>158639</th>\n",
       "      <td>Butrans</td>\n",
       "      <td>\"The patch started off a great alternative to ...</td>\n",
       "      <td>3.0</td>\n",
       "      <td>93</td>\n",
       "    </tr>\n",
       "    <tr>\n",
       "      <th>159539</th>\n",
       "      <td>Ketamine</td>\n",
       "      <td>\"I was given this after surgery for pain as I ...</td>\n",
       "      <td>1.0</td>\n",
       "      <td>19</td>\n",
       "    </tr>\n",
       "  </tbody>\n",
       "</table>\n",
       "<p>71 rows × 4 columns</p>\n",
       "</div>"
      ],
      "text/plain": [
       "                           drug  \\\n",
       "2890                    Codeine   \n",
       "4048                      Opana   \n",
       "14320                   Nucynta   \n",
       "14352                   Nucynta   \n",
       "14379                   Nucynta   \n",
       "...                         ...   \n",
       "135639  Hydrocodone / ibuprofen   \n",
       "141301             Indomethacin   \n",
       "143552               Vicoprofen   \n",
       "158639                  Butrans   \n",
       "159539                 Ketamine   \n",
       "\n",
       "                                                   review  rating  usefulcount  \n",
       "2890    \"Had Panadeine Forte for a tooth abscess pain....     1.0           14  \n",
       "4048    \"I took ONE dose of 20mg of Opana ER.  I becam...     1.0           50  \n",
       "14320   \"After 10 years of a combination of treatments...     1.0           29  \n",
       "14352   \"Gave me severe-headache,insomnia, dizzy, conf...     1.0           53  \n",
       "14379   \"Takes a while to feel any relief.  I have exp...     3.0           27  \n",
       "...                                                   ...     ...          ...  \n",
       "135639  \"My dentist prescribed Vicoprofen for pain fol...     1.0            8  \n",
       "141301  \"I have severe tongue pain after a nerve was d...     4.0            7  \n",
       "143552  \"My dentist prescribed Vicoprofen for pain fol...     1.0            8  \n",
       "158639  \"The patch started off a great alternative to ...     3.0           93  \n",
       "159539  \"I was given this after surgery for pain as I ...     1.0           19  \n",
       "\n",
       "[71 rows x 4 columns]"
      ]
     },
     "execution_count": 467,
     "metadata": {},
     "output_type": "execute_result"
    }
   ],
   "source": [
    "dizzy = low[low['review'].str.contains('dizz')]\n",
    "\n",
    "dizzy"
   ]
  },
  {
   "cell_type": "code",
   "execution_count": 468,
   "id": "b05ebeda",
   "metadata": {},
   "outputs": [
    {
     "data": {
      "text/plain": [
       "1.943661971830986"
      ]
     },
     "execution_count": 468,
     "metadata": {},
     "output_type": "execute_result"
    }
   ],
   "source": [
    "dizzy.rating.mean()"
   ]
  },
  {
   "cell_type": "code",
   "execution_count": 469,
   "id": "24b39ba4",
   "metadata": {},
   "outputs": [
    {
     "data": {
      "image/png": "[encoded data removed]",
      "text/plain": [
       "<Figure size 640x480 with 1 Axes>"
      ]
     },
     "metadata": {},
     "output_type": "display_data"
    }
   ],
   "source": [
    "sns.histplot(data = dizzy, x='rating');"
   ]
  },
  {
   "cell_type": "code",
   "execution_count": 470,
   "id": "de1d0dca",
   "metadata": {},
   "outputs": [
    {
     "data": {
      "text/plain": [
       "Tramadol                       0.154930\n",
       "Tapentadol                     0.126761\n",
       "Acetaminophen / hydrocodone    0.084507\n",
       "Gabapentin                     0.056338\n",
       "Nucynta                        0.042254\n",
       "Naproxen                       0.042254\n",
       "Vicodin                        0.028169\n",
       "Diclofenac                     0.028169\n",
       "Norco                          0.028169\n",
       "Oxycodone                      0.028169\n",
       "Nortriptyline                  0.028169\n",
       "Ultram                         0.028169\n",
       "OxyContin                      0.014085\n",
       "Hydrocodone / ibuprofen        0.014085\n",
       "Hydrocodone                    0.014085\n",
       "Naloxone / pentazocine         0.014085\n",
       "Indomethacin                   0.014085\n",
       "Vicoprofen                     0.014085\n",
       "Amitriptyline                  0.014085\n",
       "Butrans                        0.014085\n",
       "Zorvolex                       0.014085\n",
       "Dilaudid                       0.014085\n",
       "Codeine                        0.014085\n",
       "Voltaren Gel                   0.014085\n",
       "Neurontin                      0.014085\n",
       "Opana                          0.014085\n",
       "Aleve                          0.014085\n",
       "Buprenorphine                  0.014085\n",
       "Nalbuphine                     0.014085\n",
       "Oxymorphone                    0.014085\n",
       "Ultram ER                      0.014085\n",
       "Hydromorphone                  0.014085\n",
       "Fentanyl                       0.014085\n",
       "Methadone                      0.014085\n",
       "Ketamine                       0.014085\n",
       "Name: drug, dtype: float64"
      ]
     },
     "execution_count": 470,
     "metadata": {},
     "output_type": "execute_result"
    }
   ],
   "source": [
    "dizzy.drug.value_counts(normalize = True)"
   ]
  },
  {
   "cell_type": "code",
   "execution_count": 471,
   "id": "de15c95d",
   "metadata": {},
   "outputs": [
    {
     "data": {
      "text/plain": [
       "[['Acetaminophen / hydrocodone',\n",
       "  '\"Hello all, I had the worst experience of my life with medication with this prescription (hydrocodone-acetaphetomen 5-325). Now I took Vicodin years ago after I got in a bad car wreck, and it worked great. THIS IS NOT the same. I took this for getting a tooth pulled. I took one on the first night, no real relief. The next morning the gum is still bugging me, Pharmacist recommends I take 2. Within one hour I&#039;m spaced out sick, dizzy, and short of breath. I literally felt like I was going to die. I call the Pharmacist back who assures me it will pass, I don&#039;t need to go to an ER. So I wait it out,took 10 HOURS to pass. Scariest part being the shortness of breath.DO NOT TAKE THIS, I can&#039;t warn you enough. It is not the Vicodin of the past\"',\n",
       "  1.0,\n",
       "  14],\n",
       " ['Nortriptyline',\n",
       "  '\"After trying Tramadol, Oxycodone and Neurontin, I tried Nortriptyline for chronic back pain due to a herniated disc.  Unfortunately, after only a couple of days on the drug, I had to quit.  It made me extremely dizzy and caused my blood pressure to drop so quickly, that I nearly passed out while taking a vigorous walk.  \"',\n",
       "  2.0,\n",
       "  103],\n",
       " ['Tramadol',\n",
       "  '\"Tramadol doesn&#039;t work for me. I&#039;m very sensitive to any medications but I suffer from fibromyalgia, back pain, neck pain and depression, this med. make me feel dizzy, rash on my cheeks and headaches\"',\n",
       "  1.0,\n",
       "  16],\n",
       " ['Tramadol',\n",
       "  '\"I was prescribed Tramadol after 5 days in ICU for a serious head/neck injury. I do not believe this drug has helped my pain. For me Aleve has been much more effective for the treatment of my pain. This medicine has made me sick and VERY dizzy.\"',\n",
       "  2.0,\n",
       "  10],\n",
       " ['Oxycodone',\n",
       "  '\"Oxycodone is relatively effective at relieving moderate pain. It is somewhat fast acting so relief comes within a reasonable amount of time. \\r\\r\\nDown side;  pain relief does not last very long and the side effects can be difficult to tolerate. The dizziness and nausea  associated with taking the medication actually last longer than the pain relief.\"',\n",
       "  4.0,\n",
       "  6]]"
      ]
     },
     "execution_count": 471,
     "metadata": {},
     "output_type": "execute_result"
    }
   ],
   "source": [
    "dizzy.sample(5, random_state = 6789).values.tolist()"
   ]
  },
  {
   "cell_type": "code",
   "execution_count": null,
   "id": "66cba215",
   "metadata": {},
   "outputs": [],
   "source": []
  }
 ],
 "metadata": {
  "kernelspec": {
   "display_name": "Python 3 (ipykernel)",
   "language": "python",
   "name": "python3"
  },
  "language_info": {
   "codemirror_mode": {
    "name": "ipython",
    "version": 3
   },
   "file_extension": ".py",
   "mimetype": "text/x-python",
   "name": "python",
   "nbconvert_exporter": "python",
   "pygments_lexer": "ipython3",
   "version": "3.9.13"
  }
 },
 "nbformat": 4,
 "nbformat_minor": 5
}
